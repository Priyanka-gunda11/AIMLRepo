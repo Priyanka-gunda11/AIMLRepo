{
 "cells": [
  {
   "cell_type": "markdown",
   "id": "2b4734e0",
   "metadata": {},
   "source": [
    "# Glove Model"
   ]
  },
  {
   "cell_type": "code",
   "execution_count": 1,
   "id": "15532b87",
   "metadata": {},
   "outputs": [],
   "source": [
    "import numpy as np\n",
    "import pandas as pd\n",
    "import gensim\n",
    "import os\n"
   ]
  },
  {
   "cell_type": "code",
   "execution_count": 2,
   "id": "afbf22f5",
   "metadata": {},
   "outputs": [
    {
     "name": "stdout",
     "output_type": "stream",
     "text": [
      "WARNING:tensorflow:From C:\\Users\\guruc\\anaconda3\\Lib\\site-packages\\keras\\src\\losses.py:2976: The name tf.losses.sparse_softmax_cross_entropy is deprecated. Please use tf.compat.v1.losses.sparse_softmax_cross_entropy instead.\n",
      "\n"
     ]
    }
   ],
   "source": [
    "from keras.preprocessing.text import Tokenizer\n",
    "from keras.preprocessing.sequence import pad_sequences\n",
    "\n",
    "from keras.models import Sequential\n",
    "from keras.layers import Dense,Embedding,GRU,LSTM\n",
    "from keras.initializers import Constant\n",
    "from keras.callbacks import ModelCheckpoint\n",
    "from keras.models import load_model"
   ]
  },
  {
   "cell_type": "markdown",
   "id": "b44a4cfc",
   "metadata": {},
   "source": [
    "# Get the data"
   ]
  },
  {
   "cell_type": "code",
   "execution_count": 3,
   "id": "d3f778cb",
   "metadata": {},
   "outputs": [
    {
     "data": {
      "text/html": [
       "<div>\n",
       "<style scoped>\n",
       "    .dataframe tbody tr th:only-of-type {\n",
       "        vertical-align: middle;\n",
       "    }\n",
       "\n",
       "    .dataframe tbody tr th {\n",
       "        vertical-align: top;\n",
       "    }\n",
       "\n",
       "    .dataframe thead th {\n",
       "        text-align: right;\n",
       "    }\n",
       "</style>\n",
       "<table border=\"1\" class=\"dataframe\">\n",
       "  <thead>\n",
       "    <tr style=\"text-align: right;\">\n",
       "      <th></th>\n",
       "      <th>hmid</th>\n",
       "      <th>wid</th>\n",
       "      <th>reflection_period</th>\n",
       "      <th>original_hm</th>\n",
       "      <th>cleaned_hm</th>\n",
       "      <th>modified</th>\n",
       "      <th>num_sentence</th>\n",
       "      <th>ground_truth_category</th>\n",
       "      <th>predicted_category</th>\n",
       "    </tr>\n",
       "  </thead>\n",
       "  <tbody>\n",
       "    <tr>\n",
       "      <th>0</th>\n",
       "      <td>27673</td>\n",
       "      <td>2053</td>\n",
       "      <td>24h</td>\n",
       "      <td>I went on a successful date with someone I fel...</td>\n",
       "      <td>I went on a successful date with someone I fel...</td>\n",
       "      <td>True</td>\n",
       "      <td>1</td>\n",
       "      <td>NaN</td>\n",
       "      <td>affection</td>\n",
       "    </tr>\n",
       "    <tr>\n",
       "      <th>1</th>\n",
       "      <td>27674</td>\n",
       "      <td>2</td>\n",
       "      <td>24h</td>\n",
       "      <td>I was happy when my son got 90% marks in his e...</td>\n",
       "      <td>I was happy when my son got 90% marks in his e...</td>\n",
       "      <td>True</td>\n",
       "      <td>1</td>\n",
       "      <td>NaN</td>\n",
       "      <td>affection</td>\n",
       "    </tr>\n",
       "    <tr>\n",
       "      <th>2</th>\n",
       "      <td>27675</td>\n",
       "      <td>1936</td>\n",
       "      <td>24h</td>\n",
       "      <td>I went to the gym this morning and did yoga.</td>\n",
       "      <td>I went to the gym this morning and did yoga.</td>\n",
       "      <td>True</td>\n",
       "      <td>1</td>\n",
       "      <td>NaN</td>\n",
       "      <td>exercise</td>\n",
       "    </tr>\n",
       "    <tr>\n",
       "      <th>3</th>\n",
       "      <td>27676</td>\n",
       "      <td>206</td>\n",
       "      <td>24h</td>\n",
       "      <td>We had a serious talk with some friends of our...</td>\n",
       "      <td>We had a serious talk with some friends of our...</td>\n",
       "      <td>True</td>\n",
       "      <td>2</td>\n",
       "      <td>bonding</td>\n",
       "      <td>bonding</td>\n",
       "    </tr>\n",
       "    <tr>\n",
       "      <th>4</th>\n",
       "      <td>27677</td>\n",
       "      <td>6227</td>\n",
       "      <td>24h</td>\n",
       "      <td>I went with grandchildren to butterfly display...</td>\n",
       "      <td>I went with grandchildren to butterfly display...</td>\n",
       "      <td>True</td>\n",
       "      <td>1</td>\n",
       "      <td>NaN</td>\n",
       "      <td>affection</td>\n",
       "    </tr>\n",
       "  </tbody>\n",
       "</table>\n",
       "</div>"
      ],
      "text/plain": [
       "    hmid   wid reflection_period  \\\n",
       "0  27673  2053               24h   \n",
       "1  27674     2               24h   \n",
       "2  27675  1936               24h   \n",
       "3  27676   206               24h   \n",
       "4  27677  6227               24h   \n",
       "\n",
       "                                         original_hm  \\\n",
       "0  I went on a successful date with someone I fel...   \n",
       "1  I was happy when my son got 90% marks in his e...   \n",
       "2       I went to the gym this morning and did yoga.   \n",
       "3  We had a serious talk with some friends of our...   \n",
       "4  I went with grandchildren to butterfly display...   \n",
       "\n",
       "                                          cleaned_hm  modified  num_sentence  \\\n",
       "0  I went on a successful date with someone I fel...      True             1   \n",
       "1  I was happy when my son got 90% marks in his e...      True             1   \n",
       "2       I went to the gym this morning and did yoga.      True             1   \n",
       "3  We had a serious talk with some friends of our...      True             2   \n",
       "4  I went with grandchildren to butterfly display...      True             1   \n",
       "\n",
       "  ground_truth_category predicted_category  \n",
       "0                   NaN          affection  \n",
       "1                   NaN          affection  \n",
       "2                   NaN           exercise  \n",
       "3               bonding            bonding  \n",
       "4                   NaN          affection  "
      ]
     },
     "execution_count": 3,
     "metadata": {},
     "output_type": "execute_result"
    }
   ],
   "source": [
    "data=pd.read_csv('cleaned_hm.csv')\n",
    "data.head()"
   ]
  },
  {
   "cell_type": "code",
   "execution_count": 4,
   "id": "4c65393b",
   "metadata": {},
   "outputs": [
    {
     "data": {
      "text/plain": [
       "(100535, 9)"
      ]
     },
     "execution_count": 4,
     "metadata": {},
     "output_type": "execute_result"
    }
   ],
   "source": [
    "data.shape"
   ]
  },
  {
   "cell_type": "markdown",
   "id": "c5e18648",
   "metadata": {},
   "source": [
    "# Basic Data Cleaning"
   ]
  },
  {
   "cell_type": "code",
   "execution_count": 5,
   "id": "7fa6ed09",
   "metadata": {},
   "outputs": [
    {
     "data": {
      "text/plain": [
       "predicted_category\n",
       "affection           34168\n",
       "achievement         33993\n",
       "enjoy_the_moment    11144\n",
       "bonding             10727\n",
       "leisure              7458\n",
       "nature               1843\n",
       "exercise             1202\n",
       "Name: count, dtype: int64"
      ]
     },
     "execution_count": 5,
     "metadata": {},
     "output_type": "execute_result"
    }
   ],
   "source": [
    "data['predicted_category'].value_counts()"
   ]
  },
  {
   "cell_type": "code",
   "execution_count": 6,
   "id": "f426bb4c",
   "metadata": {},
   "outputs": [
    {
     "data": {
      "text/plain": [
       "num_sentence\n",
       "1     83711\n",
       "2      9542\n",
       "3      3847\n",
       "4      1624\n",
       "5       821\n",
       "6       336\n",
       "7       183\n",
       "8       107\n",
       "10       68\n",
       "9        61\n",
       "11       35\n",
       "13       26\n",
       "12       21\n",
       "16       17\n",
       "18       17\n",
       "14       14\n",
       "17       14\n",
       "19       12\n",
       "21       10\n",
       "15        7\n",
       "23        7\n",
       "25        7\n",
       "26        5\n",
       "24        5\n",
       "22        4\n",
       "30        3\n",
       "31        3\n",
       "20        3\n",
       "29        3\n",
       "27        2\n",
       "32        2\n",
       "40        2\n",
       "37        2\n",
       "69        1\n",
       "60        1\n",
       "34        1\n",
       "42        1\n",
       "44        1\n",
       "48        1\n",
       "35        1\n",
       "46        1\n",
       "51        1\n",
       "56        1\n",
       "53        1\n",
       "58        1\n",
       "28        1\n",
       "45        1\n",
       "Name: count, dtype: int64"
      ]
     },
     "execution_count": 6,
     "metadata": {},
     "output_type": "execute_result"
    }
   ],
   "source": [
    "data['num_sentence'].value_counts()"
   ]
  },
  {
   "cell_type": "code",
   "execution_count": 7,
   "id": "f097e3d6",
   "metadata": {},
   "outputs": [
    {
     "data": {
      "text/plain": [
       "predicted_category\n",
       "affection           34020\n",
       "achievement         33966\n",
       "enjoy_the_moment    11115\n",
       "bonding             10700\n",
       "leisure              7458\n",
       "nature               1839\n",
       "exercise             1202\n",
       "Name: count, dtype: int64"
      ]
     },
     "execution_count": 7,
     "metadata": {},
     "output_type": "execute_result"
    }
   ],
   "source": [
    "#deleting happy moments with less than 10 sentenses\n",
    "mod_data=data.loc[data['num_sentence']<=10]\n",
    "mod_data['predicted_category'].value_counts()"
   ]
  },
  {
   "cell_type": "code",
   "execution_count": 8,
   "id": "43f13489",
   "metadata": {},
   "outputs": [
    {
     "data": {
      "text/plain": [
       "{'affection': 0,\n",
       " 'achievement': 1,\n",
       " 'bonding': 2,\n",
       " 'enjoy_the_moment': 3,\n",
       " 'leisure': 4,\n",
       " 'nature': 5,\n",
       " 'exercise': 6}"
      ]
     },
     "execution_count": 8,
     "metadata": {},
     "output_type": "execute_result"
    }
   ],
   "source": [
    "#Categorical to numerical\n",
    "encode={\n",
    "    \n",
    "    \"affection\":0,\n",
    "    \"achievement\":1,\n",
    "    \"bonding\":2,\n",
    "    \"enjoy_the_moment\":3,\n",
    "    \"leisure\":4,\n",
    "    \"nature\":5,\n",
    "    \"exercise\":6\n",
    "    \n",
    "    \n",
    "}\n",
    "encode"
   ]
  },
  {
   "cell_type": "code",
   "execution_count": 9,
   "id": "094120fb",
   "metadata": {},
   "outputs": [
    {
     "name": "stderr",
     "output_type": "stream",
     "text": [
      "C:\\Users\\guruc\\AppData\\Local\\Temp\\ipykernel_8364\\302242540.py:1: SettingWithCopyWarning: \n",
      "A value is trying to be set on a copy of a slice from a DataFrame.\n",
      "Try using .loc[row_indexer,col_indexer] = value instead\n",
      "\n",
      "See the caveats in the documentation: https://pandas.pydata.org/pandas-docs/stable/user_guide/indexing.html#returning-a-view-versus-a-copy\n",
      "  mod_data['predicted_category']=mod_data[\"predicted_category\"].apply(lambda x:encode[x])\n"
     ]
    },
    {
     "data": {
      "text/html": [
       "<div>\n",
       "<style scoped>\n",
       "    .dataframe tbody tr th:only-of-type {\n",
       "        vertical-align: middle;\n",
       "    }\n",
       "\n",
       "    .dataframe tbody tr th {\n",
       "        vertical-align: top;\n",
       "    }\n",
       "\n",
       "    .dataframe thead th {\n",
       "        text-align: right;\n",
       "    }\n",
       "</style>\n",
       "<table border=\"1\" class=\"dataframe\">\n",
       "  <thead>\n",
       "    <tr style=\"text-align: right;\">\n",
       "      <th></th>\n",
       "      <th>hmid</th>\n",
       "      <th>wid</th>\n",
       "      <th>reflection_period</th>\n",
       "      <th>original_hm</th>\n",
       "      <th>cleaned_hm</th>\n",
       "      <th>modified</th>\n",
       "      <th>num_sentence</th>\n",
       "      <th>ground_truth_category</th>\n",
       "      <th>predicted_category</th>\n",
       "    </tr>\n",
       "  </thead>\n",
       "  <tbody>\n",
       "    <tr>\n",
       "      <th>0</th>\n",
       "      <td>27673</td>\n",
       "      <td>2053</td>\n",
       "      <td>24h</td>\n",
       "      <td>I went on a successful date with someone I fel...</td>\n",
       "      <td>I went on a successful date with someone I fel...</td>\n",
       "      <td>True</td>\n",
       "      <td>1</td>\n",
       "      <td>NaN</td>\n",
       "      <td>0</td>\n",
       "    </tr>\n",
       "    <tr>\n",
       "      <th>1</th>\n",
       "      <td>27674</td>\n",
       "      <td>2</td>\n",
       "      <td>24h</td>\n",
       "      <td>I was happy when my son got 90% marks in his e...</td>\n",
       "      <td>I was happy when my son got 90% marks in his e...</td>\n",
       "      <td>True</td>\n",
       "      <td>1</td>\n",
       "      <td>NaN</td>\n",
       "      <td>0</td>\n",
       "    </tr>\n",
       "    <tr>\n",
       "      <th>2</th>\n",
       "      <td>27675</td>\n",
       "      <td>1936</td>\n",
       "      <td>24h</td>\n",
       "      <td>I went to the gym this morning and did yoga.</td>\n",
       "      <td>I went to the gym this morning and did yoga.</td>\n",
       "      <td>True</td>\n",
       "      <td>1</td>\n",
       "      <td>NaN</td>\n",
       "      <td>6</td>\n",
       "    </tr>\n",
       "    <tr>\n",
       "      <th>3</th>\n",
       "      <td>27676</td>\n",
       "      <td>206</td>\n",
       "      <td>24h</td>\n",
       "      <td>We had a serious talk with some friends of our...</td>\n",
       "      <td>We had a serious talk with some friends of our...</td>\n",
       "      <td>True</td>\n",
       "      <td>2</td>\n",
       "      <td>bonding</td>\n",
       "      <td>2</td>\n",
       "    </tr>\n",
       "    <tr>\n",
       "      <th>4</th>\n",
       "      <td>27677</td>\n",
       "      <td>6227</td>\n",
       "      <td>24h</td>\n",
       "      <td>I went with grandchildren to butterfly display...</td>\n",
       "      <td>I went with grandchildren to butterfly display...</td>\n",
       "      <td>True</td>\n",
       "      <td>1</td>\n",
       "      <td>NaN</td>\n",
       "      <td>0</td>\n",
       "    </tr>\n",
       "  </tbody>\n",
       "</table>\n",
       "</div>"
      ],
      "text/plain": [
       "    hmid   wid reflection_period  \\\n",
       "0  27673  2053               24h   \n",
       "1  27674     2               24h   \n",
       "2  27675  1936               24h   \n",
       "3  27676   206               24h   \n",
       "4  27677  6227               24h   \n",
       "\n",
       "                                         original_hm  \\\n",
       "0  I went on a successful date with someone I fel...   \n",
       "1  I was happy when my son got 90% marks in his e...   \n",
       "2       I went to the gym this morning and did yoga.   \n",
       "3  We had a serious talk with some friends of our...   \n",
       "4  I went with grandchildren to butterfly display...   \n",
       "\n",
       "                                          cleaned_hm  modified  num_sentence  \\\n",
       "0  I went on a successful date with someone I fel...      True             1   \n",
       "1  I was happy when my son got 90% marks in his e...      True             1   \n",
       "2       I went to the gym this morning and did yoga.      True             1   \n",
       "3  We had a serious talk with some friends of our...      True             2   \n",
       "4  I went with grandchildren to butterfly display...      True             1   \n",
       "\n",
       "  ground_truth_category  predicted_category  \n",
       "0                   NaN                   0  \n",
       "1                   NaN                   0  \n",
       "2                   NaN                   6  \n",
       "3               bonding                   2  \n",
       "4                   NaN                   0  "
      ]
     },
     "execution_count": 9,
     "metadata": {},
     "output_type": "execute_result"
    }
   ],
   "source": [
    "mod_data['predicted_category']=mod_data[\"predicted_category\"].apply(lambda x:encode[x])\n",
    "mod_data.head()"
   ]
  },
  {
   "cell_type": "markdown",
   "id": "6f275dd4",
   "metadata": {},
   "source": [
    "# Data cleaning for NLP"
   ]
  },
  {
   "cell_type": "code",
   "execution_count": 12,
   "id": "5402afcf",
   "metadata": {},
   "outputs": [
    {
     "name": "stderr",
     "output_type": "stream",
     "text": [
      "[nltk_data] Downloading package punkt to\n",
      "[nltk_data]     C:\\Users\\guruc\\AppData\\Roaming\\nltk_data...\n",
      "[nltk_data]   Unzipping tokenizers\\punkt.zip.\n"
     ]
    },
    {
     "data": {
      "text/plain": [
       "True"
      ]
     },
     "execution_count": 12,
     "metadata": {},
     "output_type": "execute_result"
    }
   ],
   "source": [
    "import nltk\n",
    "nltk.download('punkt')"
   ]
  },
  {
   "cell_type": "code",
   "execution_count": 13,
   "id": "93032d50",
   "metadata": {},
   "outputs": [
    {
     "data": {
      "text/plain": [
       "[['i',\n",
       "  'went',\n",
       "  'on',\n",
       "  'a',\n",
       "  'successful',\n",
       "  'date',\n",
       "  'with',\n",
       "  'someone',\n",
       "  'i',\n",
       "  'felt',\n",
       "  'sympathy',\n",
       "  'and',\n",
       "  'connection',\n",
       "  'with'],\n",
       " ['i',\n",
       "  'was',\n",
       "  'happy',\n",
       "  'when',\n",
       "  'my',\n",
       "  'son',\n",
       "  'got',\n",
       "  'marks',\n",
       "  'in',\n",
       "  'his',\n",
       "  'examination'],\n",
       " ['i', 'went', 'to', 'the', 'gym', 'this', 'morning', 'and', 'did', 'yoga'],\n",
       " ['we',\n",
       "  'had',\n",
       "  'a',\n",
       "  'serious',\n",
       "  'talk',\n",
       "  'with',\n",
       "  'some',\n",
       "  'friends',\n",
       "  'of',\n",
       "  'ours',\n",
       "  'who',\n",
       "  'have',\n",
       "  'been',\n",
       "  'flaky',\n",
       "  'lately',\n",
       "  'they',\n",
       "  'understood',\n",
       "  'and',\n",
       "  'we',\n",
       "  'had',\n",
       "  'a',\n",
       "  'good',\n",
       "  'evening',\n",
       "  'hanging',\n",
       "  'out'],\n",
       " ['i',\n",
       "  'went',\n",
       "  'with',\n",
       "  'grandchildren',\n",
       "  'to',\n",
       "  'butterfly',\n",
       "  'display',\n",
       "  'at',\n",
       "  'crohn',\n",
       "  'conservatory']]"
      ]
     },
     "execution_count": 13,
     "metadata": {},
     "output_type": "execute_result"
    }
   ],
   "source": [
    "import string\n",
    "from nltk.tokenize import word_tokenize\n",
    "from nltk.corpus import stopwords\n",
    "\n",
    "happy_lines=list()\n",
    "lines=mod_data['cleaned_hm'].values.tolist()\n",
    "\n",
    "for line in lines:\n",
    "    tokens=word_tokenize(line)\n",
    "    tokens=[w.lower() for w in tokens]\n",
    "    \n",
    "    #remove puntuations\n",
    "    table=str.maketrans('','',string.punctuation)\n",
    "    stripped=[w.translate(table) for w in tokens]\n",
    "    \n",
    "    #remove non alphabetic characters\n",
    "    words=[word for word in stripped if word.isalpha()]\n",
    "    happy_lines.append(words)\n",
    "    \n",
    "happy_lines[:5]"
   ]
  },
  {
   "cell_type": "markdown",
   "id": "32f66876",
   "metadata": {},
   "source": [
    "# Train-test split"
   ]
  },
  {
   "cell_type": "code",
   "execution_count": 14,
   "id": "3e11cf44",
   "metadata": {},
   "outputs": [
    {
     "name": "stdout",
     "output_type": "stream",
     "text": [
      "Unique tokens - 26138\n",
      "Vocab_size-26139\n"
     ]
    }
   ],
   "source": [
    "validation_split=0.2\n",
    "max_length=55\n",
    "\n",
    "tokenizer_obj=Tokenizer()\n",
    "tokenizer_obj.fit_on_texts(happy_lines)\n",
    "sequences=tokenizer_obj.texts_to_sequences(happy_lines)\n",
    "\n",
    "word_index=tokenizer_obj.word_index\n",
    "\n",
    "print('Unique tokens - '+str(len(word_index)))\n",
    "vocab_size=len(tokenizer_obj.word_index)+1\n",
    "print('Vocab_size-'+str(vocab_size))\n"
   ]
  },
  {
   "cell_type": "code",
   "execution_count": 15,
   "id": "54dc4de8",
   "metadata": {},
   "outputs": [],
   "source": [
    "lines_pad=pad_sequences(sequences,maxlen=max_length,padding='post')\n",
    "category=mod_data['predicted_category'].values\n",
    "\n",
    "indices=np.arange(lines_pad.shape[0])\n",
    "np.random.shuffle(indices)\n",
    "category=category[indices]\n",
    "\n",
    "n_values=np.max(category)+1\n",
    "y=np.eye(n_values)[category]\n",
    "\n",
    "num_validation_samples=int(validation_split*lines_pad.shape[0])\n",
    "\n",
    "xtrain_pad=lines_pad[:-num_validation_samples]\n",
    "ytrain=y[:-num_validation_samples]\n",
    "xtest_pad=lines_pad[-num_validation_samples:]\n",
    "ytest=y[-num_validation_samples:]"
   ]
  },
  {
   "cell_type": "code",
   "execution_count": 16,
   "id": "6304c1a5",
   "metadata": {},
   "outputs": [
    {
     "name": "stdout",
     "output_type": "stream",
     "text": [
      "Shape of xtrain_pad:\t (80240, 55)\n",
      "\n",
      "Shape of ytrain:\t (80240, 7)\n",
      "\n",
      "Shape of Xtest_pad:\t (20060, 55)\n",
      "Shape of ytest:\t (20060, 7)\n"
     ]
    }
   ],
   "source": [
    "print('Shape of xtrain_pad:\\t',xtrain_pad.shape)\n",
    "print()\n",
    "print('Shape of ytrain:\\t',ytrain.shape)\n",
    "print()\n",
    "print('Shape of Xtest_pad:\\t',xtest_pad.shape)\n",
    "print('Shape of ytest:\\t',ytest.shape)"
   ]
  },
  {
   "cell_type": "markdown",
   "id": "b099a4ca",
   "metadata": {},
   "source": [
    "# Glove Model"
   ]
  },
  {
   "cell_type": "code",
   "execution_count": 19,
   "id": "c10706cd",
   "metadata": {},
   "outputs": [],
   "source": [
    "embedding_index={}\n",
    "embedding_dim=100\n",
    "glove_dir=\"glove.twitter.27B\"\n",
    "f=open(os.path.join(glove_dir,'glove.twitter.27B.100d.txt'),encoding='utf-8')\n",
    "\n",
    "for line in f:\n",
    "    values=line.split()\n",
    "    word=values[0]\n",
    "    coeff=np.asarray(values[1:],dtype='float32')\n",
    "    embedding_index[word]=coeff\n",
    "    \n",
    "f.close()"
   ]
  },
  {
   "cell_type": "code",
   "execution_count": 20,
   "id": "931b3fba",
   "metadata": {},
   "outputs": [],
   "source": [
    "embedding_matrix=np.zeros((len(word_index)+1,embedding_dim))\n",
    "for word,i in word_index.items():\n",
    "    embedding_vector=embedding_index.get(word)\n",
    "    if embedding_vector is not None:\n",
    "        embedding_matrix[i]=embedding_vector"
   ]
  },
  {
   "cell_type": "code",
   "execution_count": 21,
   "id": "ef8096a0",
   "metadata": {},
   "outputs": [
    {
     "name": "stdout",
     "output_type": "stream",
     "text": [
      "WARNING:tensorflow:From C:\\Users\\guruc\\anaconda3\\Lib\\site-packages\\keras\\src\\backend.py:873: The name tf.get_default_graph is deprecated. Please use tf.compat.v1.get_default_graph instead.\n",
      "\n"
     ]
    }
   ],
   "source": [
    "embedding_layer=Embedding(len(word_index)+1,embedding_dim,\n",
    "                         weights=[embedding_matrix],\n",
    "                         input_length=max_length,\n",
    "                         trainable=False)"
   ]
  },
  {
   "cell_type": "code",
   "execution_count": 22,
   "id": "daa6d9a0",
   "metadata": {},
   "outputs": [
    {
     "name": "stdout",
     "output_type": "stream",
     "text": [
      "WARNING:tensorflow:From C:\\Users\\guruc\\anaconda3\\Lib\\site-packages\\keras\\src\\optimizers\\__init__.py:309: The name tf.train.Optimizer is deprecated. Please use tf.compat.v1.train.Optimizer instead.\n",
      "\n",
      "Model: \"sequential\"\n",
      "_________________________________________________________________\n",
      " Layer (type)                Output Shape              Param #   \n",
      "=================================================================\n",
      " embedding (Embedding)       (None, 55, 100)           2613900   \n",
      "                                                                 \n",
      " lstm (LSTM)                 (None, 32)                17024     \n",
      "                                                                 \n",
      " dense (Dense)               (None, 7)                 231       \n",
      "                                                                 \n",
      "=================================================================\n",
      "Total params: 2631155 (10.04 MB)\n",
      "Trainable params: 17255 (67.40 KB)\n",
      "Non-trainable params: 2613900 (9.97 MB)\n",
      "_________________________________________________________________\n",
      "None\n"
     ]
    }
   ],
   "source": [
    "#Build Glove model\n",
    "model_glove=Sequential()\n",
    "model_glove.add(embedding_layer)\n",
    "model_glove.add(LSTM(units=32,dropout=0.2,recurrent_dropout=0.25))\n",
    "model_glove.add(Dense(7,activation='softmax'))\n",
    "\n",
    "#compile\n",
    "model_glove.compile(optimizer='adam',loss='categorical_crossentropy',metrics=['accuracy'])\n",
    "#summary\n",
    "print(model_glove.summary())"
   ]
  },
  {
   "cell_type": "code",
   "execution_count": 25,
   "id": "bd19dd42",
   "metadata": {},
   "outputs": [],
   "source": [
    "checkpoint=ModelCheckpoint('model-{epoch:03d} - {val_acc:03f}.h5',\n",
    "                          verbose=1,\n",
    "                          monitor='val_accuracy',\n",
    "                          save_best_only=True,\n",
    "                          mode='auto')"
   ]
  },
  {
   "cell_type": "code",
   "execution_count": 28,
   "id": "77c417b2",
   "metadata": {},
   "outputs": [
    {
     "name": "stdout",
     "output_type": "stream",
     "text": [
      "Epoch 1/5\n",
      "2508/2508 [==============================] - 145s 58ms/step - loss: 1.5362 - accuracy: 0.3383 - val_loss: 1.5367 - val_accuracy: 0.3387\n",
      "Epoch 2/5\n",
      "2508/2508 [==============================] - 148s 59ms/step - loss: 1.5353 - accuracy: 0.3387 - val_loss: 1.5390 - val_accuracy: 0.3390\n",
      "Epoch 3/5\n",
      "2508/2508 [==============================] - 147s 59ms/step - loss: 1.5345 - accuracy: 0.3391 - val_loss: 1.5367 - val_accuracy: 0.3389\n",
      "Epoch 4/5\n",
      "2508/2508 [==============================] - 138s 55ms/step - loss: 1.5339 - accuracy: 0.3417 - val_loss: 1.5388 - val_accuracy: 0.3391\n",
      "Epoch 5/5\n",
      "2508/2508 [==============================] - 145s 58ms/step - loss: 1.5327 - accuracy: 0.3404 - val_loss: 1.5373 - val_accuracy: 0.3382\n"
     ]
    }
   ],
   "source": [
    "history_glove=model_glove.fit(xtrain_pad,ytrain,batch_size=32,\n",
    "                             epochs=5,\n",
    "                             validation_data=(xtest_pad,ytest),\n",
    "                             \n",
    "                             verbose=1)"
   ]
  },
  {
   "cell_type": "code",
   "execution_count": 32,
   "id": "5ef3b6b2",
   "metadata": {},
   "outputs": [
    {
     "data": {
      "text/plain": [
       "Text(0.5, 1.0, 'Training & Validation loss')"
      ]
     },
     "execution_count": 32,
     "metadata": {},
     "output_type": "execute_result"
    },
    {
     "data": {
      "image/png": "[encoded data removed]",
      "text/plain": [
       "<Figure size 640x480 with 1 Axes>"
      ]
     },
     "metadata": {},
     "output_type": "display_data"
    }
   ],
   "source": [
    "#plot results\n",
    "\n",
    "import matplotlib.pyplot as plt\n",
    "acc=history_glove.history['accuracy']\n",
    "val_acc=history_glove.history['val_accuracy']\n",
    "loss=history_glove.history['loss']\n",
    "val_loss=history_glove.history['val_loss']\n",
    "\n",
    "epochs=range(1,len(acc)+1)\n",
    "\n",
    "plt.plot(epochs,acc,'g',label='Training Accuracy')\n",
    "plt.plot(epochs,val_acc,'r',label='Validation Accuracy')\n",
    "plt.title(\"Training & Validation Accuracy\")\n",
    "\n",
    "\n",
    "plt.plot(epochs,loss,'g',label='Training loss')\n",
    "plt.plot(epochs,val_loss,'r',label='Validation loss')\n",
    "plt.title(\"Training & Validation loss\")"
   ]
  },
  {
   "cell_type": "code",
   "execution_count": 33,
   "id": "d9235d51",
   "metadata": {},
   "outputs": [
    {
     "data": {
      "text/plain": [
       "Text(0.5, 1.0, 'Training & Validation Accuracy')"
      ]
     },
     "execution_count": 33,
     "metadata": {},
     "output_type": "execute_result"
    },
    {
     "data": {
      "image/png": "[encoded data removed]",
      "text/plain": [
       "<Figure size 640x480 with 1 Axes>"
      ]
     },
     "metadata": {},
     "output_type": "display_data"
    }
   ],
   "source": [
    "plt.plot(epochs,acc,'g',label='Training Accuracy')\n",
    "plt.plot(epochs,val_acc,'r',label='Validation Accuracy')\n",
    "plt.title(\"Training & Validation Accuracy\")"
   ]
  },
  {
   "cell_type": "markdown",
   "id": "a4b208dd",
   "metadata": {},
   "source": [
    "# Word2Vec Model"
   ]
  },
  {
   "cell_type": "raw",
   "id": "f78c7a68",
   "metadata": {},
   "source": [
    "Use : GoogleNews-vectors-negative300\n",
    "    \n",
    "Build Word2vec model"
   ]
  },
  {
   "cell_type": "raw",
   "id": "82a15c12",
   "metadata": {},
   "source": [
    "Todo...."
   ]
  },
  {
   "cell_type": "code",
   "execution_count": null,
   "id": "3464895e",
   "metadata": {},
   "outputs": [],
   "source": []
  }
 ],
 "metadata": {
  "kernelspec": {
   "display_name": "Python 3 (ipykernel)",
   "language": "python",
   "name": "python3"
  },
  "language_info": {
   "codemirror_mode": {
    "name": "ipython",
    "version": 3
   },
   "file_extension": ".py",
   "mimetype": "text/x-python",
   "name": "python",
   "nbconvert_exporter": "python",
   "pygments_lexer": "ipython3",
   "version": "3.11.5"
  }
 },
 "nbformat": 4,
 "nbformat_minor": 5
}
