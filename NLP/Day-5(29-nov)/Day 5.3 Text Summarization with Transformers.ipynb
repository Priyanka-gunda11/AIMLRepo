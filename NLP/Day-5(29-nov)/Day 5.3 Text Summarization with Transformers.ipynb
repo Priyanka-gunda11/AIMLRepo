{
 "cells": [
  {
   "cell_type": "code",
   "execution_count": 1,
   "id": "f2ebad2f",
   "metadata": {},
   "outputs": [
    {
     "name": "stdout",
     "output_type": "stream",
     "text": [
      "WARNING:tensorflow:From C:\\Users\\guruc\\anaconda3\\Lib\\site-packages\\keras\\src\\losses.py:2976: The name tf.losses.sparse_softmax_cross_entropy is deprecated. Please use tf.compat.v1.losses.sparse_softmax_cross_entropy instead.\n",
      "\n"
     ]
    }
   ],
   "source": [
    "from transformers import pipeline"
   ]
  },
  {
   "cell_type": "code",
   "execution_count": 2,
   "id": "36428823",
   "metadata": {},
   "outputs": [
    {
     "name": "stderr",
     "output_type": "stream",
     "text": [
      "No model was supplied, defaulted to t5-small and revision d769bba (https://huggingface.co/t5-small).\n",
      "Using a pipeline without specifying a model name and revision in production is not recommended.\n"
     ]
    },
    {
     "data": {
      "application/vnd.jupyter.widget-view+json": {
       "model_id": "e6d32bbefe3d435ba2801e21d1c0d94d",
       "version_major": 2,
       "version_minor": 0
      },
      "text/plain": [
       "Downloading config.json:   0%|          | 0.00/1.21k [00:00<?, ?B/s]"
      ]
     },
     "metadata": {},
     "output_type": "display_data"
    },
    {
     "name": "stderr",
     "output_type": "stream",
     "text": [
      "C:\\Users\\guruc\\anaconda3\\Lib\\site-packages\\huggingface_hub\\file_download.py:133: UserWarning: `huggingface_hub` cache-system uses symlinks by default to efficiently store duplicated files but your machine does not support them in C:\\Users\\guruc\\.cache\\huggingface\\hub. Caching files will still work but in a degraded version that might require more space on your disk. This warning can be disabled by setting the `HF_HUB_DISABLE_SYMLINKS_WARNING` environment variable. For more details, see https://huggingface.co/docs/huggingface_hub/how-to-cache#limitations.\n",
      "To support symlinks on Windows, you either need to activate Developer Mode or to run Python as an administrator. In order to see activate developer mode, see this article: https://docs.microsoft.com/en-us/windows/apps/get-started/enable-your-device-for-development\n",
      "  warnings.warn(message)\n"
     ]
    },
    {
     "data": {
      "application/vnd.jupyter.widget-view+json": {
       "model_id": "c97fbf6f4a384cb98319b73ab4e41fff",
       "version_major": 2,
       "version_minor": 0
      },
      "text/plain": [
       "Downloading model.safetensors:   0%|          | 0.00/242M [00:00<?, ?B/s]"
      ]
     },
     "metadata": {},
     "output_type": "display_data"
    },
    {
     "name": "stdout",
     "output_type": "stream",
     "text": [
      "WARNING:tensorflow:From C:\\Users\\guruc\\anaconda3\\Lib\\site-packages\\keras\\src\\backend.py:873: The name tf.get_default_graph is deprecated. Please use tf.compat.v1.get_default_graph instead.\n",
      "\n"
     ]
    },
    {
     "name": "stderr",
     "output_type": "stream",
     "text": [
      "All PyTorch model weights were used when initializing TFT5ForConditionalGeneration.\n",
      "\n",
      "All the weights of TFT5ForConditionalGeneration were initialized from the PyTorch model.\n",
      "If your task is similar to the task the model of the checkpoint was trained on, you can already use TFT5ForConditionalGeneration for predictions without further training.\n"
     ]
    },
    {
     "data": {
      "application/vnd.jupyter.widget-view+json": {
       "model_id": "8d8f4f3d949945c9a9d4db2c0d4670c0",
       "version_major": 2,
       "version_minor": 0
      },
      "text/plain": [
       "Downloading tokenizer_config.json:   0%|          | 0.00/2.32k [00:00<?, ?B/s]"
      ]
     },
     "metadata": {},
     "output_type": "display_data"
    },
    {
     "data": {
      "application/vnd.jupyter.widget-view+json": {
       "model_id": "13e5d0308f0149f685ddd100bdbfcfbc",
       "version_major": 2,
       "version_minor": 0
      },
      "text/plain": [
       "Downloading spiece.model:   0%|          | 0.00/792k [00:00<?, ?B/s]"
      ]
     },
     "metadata": {},
     "output_type": "display_data"
    },
    {
     "data": {
      "application/vnd.jupyter.widget-view+json": {
       "model_id": "bc5390af0a0048df9e4b60435a15c1a0",
       "version_major": 2,
       "version_minor": 0
      },
      "text/plain": [
       "Downloading tokenizer.json:   0%|          | 0.00/1.39M [00:00<?, ?B/s]"
      ]
     },
     "metadata": {},
     "output_type": "display_data"
    }
   ],
   "source": [
    "summarizer=pipeline('summarization')"
   ]
  },
  {
   "cell_type": "code",
   "execution_count": 3,
   "id": "10919d57",
   "metadata": {},
   "outputs": [
    {
     "data": {
      "text/plain": [
       "'In the southeast Bay of Bengal, squally weather with wind speeds reaching 40-50 kmph gusting to 60 kmph is forecasted on November 30. This is expected to increase to 50-60 kmph gusting to 70 kmph on December 1, with gale wind speeds reaching 60-70 kmph gusting to 80 kmph on December 2.\\n\\nSqually wind speeds ranging from 40-50 kmph gusting to 60 kmph are expected over the southwest Bay of Bengal from the morning of December 1, increasing to Gale Wind speeds of 60-70 kmph gusting to 80 kmph on December 2 morning. In the central Bay of Bengal, squally wind speeds reaching 40-50 kmph gusting to 60 kmph are likely on December 1, intensifying to 50-60 kmph gusting to 70 kmph on December 2.\\n\\n\\nFishermen have been advised not to venture into the South Andaman Sea on November 29 and 30 and avoid the southeast Bay of Bengal from November 30 to December 2. The IMD also urged them to stay clear of southwest Bay of Bengal on November 30 and December 2 and refrain from venturing into central Bay of Bengal from December 1 morning onwards.\\n\\nThe Odisha government, meanwhile, put seven coastal districts of the state on alert amid the low-pressure area over the South Andaman Sea. In a letter to the collectors of Balasore, Bhadrak, Kendrapara, Jagatsinghpur, Puri, Khurda and Ganjam districts, Special Relief Commissioner Satyabrata Sahoo said that a low-pressure area over the South Andaman Sea is likely to intensify into a depression and later into a cyclonic storm.'"
      ]
     },
     "execution_count": 3,
     "metadata": {},
     "output_type": "execute_result"
    }
   ],
   "source": [
    "text1=\"\"\"In the southeast Bay of Bengal, squally weather with wind speeds reaching 40-50 kmph gusting to 60 kmph is forecasted on November 30. This is expected to increase to 50-60 kmph gusting to 70 kmph on December 1, with gale wind speeds reaching 60-70 kmph gusting to 80 kmph on December 2.\n",
    "\n",
    "Squally wind speeds ranging from 40-50 kmph gusting to 60 kmph are expected over the southwest Bay of Bengal from the morning of December 1, increasing to Gale Wind speeds of 60-70 kmph gusting to 80 kmph on December 2 morning. In the central Bay of Bengal, squally wind speeds reaching 40-50 kmph gusting to 60 kmph are likely on December 1, intensifying to 50-60 kmph gusting to 70 kmph on December 2.\n",
    "\n",
    "\n",
    "Fishermen have been advised not to venture into the South Andaman Sea on November 29 and 30 and avoid the southeast Bay of Bengal from November 30 to December 2. The IMD also urged them to stay clear of southwest Bay of Bengal on November 30 and December 2 and refrain from venturing into central Bay of Bengal from December 1 morning onwards.\n",
    "\n",
    "The Odisha government, meanwhile, put seven coastal districts of the state on alert amid the low-pressure area over the South Andaman Sea. In a letter to the collectors of Balasore, Bhadrak, Kendrapara, Jagatsinghpur, Puri, Khurda and Ganjam districts, Special Relief Commissioner Satyabrata Sahoo said that a low-pressure area over the South Andaman Sea is likely to intensify into a depression and later into a cyclonic storm.\"\"\"\n",
    "text1"
   ]
  },
  {
   "cell_type": "code",
   "execution_count": 4,
   "id": "e21a06b4",
   "metadata": {},
   "outputs": [
    {
     "name": "stdout",
     "output_type": "stream",
     "text": [
      "in the southeast Bay of Bengal, squally wind speeds reaching 40-50 kmph are expected on November 30 . this is expected to increase to 50-60 km gusting to 70 kh on December 1 . gale wind speeds reached 60-70 kkmph on December 2 morning . fishmen advised not to venture into the south Andaman sea on November 29 and 30 and avoid the southeast bay of Bengal from November 30 to December 2 .\n"
     ]
    }
   ],
   "source": [
    "summary=summarizer(text1,max_length=150,min_length=50,length_penalty=2.0,num_beams=4)\n",
    "print(summary[0]['summary_text'])"
   ]
  },
  {
   "cell_type": "code",
   "execution_count": null,
   "id": "6bda93db",
   "metadata": {},
   "outputs": [],
   "source": []
  }
 ],
 "metadata": {
  "kernelspec": {
   "display_name": "Python 3 (ipykernel)",
   "language": "python",
   "name": "python3"
  },
  "language_info": {
   "codemirror_mode": {
    "name": "ipython",
    "version": 3
   },
   "file_extension": ".py",
   "mimetype": "text/x-python",
   "name": "python",
   "nbconvert_exporter": "python",
   "pygments_lexer": "ipython3",
   "version": "3.11.5"
  }
 },
 "nbformat": 4,
 "nbformat_minor": 5
}
