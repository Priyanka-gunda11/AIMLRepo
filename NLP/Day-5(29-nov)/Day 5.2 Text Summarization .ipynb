{
 "cells": [
  {
   "cell_type": "markdown",
   "id": "d60c7f32",
   "metadata": {},
   "source": [
    "# Text Summarization with Nltk"
   ]
  },
  {
   "cell_type": "code",
   "execution_count": 1,
   "id": "e087ef74",
   "metadata": {},
   "outputs": [
    {
     "name": "stderr",
     "output_type": "stream",
     "text": [
      "[nltk_data] Downloading package punkt to\n",
      "[nltk_data]     C:\\Users\\guruc\\AppData\\Roaming\\nltk_data...\n",
      "[nltk_data]   Package punkt is already up-to-date!\n"
     ]
    }
   ],
   "source": [
    "import nltk\n",
    "nltk.download('punkt')\n",
    "\n",
    "from nltk.tokenize import sent_tokenize,word_tokenize\n",
    "from nltk.corpus import stopwords\n",
    "from nltk.probability import FreqDist"
   ]
  },
  {
   "cell_type": "code",
   "execution_count": 3,
   "id": "fa821861",
   "metadata": {},
   "outputs": [],
   "source": [
    "def text_summarization(text,num_sentences=3):\n",
    "    sentences=sent_tokenize(text)\n",
    "    words=word_tokenize(text.lower())\n",
    "    stop_words=set(stopwords.words('english'))\n",
    "    words=[word for word in words if word.isalpha() and word not in stop_words]\n",
    "    \n",
    "    freq_dist=FreqDist(words)\n",
    "    ranking={}\n",
    "    for i,sentence in enumerate(sentences):\n",
    "        sentence_words=word_tokenize(sentence.lower())\n",
    "        sentence_score=0\n",
    "        \n",
    "        for word in sentence_words:\n",
    "            if word in freq_dist:\n",
    "                sentence_score+=freq_dist[word]\n",
    "        ranking[i]=sentence_score\n",
    "        \n",
    "        top_sentences=sorted(ranking,key=ranking.get,reverse=True)[:num_sentences]\n",
    "        summary=' '.join(sentences[j] for j in sorted(top_sentences))\n",
    "        \n",
    "        return summary"
   ]
  },
  {
   "cell_type": "code",
   "execution_count": 4,
   "id": "b73d9610",
   "metadata": {},
   "outputs": [],
   "source": [
    "text=\"\"\"\n",
    "Playing ludo on his phone, bathing in natural water, the taste of puffed rice and cardamom seeds — the long hours spent inside the Uttarkashi tunnel have left an indelible mark on 32-year-old Chamra Oraon, a resident of Jharkhand’s Khunti district, who was rescued on Tuesday night. Speaking to The Indian Express while being taken to the hospital, Oraon said the smell of fresh air felt like a new lease of life. The credit for saving him, he said, goes to the rescuers who worked tirelessly for 17 days, and to the almighty.\n",
    "\n",
    "“Johar (greetings)! Hum achhe hain (I am good). We believed in God and that gave us strength. We also believed that since 41 people are trapped, somebody would rescue us. I can’t wait to speak to my wife,” said Oraon, who has three children waiting for him in Khunti.\n",
    "\n",
    "Oraon said he earns Rs 18,000 a month, and only “time will tell” whether or not he returns. Fifteen workers from the state — the largest contingent — were among the 41 trapped men.\n",
    "\n",
    "\n",
    "Oraon recalled that he was working in the early hours of November 12 when he heard a loud thud and saw debris falling. “I ran for my life but got stuck on the wrong side. As it became clear we would be there for a long time, we grew restless, hungry. But we prayed silently for help. I never lost hope,” he said.\n",
    "\n",
    "Oraon said that around 24 hours later, the authorities sent puffed rice and cardamom seeds. “When we ate the first morsel, we felt someone above had reached out to us; we were overjoyed. We were assured we would be rescued, but needed to pass the time. So we immersed ourselves in ludo on the phone, which we could charge with the supply provided to us, though we couldn’t call anyone since there was no network. We spoke among ourselves and got to know each other,” he said.\n",
    "\"\"\""
   ]
  },
  {
   "cell_type": "code",
   "execution_count": 5,
   "id": "de7945e9",
   "metadata": {},
   "outputs": [
    {
     "data": {
      "text/plain": [
       "'\\nPlaying ludo on his phone, bathing in natural water, the taste of puffed rice and cardamom seeds — the long hours spent inside the Uttarkashi tunnel have left an indelible mark on 32-year-old Chamra Oraon, a resident of Jharkhand’s Khunti district, who was rescued on Tuesday night. Speaking to The Indian Express while being taken to the hospital, Oraon said the smell of fresh air felt like a new lease of life. The credit for saving him, he said, goes to the rescuers who worked tirelessly for 17 days, and to the almighty.\\n\\n“Johar (greetings)! Hum achhe hain (I am good). We believed in God and that gave us strength. We also believed that since 41 people are trapped, somebody would rescue us. I can’t wait to speak to my wife,” said Oraon, who has three children waiting for him in Khunti.\\n\\nOraon said he earns Rs 18,000 a month, and only “time will tell” whether or not he returns. Fifteen workers from the state — the largest contingent — were among the 41 trapped men.\\n\\n\\nOraon recalled that he was working in the early hours of November 12 when he heard a loud thud and saw debris falling. “I ran for my life but got stuck on the wrong side. As it became clear we would be there for a long time, we grew restless, hungry. But we prayed silently for help. I never lost hope,” he said.\\n\\nOraon said that around 24 hours later, the authorities sent puffed rice and cardamom seeds. “When we ate the first morsel, we felt someone above had reached out to us; we were overjoyed. We were assured we would be rescued, but needed to pass the time. So we immersed ourselves in ludo on the phone, which we could charge with the supply provided to us, though we couldn’t call anyone since there was no network. We spoke among ourselves and got to know each other,” he said.\\n'"
      ]
     },
     "execution_count": 5,
     "metadata": {},
     "output_type": "execute_result"
    }
   ],
   "source": [
    "text"
   ]
  },
  {
   "cell_type": "code",
   "execution_count": 6,
   "id": "8e83b090",
   "metadata": {},
   "outputs": [
    {
     "name": "stdout",
     "output_type": "stream",
     "text": [
      "\n",
      "Playing ludo on his phone, bathing in natural water, the taste of puffed rice and cardamom seeds — the long hours spent inside the Uttarkashi tunnel have left an indelible mark on 32-year-old Chamra Oraon, a resident of Jharkhand’s Khunti district, who was rescued on Tuesday night.\n"
     ]
    }
   ],
   "source": [
    "summary=text_summarization(text)\n",
    "print(summary)"
   ]
  },
  {
   "cell_type": "code",
   "execution_count": 7,
   "id": "4a84bed9",
   "metadata": {},
   "outputs": [],
   "source": [
    "text1=\"\"\"In the southeast Bay of Bengal, squally weather with wind speeds reaching 40-50 kmph gusting to 60 kmph is forecasted on November 30. This is expected to increase to 50-60 kmph gusting to 70 kmph on December 1, with gale wind speeds reaching 60-70 kmph gusting to 80 kmph on December 2.\n",
    "\n",
    "Squally wind speeds ranging from 40-50 kmph gusting to 60 kmph are expected over the southwest Bay of Bengal from the morning of December 1, increasing to Gale Wind speeds of 60-70 kmph gusting to 80 kmph on December 2 morning. In the central Bay of Bengal, squally wind speeds reaching 40-50 kmph gusting to 60 kmph are likely on December 1, intensifying to 50-60 kmph gusting to 70 kmph on December 2.\n",
    "\n",
    "\n",
    "Fishermen have been advised not to venture into the South Andaman Sea on November 29 and 30 and avoid the southeast Bay of Bengal from November 30 to December 2. The IMD also urged them to stay clear of southwest Bay of Bengal on November 30 and December 2 and refrain from venturing into central Bay of Bengal from December 1 morning onwards.\n",
    "\n",
    "The Odisha government, meanwhile, put seven coastal districts of the state on alert amid the low-pressure area over the South Andaman Sea. In a letter to the collectors of Balasore, Bhadrak, Kendrapara, Jagatsinghpur, Puri, Khurda and Ganjam districts, Special Relief Commissioner Satyabrata Sahoo said that a low-pressure area over the South Andaman Sea is likely to intensify into a depression and later into a cyclonic storm.\"\"\""
   ]
  },
  {
   "cell_type": "code",
   "execution_count": 8,
   "id": "cc91507e",
   "metadata": {},
   "outputs": [
    {
     "data": {
      "text/plain": [
       "'In the southeast Bay of Bengal, squally weather with wind speeds reaching 40-50 kmph gusting to 60 kmph is forecasted on November 30. This is expected to increase to 50-60 kmph gusting to 70 kmph on December 1, with gale wind speeds reaching 60-70 kmph gusting to 80 kmph on December 2.\\n\\nSqually wind speeds ranging from 40-50 kmph gusting to 60 kmph are expected over the southwest Bay of Bengal from the morning of December 1, increasing to Gale Wind speeds of 60-70 kmph gusting to 80 kmph on December 2 morning. In the central Bay of Bengal, squally wind speeds reaching 40-50 kmph gusting to 60 kmph are likely on December 1, intensifying to 50-60 kmph gusting to 70 kmph on December 2.\\n\\n\\nFishermen have been advised not to venture into the South Andaman Sea on November 29 and 30 and avoid the southeast Bay of Bengal from November 30 to December 2. The IMD also urged them to stay clear of southwest Bay of Bengal on November 30 and December 2 and refrain from venturing into central Bay of Bengal from December 1 morning onwards.\\n\\nThe Odisha government, meanwhile, put seven coastal districts of the state on alert amid the low-pressure area over the South Andaman Sea. In a letter to the collectors of Balasore, Bhadrak, Kendrapara, Jagatsinghpur, Puri, Khurda and Ganjam districts, Special Relief Commissioner Satyabrata Sahoo said that a low-pressure area over the South Andaman Sea is likely to intensify into a depression and later into a cyclonic storm.'"
      ]
     },
     "execution_count": 8,
     "metadata": {},
     "output_type": "execute_result"
    }
   ],
   "source": [
    "text1"
   ]
  },
  {
   "cell_type": "code",
   "execution_count": 9,
   "id": "fd575867",
   "metadata": {},
   "outputs": [
    {
     "data": {
      "text/plain": [
       "'In the southeast Bay of Bengal, squally weather with wind speeds reaching 40-50 kmph gusting to 60 kmph is forecasted on November 30.'"
      ]
     },
     "execution_count": 9,
     "metadata": {},
     "output_type": "execute_result"
    }
   ],
   "source": [
    "text_summarization(text1)"
   ]
  },
  {
   "cell_type": "code",
   "execution_count": null,
   "id": "ea00607e",
   "metadata": {},
   "outputs": [],
   "source": []
  }
 ],
 "metadata": {
  "kernelspec": {
   "display_name": "Python 3 (ipykernel)",
   "language": "python",
   "name": "python3"
  },
  "language_info": {
   "codemirror_mode": {
    "name": "ipython",
    "version": 3
   },
   "file_extension": ".py",
   "mimetype": "text/x-python",
   "name": "python",
   "nbconvert_exporter": "python",
   "pygments_lexer": "ipython3",
   "version": "3.11.5"
  }
 },
 "nbformat": 4,
 "nbformat_minor": 5
}
