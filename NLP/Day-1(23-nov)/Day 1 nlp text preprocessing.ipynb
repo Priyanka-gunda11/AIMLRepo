{
 "cells": [
  {
   "cell_type": "markdown",
   "id": "03d4c2f9",
   "metadata": {},
   "source": [
    "# NLTK - Natural Language Toolkit"
   ]
  },
  {
   "cell_type": "code",
   "execution_count": 1,
   "id": "262f23ae",
   "metadata": {},
   "outputs": [],
   "source": [
    "import nltk"
   ]
  },
  {
   "cell_type": "code",
   "execution_count": 2,
   "id": "b6d39cac",
   "metadata": {},
   "outputs": [
    {
     "name": "stderr",
     "output_type": "stream",
     "text": [
      "[nltk_data] Downloading package punkt to\n",
      "[nltk_data]     C:\\Users\\user\\AppData\\Roaming\\nltk_data...\n",
      "[nltk_data]   Package punkt is already up-to-date!\n"
     ]
    },
    {
     "data": {
      "text/plain": [
       "True"
      ]
     },
     "execution_count": 2,
     "metadata": {},
     "output_type": "execute_result"
    }
   ],
   "source": [
    "nltk.download('punkt')"
   ]
  },
  {
   "cell_type": "markdown",
   "id": "b4405c52",
   "metadata": {},
   "source": [
    "# Sentence Tokenization - spliting as a sentences"
   ]
  },
  {
   "cell_type": "code",
   "execution_count": 3,
   "id": "2be9808b",
   "metadata": {},
   "outputs": [
    {
     "name": "stdout",
     "output_type": "stream",
     "text": [
      "Original text:\n",
      "====================================================================================================\n",
      "Hello Mr.John,Hope you are doing good.\n",
      "By the way I have a plan to visit to your house in the next week of the month\n",
      "====================================================================================================\n",
      "\n",
      "After Sentence Tokenization:\n",
      " ['Hello Mr.John,Hope you are doing good.', 'By the way I have a plan to visit to your house in the next week of the month']\n",
      "====================================================================================================\n",
      "No.of Sentences:\t 2\n"
     ]
    }
   ],
   "source": [
    "from nltk.tokenize import sent_tokenize\n",
    "text=\"\"\"Hello Mr.John,Hope you are doing good.\n",
    "By the way I have a plan to visit to your house in the next week of the month\"\"\"\n",
    "print('Original text:')\n",
    "print('='*100)\n",
    "print(text)\n",
    "print('='*100)\n",
    "print()\n",
    "tokenised_sent=sent_tokenize(text)\n",
    "print('After Sentence Tokenization:\\n',tokenised_sent)\n",
    "print('='*100)\n",
    "print('No.of Sentences:\\t',len(tokenised_sent))\n"
   ]
  },
  {
   "cell_type": "markdown",
   "id": "53e63bbd",
   "metadata": {},
   "source": [
    "# Word Tokenization - Spliting as a words"
   ]
  },
  {
   "cell_type": "code",
   "execution_count": 4,
   "id": "81db8855",
   "metadata": {},
   "outputs": [
    {
     "name": "stdout",
     "output_type": "stream",
     "text": [
      "Original text:\n",
      "====================================================================================================\n",
      "Hello Mr.John,Hope you are doing good.\n",
      "By the way I have a plan to visit to your house in the next week of the month\n",
      "====================================================================================================\n",
      "\n",
      "After word Tokenization:\n",
      " ['Hello', 'Mr.John', ',', 'Hope', 'you', 'are', 'doing', 'good', '.', 'By', 'the', 'way', 'I', 'have', 'a', 'plan', 'to', 'visit', 'to', 'your', 'house', 'in', 'the', 'next', 'week', 'of', 'the', 'month']\n",
      "====================================================================================================\n",
      "No.of words:\t 28\n",
      "====================================================================================================\n",
      "word :  Hello & Length : 5\n",
      "word :  Mr.John & Length : 7\n",
      "word :  , & Length : 1\n",
      "word :  Hope & Length : 4\n",
      "word :  you & Length : 3\n",
      "word :  are & Length : 3\n",
      "word :  doing & Length : 5\n",
      "word :  good & Length : 4\n",
      "word :  . & Length : 1\n",
      "word :  By & Length : 2\n",
      "word :  the & Length : 3\n",
      "word :  way & Length : 3\n",
      "word :  I & Length : 1\n",
      "word :  have & Length : 4\n",
      "word :  a & Length : 1\n",
      "word :  plan & Length : 4\n",
      "word :  to & Length : 2\n",
      "word :  visit & Length : 5\n",
      "word :  to & Length : 2\n",
      "word :  your & Length : 4\n",
      "word :  house & Length : 5\n",
      "word :  in & Length : 2\n",
      "word :  the & Length : 3\n",
      "word :  next & Length : 4\n",
      "word :  week & Length : 4\n",
      "word :  of & Length : 2\n",
      "word :  the & Length : 3\n",
      "word :  month & Length : 5\n"
     ]
    }
   ],
   "source": [
    "from nltk.tokenize import word_tokenize\n",
    "print('Original text:')\n",
    "print('='*100)\n",
    "print(text)\n",
    "print('='*100)\n",
    "print()\n",
    "token_word=word_tokenize(text)\n",
    "print('After word Tokenization:\\n',token_word)\n",
    "print('='*100)\n",
    "print('No.of words:\\t',len(token_word))\n",
    "print('='*100)\n",
    "for i in token_word:\n",
    "    print('word : ',i,'&','Length :',len(i))"
   ]
  },
  {
   "cell_type": "markdown",
   "id": "1ed97c2e",
   "metadata": {},
   "source": [
    "# Frequency Distribution"
   ]
  },
  {
   "cell_type": "code",
   "execution_count": 5,
   "id": "47b9745e",
   "metadata": {},
   "outputs": [
    {
     "name": "stdout",
     "output_type": "stream",
     "text": [
      "<class 'nltk.probability.FreqDist'>\n",
      "<FreqDist with 25 samples and 28 outcomes>\n"
     ]
    }
   ],
   "source": [
    "from nltk.probability import FreqDist\n",
    "freq_dist=FreqDist(token_word)\n",
    "print(type(freq_dist))\n",
    "print(freq_dist)\n"
   ]
  },
  {
   "cell_type": "code",
   "execution_count": 6,
   "id": "5af3e591",
   "metadata": {},
   "outputs": [
    {
     "data": {
      "text/plain": [
       "[('the', 3),\n",
       " ('to', 2),\n",
       " ('Hello', 1),\n",
       " ('Mr.John', 1),\n",
       " (',', 1),\n",
       " ('Hope', 1),\n",
       " ('you', 1),\n",
       " ('are', 1),\n",
       " ('doing', 1),\n",
       " ('good', 1),\n",
       " ('.', 1),\n",
       " ('By', 1),\n",
       " ('way', 1),\n",
       " ('I', 1),\n",
       " ('have', 1),\n",
       " ('a', 1),\n",
       " ('plan', 1),\n",
       " ('visit', 1),\n",
       " ('your', 1),\n",
       " ('house', 1),\n",
       " ('in', 1),\n",
       " ('next', 1),\n",
       " ('week', 1),\n",
       " ('of', 1),\n",
       " ('month', 1)]"
      ]
     },
     "execution_count": 6,
     "metadata": {},
     "output_type": "execute_result"
    }
   ],
   "source": [
    "freq_dist.most_common()"
   ]
  },
  {
   "cell_type": "code",
   "execution_count": 7,
   "id": "a0abe330",
   "metadata": {},
   "outputs": [
    {
     "data": {
      "image/png": "[encoded data removed]",
      "text/plain": [
       "<Figure size 640x480 with 1 Axes>"
      ]
     },
     "metadata": {},
     "output_type": "display_data"
    }
   ],
   "source": [
    "import matplotlib.pyplot as plt\n",
    "freq_dist.plot(27,cumulative=False)\n",
    "plt.show()\n"
   ]
  },
  {
   "cell_type": "markdown",
   "id": "7262d334",
   "metadata": {},
   "source": [
    "# Stopwords"
   ]
  },
  {
   "cell_type": "code",
   "execution_count": 8,
   "id": "0fd731ae",
   "metadata": {},
   "outputs": [
    {
     "name": "stderr",
     "output_type": "stream",
     "text": [
      "[nltk_data] Downloading package stopwords to\n",
      "[nltk_data]     C:\\Users\\user\\AppData\\Roaming\\nltk_data...\n",
      "[nltk_data]   Package stopwords is already up-to-date!\n"
     ]
    },
    {
     "data": {
      "text/plain": [
       "True"
      ]
     },
     "execution_count": 8,
     "metadata": {},
     "output_type": "execute_result"
    }
   ],
   "source": [
    "nltk.download('stopwords')"
   ]
  },
  {
   "cell_type": "code",
   "execution_count": 9,
   "id": "333cebd8",
   "metadata": {},
   "outputs": [
    {
     "name": "stdout",
     "output_type": "stream",
     "text": [
      "Total No.of Stopwords:\t 179\n",
      "====================================================================================================\n",
      "The Stop words are:\n",
      "\n",
      "{'before', 'was', 're', 'couldn', 'am', 'ourselves', 'o', 'at', 'hers', 'a', 'its', 'only', 'out', 'through', 'such', 'up', 'as', 'further', 'your', \"haven't\", 'weren', 't', 'now', 'theirs', 'm', \"couldn't\", \"wouldn't\", 'why', 'so', 'this', 'yours', 'is', \"wasn't\", 'which', 'yourself', 'or', 'on', 'mightn', 'who', 'they', 'below', 'were', 'when', 've', 'won', 'than', 'under', 'wasn', 'the', 'between', 'any', 'and', 'once', \"hadn't\", \"shouldn't\", 'where', \"you're\", 'what', \"should've\", 'have', 'over', 'if', 'with', 'there', 'shan', 'during', 'ain', 'yourselves', \"mightn't\", 'own', 'he', 'd', 'while', \"doesn't\", 'more', 'we', \"aren't\", \"it's\", 'aren', \"you'll\", 'again', 'haven', 'shouldn', 'she', 'an', 'by', 'down', 'all', 'that', \"won't\", 'been', 'being', 'in', \"you'd\", 'be', \"needn't\", 'no', 'wouldn', 'too', 'i', 'above', 'needn', 'some', 'his', \"that'll\", 'these', 'nor', 'just', 'for', \"isn't\", 'because', 'few', 'but', 'has', 'hadn', 'themselves', 'her', 'isn', 'you', 'very', 'each', \"mustn't\", 'myself', 'can', 'do', 'of', 'doesn', 'then', 'them', 'didn', 'ours', 'doing', 'him', 'here', 'll', 'having', 'whom', 'both', 'does', 'mustn', 'off', 'it', 'same', 'not', 'are', 'my', 'did', 'don', \"shan't\", 'me', 'after', 'our', 'had', 'against', 'how', 'himself', 'those', 'other', 'will', \"weren't\", 'y', 'hasn', \"she's\", 'until', 'should', 'to', \"you've\", 'most', 'into', 'about', 'ma', \"didn't\", 'herself', \"hasn't\", 'from', 'itself', 'their', 's', \"don't\"}\n"
     ]
    }
   ],
   "source": [
    "from nltk.corpus import stopwords\n",
    "stop_words=set(stopwords.words('english'))\n",
    "print('Total No.of Stopwords:\\t',len(stop_words))\n",
    "print('='*100)\n",
    "print('The Stop words are:\\n')\n",
    "print(stop_words)"
   ]
  },
  {
   "cell_type": "markdown",
   "id": "07287023",
   "metadata": {},
   "source": [
    "# Removing stopwords"
   ]
  },
  {
   "cell_type": "code",
   "execution_count": 10,
   "id": "f1f6dfa6",
   "metadata": {},
   "outputs": [
    {
     "name": "stdout",
     "output_type": "stream",
     "text": [
      "Length of words:\t 28\n",
      "----------------------------------------------------------------------------------------------------\n",
      "Tokenized words-with stopwords:\n",
      "\n",
      "\t ['Hello', 'Mr.John', ',', 'Hope', 'you', 'are', 'doing', 'good', '.', 'By', 'the', 'way', 'I', 'have', 'a', 'plan', 'to', 'visit', 'to', 'your', 'house', 'in', 'the', 'next', 'week', 'of', 'the', 'month']\n",
      "====================================================================================================\n",
      "Length after Remove stopwords:\t 15\n",
      "----------------------------------------------------------------------------------------------------\n",
      "\n",
      " After Removing stopwords- words are:\n",
      "\t ['Hello', 'Mr.John', ',', 'Hope', 'good', '.', 'By', 'way', 'I', 'plan', 'visit', 'house', 'next', 'week', 'month']\n"
     ]
    }
   ],
   "source": [
    "filtered_tokens=[]\n",
    "for w in token_word:\n",
    "    if w not in stop_words:\n",
    "        filtered_tokens.append(w)\n",
    "print('Length of words:\\t',len(token_word))\n",
    "print('-'*100)\n",
    "print('Tokenized words-with stopwords:\\n\\n\\t',token_word)\n",
    "print('='*100)\n",
    "print('Length after Remove stopwords:\\t',len(filtered_tokens))\n",
    "print('-'*100)\n",
    "print('\\n After Removing stopwords- words are:\\n\\t',filtered_tokens)"
   ]
  },
  {
   "cell_type": "markdown",
   "id": "288a6eaf",
   "metadata": {},
   "source": [
    "# Stemming:"
   ]
  },
  {
   "cell_type": "code",
   "execution_count": 11,
   "id": "b6f64740",
   "metadata": {},
   "outputs": [
    {
     "name": "stdout",
     "output_type": "stream",
     "text": [
      "Length of words:\t 15\n",
      "----------------------------------------------------------------------------------------------------\n",
      "Filtered words:\n",
      "\n",
      "\t ['Hello', 'Mr.John', ',', 'Hope', 'good', '.', 'By', 'way', 'I', 'plan', 'visit', 'house', 'next', 'week', 'month']\n",
      "====================================================================================================\n",
      "Length after Stemmer:\t 15\n",
      "----------------------------------------------------------------------------------------------------\n",
      "\n",
      " After Stemming- words are:\n",
      "\t ['hello', 'mr.john', ',', 'hope', 'good', '.', 'by', 'way', 'i', 'plan', 'visit', 'hous', 'next', 'week', 'month']\n"
     ]
    }
   ],
   "source": [
    "from nltk.stem import PorterStemmer\n",
    "ps=PorterStemmer()\n",
    "stemmed_words=[]\n",
    "for w in filtered_tokens:\n",
    "    stemmed_words.append(ps.stem(w))\n",
    "print('Length of words:\\t',len(filtered_tokens))\n",
    "print('-'*100)\n",
    "print('Filtered words:\\n\\n\\t',filtered_tokens)\n",
    "print('='*100)\n",
    "print('Length after Stemmer:\\t',len(stemmed_words))\n",
    "print('-'*100)\n",
    "print('\\n After Stemming- words are:\\n\\t',stemmed_words)"
   ]
  },
  {
   "cell_type": "code",
   "execution_count": 12,
   "id": "791e89e3",
   "metadata": {},
   "outputs": [
    {
     "name": "stdout",
     "output_type": "stream",
     "text": [
      "['connect', ',', 'connected', ',', 'connecting']\n"
     ]
    }
   ],
   "source": [
    "st='connect,connected,connecting'\n",
    "st_words=word_tokenize(st)\n",
    "print(st_words)\n"
   ]
  },
  {
   "cell_type": "code",
   "execution_count": 13,
   "id": "f8cc1590",
   "metadata": {},
   "outputs": [
    {
     "name": "stdout",
     "output_type": "stream",
     "text": [
      "Length of words:\t 5\n",
      "----------------------------------------------------------------------------------------------------\n",
      "Filtered words:\n",
      "\n",
      "\t ['connect', ',', 'connected', ',', 'connecting']\n",
      "====================================================================================================\n",
      "Length after Stemmer:\t 5\n",
      "----------------------------------------------------------------------------------------------------\n",
      "\n",
      " After Stemming- words are:\n",
      "\t ['connect', ',', 'connect', ',', 'connect']\n"
     ]
    }
   ],
   "source": [
    "from nltk.stem import PorterStemmer\n",
    "ps=PorterStemmer()\n",
    "stemmed_words=[]\n",
    "for w in st_words:\n",
    "    stemmed_words.append(ps.stem(w))\n",
    "print('Length of words:\\t',len(st_words))\n",
    "print('-'*100)\n",
    "print('Filtered words:\\n\\n\\t',st_words)\n",
    "print('='*100)\n",
    "print('Length after Stemmer:\\t',len(stemmed_words))\n",
    "print('-'*100)\n",
    "print('\\n After Stemming- words are:\\n\\t',stemmed_words)\n"
   ]
  },
  {
   "cell_type": "markdown",
   "id": "a6c681be",
   "metadata": {},
   "source": [
    "# Lemmatization:"
   ]
  },
  {
   "cell_type": "code",
   "execution_count": 14,
   "id": "c509209c",
   "metadata": {},
   "outputs": [
    {
     "name": "stderr",
     "output_type": "stream",
     "text": [
      "[nltk_data] Downloading package wordnet to\n",
      "[nltk_data]     C:\\Users\\user\\AppData\\Roaming\\nltk_data...\n",
      "[nltk_data]   Package wordnet is already up-to-date!\n"
     ]
    },
    {
     "data": {
      "text/plain": [
       "True"
      ]
     },
     "execution_count": 14,
     "metadata": {},
     "output_type": "execute_result"
    }
   ],
   "source": [
    "nltk.download('wordnet')"
   ]
  },
  {
   "cell_type": "code",
   "execution_count": 15,
   "id": "78965f01",
   "metadata": {},
   "outputs": [
    {
     "name": "stdout",
     "output_type": "stream",
     "text": [
      "Enter a sentences:\n",
      "\n",
      "\tconnected connecting flying swimming seems\n",
      "====================================================================================================\n",
      "Tokens of word:\n",
      " ['connected', 'connecting', 'flying', 'swimming', 'seems']\n",
      "Length: \t 5\n",
      "****************************************************************************************************\n",
      "----------------------------------------------------------------------------------------------------\n",
      "Original text:\n",
      " connected connecting flying swimming seems\n",
      "====================================================================================================\n",
      "Lemmatized words:\n",
      " ['connect', 'connect', 'fly', 'swim', 'seem']\n"
     ]
    }
   ],
   "source": [
    "from nltk.stem import WordNetLemmatizer\n",
    "#Initialize the wordnet lemmatizer\n",
    "lemma=WordNetLemmatizer()\n",
    "#prompt to take input string\n",
    "text=input('Enter a sentences:\\n\\n\\t')\n",
    "#split as word tokens\n",
    "words=word_tokenize(text)\n",
    "print('='*100)\n",
    "print('Tokens of word:\\n',words)\n",
    "print('Length: \\t',len(words))\n",
    "print('*'*100)\n",
    "#Apply Lemmatization to each word\n",
    "lemma_words=[lemma.lemmatize(word,pos='v') for word in words ]\n",
    "print('-'*100)\n",
    "print('Original text:\\n',text)\n",
    "print('='*100)\n",
    "print('Lemmatized words:\\n',lemma_words)\n"
   ]
  },
  {
   "cell_type": "markdown",
   "id": "00c9d95c",
   "metadata": {},
   "source": [
    "# POS - Part of Speech "
   ]
  },
  {
   "cell_type": "code",
   "execution_count": 16,
   "id": "28f82de1",
   "metadata": {},
   "outputs": [
    {
     "name": "stderr",
     "output_type": "stream",
     "text": [
      "[nltk_data] Downloading package averaged_perceptron_tagger to\n",
      "[nltk_data]     C:\\Users\\user\\AppData\\Roaming\\nltk_data...\n",
      "[nltk_data]   Package averaged_perceptron_tagger is already up-to-\n",
      "[nltk_data]       date!\n"
     ]
    },
    {
     "data": {
      "text/plain": [
       "True"
      ]
     },
     "execution_count": 16,
     "metadata": {},
     "output_type": "execute_result"
    }
   ],
   "source": [
    "nltk.download('averaged_perceptron_tagger')"
   ]
  },
  {
   "cell_type": "code",
   "execution_count": 17,
   "id": "58e419f2",
   "metadata": {},
   "outputs": [
    {
     "name": "stdout",
     "output_type": "stream",
     "text": [
      "Enter a sentences:\n",
      "\n",
      "\tHello Mr.John,Hope you are doing good. By the way I have a plan to visit to your house in the next week of the month\n",
      "====================================================================================================\n",
      "Tokens of word:\n",
      " ['Hello', 'Mr.John', ',', 'Hope', 'you', 'are', 'doing', 'good', '.', 'By', 'the', 'way', 'I', 'have', 'a', 'plan', 'to', 'visit', 'to', 'your', 'house', 'in', 'the', 'next', 'week', 'of', 'the', 'month']\n",
      "Length: \t 28\n",
      "****************************************************************************************************\n",
      "----------------------------------------------------------------------------------------------------\n",
      "Original text:\n",
      " Hello Mr.John,Hope you are doing good. By the way I have a plan to visit to your house in the next week of the month\n",
      "====================================================================================================\n",
      "========================================\n",
      "POS Tagging ('Hello', 'NNP')\n",
      "========================================\n",
      "========================================\n",
      "POS Tagging ('Mr.John', 'NNP')\n",
      "========================================\n",
      "========================================\n",
      "POS Tagging (',', ',')\n",
      "========================================\n",
      "========================================\n",
      "POS Tagging ('Hope', 'NNP')\n",
      "========================================\n",
      "========================================\n",
      "POS Tagging ('you', 'PRP')\n",
      "========================================\n",
      "========================================\n",
      "POS Tagging ('are', 'VBP')\n",
      "========================================\n",
      "========================================\n",
      "POS Tagging ('doing', 'VBG')\n",
      "========================================\n",
      "========================================\n",
      "POS Tagging ('good', 'JJ')\n",
      "========================================\n",
      "========================================\n",
      "POS Tagging ('.', '.')\n",
      "========================================\n",
      "========================================\n",
      "POS Tagging ('By', 'IN')\n",
      "========================================\n",
      "========================================\n",
      "POS Tagging ('the', 'DT')\n",
      "========================================\n",
      "========================================\n",
      "POS Tagging ('way', 'NN')\n",
      "========================================\n",
      "========================================\n",
      "POS Tagging ('I', 'PRP')\n",
      "========================================\n",
      "========================================\n",
      "POS Tagging ('have', 'VBP')\n",
      "========================================\n",
      "========================================\n",
      "POS Tagging ('a', 'DT')\n",
      "========================================\n",
      "========================================\n",
      "POS Tagging ('plan', 'NN')\n",
      "========================================\n",
      "========================================\n",
      "POS Tagging ('to', 'TO')\n",
      "========================================\n",
      "========================================\n",
      "POS Tagging ('visit', 'VB')\n",
      "========================================\n",
      "========================================\n",
      "POS Tagging ('to', 'TO')\n",
      "========================================\n",
      "========================================\n",
      "POS Tagging ('your', 'PRP$')\n",
      "========================================\n",
      "========================================\n",
      "POS Tagging ('house', 'NN')\n",
      "========================================\n",
      "========================================\n",
      "POS Tagging ('in', 'IN')\n",
      "========================================\n",
      "========================================\n",
      "POS Tagging ('the', 'DT')\n",
      "========================================\n",
      "========================================\n",
      "POS Tagging ('next', 'JJ')\n",
      "========================================\n",
      "========================================\n",
      "POS Tagging ('week', 'NN')\n",
      "========================================\n",
      "========================================\n",
      "POS Tagging ('of', 'IN')\n",
      "========================================\n",
      "========================================\n",
      "POS Tagging ('the', 'DT')\n",
      "========================================\n",
      "========================================\n",
      "POS Tagging ('month', 'NN')\n",
      "========================================\n"
     ]
    }
   ],
   "source": [
    "import nltk\n",
    "from nltk import pos_tag\n",
    "#prompt to take input string\n",
    "text=input('Enter a sentences:\\n\\n\\t')\n",
    "#split as word tokens\n",
    "words=word_tokenize(text)\n",
    "print('='*100)\n",
    "print('Tokens of word:\\n',words)\n",
    "print('Length: \\t',len(words))\n",
    "print('*'*100)\n",
    "#Apply POS tag to each word\n",
    "pos_tags=pos_tag(words)\n",
    "print('-'*100)\n",
    "print('Original text:\\n',text)\n",
    "print('='*100)\n",
    "for w in pos_tags:\n",
    "    print('='*40)\n",
    "    print('POS Tagging',w)\n",
    "    print('='*40)\n"
   ]
  },
  {
   "cell_type": "markdown",
   "id": "be95d29c",
   "metadata": {},
   "source": [
    "# Filter out Punctuation"
   ]
  },
  {
   "cell_type": "code",
   "execution_count": 18,
   "id": "037de22c",
   "metadata": {},
   "outputs": [
    {
     "name": "stdout",
     "output_type": "stream",
     "text": [
      "Enter a sentences:\n",
      "\n",
      "\tHello Mr.John,Hope you are doing good. By the way I have a plan to visit to your house in the next week of the month\n",
      "====================================================================================================\n",
      "Length: \t 28\n",
      "Tokens of word:\n",
      " ['Hello', 'Mr.John', ',', 'Hope', 'you', 'are', 'doing', 'good', '.', 'By', 'the', 'way', 'I', 'have', 'a', 'plan', 'to', 'visit', 'to', 'your', 'house', 'in', 'the', 'next', 'week', 'of', 'the', 'month']\n",
      "****************************************************************************************************\n",
      "----------------------------------------------------------------------------------------------------\n",
      "Original text:\n",
      " Hello Mr.John,Hope you are doing good. By the way I have a plan to visit to your house in the next week of the month\n",
      "====================================================================================================\n",
      "After Removing Punctuation:\n",
      "\n",
      "['Hello', 'Hope', 'you', 'are', 'doing', 'good', 'By', 'the', 'way', 'I', 'have', 'a', 'plan', 'to', 'visit', 'to', 'your', 'house', 'in', 'the', 'next', 'week', 'of', 'the', 'month'] 25\n"
     ]
    }
   ],
   "source": [
    "import nltk\n",
    "from nltk import pos_tag\n",
    "#prompt to take input string\n",
    "text=input('Enter a sentences:\\n\\n\\t')\n",
    "#split as word tokens\n",
    "tokens=word_tokenize(text)\n",
    "print('='*100)\n",
    "print('Length: \\t',len(tokens))\n",
    "print('Tokens of word:\\n',tokens)\n",
    "print('*'*100)\n",
    "#Remove all tokens that are not alphabetic\n",
    "words=[word for word in tokens if word.isalpha()]\n",
    "print('-'*100)\n",
    "print('Original text:\\n',text)\n",
    "print('='*100)\n",
    "print('After Removing Punctuation:\\n')\n",
    "print(words,len(words))"
   ]
  },
  {
   "cell_type": "markdown",
   "id": "35ce6edb",
   "metadata": {},
   "source": [
    "# Word counts with CountVectorizer"
   ]
  },
  {
   "cell_type": "code",
   "execution_count": 19,
   "id": "fc8bf437",
   "metadata": {},
   "outputs": [
    {
     "name": "stdout",
     "output_type": "stream",
     "text": [
      "Text paragraph please:\n",
      "\n",
      "\tThis is the first document,This document is the second document, And this is the third one.Lets see the vector form.\n",
      "Sentences as tokens:\n",
      "This is the first document,This document is the second document, And this is the third one.Lets see the vector form.\n",
      "Feature names:\n",
      " ['and' 'document' 'first' 'form' 'is' 'lets' 'one' 'second' 'see' 'the'\n",
      " 'third' 'this' 'vector']\n",
      "====================================================================================================\n",
      "Token Counts Matrix:\n",
      "[[1 3 1 1 3 1 1 1 1 4 1 3 1]]\n"
     ]
    }
   ],
   "source": [
    "import numpy as np\n",
    "from sklearn.feature_extraction.text import CountVectorizer\n",
    "documents=input('Text paragraph please:\\n\\n\\t')\n",
    "sent_tokens=sent_tokenize(documents)\n",
    "print('Sentences as tokens:')\n",
    "for sent in sent_tokens:\n",
    "    print(sent)\n",
    "#Initialize countvectorizer\n",
    "vector=CountVectorizer()\n",
    "#Fit and transform the documents\n",
    "x=vector.fit_transform(sent_tokens)\n",
    "#get the feature names (words)\n",
    "feature_names=vector.get_feature_names_out()\n",
    "#Display the matrix of token counts\n",
    "print('Feature names:\\n',feature_names)\n",
    "print('='*100)\n",
    "print('Token Counts Matrix:')\n",
    "print(x.toarray())\n"
   ]
  },
  {
   "cell_type": "code",
   "execution_count": null,
   "id": "deb6dd88",
   "metadata": {},
   "outputs": [],
   "source": []
  }
 ],
 "metadata": {
  "kernelspec": {
   "display_name": "Python 3 (ipykernel)",
   "language": "python",
   "name": "python3"
  },
  "language_info": {
   "codemirror_mode": {
    "name": "ipython",
    "version": 3
   },
   "file_extension": ".py",
   "mimetype": "text/x-python",
   "name": "python",
   "nbconvert_exporter": "python",
   "pygments_lexer": "ipython3",
   "version": "3.11.4"
  }
 },
 "nbformat": 4,
 "nbformat_minor": 5
}
