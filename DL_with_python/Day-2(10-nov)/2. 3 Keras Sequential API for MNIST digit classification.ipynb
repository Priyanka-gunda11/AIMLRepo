{
 "cells": [
  {
   "cell_type": "code",
   "execution_count": 1,
   "id": "7d3ba394",
   "metadata": {},
   "outputs": [],
   "source": [
    "from keras.datasets import mnist\n",
    "from keras.models import Sequential\n",
    "from keras.layers import Dense,Dropout\n",
    "from keras.optimizers import RMSprop"
   ]
  },
  {
   "cell_type": "code",
   "execution_count": 2,
   "id": "f14142fe",
   "metadata": {},
   "outputs": [],
   "source": [
    "batch_size=128\n",
    "num_classes=10\n",
    "epochs=20"
   ]
  },
  {
   "cell_type": "code",
   "execution_count": 3,
   "id": "ebc6d2b0",
   "metadata": {},
   "outputs": [
    {
     "name": "stdout",
     "output_type": "stream",
     "text": [
      "Shape-x:\t (60000, 28, 28)\n",
      "Shape-y:\t (60000,)\n"
     ]
    }
   ],
   "source": [
    "(xtrain,ytrain),(xtest,ytest)=mnist.load_data()\n",
    "print('Shape-x:\\t',xtrain.shape)\n",
    "print('Shape-y:\\t',ytrain.shape)"
   ]
  },
  {
   "cell_type": "code",
   "execution_count": 4,
   "id": "09473c47",
   "metadata": {},
   "outputs": [
    {
     "name": "stdout",
     "output_type": "stream",
     "text": [
      "Shape-x-train:\t (60000, 784)\n",
      "Shape-x-Test:\t (10000, 784)\n"
     ]
    }
   ],
   "source": [
    "xtrain=xtrain.reshape(60000,784)\n",
    "xtest=xtest.reshape(10000,784)\n",
    "print('Shape-x-train:\\t',xtrain.shape)\n",
    "print('Shape-x-Test:\\t',xtest.shape)\n"
   ]
  },
  {
   "cell_type": "code",
   "execution_count": 5,
   "id": "979f0715",
   "metadata": {},
   "outputs": [],
   "source": [
    "xtrain=xtrain.astype('float32')\n",
    "xtest=xtest.astype('float32')"
   ]
  },
  {
   "cell_type": "code",
   "execution_count": 6,
   "id": "c46ec960",
   "metadata": {},
   "outputs": [],
   "source": [
    "xtrain=xtrain/255.\n",
    "xtest=xtest/255"
   ]
  },
  {
   "cell_type": "markdown",
   "id": "29caf058",
   "metadata": {},
   "source": [
    "# Print the shape of data"
   ]
  },
  {
   "cell_type": "code",
   "execution_count": 7,
   "id": "928a5ad2",
   "metadata": {},
   "outputs": [
    {
     "name": "stdout",
     "output_type": "stream",
     "text": [
      "60000 train samples\n",
      "10000 test samples\n"
     ]
    }
   ],
   "source": [
    "print(xtrain.shape[0],'train samples')\n",
    "print(xtest.shape[0],'test samples')"
   ]
  },
  {
   "cell_type": "markdown",
   "id": "5595d7d8",
   "metadata": {},
   "source": [
    "# Convert class vectors to binary class matrices"
   ]
  },
  {
   "cell_type": "code",
   "execution_count": 8,
   "id": "d9513d28",
   "metadata": {},
   "outputs": [],
   "source": [
    "import keras\n",
    "ytrain=keras.utils.to_categorical(ytrain,num_classes)\n",
    "ytest=keras.utils.to_categorical(ytest,num_classes)\n"
   ]
  },
  {
   "cell_type": "code",
   "execution_count": 9,
   "id": "2c4861c5",
   "metadata": {},
   "outputs": [
    {
     "data": {
      "text/plain": [
       "(60000, 10)"
      ]
     },
     "execution_count": 9,
     "metadata": {},
     "output_type": "execute_result"
    }
   ],
   "source": [
    "ytrain.shape"
   ]
  },
  {
   "cell_type": "markdown",
   "id": "823a4325",
   "metadata": {},
   "source": [
    "# Sequential Model"
   ]
  },
  {
   "cell_type": "code",
   "execution_count": 10,
   "id": "b332b63d",
   "metadata": {},
   "outputs": [
    {
     "name": "stdout",
     "output_type": "stream",
     "text": [
      "Model: \"sequential\"\n",
      "_________________________________________________________________\n",
      " Layer (type)                Output Shape              Param #   \n",
      "=================================================================\n",
      " dense (Dense)               (None, 512)               401920    \n",
      "                                                                 \n",
      " dense_1 (Dense)             (None, 512)               262656    \n",
      "                                                                 \n",
      " dense_2 (Dense)             (None, 10)                5130      \n",
      "                                                                 \n",
      "=================================================================\n",
      "Total params: 669706 (2.55 MB)\n",
      "Trainable params: 669706 (2.55 MB)\n",
      "Non-trainable params: 0 (0.00 Byte)\n",
      "_________________________________________________________________\n"
     ]
    }
   ],
   "source": [
    "model=Sequential()\n",
    "model.add(Dense(512,activation='relu',input_shape=(784,)))\n",
    "model.add(Dense(512,activation='relu'))\n",
    "model.add(Dense(num_classes,activation='softmax'))\n",
    "model.summary()"
   ]
  },
  {
   "cell_type": "markdown",
   "id": "6e9bd0b6",
   "metadata": {},
   "source": [
    "# Compile the model"
   ]
  },
  {
   "cell_type": "code",
   "execution_count": 11,
   "id": "0344d96b",
   "metadata": {},
   "outputs": [],
   "source": [
    "model.compile(loss='categorical_crossentropy',optimizer=RMSprop(),metrics=['accuracy'])"
   ]
  },
  {
   "cell_type": "markdown",
   "id": "c26e1cc2",
   "metadata": {},
   "source": [
    "# Fit the model"
   ]
  },
  {
   "cell_type": "code",
   "execution_count": 12,
   "id": "3bf10566",
   "metadata": {},
   "outputs": [
    {
     "name": "stdout",
     "output_type": "stream",
     "text": [
      "Epoch 1/20\n",
      "469/469 - 9s - loss: 0.2309 - accuracy: 0.9282 - val_loss: 0.1073 - val_accuracy: 0.9658 - 9s/epoch - 18ms/step\n",
      "Epoch 2/20\n",
      "469/469 - 6s - loss: 0.0833 - accuracy: 0.9737 - val_loss: 0.0854 - val_accuracy: 0.9753 - 6s/epoch - 13ms/step\n",
      "Epoch 3/20\n",
      "469/469 - 6s - loss: 0.0540 - accuracy: 0.9834 - val_loss: 0.0681 - val_accuracy: 0.9805 - 6s/epoch - 13ms/step\n",
      "Epoch 4/20\n",
      "469/469 - 6s - loss: 0.0384 - accuracy: 0.9876 - val_loss: 0.0761 - val_accuracy: 0.9800 - 6s/epoch - 14ms/step\n",
      "Epoch 5/20\n",
      "469/469 - 6s - loss: 0.0268 - accuracy: 0.9914 - val_loss: 0.0706 - val_accuracy: 0.9802 - 6s/epoch - 13ms/step\n",
      "Epoch 6/20\n",
      "469/469 - 6s - loss: 0.0205 - accuracy: 0.9933 - val_loss: 0.0764 - val_accuracy: 0.9793 - 6s/epoch - 13ms/step\n",
      "Epoch 7/20\n",
      "469/469 - 6s - loss: 0.0158 - accuracy: 0.9951 - val_loss: 0.0702 - val_accuracy: 0.9829 - 6s/epoch - 13ms/step\n",
      "Epoch 8/20\n",
      "469/469 - 8s - loss: 0.0123 - accuracy: 0.9961 - val_loss: 0.0783 - val_accuracy: 0.9808 - 8s/epoch - 17ms/step\n",
      "Epoch 9/20\n",
      "469/469 - 6s - loss: 0.0087 - accuracy: 0.9972 - val_loss: 0.0952 - val_accuracy: 0.9793 - 6s/epoch - 13ms/step\n",
      "Epoch 10/20\n",
      "469/469 - 6s - loss: 0.0076 - accuracy: 0.9976 - val_loss: 0.0746 - val_accuracy: 0.9841 - 6s/epoch - 14ms/step\n",
      "Epoch 11/20\n",
      "469/469 - 6s - loss: 0.0043 - accuracy: 0.9986 - val_loss: 0.0756 - val_accuracy: 0.9841 - 6s/epoch - 13ms/step\n",
      "Epoch 12/20\n",
      "469/469 - 8s - loss: 0.0042 - accuracy: 0.9987 - val_loss: 0.0809 - val_accuracy: 0.9838 - 8s/epoch - 16ms/step\n",
      "Epoch 13/20\n",
      "469/469 - 6s - loss: 0.0036 - accuracy: 0.9986 - val_loss: 0.0905 - val_accuracy: 0.9830 - 6s/epoch - 13ms/step\n",
      "Epoch 14/20\n",
      "469/469 - 7s - loss: 0.0028 - accuracy: 0.9990 - val_loss: 0.0858 - val_accuracy: 0.9838 - 7s/epoch - 15ms/step\n",
      "Epoch 15/20\n",
      "469/469 - 7s - loss: 0.0015 - accuracy: 0.9996 - val_loss: 0.0804 - val_accuracy: 0.9853 - 7s/epoch - 14ms/step\n",
      "Epoch 16/20\n",
      "469/469 - 6s - loss: 6.8179e-04 - accuracy: 0.9998 - val_loss: 0.0842 - val_accuracy: 0.9853 - 6s/epoch - 14ms/step\n",
      "Epoch 17/20\n",
      "469/469 - 6s - loss: 3.2091e-04 - accuracy: 0.9999 - val_loss: 0.0871 - val_accuracy: 0.9852 - 6s/epoch - 13ms/step\n",
      "Epoch 18/20\n",
      "469/469 - 6s - loss: 5.0046e-05 - accuracy: 1.0000 - val_loss: 0.0874 - val_accuracy: 0.9859 - 6s/epoch - 13ms/step\n",
      "Epoch 19/20\n",
      "469/469 - 6s - loss: 2.4981e-05 - accuracy: 1.0000 - val_loss: 0.0873 - val_accuracy: 0.9855 - 6s/epoch - 14ms/step\n",
      "Epoch 20/20\n",
      "469/469 - 6s - loss: 1.3627e-05 - accuracy: 1.0000 - val_loss: 0.0877 - val_accuracy: 0.9856 - 6s/epoch - 13ms/step\n",
      "313/313 [==============================] - 1s 4ms/step - loss: 0.0877 - accuracy: 0.9856\n"
     ]
    }
   ],
   "source": [
    "histroy=model.fit(xtrain,ytrain,\n",
    "    batch_size=batch_size,\n",
    "    epochs=epochs,\n",
    "    verbose=2,\n",
    "    validation_data=(xtest,ytest))\n",
    "score=model.evaluate(xtest,ytest,verbose=1)"
   ]
  },
  {
   "cell_type": "code",
   "execution_count": 13,
   "id": "12bb4ded",
   "metadata": {},
   "outputs": [
    {
     "name": "stdout",
     "output_type": "stream",
     "text": [
      "Test Loss:\t 0.08771970123052597\n",
      "Test Accuracy:\t 0.9855999946594238\n"
     ]
    }
   ],
   "source": [
    "print('Test Loss:\\t',score[0])\n",
    "print('Test Accuracy:\\t',score[1])"
   ]
  },
  {
   "cell_type": "code",
   "execution_count": null,
   "id": "517089db",
   "metadata": {},
   "outputs": [],
   "source": []
  }
 ],
 "metadata": {
  "kernelspec": {
   "display_name": "Python 3 (ipykernel)",
   "language": "python",
   "name": "python3"
  },
  "language_info": {
   "codemirror_mode": {
    "name": "ipython",
    "version": 3
   },
   "file_extension": ".py",
   "mimetype": "text/x-python",
   "name": "python",
   "nbconvert_exporter": "python",
   "pygments_lexer": "ipython3",
   "version": "3.11.4"
  }
 },
 "nbformat": 4,
 "nbformat_minor": 5
}
