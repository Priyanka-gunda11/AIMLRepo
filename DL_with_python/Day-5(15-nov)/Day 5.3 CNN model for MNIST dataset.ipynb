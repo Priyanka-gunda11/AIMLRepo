{
 "cells": [
  {
   "cell_type": "code",
   "execution_count": 1,
   "id": "df0d9a17",
   "metadata": {},
   "outputs": [],
   "source": [
    "import keras\n",
    "from keras.models import Sequential\n",
    "from keras.layers import Dense,Dropout,Flatten\n",
    "from keras.layers import Conv2D,MaxPool2D\n",
    "from keras import backend as k\n"
   ]
  },
  {
   "cell_type": "code",
   "execution_count": 2,
   "id": "613438e7",
   "metadata": {},
   "outputs": [],
   "source": [
    "batch_size=128\n",
    "num_classes=10\n",
    "epochs=12\n"
   ]
  },
  {
   "cell_type": "code",
   "execution_count": 3,
   "id": "a39d9bef",
   "metadata": {},
   "outputs": [],
   "source": [
    "#input image dimensions\n",
    "img_rows,img_cols=28,28"
   ]
  },
  {
   "cell_type": "code",
   "execution_count": 4,
   "id": "17109b76",
   "metadata": {},
   "outputs": [],
   "source": [
    "#load mnist dataset from keras\n",
    "from keras.datasets import mnist\n",
    "#download mnist data and split into train & test sets\n",
    "(xtrain,ytrain),(xtest,ytest)=mnist.load_data()"
   ]
  },
  {
   "cell_type": "code",
   "execution_count": 5,
   "id": "81cd347e",
   "metadata": {},
   "outputs": [
    {
     "name": "stdout",
     "output_type": "stream",
     "text": [
      "Training set images shape: (60000, 28, 28)\n",
      "Training set labels shape: (60000,)\n",
      "Test set images shape: (10000, 28, 28)\n",
      "Test set labels shape: (10000,)\n"
     ]
    }
   ],
   "source": [
    "print('Training set images shape: {}'.format(xtrain.shape))\n",
    "print('Training set labels shape: {}'.format(ytrain.shape))\n",
    "print('Test set images shape: {}'.format(xtest.shape))\n",
    "print('Test set labels shape: {}'.format(ytest.shape))\n"
   ]
  },
  {
   "cell_type": "code",
   "execution_count": 6,
   "id": "aac5de8f",
   "metadata": {},
   "outputs": [
    {
     "data": {
      "text/plain": [
       "<matplotlib.image.AxesImage at 0x1bdae39a250>"
      ]
     },
     "execution_count": 6,
     "metadata": {},
     "output_type": "execute_result"
    },
    {
     "data": {
      "image/png": "[encoded data removed]",
      "text/plain": [
       "<Figure size 640x480 with 1 Axes>"
      ]
     },
     "metadata": {},
     "output_type": "display_data"
    }
   ],
   "source": [
    "import matplotlib.pyplot as plt\n",
    "plt.imshow(xtrain[4])"
   ]
  },
  {
   "cell_type": "code",
   "execution_count": 7,
   "id": "9d254986",
   "metadata": {},
   "outputs": [
    {
     "data": {
      "text/plain": [
       "(28, 28)"
      ]
     },
     "execution_count": 7,
     "metadata": {},
     "output_type": "execute_result"
    }
   ],
   "source": [
    "xtrain[0].shape"
   ]
  },
  {
   "cell_type": "markdown",
   "id": "211472a1",
   "metadata": {},
   "source": [
    "# Data Pre-processing"
   ]
  },
  {
   "cell_type": "code",
   "execution_count": 8,
   "id": "ff8ee083",
   "metadata": {},
   "outputs": [
    {
     "name": "stdout",
     "output_type": "stream",
     "text": [
      "(60000, 28, 28, 1)\n",
      "(10000, 28, 28, 1)\n"
     ]
    }
   ],
   "source": [
    "#reshape data to fit model\n",
    "xtrain=xtrain.reshape(xtrain.shape[0],img_rows,img_cols,1)\n",
    "xtest=xtest.reshape(xtest.shape[0],img_rows,img_cols,1)\n",
    "print(xtrain.shape)\n",
    "print(xtest.shape)"
   ]
  },
  {
   "cell_type": "code",
   "execution_count": 9,
   "id": "ed0fa2f6",
   "metadata": {},
   "outputs": [],
   "source": [
    "xtrain=xtrain.astype('float32')\n",
    "xtest=xtest.astype('float32')"
   ]
  },
  {
   "cell_type": "code",
   "execution_count": 10,
   "id": "955e5a7b",
   "metadata": {},
   "outputs": [],
   "source": [
    "xtrain/=255\n",
    "xtest/=255"
   ]
  },
  {
   "cell_type": "code",
   "execution_count": 11,
   "id": "7f222b52",
   "metadata": {},
   "outputs": [
    {
     "name": "stdout",
     "output_type": "stream",
     "text": [
      "xtrain shape: (60000, 28, 28, 1)\n",
      "60000 train samples\n",
      "10000 test samples\n"
     ]
    }
   ],
   "source": [
    "print('xtrain shape:',xtrain.shape)\n",
    "print(xtrain.shape[0],'train samples')\n",
    "print(xtest.shape[0],'test samples')"
   ]
  },
  {
   "cell_type": "code",
   "execution_count": 12,
   "id": "f1232363",
   "metadata": {},
   "outputs": [],
   "source": [
    "#Convert class vectors to binary class matrices\n",
    "ytrain=keras.utils.to_categorical(ytrain)\n",
    "ytest=keras.utils.to_categorical(ytest)\n"
   ]
  },
  {
   "cell_type": "code",
   "execution_count": 13,
   "id": "78179167",
   "metadata": {},
   "outputs": [
    {
     "data": {
      "text/plain": [
       "array([0., 0., 0., 0., 0., 1., 0., 0., 0., 0.], dtype=float32)"
      ]
     },
     "execution_count": 13,
     "metadata": {},
     "output_type": "execute_result"
    }
   ],
   "source": [
    "ytrain[0]"
   ]
  },
  {
   "cell_type": "markdown",
   "id": "4561a995",
   "metadata": {},
   "source": [
    "# Build CNN model"
   ]
  },
  {
   "cell_type": "code",
   "execution_count": 14,
   "id": "d91e978d",
   "metadata": {},
   "outputs": [],
   "source": [
    "model=Sequential()\n",
    "#add model layers\n",
    "model.add(Conv2D(64,kernel_size=3,activation='relu',input_shape=(28,28,1)))\n",
    "model.add(Dropout(0.2))\n",
    "model.add(Conv2D(32,kernel_size=3,activation='relu'))\n",
    "model.add(MaxPool2D(pool_size=(2,2)))\n",
    "model.add(Flatten())\n",
    "#output layer\n",
    "model.add(Dense(10,activation='softmax'))"
   ]
  },
  {
   "cell_type": "code",
   "execution_count": 15,
   "id": "4676704f",
   "metadata": {},
   "outputs": [
    {
     "name": "stdout",
     "output_type": "stream",
     "text": [
      "Model: \"sequential\"\n",
      "_________________________________________________________________\n",
      " Layer (type)                Output Shape              Param #   \n",
      "=================================================================\n",
      " conv2d (Conv2D)             (None, 26, 26, 64)        640       \n",
      "                                                                 \n",
      " dropout (Dropout)           (None, 26, 26, 64)        0         \n",
      "                                                                 \n",
      " conv2d_1 (Conv2D)           (None, 24, 24, 32)        18464     \n",
      "                                                                 \n",
      " max_pooling2d (MaxPooling2  (None, 12, 12, 32)        0         \n",
      " D)                                                              \n",
      "                                                                 \n",
      " flatten (Flatten)           (None, 4608)              0         \n",
      "                                                                 \n",
      " dense (Dense)               (None, 10)                46090     \n",
      "                                                                 \n",
      "=================================================================\n",
      "Total params: 65194 (254.66 KB)\n",
      "Trainable params: 65194 (254.66 KB)\n",
      "Non-trainable params: 0 (0.00 Byte)\n",
      "_________________________________________________________________\n"
     ]
    }
   ],
   "source": [
    "model.summary()\n"
   ]
  },
  {
   "cell_type": "code",
   "execution_count": 16,
   "id": "319503f8",
   "metadata": {},
   "outputs": [],
   "source": [
    "#compile\n",
    "model.compile(optimizer=keras.optimizers.Adam(),loss=keras.losses.categorical_crossentropy,\n",
    " metrics=['accuracy'] )\n"
   ]
  },
  {
   "cell_type": "code",
   "execution_count": 17,
   "id": "c5e2cdd2",
   "metadata": {},
   "outputs": [
    {
     "name": "stdout",
     "output_type": "stream",
     "text": [
      "Epoch 1/5\n",
      "469/469 [==============================] - 129s 269ms/step - loss: 0.2464 - accuracy: 0.9277 - val_loss: 0.0821 - val_accuracy: 0.9754\n",
      "Epoch 2/5\n",
      "469/469 [==============================] - 138s 291ms/step - loss: 0.0706 - accuracy: 0.9794 - val_loss: 0.0528 - val_accuracy: 0.9838\n",
      "Epoch 3/5\n",
      "469/469 [==============================] - 141s 301ms/step - loss: 0.0512 - accuracy: 0.9842 - val_loss: 0.0537 - val_accuracy: 0.9827\n",
      "Epoch 4/5\n",
      "469/469 [==============================] - 140s 299ms/step - loss: 0.0413 - accuracy: 0.9873 - val_loss: 0.0449 - val_accuracy: 0.9851\n",
      "Epoch 5/5\n",
      "469/469 [==============================] - 140s 299ms/step - loss: 0.0349 - accuracy: 0.9890 - val_loss: 0.0410 - val_accuracy: 0.9870\n"
     ]
    }
   ],
   "source": [
    "result=model.fit(xtrain,ytrain,batch_size=batch_size,epochs=5,verbose=1,\n",
    " validation_data=(xtest,ytest))\n"
   ]
  },
  {
   "cell_type": "code",
   "execution_count": 18,
   "id": "ebe96704",
   "metadata": {},
   "outputs": [
    {
     "name": "stdout",
     "output_type": "stream",
     "text": [
      "Test Loss: 0.040976010262966156\n",
      "\n",
      "Test Accuracy: 0.9869999885559082\n"
     ]
    }
   ],
   "source": [
    "score=model.evaluate(xtest,ytest,verbose=0)\n",
    "print('Test Loss:',score[0])\n",
    "print()\n",
    "print('Test Accuracy:',score[1])"
   ]
  },
  {
   "cell_type": "code",
   "execution_count": 19,
   "id": "75f41e25",
   "metadata": {},
   "outputs": [
    {
     "data": {
      "text/plain": [
       "dict_keys(['loss', 'accuracy', 'val_loss', 'val_accuracy'])"
      ]
     },
     "execution_count": 19,
     "metadata": {},
     "output_type": "execute_result"
    }
   ],
   "source": [
    "result.history.keys()"
   ]
  },
  {
   "cell_type": "code",
   "execution_count": 20,
   "id": "f7960a46",
   "metadata": {},
   "outputs": [
    {
     "data": {
      "text/plain": [
       "<matplotlib.legend.Legend at 0x1bdc8c5f390>"
      ]
     },
     "execution_count": 20,
     "metadata": {},
     "output_type": "execute_result"
    },
    {
     "data": {
      "image/png": "[encoded data removed]",
      "text/plain": [
       "<Figure size 1600x500 with 2 Axes>"
      ]
     },
     "metadata": {},
     "output_type": "display_data"
    }
   ],
   "source": [
    "import matplotlib.pyplot as plt\n",
    "fig,(ax1,ax2)=plt.subplots(nrows=1,ncols=2,figsize=(16,5))\n",
    "#plot training & validation accuracy values\n",
    "ax1.plot(result.history['accuracy'])\n",
    "ax1.plot(result.history['val_accuracy'])\n",
    "ax1.set_title('Model Performance')\n",
    "ax1.set_ylabel('accuracy')\n",
    "ax1.set_xlabel('Epochs')\n",
    "ax1.legend(['Train','Test'])\n",
    "#plot training & validation loss values\n",
    "ax2.plot(result.history['loss'])\n",
    "ax2.plot(result.history['val_loss'])\n",
    "ax2.set_title('Model Loss')\n",
    "ax2.set_ylabel('Loss')\n",
    "ax2.set_xlabel('Epochs')\n",
    "ax2.legend(['Train','Test'])\n"
   ]
  },
  {
   "cell_type": "code",
   "execution_count": 21,
   "id": "8fbe2be7",
   "metadata": {},
   "outputs": [
    {
     "name": "stdout",
     "output_type": "stream",
     "text": [
      "1/1 [==============================] - 1s 620ms/step\n"
     ]
    },
    {
     "data": {
      "text/plain": [
       "array([[4.36579592e-12, 2.34728664e-12, 3.14176596e-08, 1.45613410e-06,\n",
       "        1.43977956e-13, 3.00611758e-11, 1.61000863e-17, 9.99998450e-01,\n",
       "        1.31556077e-09, 7.60230918e-08],\n",
       "       [1.47443115e-08, 4.41839887e-07, 9.99997377e-01, 1.16227152e-08,\n",
       "        8.92326469e-13, 1.24020266e-10, 2.02150500e-06, 2.55394427e-14,\n",
       "        1.17474187e-07, 1.23203019e-11],\n",
       "       [1.05366280e-06, 9.99064744e-01, 2.07208413e-05, 1.38249050e-06,\n",
       "        6.65947504e-04, 2.76735113e-06, 2.72937291e-06, 1.18804790e-04,\n",
       "        1.21719517e-04, 2.15527578e-07],\n",
       "       [9.99923229e-01, 1.29493703e-12, 6.26576957e-06, 9.23362364e-09,\n",
       "        2.86242940e-09, 8.95310777e-08, 7.03627738e-05, 1.70833192e-09,\n",
       "        4.42979378e-08, 1.07036948e-08]], dtype=float32)"
      ]
     },
     "execution_count": 21,
     "metadata": {},
     "output_type": "execute_result"
    }
   ],
   "source": [
    "ypred=model.predict(xtest[:4])\n",
    "ypred\n"
   ]
  },
  {
   "cell_type": "code",
   "execution_count": 22,
   "id": "8bb3e99f",
   "metadata": {},
   "outputs": [
    {
     "data": {
      "text/plain": [
       "array([[0., 0., 0., 0., 0., 0., 0., 1., 0., 0.],\n",
       "       [0., 0., 1., 0., 0., 0., 0., 0., 0., 0.],\n",
       "       [0., 1., 0., 0., 0., 0., 0., 0., 0., 0.],\n",
       "       [1., 0., 0., 0., 0., 0., 0., 0., 0., 0.]], dtype=float32)"
      ]
     },
     "execution_count": 22,
     "metadata": {},
     "output_type": "execute_result"
    }
   ],
   "source": [
    "ytest[:4]\n"
   ]
  },
  {
   "cell_type": "code",
   "execution_count": null,
   "id": "1a7cd053",
   "metadata": {},
   "outputs": [],
   "source": []
  }
 ],
 "metadata": {
  "kernelspec": {
   "display_name": "Python 3 (ipykernel)",
   "language": "python",
   "name": "python3"
  },
  "language_info": {
   "codemirror_mode": {
    "name": "ipython",
    "version": 3
   },
   "file_extension": ".py",
   "mimetype": "text/x-python",
   "name": "python",
   "nbconvert_exporter": "python",
   "pygments_lexer": "ipython3",
   "version": "3.11.4"
  }
 },
 "nbformat": 4,
 "nbformat_minor": 5
}
