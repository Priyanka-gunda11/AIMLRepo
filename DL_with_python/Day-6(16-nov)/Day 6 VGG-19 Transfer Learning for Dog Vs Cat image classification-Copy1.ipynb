{
 "cells": [
  {
   "cell_type": "markdown",
   "id": "01140451",
   "metadata": {},
   "source": [
    "# VGG-19 Transfer learning fot classification"
   ]
  },
  {
   "cell_type": "code",
   "execution_count": 2,
   "id": "4cabb88e",
   "metadata": {},
   "outputs": [],
   "source": [
    "#import libraries\n",
    "from keras.layers import Input,Lambda,Dense,Flatten\n",
    "from keras.models import Model\n",
    "from keras.applications.vgg19 import preprocess_input\n",
    "from keras.preprocessing import image\n",
    "from keras.preprocessing.image import ImageDataGenerator\n",
    "from keras.models import Sequential\n",
    "import numpy as np\n",
    "from glob import glob\n",
    "import matplotlib.pyplot as plt"
   ]
  },
  {
   "cell_type": "code",
   "execution_count": 3,
   "id": "8aa0857a",
   "metadata": {},
   "outputs": [],
   "source": [
    "#re-size all the images to this\n",
    "IMAGE_SIZE=[224,224]\n",
    "#Train data(images) path\n",
    "train_path='C:/Users/user/AIML/DL handson/cnn_data/train'\n",
    "#Test data(images) path\n",
    "valid_path='C:/Users/user/AIML/DL handson/cnn_data/test'"
   ]
  },
  {
   "cell_type": "markdown",
   "id": "617e8edd",
   "metadata": {},
   "source": [
    "# Add preprocessing layer to the front of VGG-19"
   ]
  },
  {
   "cell_type": "code",
   "execution_count": 4,
   "id": "b9ad1ef4",
   "metadata": {},
   "outputs": [],
   "source": [
    "from tensorflow.keras.applications import VGG19\n",
    "\n",
    "vgg19_base = VGG19(weights='imagenet', include_top=False, input_shape=(224, 224, 3))\n",
    "\n",
    "# Freeze the layers\n",
    "for layer in vgg19_base.layers:\n",
    "    layer.trainable = False\n",
    "from tensorflow.keras.applications import VGG19\n"
   ]
  },
  {
   "cell_type": "code",
   "execution_count": 5,
   "id": "26c68504",
   "metadata": {},
   "outputs": [],
   "source": [
    "#Getting number of classes\n",
    "folders=glob('C:/Users/user/AIML/DL handson/cnn_data/train/*')"
   ]
  },
  {
   "cell_type": "code",
   "execution_count": 6,
   "id": "f7b6a16a",
   "metadata": {},
   "outputs": [
    {
     "data": {
      "text/plain": [
       "['C:/Users/user/AIML/DL handson/cnn_data/train\\\\cat',\n",
       " 'C:/Users/user/AIML/DL handson/cnn_data/train\\\\dog']"
      ]
     },
     "execution_count": 6,
     "metadata": {},
     "output_type": "execute_result"
    }
   ],
   "source": [
    "folders"
   ]
  },
  {
   "cell_type": "code",
   "execution_count": 7,
   "id": "32ebd754",
   "metadata": {},
   "outputs": [
    {
     "data": {
      "text/plain": [
       "2"
      ]
     },
     "execution_count": 7,
     "metadata": {},
     "output_type": "execute_result"
    }
   ],
   "source": [
    "len(folders)"
   ]
  },
  {
   "cell_type": "code",
   "execution_count": 8,
   "id": "9fc2b064",
   "metadata": {},
   "outputs": [],
   "source": [
    "#Our layers - you can add more layer if you want\n",
    "x=Flatten()(vgg19_base.output)\n",
    "#Defined the output layer\n",
    "prediction=Dense(len(folders),activation='softmax')(x)"
   ]
  },
  {
   "cell_type": "markdown",
   "id": "0ff39fe6",
   "metadata": {},
   "source": [
    "# create a model object"
   ]
  },
  {
   "cell_type": "code",
   "execution_count": 9,
   "id": "1a9a7f60",
   "metadata": {},
   "outputs": [
    {
     "name": "stdout",
     "output_type": "stream",
     "text": [
      "Model: \"model\"\n",
      "_________________________________________________________________\n",
      " Layer (type)                Output Shape              Param #   \n",
      "=================================================================\n",
      " input_1 (InputLayer)        [(None, 224, 224, 3)]     0         \n",
      "                                                                 \n",
      " block1_conv1 (Conv2D)       (None, 224, 224, 64)      1792      \n",
      "                                                                 \n",
      " block1_conv2 (Conv2D)       (None, 224, 224, 64)      36928     \n",
      "                                                                 \n",
      " block1_pool (MaxPooling2D)  (None, 112, 112, 64)      0         \n",
      "                                                                 \n",
      " block2_conv1 (Conv2D)       (None, 112, 112, 128)     73856     \n",
      "                                                                 \n",
      " block2_conv2 (Conv2D)       (None, 112, 112, 128)     147584    \n",
      "                                                                 \n",
      " block2_pool (MaxPooling2D)  (None, 56, 56, 128)       0         \n",
      "                                                                 \n",
      " block3_conv1 (Conv2D)       (None, 56, 56, 256)       295168    \n",
      "                                                                 \n",
      " block3_conv2 (Conv2D)       (None, 56, 56, 256)       590080    \n",
      "                                                                 \n",
      " block3_conv3 (Conv2D)       (None, 56, 56, 256)       590080    \n",
      "                                                                 \n",
      " block3_conv4 (Conv2D)       (None, 56, 56, 256)       590080    \n",
      "                                                                 \n",
      " block3_pool (MaxPooling2D)  (None, 28, 28, 256)       0         \n",
      "                                                                 \n",
      " block4_conv1 (Conv2D)       (None, 28, 28, 512)       1180160   \n",
      "                                                                 \n",
      " block4_conv2 (Conv2D)       (None, 28, 28, 512)       2359808   \n",
      "                                                                 \n",
      " block4_conv3 (Conv2D)       (None, 28, 28, 512)       2359808   \n",
      "                                                                 \n",
      " block4_conv4 (Conv2D)       (None, 28, 28, 512)       2359808   \n",
      "                                                                 \n",
      " block4_pool (MaxPooling2D)  (None, 14, 14, 512)       0         \n",
      "                                                                 \n",
      " block5_conv1 (Conv2D)       (None, 14, 14, 512)       2359808   \n",
      "                                                                 \n",
      " block5_conv2 (Conv2D)       (None, 14, 14, 512)       2359808   \n",
      "                                                                 \n",
      " block5_conv3 (Conv2D)       (None, 14, 14, 512)       2359808   \n",
      "                                                                 \n",
      " block5_conv4 (Conv2D)       (None, 14, 14, 512)       2359808   \n",
      "                                                                 \n",
      " block5_pool (MaxPooling2D)  (None, 7, 7, 512)         0         \n",
      "                                                                 \n",
      " flatten (Flatten)           (None, 25088)             0         \n",
      "                                                                 \n",
      " dense (Dense)               (None, 2)                 50178     \n",
      "                                                                 \n",
      "=================================================================\n",
      "Total params: 20074562 (76.58 MB)\n",
      "Trainable params: 50178 (196.01 KB)\n",
      "Non-trainable params: 20024384 (76.39 MB)\n",
      "_________________________________________________________________\n",
      "None\n"
     ]
    }
   ],
   "source": [
    "model=Model(inputs=vgg19_base.input,outputs=prediction)\n",
    "print(model.summary())\n"
   ]
  },
  {
   "cell_type": "code",
   "execution_count": 10,
   "id": "4b8a4c8e",
   "metadata": {},
   "outputs": [],
   "source": [
    "#Tell the model -What cost & optimization method to use\n",
    "model.compile(loss='categorical_crossentropy',optimizer='adam',metrics=['accuracy'])\n"
   ]
  },
  {
   "cell_type": "code",
   "execution_count": 11,
   "id": "44762097",
   "metadata": {},
   "outputs": [
    {
     "name": "stdout",
     "output_type": "stream",
     "text": [
      "Training length:\n",
      "\n",
      "Found 700 images belonging to 2 classes.\n",
      "====================================================================================================\n",
      "Test length:\n",
      "\n",
      "Found 100 images belonging to 2 classes.\n"
     ]
    }
   ],
   "source": [
    "#to perform image augmentation\n",
    "from keras.preprocessing.image import ImageDataGenerator\n",
    "\n",
    "train_datagen=ImageDataGenerator(rescale=1./255,\n",
    "                                 shear_range=0.2,\n",
    "                                 zoom_range=0.2,\n",
    "                                 horizontal_flip=True,\n",
    "                                 fill_mode='nearest')\n",
    "test_datagen=ImageDataGenerator(rescale=1./255)\n",
    "\n",
    "#Training set\n",
    "print('Training length:\\n')\n",
    "training_set=train_datagen.flow_from_directory('C:/Users/user/AIML/DL handson/cnn_data/train',\n",
    "                                               target_size=(224,224),\n",
    "                                               batch_size=32,\n",
    "                                               class_mode='categorical')\n",
    "print('='*100)\n",
    "\n",
    "#Testing set\n",
    "print('Test length:\\n')\n",
    "test_set=test_datagen.flow_from_directory('C:/Users/user/AIML/DL handson/cnn_data/test',\n",
    "                                          target_size=(224,224),\n",
    "                                          batch_size=32,\n",
    "                                          class_mode='categorical')"
   ]
  },
  {
   "cell_type": "markdown",
   "id": "75d9d018",
   "metadata": {},
   "source": [
    "# Train the model"
   ]
  },
  {
   "cell_type": "code",
   "execution_count": null,
   "id": "f5221f80",
   "metadata": {},
   "outputs": [
    {
     "name": "stdout",
     "output_type": "stream",
     "text": [
      "Epoch 1/30\n",
      "22/22 [==============================] - 363s 17s/step - loss: 1.0646 - accuracy: 0.5957 - val_loss: 0.4475 - val_accuracy: 0.7900\n",
      "Epoch 2/30\n",
      "22/22 [==============================] - 398s 18s/step - loss: 0.3280 - accuracy: 0.8629 - val_loss: 0.3141 - val_accuracy: 0.8800\n",
      "Epoch 3/30\n",
      "22/22 [==============================] - 399s 18s/step - loss: 0.2399 - accuracy: 0.8971 - val_loss: 0.3027 - val_accuracy: 0.8700\n",
      "Epoch 4/30\n",
      "22/22 [==============================] - 400s 18s/step - loss: 0.1954 - accuracy: 0.9271 - val_loss: 0.3040 - val_accuracy: 0.8700\n",
      "Epoch 5/30\n",
      "22/22 [==============================] - 405s 18s/step - loss: 0.1633 - accuracy: 0.9500 - val_loss: 0.3344 - val_accuracy: 0.8700\n",
      "Epoch 6/30\n",
      "22/22 [==============================] - 407s 19s/step - loss: 0.1704 - accuracy: 0.9329 - val_loss: 0.3711 - val_accuracy: 0.8600\n",
      "Epoch 7/30\n",
      "22/22 [==============================] - 405s 18s/step - loss: 0.1369 - accuracy: 0.9529 - val_loss: 0.2937 - val_accuracy: 0.8800\n",
      "Epoch 8/30\n",
      "22/22 [==============================] - 407s 19s/step - loss: 0.1137 - accuracy: 0.9671 - val_loss: 0.3061 - val_accuracy: 0.8800\n",
      "Epoch 9/30\n",
      "22/22 [==============================] - 404s 18s/step - loss: 0.1040 - accuracy: 0.9771 - val_loss: 0.3351 - val_accuracy: 0.8700\n",
      "Epoch 10/30\n",
      "22/22 [==============================] - 408s 19s/step - loss: 0.1012 - accuracy: 0.9743 - val_loss: 0.3183 - val_accuracy: 0.8800\n",
      "Epoch 11/30\n",
      "22/22 [==============================] - 398s 18s/step - loss: 0.0918 - accuracy: 0.9829 - val_loss: 0.3017 - val_accuracy: 0.8800\n",
      "Epoch 12/30\n",
      "22/22 [==============================] - 399s 18s/step - loss: 0.0780 - accuracy: 0.9829 - val_loss: 0.3812 - val_accuracy: 0.8700\n",
      "Epoch 13/30\n",
      "22/22 [==============================] - 398s 18s/step - loss: 0.0666 - accuracy: 0.9914 - val_loss: 0.3634 - val_accuracy: 0.8800\n",
      "Epoch 14/30\n",
      "22/22 [==============================] - 398s 18s/step - loss: 0.0794 - accuracy: 0.9757 - val_loss: 0.3726 - val_accuracy: 0.8700\n",
      "Epoch 15/30\n",
      "22/22 [==============================] - 400s 18s/step - loss: 0.0655 - accuracy: 0.9871 - val_loss: 0.3366 - val_accuracy: 0.8800\n",
      "Epoch 16/30\n",
      "22/22 [==============================] - 408s 19s/step - loss: 0.0557 - accuracy: 0.9929 - val_loss: 0.3436 - val_accuracy: 0.8700\n",
      "Epoch 17/30\n",
      "22/22 [==============================] - 368s 17s/step - loss: 0.0505 - accuracy: 0.9914 - val_loss: 0.3210 - val_accuracy: 0.8800\n",
      "Epoch 18/30\n",
      "22/22 [==============================] - 393s 18s/step - loss: 0.0548 - accuracy: 0.9929 - val_loss: 0.3117 - val_accuracy: 0.8600\n",
      "Epoch 19/30\n",
      "22/22 [==============================] - 398s 18s/step - loss: 0.0424 - accuracy: 0.9986 - val_loss: 0.3157 - val_accuracy: 0.8800\n",
      "Epoch 20/30\n",
      "22/22 [==============================] - 376s 17s/step - loss: 0.0444 - accuracy: 0.9957 - val_loss: 0.3460 - val_accuracy: 0.8600\n",
      "Epoch 21/30\n",
      "22/22 [==============================] - 346s 16s/step - loss: 0.0454 - accuracy: 0.9929 - val_loss: 0.3742 - val_accuracy: 0.8700\n",
      "Epoch 22/30\n",
      "22/22 [==============================] - 345s 16s/step - loss: 0.0457 - accuracy: 0.9929 - val_loss: 0.3467 - val_accuracy: 0.8800\n",
      "Epoch 23/30\n",
      "22/22 [==============================] - 346s 16s/step - loss: 0.0392 - accuracy: 0.9943 - val_loss: 0.3476 - val_accuracy: 0.8700\n",
      "Epoch 24/30\n",
      "22/22 [==============================] - 346s 16s/step - loss: 0.0424 - accuracy: 0.9929 - val_loss: 0.3552 - val_accuracy: 0.8700\n",
      "Epoch 25/30\n",
      "22/22 [==============================] - 346s 16s/step - loss: 0.0320 - accuracy: 0.9986 - val_loss: 0.4160 - val_accuracy: 0.8600\n",
      "Epoch 26/30\n",
      "22/22 [==============================] - 346s 16s/step - loss: 0.0356 - accuracy: 0.9943 - val_loss: 0.4047 - val_accuracy: 0.8600\n",
      "Epoch 27/30\n",
      " 3/22 [===>..........................] - ETA: 4:25 - loss: 0.0319 - accuracy: 1.0000"
     ]
    }
   ],
   "source": [
    "r=model.fit(training_set,\n",
    "            validation_data=test_set,\n",
    "            epochs=30,\n",
    "            steps_per_epoch=len(training_set),\n",
    "            validation_steps=len(test_set))"
   ]
  },
  {
   "cell_type": "code",
   "execution_count": 12,
   "id": "b42e51e7",
   "metadata": {},
   "outputs": [
    {
     "ename": "NameError",
     "evalue": "name 'r' is not defined",
     "output_type": "error",
     "traceback": [
      "\u001b[1;31m---------------------------------------------------------------------------\u001b[0m",
      "\u001b[1;31mNameError\u001b[0m                                 Traceback (most recent call last)",
      "Cell \u001b[1;32mIn[12], line 3\u001b[0m\n\u001b[0;32m      1\u001b[0m \u001b[38;5;66;03m#loss\u001b[39;00m\n\u001b[0;32m      2\u001b[0m plt\u001b[38;5;241m.\u001b[39mtitle(\u001b[38;5;124m'\u001b[39m\u001b[38;5;124mvgg19_base-Train & Test Loss\u001b[39m\u001b[38;5;124m'\u001b[39m)\n\u001b[1;32m----> 3\u001b[0m plt\u001b[38;5;241m.\u001b[39mplot(r\u001b[38;5;241m.\u001b[39mhistory[\u001b[38;5;124m'\u001b[39m\u001b[38;5;124mloss\u001b[39m\u001b[38;5;124m'\u001b[39m],label\u001b[38;5;241m=\u001b[39m\u001b[38;5;124m'\u001b[39m\u001b[38;5;124mtrain_loss\u001b[39m\u001b[38;5;124m'\u001b[39m)\n\u001b[0;32m      4\u001b[0m plt\u001b[38;5;241m.\u001b[39mplot(r\u001b[38;5;241m.\u001b[39mhistory[\u001b[38;5;124m'\u001b[39m\u001b[38;5;124mval_loss\u001b[39m\u001b[38;5;124m'\u001b[39m],label\u001b[38;5;241m=\u001b[39m\u001b[38;5;124m'\u001b[39m\u001b[38;5;124mval_loss\u001b[39m\u001b[38;5;124m'\u001b[39m)\n\u001b[0;32m      5\u001b[0m plt\u001b[38;5;241m.\u001b[39mxlabel(\u001b[38;5;124m'\u001b[39m\u001b[38;5;124mEpochs\u001b[39m\u001b[38;5;124m'\u001b[39m)\n",
      "\u001b[1;31mNameError\u001b[0m: name 'r' is not defined"
     ]
    },
    {
     "data": {
      "image/png": "[encoded data removed]",
      "text/plain": [
       "<Figure size 640x480 with 1 Axes>"
      ]
     },
     "metadata": {},
     "output_type": "display_data"
    }
   ],
   "source": [
    "#loss\n",
    "plt.title('vgg19_base-Train & Test Loss')\n",
    "plt.plot(r.history['loss'],label='train_loss')\n",
    "plt.plot(r.history['val_loss'],label='val_loss')\n",
    "plt.xlabel('Epochs')\n",
    "plt.ylabel('Train-Test- Loss')\n",
    "plt.grid()\n",
    "plt.legend()\n",
    "plt.show()\n",
    "plt.savefig('vgg16_base--Loss & Val_loss')"
   ]
  },
  {
   "cell_type": "code",
   "execution_count": 14,
   "id": "8483ff62",
   "metadata": {},
   "outputs": [
    {
     "data": {
      "image/png": "[encoded data removed]",
      "text/plain": [
       "<Figure size 640x480 with 1 Axes>"
      ]
     },
     "metadata": {},
     "output_type": "display_data"
    },
    {
     "data": {
      "text/plain": [
       "<Figure size 640x480 with 0 Axes>"
      ]
     },
     "metadata": {},
     "output_type": "display_data"
    }
   ],
   "source": [
    "#Accuracy\n",
    "plt.title('vgg16_base-Train & Test Accuracy')\n",
    "plt.plot(r.history['accuracy'],label='train_accuracy')\n",
    "plt.plot(r.history['val_accuracy'],label='val_accuracy')\n",
    "plt.xlabel('Epochs')\n",
    "plt.ylabel('Train-Test- Accuracy')\n",
    "plt.grid()\n",
    "plt.legend()\n",
    "plt.show()\n",
    "plt.savefig('vgg16_base--Accuracy & Val_accuracy')\n"
   ]
  },
  {
   "cell_type": "code",
   "execution_count": 15,
   "id": "78a5389a",
   "metadata": {},
   "outputs": [
    {
     "name": "stderr",
     "output_type": "stream",
     "text": [
      "C:\\ProgramData\\anaconda3-1\\Lib\\site-packages\\keras\\src\\engine\\training.py:3079: UserWarning: You are saving your model as an HDF5 file via `model.save()`. This file format is considered legacy. We recommend using instead the native Keras format, e.g. `model.save('my_model.keras')`.\n",
      "  saving_api.save_model(\n"
     ]
    }
   ],
   "source": [
    "import tensorflow as tf\n",
    "from keras.models import load_model\n",
    "model.save('vgg16_base_dog_cat_classify.h5')"
   ]
  },
  {
   "cell_type": "code",
   "execution_count": 16,
   "id": "bb50c476",
   "metadata": {},
   "outputs": [],
   "source": [
    "model.save('vgg16_base_dog_cat_classify.keras')"
   ]
  },
  {
   "cell_type": "code",
   "execution_count": 17,
   "id": "02671a84",
   "metadata": {},
   "outputs": [
    {
     "name": "stdout",
     "output_type": "stream",
     "text": [
      "Model: \"model\"\n",
      "_________________________________________________________________\n",
      " Layer (type)                Output Shape              Param #   \n",
      "=================================================================\n",
      " input_1 (InputLayer)        [(None, 224, 224, 3)]     0         \n",
      "                                                                 \n",
      " block1_conv1 (Conv2D)       (None, 224, 224, 64)      1792      \n",
      "                                                                 \n",
      " block1_conv2 (Conv2D)       (None, 224, 224, 64)      36928     \n",
      "                                                                 \n",
      " block1_pool (MaxPooling2D)  (None, 112, 112, 64)      0         \n",
      "                                                                 \n",
      " block2_conv1 (Conv2D)       (None, 112, 112, 128)     73856     \n",
      "                                                                 \n",
      " block2_conv2 (Conv2D)       (None, 112, 112, 128)     147584    \n",
      "                                                                 \n",
      " block2_pool (MaxPooling2D)  (None, 56, 56, 128)       0         \n",
      "                                                                 \n",
      " block3_conv1 (Conv2D)       (None, 56, 56, 256)       295168    \n",
      "                                                                 \n",
      " block3_conv2 (Conv2D)       (None, 56, 56, 256)       590080    \n",
      "                                                                 \n",
      " block3_conv3 (Conv2D)       (None, 56, 56, 256)       590080    \n",
      "                                                                 \n",
      " block3_pool (MaxPooling2D)  (None, 28, 28, 256)       0         \n",
      "                                                                 \n",
      " block4_conv1 (Conv2D)       (None, 28, 28, 512)       1180160   \n",
      "                                                                 \n",
      " block4_conv2 (Conv2D)       (None, 28, 28, 512)       2359808   \n",
      "                                                                 \n",
      " block4_conv3 (Conv2D)       (None, 28, 28, 512)       2359808   \n",
      "                                                                 \n",
      " block4_pool (MaxPooling2D)  (None, 14, 14, 512)       0         \n",
      "                                                                 \n",
      " block5_conv1 (Conv2D)       (None, 14, 14, 512)       2359808   \n",
      "                                                                 \n",
      " block5_conv2 (Conv2D)       (None, 14, 14, 512)       2359808   \n",
      "                                                                 \n",
      " block5_conv3 (Conv2D)       (None, 14, 14, 512)       2359808   \n",
      "                                                                 \n",
      " block5_pool (MaxPooling2D)  (None, 7, 7, 512)         0         \n",
      "                                                                 \n",
      " flatten (Flatten)           (None, 25088)             0         \n",
      "                                                                 \n",
      " dense (Dense)               (None, 2)                 50178     \n",
      "                                                                 \n",
      "=================================================================\n",
      "Total params: 14764866 (56.32 MB)\n",
      "Trainable params: 50178 (196.01 KB)\n",
      "Non-trainable params: 14714688 (56.13 MB)\n",
      "_________________________________________________________________\n"
     ]
    }
   ],
   "source": [
    "model.summary()"
   ]
  },
  {
   "cell_type": "code",
   "execution_count": 18,
   "id": "bbe5fda8",
   "metadata": {},
   "outputs": [
    {
     "name": "stdout",
     "output_type": "stream",
     "text": [
      "4/4 [==============================] - 30s 7s/step\n",
      "Confusion Matrix\n",
      "[[19 31]\n",
      " [27 23]]\n",
      "====================================================================================================\n",
      "Classification Report\n",
      "              precision    recall  f1-score   support\n",
      "\n",
      "         cat       0.41      0.38      0.40        50\n",
      "         dog       0.43      0.46      0.44        50\n",
      "\n",
      "    accuracy                           0.42       100\n",
      "   macro avg       0.42      0.42      0.42       100\n",
      "weighted avg       0.42      0.42      0.42       100\n",
      "\n",
      "====================================================================================================\n",
      "Accuracy Score\n",
      "0.42\n"
     ]
    }
   ],
   "source": [
    "#Confusion Matrix & Classification report\n",
    "from sklearn.metrics import confusion_matrix,classification_report,accuracy_score\n",
    "ypred=model.predict(test_set,100//5)\n",
    "ypred=np.argmax(ypred,axis=1)\n",
    "print('Confusion Matrix')\n",
    "print(confusion_matrix(test_set.classes,ypred))\n",
    "print('='*100)\n",
    "print('Classification Report')\n",
    "print(classification_report(test_set.classes,ypred,target_names=['cat','dog']))\n",
    "print('='*100)\n",
    "print('Accuracy Score')\n",
    "print(accuracy_score(test_set.classes,ypred))\n"
   ]
  },
  {
   "cell_type": "code",
   "execution_count": 20,
   "id": "0d922da5",
   "metadata": {},
   "outputs": [
    {
     "data": {
      "text/plain": [
       "<Axes: >"
      ]
     },
     "execution_count": 20,
     "metadata": {},
     "output_type": "execute_result"
    },
    {
     "data": {
      "image/png": "[encoded data removed]",
      "text/plain": [
       "<Figure size 640x480 with 2 Axes>"
      ]
     },
     "metadata": {},
     "output_type": "display_data"
    }
   ],
   "source": [
    "import seaborn as sns\n",
    "sns.heatmap(confusion_matrix(test_set.classes,ypred),annot=True,xticklabels=['cat','dog'],\n",
    "            yticklabels=['cat','dog'])"
   ]
  },
  {
   "cell_type": "code",
   "execution_count": null,
   "id": "298e0874",
   "metadata": {},
   "outputs": [],
   "source": []
  }
 ],
 "metadata": {
  "kernelspec": {
   "display_name": "Python 3 (ipykernel)",
   "language": "python",
   "name": "python3"
  },
  "language_info": {
   "codemirror_mode": {
    "name": "ipython",
    "version": 3
   },
   "file_extension": ".py",
   "mimetype": "text/x-python",
   "name": "python",
   "nbconvert_exporter": "python",
   "pygments_lexer": "ipython3",
   "version": "3.11.4"
  }
 },
 "nbformat": 4,
 "nbformat_minor": 5
}
