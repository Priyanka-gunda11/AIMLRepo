{
 "cells": [
  {
   "cell_type": "markdown",
   "id": "42b06e57",
   "metadata": {},
   "source": [
    "# Single-Layer Perceptron"
   ]
  },
  {
   "cell_type": "code",
   "execution_count": 1,
   "id": "a601df06",
   "metadata": {},
   "outputs": [],
   "source": [
    "from IPython.display import Image\n",
    "%matplotlib inline"
   ]
  },
  {
   "cell_type": "code",
   "execution_count": 2,
   "id": "95df77fd",
   "metadata": {},
   "outputs": [],
   "source": [
    "from numpy import exp\n",
    "from numpy import array\n",
    "from numpy import random,dot\n"
   ]
  },
  {
   "cell_type": "code",
   "execution_count": 7,
   "id": "63bc1db4",
   "metadata": {},
   "outputs": [],
   "source": [
    "import random\n",
    "from numpy import dot, exp, random\n",
    "\n",
    "class NeuralNetwork():\n",
    "    def __init__(self):\n",
    "        # seed the random number generator, so it generates the same numbers\n",
    "        # every time the program runs\n",
    "        random.seed(2)\n",
    "        # we model a single neuron with 3 input and 1 output connection\n",
    "        # we assign random weights to a 3*1 matrix with values in the range\n",
    "        self.synaptic_weights = 2 * random.random((3, 1)) - 1\n",
    "\n",
    "    # Create a sigmoid activation function\n",
    "    def __sigmoid(self, x):\n",
    "        return 1 / (1 + exp(-x))\n",
    "\n",
    "    def __sigmoid_derivative(self, x):\n",
    "        return x * (1 - x)\n",
    "\n",
    "    def think(self, inputs):\n",
    "        return self.__sigmoid(dot(inputs, self.synaptic_weights))\n",
    "\n",
    "    def train(self, training_set_inputs, training_set_outputs, number_of_training_iterations):\n",
    "        for iteration in range(number_of_training_iterations):\n",
    "            # forward pass\n",
    "            output = self.think(training_set_inputs)\n",
    "            \n",
    "            # calculate error\n",
    "            error = training_set_outputs - output\n",
    "            \n",
    "            # calculate adjustment\n",
    "            adjustment = dot(training_set_inputs.T, error * self.__sigmoid_derivative(output))\n",
    "\n",
    "            # adjust weights\n",
    "            self.synaptic_weights += adjustment\n",
    "\n"
   ]
  },
  {
   "cell_type": "code",
   "execution_count": 8,
   "id": "63ba7a5b",
   "metadata": {},
   "outputs": [
    {
     "name": "stdout",
     "output_type": "stream",
     "text": [
      "Random starting weights:\n",
      "\n",
      "[[-0.1280102 ]\n",
      " [-0.94814754]\n",
      " [ 0.09932496]]\n"
     ]
    }
   ],
   "source": [
    "if __name__=='__main__':\n",
    " \n",
    "    # Initialize a single neuron neural networks\n",
    "    neural_network=NeuralNetwork()\n",
    "    print('Random starting weights:\\n')\n",
    "    print(neural_network.synaptic_weights)\n",
    " \n",
    "    training_set_inputs=array([[0,0,1],[1,1,1],[1,0,1],[0,1,1]])\n",
    "    training_set_outputs=array([[0,1,1,0]])"
   ]
  },
  {
   "cell_type": "markdown",
   "id": "c654410b",
   "metadata": {},
   "source": [
    "Train the Neural Network"
   ]
  },
  {
   "cell_type": "code",
   "execution_count": 13,
   "id": "cec5b5e2",
   "metadata": {},
   "outputs": [
    {
     "name": "stdout",
     "output_type": "stream",
     "text": [
      "Considering new situation: [1 0 0]\n",
      "New output: [0.99996896]\n"
     ]
    }
   ],
   "source": [
    "# Train the neural network\n",
    "neural_network.train(training_set_inputs, training_set_outputs, 10000)\n",
    "\n",
    "# Test the neural network\n",
    "test_input = array([1, 0, 0])\n",
    "print(\"Considering new situation:\", test_input)\n",
    "print(\"New output:\", neural_network.think(test_input))\n"
   ]
  },
  {
   "cell_type": "markdown",
   "id": "b9826639",
   "metadata": {},
   "source": [
    "# Implement a multilayer perceptron"
   ]
  },
  {
   "cell_type": "code",
   "execution_count": 15,
   "id": "f0089ac3",
   "metadata": {},
   "outputs": [
    {
     "name": "stdout",
     "output_type": "stream",
     "text": [
      "Considering new situation: [1 0 0]\n",
      "New output: [0.99537056]\n"
     ]
    }
   ],
   "source": [
    "import numpy as np\n",
    "\n",
    "class NeuralNetwork:\n",
    "    def __init__(self, input_size, hidden_size, output_size):\n",
    "        np.random.seed(2)\n",
    "        self.input_size = input_size\n",
    "        self.hidden_size = hidden_size\n",
    "        self.output_size = output_size\n",
    "\n",
    "        # Initialize weights for input to hidden layer and hidden to output layer\n",
    "        self.synaptic_weights_input_hidden = 2 * np.random.rand(input_size, hidden_size) - 1\n",
    "        self.synaptic_weights_hidden_output = 2 * np.random.rand(hidden_size, output_size) - 1\n",
    "\n",
    "    def __sigmoid(self, x):\n",
    "        return 1 / (1 + np.exp(-x))\n",
    "\n",
    "    def __sigmoid_derivative(self, x):\n",
    "        return x * (1 - x)\n",
    "\n",
    "    def think(self, inputs):\n",
    "        # Feedforward through layers\n",
    "        hidden_layer_activation = self.__sigmoid(np.dot(inputs, self.synaptic_weights_input_hidden))\n",
    "        output_layer_activation = self.__sigmoid(np.dot(hidden_layer_activation, self.synaptic_weights_hidden_output))\n",
    "        return output_layer_activation\n",
    "\n",
    "    def train(self, training_set_inputs, training_set_outputs, number_of_training_iterations):\n",
    "        for iteration in range(number_of_training_iterations):\n",
    "            # Feedforward\n",
    "            hidden_layer_activation = self.__sigmoid(np.dot(training_set_inputs, self.synaptic_weights_input_hidden))\n",
    "            output_layer_activation = self.__sigmoid(np.dot(hidden_layer_activation, self.synaptic_weights_hidden_output))\n",
    "\n",
    "            # Calculate errors\n",
    "            output_error = training_set_outputs - output_layer_activation\n",
    "            hidden_layer_error = output_error.dot(self.synaptic_weights_hidden_output.T)\n",
    "\n",
    "            # Backpropagation and adjustment\n",
    "            output_delta = output_error * self.__sigmoid_derivative(output_layer_activation)\n",
    "            hidden_layer_delta = hidden_layer_error * self.__sigmoid_derivative(hidden_layer_activation)\n",
    "\n",
    "            self.synaptic_weights_hidden_output += hidden_layer_activation.T.dot(output_delta)\n",
    "            self.synaptic_weights_input_hidden += training_set_inputs.T.dot(hidden_layer_delta)\n",
    "\n",
    "# Example usage:\n",
    "input_size = 3\n",
    "hidden_size = 4\n",
    "output_size = 1\n",
    "\n",
    "neural_network = NeuralNetwork(input_size, hidden_size, output_size)\n",
    "\n",
    "# Training data\n",
    "training_set_inputs = np.array([[0, 0, 1], [1, 1, 1], [1, 0, 1], [0, 1, 1]])\n",
    "training_set_outputs = np.array([[0], [1], [1], [0]])\n",
    "\n",
    "# Train the neural network\n",
    "neural_network.train(training_set_inputs, training_set_outputs, 10000)\n",
    "\n",
    "# Test the neural network\n",
    "test_input = np.array([1, 0, 0])\n",
    "print(\"Considering new situation:\", test_input)\n",
    "print(\"New output:\", neural_network.think(test_input))\n"
   ]
  },
  {
   "cell_type": "code",
   "execution_count": null,
   "id": "be387685",
   "metadata": {},
   "outputs": [],
   "source": []
  }
 ],
 "metadata": {
  "kernelspec": {
   "display_name": "Python 3 (ipykernel)",
   "language": "python",
   "name": "python3"
  },
  "language_info": {
   "codemirror_mode": {
    "name": "ipython",
    "version": 3
   },
   "file_extension": ".py",
   "mimetype": "text/x-python",
   "name": "python",
   "nbconvert_exporter": "python",
   "pygments_lexer": "ipython3",
   "version": "3.11.4"
  }
 },
 "nbformat": 4,
 "nbformat_minor": 5
}
