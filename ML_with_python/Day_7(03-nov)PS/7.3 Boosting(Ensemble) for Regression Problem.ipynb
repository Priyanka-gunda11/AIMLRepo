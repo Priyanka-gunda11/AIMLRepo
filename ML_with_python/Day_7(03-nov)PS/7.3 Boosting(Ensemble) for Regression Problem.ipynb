{
 "cells": [
  {
   "cell_type": "code",
   "execution_count": 1,
   "id": "537cd88d",
   "metadata": {},
   "outputs": [],
   "source": [
    "import numpy as np\n",
    "import pandas as pd\n",
    "import matplotlib.pyplot as plt\n",
    "import seaborn as sns"
   ]
  },
  {
   "cell_type": "code",
   "execution_count": 8,
   "id": "4618a825",
   "metadata": {},
   "outputs": [
    {
     "data": {
      "text/html": [
       "<div>\n",
       "<style scoped>\n",
       "    .dataframe tbody tr th:only-of-type {\n",
       "        vertical-align: middle;\n",
       "    }\n",
       "\n",
       "    .dataframe tbody tr th {\n",
       "        vertical-align: top;\n",
       "    }\n",
       "\n",
       "    .dataframe thead th {\n",
       "        text-align: right;\n",
       "    }\n",
       "</style>\n",
       "<table border=\"1\" class=\"dataframe\">\n",
       "  <thead>\n",
       "    <tr style=\"text-align: right;\">\n",
       "      <th></th>\n",
       "      <th>person_age</th>\n",
       "      <th>person_income</th>\n",
       "      <th>loan_amnt</th>\n",
       "      <th>loan_status</th>\n",
       "      <th>cb_person_default_on_file</th>\n",
       "    </tr>\n",
       "  </thead>\n",
       "  <tbody>\n",
       "    <tr>\n",
       "      <th>0</th>\n",
       "      <td>22</td>\n",
       "      <td>59000</td>\n",
       "      <td>35000</td>\n",
       "      <td>1</td>\n",
       "      <td>Y</td>\n",
       "    </tr>\n",
       "    <tr>\n",
       "      <th>1</th>\n",
       "      <td>21</td>\n",
       "      <td>9600</td>\n",
       "      <td>1000</td>\n",
       "      <td>0</td>\n",
       "      <td>N</td>\n",
       "    </tr>\n",
       "    <tr>\n",
       "      <th>2</th>\n",
       "      <td>25</td>\n",
       "      <td>9600</td>\n",
       "      <td>5500</td>\n",
       "      <td>1</td>\n",
       "      <td>N</td>\n",
       "    </tr>\n",
       "    <tr>\n",
       "      <th>3</th>\n",
       "      <td>23</td>\n",
       "      <td>65500</td>\n",
       "      <td>35000</td>\n",
       "      <td>1</td>\n",
       "      <td>N</td>\n",
       "    </tr>\n",
       "    <tr>\n",
       "      <th>4</th>\n",
       "      <td>24</td>\n",
       "      <td>54400</td>\n",
       "      <td>35000</td>\n",
       "      <td>1</td>\n",
       "      <td>Y</td>\n",
       "    </tr>\n",
       "  </tbody>\n",
       "</table>\n",
       "</div>"
      ],
      "text/plain": [
       "   person_age  person_income  loan_amnt  loan_status cb_person_default_on_file\n",
       "0          22          59000      35000            1                         Y\n",
       "1          21           9600       1000            0                         N\n",
       "2          25           9600       5500            1                         N\n",
       "3          23          65500      35000            1                         N\n",
       "4          24          54400      35000            1                         Y"
      ]
     },
     "execution_count": 8,
     "metadata": {},
     "output_type": "execute_result"
    }
   ],
   "source": [
    "data = pd.read_csv('credit_risk_dataset.csv')\n",
    "data.head()"
   ]
  },
  {
   "cell_type": "code",
   "execution_count": 9,
   "id": "bc8af3a1",
   "metadata": {},
   "outputs": [
    {
     "data": {
      "text/html": [
       "<div>\n",
       "<style scoped>\n",
       "    .dataframe tbody tr th:only-of-type {\n",
       "        vertical-align: middle;\n",
       "    }\n",
       "\n",
       "    .dataframe tbody tr th {\n",
       "        vertical-align: top;\n",
       "    }\n",
       "\n",
       "    .dataframe thead th {\n",
       "        text-align: right;\n",
       "    }\n",
       "</style>\n",
       "<table border=\"1\" class=\"dataframe\">\n",
       "  <thead>\n",
       "    <tr style=\"text-align: right;\">\n",
       "      <th></th>\n",
       "      <th>person_age</th>\n",
       "      <th>person_income</th>\n",
       "      <th>loan_amnt</th>\n",
       "      <th>loan_status</th>\n",
       "      <th>cb_person_default_on_file</th>\n",
       "    </tr>\n",
       "  </thead>\n",
       "  <tbody>\n",
       "    <tr>\n",
       "      <th>0</th>\n",
       "      <td>22</td>\n",
       "      <td>59000</td>\n",
       "      <td>35000</td>\n",
       "      <td>1</td>\n",
       "      <td>1</td>\n",
       "    </tr>\n",
       "    <tr>\n",
       "      <th>1</th>\n",
       "      <td>21</td>\n",
       "      <td>9600</td>\n",
       "      <td>1000</td>\n",
       "      <td>0</td>\n",
       "      <td>0</td>\n",
       "    </tr>\n",
       "    <tr>\n",
       "      <th>2</th>\n",
       "      <td>25</td>\n",
       "      <td>9600</td>\n",
       "      <td>5500</td>\n",
       "      <td>1</td>\n",
       "      <td>0</td>\n",
       "    </tr>\n",
       "    <tr>\n",
       "      <th>3</th>\n",
       "      <td>23</td>\n",
       "      <td>65500</td>\n",
       "      <td>35000</td>\n",
       "      <td>1</td>\n",
       "      <td>0</td>\n",
       "    </tr>\n",
       "    <tr>\n",
       "      <th>4</th>\n",
       "      <td>24</td>\n",
       "      <td>54400</td>\n",
       "      <td>35000</td>\n",
       "      <td>1</td>\n",
       "      <td>1</td>\n",
       "    </tr>\n",
       "    <tr>\n",
       "      <th>...</th>\n",
       "      <td>...</td>\n",
       "      <td>...</td>\n",
       "      <td>...</td>\n",
       "      <td>...</td>\n",
       "      <td>...</td>\n",
       "    </tr>\n",
       "    <tr>\n",
       "      <th>32576</th>\n",
       "      <td>57</td>\n",
       "      <td>53000</td>\n",
       "      <td>5800</td>\n",
       "      <td>0</td>\n",
       "      <td>0</td>\n",
       "    </tr>\n",
       "    <tr>\n",
       "      <th>32577</th>\n",
       "      <td>54</td>\n",
       "      <td>120000</td>\n",
       "      <td>17625</td>\n",
       "      <td>0</td>\n",
       "      <td>0</td>\n",
       "    </tr>\n",
       "    <tr>\n",
       "      <th>32578</th>\n",
       "      <td>65</td>\n",
       "      <td>76000</td>\n",
       "      <td>35000</td>\n",
       "      <td>1</td>\n",
       "      <td>0</td>\n",
       "    </tr>\n",
       "    <tr>\n",
       "      <th>32579</th>\n",
       "      <td>56</td>\n",
       "      <td>150000</td>\n",
       "      <td>15000</td>\n",
       "      <td>0</td>\n",
       "      <td>0</td>\n",
       "    </tr>\n",
       "    <tr>\n",
       "      <th>32580</th>\n",
       "      <td>66</td>\n",
       "      <td>42000</td>\n",
       "      <td>6475</td>\n",
       "      <td>0</td>\n",
       "      <td>0</td>\n",
       "    </tr>\n",
       "  </tbody>\n",
       "</table>\n",
       "<p>32581 rows × 5 columns</p>\n",
       "</div>"
      ],
      "text/plain": [
       "       person_age  person_income  loan_amnt  loan_status  \\\n",
       "0              22          59000      35000            1   \n",
       "1              21           9600       1000            0   \n",
       "2              25           9600       5500            1   \n",
       "3              23          65500      35000            1   \n",
       "4              24          54400      35000            1   \n",
       "...           ...            ...        ...          ...   \n",
       "32576          57          53000       5800            0   \n",
       "32577          54         120000      17625            0   \n",
       "32578          65          76000      35000            1   \n",
       "32579          56         150000      15000            0   \n",
       "32580          66          42000       6475            0   \n",
       "\n",
       "       cb_person_default_on_file  \n",
       "0                              1  \n",
       "1                              0  \n",
       "2                              0  \n",
       "3                              0  \n",
       "4                              1  \n",
       "...                          ...  \n",
       "32576                          0  \n",
       "32577                          0  \n",
       "32578                          0  \n",
       "32579                          0  \n",
       "32580                          0  \n",
       "\n",
       "[32581 rows x 5 columns]"
      ]
     },
     "execution_count": 9,
     "metadata": {},
     "output_type": "execute_result"
    }
   ],
   "source": [
    "#Label Encoding\n",
    "\n",
    "from sklearn.preprocessing import LabelEncoder\n",
    "le=LabelEncoder()\n",
    "data['cb_person_default_on_file']=le.fit_transform(data['cb_person_default_on_file'])\n",
    "data"
   ]
  },
  {
   "cell_type": "code",
   "execution_count": 10,
   "id": "5805330d",
   "metadata": {},
   "outputs": [
    {
     "name": "stderr",
     "output_type": "stream",
     "text": [
      "C:\\Users\\user\\AppData\\Local\\Temp\\ipykernel_7624\\540076178.py:1: UserWarning: \n",
      "\n",
      "`distplot` is a deprecated function and will be removed in seaborn v0.14.0.\n",
      "\n",
      "Please adapt your code to use either `displot` (a figure-level function with\n",
      "similar flexibility) or `histplot` (an axes-level function for histograms).\n",
      "\n",
      "For a guide to updating your code to use the new functions, please see\n",
      "https://gist.github.com/mwaskom/de44147ed2974457ad6372750bbe5751\n",
      "\n",
      "  sns.distplot(data['cb_person_default_on_file'])\n"
     ]
    },
    {
     "data": {
      "text/plain": [
       "<Axes: xlabel='cb_person_default_on_file', ylabel='Density'>"
      ]
     },
     "execution_count": 10,
     "metadata": {},
     "output_type": "execute_result"
    },
    {
     "data": {
      "image/png": "[encoded data removed]",
      "text/plain": [
       "<Figure size 640x480 with 1 Axes>"
      ]
     },
     "metadata": {},
     "output_type": "display_data"
    }
   ],
   "source": [
    "sns.distplot(data['cb_person_default_on_file'])\n"
   ]
  },
  {
   "cell_type": "code",
   "execution_count": 11,
   "id": "e89dc0e5",
   "metadata": {},
   "outputs": [
    {
     "data": {
      "text/html": [
       "<div>\n",
       "<style scoped>\n",
       "    .dataframe tbody tr th:only-of-type {\n",
       "        vertical-align: middle;\n",
       "    }\n",
       "\n",
       "    .dataframe tbody tr th {\n",
       "        vertical-align: top;\n",
       "    }\n",
       "\n",
       "    .dataframe thead th {\n",
       "        text-align: right;\n",
       "    }\n",
       "</style>\n",
       "<table border=\"1\" class=\"dataframe\">\n",
       "  <thead>\n",
       "    <tr style=\"text-align: right;\">\n",
       "      <th></th>\n",
       "      <th>person_age</th>\n",
       "      <th>person_income</th>\n",
       "      <th>loan_amnt</th>\n",
       "      <th>loan_status</th>\n",
       "      <th>cb_person_default_on_file</th>\n",
       "    </tr>\n",
       "  </thead>\n",
       "  <tbody>\n",
       "    <tr>\n",
       "      <th>0</th>\n",
       "      <td>22</td>\n",
       "      <td>59000</td>\n",
       "      <td>35000</td>\n",
       "      <td>1</td>\n",
       "      <td>1</td>\n",
       "    </tr>\n",
       "    <tr>\n",
       "      <th>1</th>\n",
       "      <td>21</td>\n",
       "      <td>9600</td>\n",
       "      <td>1000</td>\n",
       "      <td>0</td>\n",
       "      <td>0</td>\n",
       "    </tr>\n",
       "  </tbody>\n",
       "</table>\n",
       "</div>"
      ],
      "text/plain": [
       "   person_age  person_income  loan_amnt  loan_status  \\\n",
       "0          22          59000      35000            1   \n",
       "1          21           9600       1000            0   \n",
       "\n",
       "   cb_person_default_on_file  \n",
       "0                          1  \n",
       "1                          0  "
      ]
     },
     "execution_count": 11,
     "metadata": {},
     "output_type": "execute_result"
    }
   ],
   "source": [
    "data.head(2)"
   ]
  },
  {
   "cell_type": "code",
   "execution_count": 12,
   "id": "eebc256e",
   "metadata": {},
   "outputs": [
    {
     "data": {
      "text/html": [
       "<div>\n",
       "<style scoped>\n",
       "    .dataframe tbody tr th:only-of-type {\n",
       "        vertical-align: middle;\n",
       "    }\n",
       "\n",
       "    .dataframe tbody tr th {\n",
       "        vertical-align: top;\n",
       "    }\n",
       "\n",
       "    .dataframe thead th {\n",
       "        text-align: right;\n",
       "    }\n",
       "</style>\n",
       "<table border=\"1\" class=\"dataframe\">\n",
       "  <thead>\n",
       "    <tr style=\"text-align: right;\">\n",
       "      <th></th>\n",
       "      <th>person_age</th>\n",
       "      <th>person_income</th>\n",
       "      <th>loan_amnt</th>\n",
       "    </tr>\n",
       "  </thead>\n",
       "  <tbody>\n",
       "    <tr>\n",
       "      <th>0</th>\n",
       "      <td>22</td>\n",
       "      <td>59000</td>\n",
       "      <td>35000</td>\n",
       "    </tr>\n",
       "  </tbody>\n",
       "</table>\n",
       "</div>"
      ],
      "text/plain": [
       "   person_age  person_income  loan_amnt\n",
       "0          22          59000      35000"
      ]
     },
     "execution_count": 12,
     "metadata": {},
     "output_type": "execute_result"
    }
   ],
   "source": [
    "x=data.iloc[:,:-2]\n",
    "x.head(1)"
   ]
  },
  {
   "cell_type": "code",
   "execution_count": 13,
   "id": "46c5bdc8",
   "metadata": {},
   "outputs": [],
   "source": [
    "y=data.cb_person_default_on_file"
   ]
  },
  {
   "cell_type": "code",
   "execution_count": 14,
   "id": "5a876464",
   "metadata": {},
   "outputs": [
    {
     "data": {
      "text/plain": [
       "(32581,)"
      ]
     },
     "execution_count": 14,
     "metadata": {},
     "output_type": "execute_result"
    }
   ],
   "source": [
    "y.shape"
   ]
  },
  {
   "cell_type": "code",
   "execution_count": 15,
   "id": "7fe77c49",
   "metadata": {},
   "outputs": [
    {
     "name": "stdout",
     "output_type": "stream",
     "text": [
      "****************Training Data Shape********************\n",
      "\n",
      "Training data-X- Shape:\t (24435, 3)\n",
      "\n",
      "Training data-y- Shape:\t (24435,)\n",
      "\n",
      "****************Testing Data Shape********************\n",
      "\n",
      "Testing data(x-Input) Shape:\t (8146, 3)\n",
      "\n",
      "Testing data(y-Outcome) Shape:\t (8146,)\n"
     ]
    }
   ],
   "source": [
    "from sklearn.model_selection import train_test_split\n",
    "xtrain,xtest,ytrain,ytest=train_test_split(x,y,test_size=.25,random_state=2)\n",
    "print('****************Training Data Shape********************\\n')\n",
    "print('Training data-X- Shape:\\t',xtrain.shape)\n",
    "print()\n",
    "print('Training data-y- Shape:\\t',ytrain.shape)\n",
    "print()\n",
    "print('****************Testing Data Shape********************\\n')\n",
    "print('Testing data(x-Input) Shape:\\t',xtest.shape)\n",
    "print()\n",
    "print('Testing data(y-Outcome) Shape:\\t',ytest.shape)"
   ]
  },
  {
   "cell_type": "markdown",
   "id": "3bea4f2d",
   "metadata": {},
   "source": [
    "# Base Model"
   ]
  },
  {
   "cell_type": "markdown",
   "id": "89b98780",
   "metadata": {},
   "source": [
    "# Linear Regression Model"
   ]
  },
  {
   "cell_type": "code",
   "execution_count": 16,
   "id": "95a64144",
   "metadata": {},
   "outputs": [
    {
     "name": "stdout",
     "output_type": "stream",
     "text": [
      "****************************************************************************************************\n",
      "Linear Regression Model\n",
      "****************************************************************************************************\n",
      "\n",
      " Training Phase\n",
      "Hyperparameter:\n",
      " {'copy_X': True, 'fit_intercept': True, 'n_jobs': None, 'positive': False}\n",
      "Training Completed\n",
      "====================================================================================================\n",
      "\n",
      " Test Phase\n",
      "\n",
      "Testing completed\n",
      "====================================================================================================\n",
      "****************************************************************************************************\n",
      "Linear Regression - Performance Measures\n",
      "****************************************************************************************************\n",
      "Accuracy Score - Linear Regression:\t 0.0011508981098617976\n",
      "\n",
      "MSE-linear Regression:\t 0.14748662217269376\n",
      "\n",
      "RMSE linear Regression:\t 0.3840398705508241\n"
     ]
    }
   ],
   "source": [
    "from sklearn.linear_model import LinearRegression\n",
    "lin_reg=LinearRegression()\n",
    "print('*'*100)\n",
    "print('Linear Regression Model')\n",
    "print('*'*100)\n",
    "print('\\n Training Phase')\n",
    "lin_reg.fit(xtrain,ytrain)\n",
    "print('Hyperparameter:\\n',lin_reg.get_params())\n",
    "print('Training Completed')\n",
    "print('='*100)\n",
    "print('\\n Test Phase')\n",
    "ypred_lin_reg=lin_reg.predict(xtest)\n",
    "#print('Predicted values for the test samples:\\n',ypred_lin_reg)\n",
    "print()\n",
    "print('Testing completed')\n",
    "print('='*100)\n",
    "#import metrics\n",
    "from sklearn.metrics import r2_score,mean_squared_error\n",
    "print('*'*100)\n",
    "print('Linear Regression - Performance Measures')\n",
    "print('*'*100)\n",
    "Accuracy_lin_reg=r2_score(ytest,ypred_lin_reg)\n",
    "MSE_lin_reg=mean_squared_error(ytest,ypred_lin_reg)\n",
    "RMSE_lin_reg=np.sqrt(mean_squared_error(ytest,ypred_lin_reg))\n",
    "print('Accuracy Score - Linear Regression:\\t',Accuracy_lin_reg)\n",
    "print()\n",
    "print('MSE-linear Regression:\\t',MSE_lin_reg)\n",
    "print()\n",
    "print('RMSE linear Regression:\\t',RMSE_lin_reg)"
   ]
  },
  {
   "cell_type": "markdown",
   "id": "79c81cd6",
   "metadata": {},
   "source": [
    "# 2. KNN Regression"
   ]
  },
  {
   "cell_type": "code",
   "execution_count": 17,
   "id": "4e328726",
   "metadata": {},
   "outputs": [
    {
     "name": "stdout",
     "output_type": "stream",
     "text": [
      "****************************************************************************************************\n",
      "KNN Regression Model\n",
      "****************************************************************************************************\n",
      "\n",
      " Training Phase\n",
      "Hyperparameter:\n",
      " {'algorithm': 'auto', 'leaf_size': 30, 'metric': 'minkowski', 'metric_params': None, 'n_jobs': None, 'n_neighbors': 3, 'p': 2, 'weights': 'uniform'}\n",
      "Training Completed\n",
      "====================================================================================================\n",
      "\n",
      " Test Phase\n",
      "\n",
      "Testing completed\n",
      "====================================================================================================\n",
      "****************************************************************************************************\n",
      "KNN Regression - Performance Measures\n",
      "****************************************************************************************************\n",
      "Accuracy Score - knn Regression:\t -0.284307035846443\n",
      "\n",
      "MSE-knn Regression:\t 0.18963635867637832\n",
      "\n",
      "RMSE knn Regression:\t 0.43547256937306433\n"
     ]
    }
   ],
   "source": [
    "from sklearn.neighbors import KNeighborsRegressor\n",
    "knn_reg=KNeighborsRegressor(n_neighbors=3)\n",
    "print('*'*100)\n",
    "print('KNN Regression Model')\n",
    "print('*'*100)\n",
    "print('\\n Training Phase')\n",
    "knn_reg.fit(xtrain,ytrain)\n",
    "print('Hyperparameter:\\n',knn_reg.get_params())\n",
    "print('Training Completed')\n",
    "print('='*100)\n",
    "print('\\n Test Phase')\n",
    "ypred_knn=knn_reg.predict(xtest)\n",
    "#print('Predicted values for the test samples:\\n',ypred_lin_reg)\n",
    "print()\n",
    "print('Testing completed')\n",
    "print('='*100)\n",
    "#import metrics\n",
    "from sklearn.metrics import r2_score,mean_squared_error\n",
    "print('*'*100)\n",
    "print('KNN Regression - Performance Measures')\n",
    "print('*'*100)\n",
    "Accuracy_knn_reg=r2_score(ytest,ypred_knn)\n",
    "MSE_knn=mean_squared_error(ytest,ypred_knn)\n",
    "RMSE_knn=np.sqrt(mean_squared_error(ytest,ypred_knn))\n",
    "print('Accuracy Score - knn Regression:\\t',Accuracy_knn_reg)\n",
    "print()\n",
    "print('MSE-knn Regression:\\t',MSE_knn)\n",
    "print()\n",
    "print('RMSE knn Regression:\\t',RMSE_knn)"
   ]
  },
  {
   "cell_type": "markdown",
   "id": "2f669f76",
   "metadata": {},
   "source": [
    "# 3. Decision Tree Regression Model"
   ]
  },
  {
   "cell_type": "code",
   "execution_count": 18,
   "id": "f4733712",
   "metadata": {},
   "outputs": [
    {
     "name": "stdout",
     "output_type": "stream",
     "text": [
      "****************************************************************************************************\n",
      "DT Regression Model\n",
      "****************************************************************************************************\n",
      "\n",
      " Training Phase\n",
      "Hyperparameter:\n",
      " {'ccp_alpha': 0.0, 'criterion': 'squared_error', 'max_depth': None, 'max_features': None, 'max_leaf_nodes': None, 'min_impurity_decrease': 0.0, 'min_samples_leaf': 1, 'min_samples_split': 2, 'min_weight_fraction_leaf': 0.0, 'random_state': None, 'splitter': 'best'}\n",
      "Training Completed\n",
      "====================================================================================================\n",
      "\n",
      " Test Phase\n",
      "\n",
      "Testing completed\n",
      "====================================================================================================\n",
      "****************************************************************************************************\n",
      "Linear Regression - Performance Measures\n",
      "****************************************************************************************************\n",
      "Accuracy Score - DT Regression:\t -0.7683221948137637\n",
      "\n",
      "MSE-DT Regression:\t 0.2611043719542449\n",
      "\n",
      "RMSE DT Regression:\t 0.5109837296374953\n"
     ]
    }
   ],
   "source": [
    "from sklearn.tree import DecisionTreeRegressor\n",
    "dt_reg=DecisionTreeRegressor()\n",
    "print('*'*100)\n",
    "print('DT Regression Model')\n",
    "print('*'*100)\n",
    "print('\\n Training Phase')\n",
    "dt_reg.fit(xtrain,ytrain)\n",
    "print('Hyperparameter:\\n',dt_reg.get_params())\n",
    "print('Training Completed')\n",
    "print('='*100)\n",
    "print('\\n Test Phase')\n",
    "ypred_dt_reg=dt_reg.predict(xtest)\n",
    "#print('Predicted values for the test samples:\\n',ypred_lin_reg)\n",
    "print()\n",
    "print('Testing completed')\n",
    "print('='*100)\n",
    "#import metrics\n",
    "from sklearn.metrics import r2_score,mean_squared_error\n",
    "print('*'*100)\n",
    "print('Linear Regression - Performance Measures')\n",
    "print('*'*100)\n",
    "Accuracy_dt_reg=r2_score(ytest,ypred_dt_reg)\n",
    "MSE_dt_reg=mean_squared_error(ytest,ypred_dt_reg)\n",
    "RMSE_dt_reg=np.sqrt(mean_squared_error(ytest,ypred_dt_reg))\n",
    "print('Accuracy Score - DT Regression:\\t',Accuracy_dt_reg)\n",
    "print()\n",
    "print('MSE-DT Regression:\\t',MSE_dt_reg)\n",
    "print()\n",
    "print('RMSE DT Regression:\\t',RMSE_dt_reg)\n"
   ]
  },
  {
   "cell_type": "markdown",
   "id": "bdff2d79",
   "metadata": {},
   "source": [
    "# 4.Support Vector Regressor"
   ]
  },
  {
   "cell_type": "code",
   "execution_count": 20,
   "id": "2e8eb88b",
   "metadata": {},
   "outputs": [
    {
     "name": "stdout",
     "output_type": "stream",
     "text": [
      "****************************************************************************************************\n",
      "SVR Regression Model\n",
      "****************************************************************************************************\n",
      "\n",
      " Training Phase\n",
      "Hyperparameter:\n",
      " {'C': 1.0, 'cache_size': 200, 'coef0': 0.0, 'degree': 3, 'epsilon': 0.1, 'gamma': 'scale', 'kernel': 'rbf', 'max_iter': -1, 'shrinking': True, 'tol': 0.001, 'verbose': False}\n",
      "Training Completed\n",
      "====================================================================================================\n",
      "\n",
      " Test Phase\n",
      "\n",
      "Testing completed\n",
      "====================================================================================================\n",
      "****************************************************************************************************\n",
      "SVR Regression - Performance Measures\n",
      "****************************************************************************************************\n",
      "Accuracy Score - SVR Regression:\t -0.043383201223222256\n",
      "\n",
      "MSE-SVR Regression:\t 0.15406237407526913\n",
      "\n",
      "RMSE SVR Regression:\t 0.3925078012922407\n"
     ]
    }
   ],
   "source": [
    "from sklearn.svm import SVR\n",
    "svr=SVR()\n",
    "print('*'*100)\n",
    "print('SVR Regression Model')\n",
    "print('*'*100)\n",
    "print('\\n Training Phase')\n",
    "svr.fit(xtrain,ytrain)\n",
    "print('Hyperparameter:\\n',svr.get_params())\n",
    "print('Training Completed')\n",
    "print('='*100)\n",
    "print('\\n Test Phase')\n",
    "ypred_svr=svr.predict(xtest)\n",
    "#print('Predicted values for the test samples:\\n',ypred_lin_reg)\n",
    "print()\n",
    "print('Testing completed')\n",
    "print('='*100)\n",
    "#import metrics\n",
    "from sklearn.metrics import r2_score,mean_squared_error\n",
    "print('*'*100)\n",
    "print('SVR Regression - Performance Measures')\n",
    "print('*'*100)\n",
    "Accuracy_svr=r2_score(ytest,ypred_svr)\n",
    "MSE_svr=mean_squared_error(ytest,ypred_svr)\n",
    "RMSE_svr=np.sqrt(mean_squared_error(ytest,ypred_svr))\n",
    "print('Accuracy Score - SVR Regression:\\t',Accuracy_svr)\n",
    "print()\n",
    "print('MSE-SVR Regression:\\t',MSE_svr)\n",
    "print()\n",
    "print('RMSE SVR Regression:\\t',RMSE_svr)"
   ]
  },
  {
   "cell_type": "markdown",
   "id": "73fcd580",
   "metadata": {},
   "source": [
    "# 6. Boosting - GradientBoost"
   ]
  },
  {
   "cell_type": "code",
   "execution_count": 21,
   "id": "ac29370d",
   "metadata": {},
   "outputs": [
    {
     "name": "stdout",
     "output_type": "stream",
     "text": [
      "****************************************************************************************************\n",
      "GradientBoosting Regression Model\n",
      "****************************************************************************************************\n",
      "\n",
      " Training Phase\n",
      "Hyperparameter:\n",
      " {'alpha': 0.9, 'ccp_alpha': 0.0, 'criterion': 'friedman_mse', 'init': None, 'learning_rate': 0.1, 'loss': 'squared_error', 'max_depth': 3, 'max_features': None, 'max_leaf_nodes': None, 'min_impurity_decrease': 0.0, 'min_samples_leaf': 1, 'min_samples_split': 2, 'min_weight_fraction_leaf': 0.0, 'n_estimators': 15, 'n_iter_no_change': None, 'random_state': None, 'subsample': 1.0, 'tol': 0.0001, 'validation_fraction': 0.1, 'verbose': 0, 'warm_start': False}\n",
      "Training Completed\n",
      "====================================================================================================\n",
      "\n",
      " Test Phase\n",
      "\n",
      "Testing completed\n",
      "====================================================================================================\n",
      "****************************************************************************************************\n",
      "GradientBoosting Regression - Performance Measures\n",
      "****************************************************************************************************\n",
      "Accuracy Score - GradientBoosting Regression:\t 0.004865811000238751\n",
      "\n",
      "MSE-GradientBoosting Regression:\t 0.14693809091523885\n",
      "\n",
      "RMSE GradientBoosting Regression:\t 0.3833250460317443\n"
     ]
    }
   ],
   "source": [
    "from sklearn.ensemble import GradientBoostingRegressor\n",
    "grad_boost=GradientBoostingRegressor(n_estimators=15)\n",
    "print('*'*100)\n",
    "print('GradientBoosting Regression Model')\n",
    "print('*'*100)\n",
    "print('\\n Training Phase')\n",
    "grad_boost.fit(xtrain,ytrain)\n",
    "print('Hyperparameter:\\n',grad_boost.get_params())\n",
    "print('Training Completed')\n",
    "print('='*100)\n",
    "print('\\n Test Phase')\n",
    "ypred_grad_boost=grad_boost.predict(xtest)\n",
    "#print('Predicted values for the test samples:\\n',ypred_lin_reg)\n",
    "print()\n",
    "print('Testing completed')\n",
    "print('='*100)\n",
    "#import metrics\n",
    "from sklearn.metrics import r2_score,mean_squared_error\n",
    "print('*'*100)\n",
    "print('GradientBoosting Regression - Performance Measures')\n",
    "print('*'*100)\n",
    "Accuracy_grad_boost=r2_score(ytest,ypred_grad_boost)\n",
    "MSE_grad_boost=mean_squared_error(ytest,ypred_grad_boost)\n",
    "RMSE_grad_boost=np.sqrt(mean_squared_error(ytest,ypred_grad_boost))\n",
    "print('Accuracy Score - GradientBoosting Regression:\\t',Accuracy_grad_boost)\n",
    "print()\n",
    "print('MSE-GradientBoosting Regression:\\t',MSE_grad_boost)\n",
    "print()\n",
    "print('RMSE GradientBoosting Regression:\\t',RMSE_grad_boost)\n"
   ]
  },
  {
   "cell_type": "markdown",
   "id": "c68379d0",
   "metadata": {},
   "source": [
    "# Model with Accuracy scores"
   ]
  },
  {
   "cell_type": "code",
   "execution_count": 23,
   "id": "83345281",
   "metadata": {},
   "outputs": [
    {
     "name": "stdout",
     "output_type": "stream",
     "text": [
      "                      Model  Accuracy_score\n",
      "4  Gradient Boost Regressor        0.004866\n",
      "0         Linear Regression        0.001151\n",
      "3                       SVR       -0.043383\n",
      "1            KNN Regression       -0.284307\n",
      "2  Decision Tree Regression       -0.768322\n"
     ]
    }
   ],
   "source": [
    "scores=[('Linear Regression',Accuracy_lin_reg),\n",
    " ('KNN Regression',Accuracy_knn_reg),\n",
    " ('Decision Tree Regression',Accuracy_dt_reg),\n",
    " ('SVR',Accuracy_svr),\n",
    " ('Gradient Boost Regressor',Accuracy_grad_boost),\n",
    " \n",
    " ]\n",
    "Acc_scores=pd.DataFrame(scores,columns=['Model','Accuracy_score'])\n",
    "print(Acc_scores.sort_values(by='Accuracy_score',ascending=False))\n"
   ]
  },
  {
   "cell_type": "code",
   "execution_count": null,
   "id": "ab2c392f",
   "metadata": {},
   "outputs": [],
   "source": []
  }
 ],
 "metadata": {
  "kernelspec": {
   "display_name": "Python 3 (ipykernel)",
   "language": "python",
   "name": "python3"
  },
  "language_info": {
   "codemirror_mode": {
    "name": "ipython",
    "version": 3
   },
   "file_extension": ".py",
   "mimetype": "text/x-python",
   "name": "python",
   "nbconvert_exporter": "python",
   "pygments_lexer": "ipython3",
   "version": "3.11.4"
  }
 },
 "nbformat": 4,
 "nbformat_minor": 5
}
