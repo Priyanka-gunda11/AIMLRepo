{
 "cells": [
  {
   "cell_type": "code",
   "execution_count": 1,
   "id": "80e80e07",
   "metadata": {},
   "outputs": [],
   "source": [
    "import numpy as np\n",
    "import pandas as pd\n",
    "import matplotlib.pyplot as plt\n",
    "import seaborn as sns\n"
   ]
  },
  {
   "cell_type": "code",
   "execution_count": 2,
   "id": "ec6409aa",
   "metadata": {},
   "outputs": [
    {
     "data": {
      "text/html": [
       "<div>\n",
       "<style scoped>\n",
       "    .dataframe tbody tr th:only-of-type {\n",
       "        vertical-align: middle;\n",
       "    }\n",
       "\n",
       "    .dataframe tbody tr th {\n",
       "        vertical-align: top;\n",
       "    }\n",
       "\n",
       "    .dataframe thead th {\n",
       "        text-align: right;\n",
       "    }\n",
       "</style>\n",
       "<table border=\"1\" class=\"dataframe\">\n",
       "  <thead>\n",
       "    <tr style=\"text-align: right;\">\n",
       "      <th></th>\n",
       "      <th>Id</th>\n",
       "      <th>SepalLengthCm</th>\n",
       "      <th>SepalWidthCm</th>\n",
       "      <th>PetalLengthCm</th>\n",
       "      <th>PetalWidthCm</th>\n",
       "      <th>Species</th>\n",
       "    </tr>\n",
       "  </thead>\n",
       "  <tbody>\n",
       "    <tr>\n",
       "      <th>0</th>\n",
       "      <td>1</td>\n",
       "      <td>5.1</td>\n",
       "      <td>3.5</td>\n",
       "      <td>1.4</td>\n",
       "      <td>0.2</td>\n",
       "      <td>Iris-setosa</td>\n",
       "    </tr>\n",
       "    <tr>\n",
       "      <th>1</th>\n",
       "      <td>2</td>\n",
       "      <td>4.9</td>\n",
       "      <td>3.0</td>\n",
       "      <td>1.4</td>\n",
       "      <td>0.2</td>\n",
       "      <td>Iris-setosa</td>\n",
       "    </tr>\n",
       "    <tr>\n",
       "      <th>2</th>\n",
       "      <td>3</td>\n",
       "      <td>4.7</td>\n",
       "      <td>3.2</td>\n",
       "      <td>1.3</td>\n",
       "      <td>0.2</td>\n",
       "      <td>Iris-setosa</td>\n",
       "    </tr>\n",
       "    <tr>\n",
       "      <th>3</th>\n",
       "      <td>4</td>\n",
       "      <td>4.6</td>\n",
       "      <td>3.1</td>\n",
       "      <td>1.5</td>\n",
       "      <td>0.2</td>\n",
       "      <td>Iris-setosa</td>\n",
       "    </tr>\n",
       "    <tr>\n",
       "      <th>4</th>\n",
       "      <td>5</td>\n",
       "      <td>5.0</td>\n",
       "      <td>3.6</td>\n",
       "      <td>1.4</td>\n",
       "      <td>0.2</td>\n",
       "      <td>Iris-setosa</td>\n",
       "    </tr>\n",
       "  </tbody>\n",
       "</table>\n",
       "</div>"
      ],
      "text/plain": [
       "   Id  SepalLengthCm  SepalWidthCm  PetalLengthCm  PetalWidthCm      Species\n",
       "0   1            5.1           3.5            1.4           0.2  Iris-setosa\n",
       "1   2            4.9           3.0            1.4           0.2  Iris-setosa\n",
       "2   3            4.7           3.2            1.3           0.2  Iris-setosa\n",
       "3   4            4.6           3.1            1.5           0.2  Iris-setosa\n",
       "4   5            5.0           3.6            1.4           0.2  Iris-setosa"
      ]
     },
     "execution_count": 2,
     "metadata": {},
     "output_type": "execute_result"
    }
   ],
   "source": [
    "data=pd.read_csv('iris.csv')\n",
    "data.head()"
   ]
  },
  {
   "cell_type": "markdown",
   "id": "b919fd62",
   "metadata": {},
   "source": [
    "# Handling Missing values"
   ]
  },
  {
   "cell_type": "code",
   "execution_count": 3,
   "id": "d0f95571",
   "metadata": {},
   "outputs": [
    {
     "data": {
      "text/plain": [
       "Id               0\n",
       "SepalLengthCm    0\n",
       "SepalWidthCm     0\n",
       "PetalLengthCm    0\n",
       "PetalWidthCm     0\n",
       "Species          0\n",
       "dtype: int64"
      ]
     },
     "execution_count": 3,
     "metadata": {},
     "output_type": "execute_result"
    }
   ],
   "source": [
    "data.isna().sum()"
   ]
  },
  {
   "cell_type": "code",
   "execution_count": 4,
   "id": "f2696776",
   "metadata": {},
   "outputs": [
    {
     "data": {
      "text/plain": [
       "Id               0\n",
       "SepalLengthCm    0\n",
       "SepalWidthCm     0\n",
       "PetalLengthCm    0\n",
       "PetalWidthCm     0\n",
       "Species          0\n",
       "dtype: int64"
      ]
     },
     "execution_count": 4,
     "metadata": {},
     "output_type": "execute_result"
    }
   ],
   "source": [
    "data=data.fillna(method='bfill')\n",
    "data.isna().sum()\n"
   ]
  },
  {
   "cell_type": "code",
   "execution_count": 5,
   "id": "5245084e",
   "metadata": {},
   "outputs": [
    {
     "data": {
      "text/html": [
       "<div>\n",
       "<style scoped>\n",
       "    .dataframe tbody tr th:only-of-type {\n",
       "        vertical-align: middle;\n",
       "    }\n",
       "\n",
       "    .dataframe tbody tr th {\n",
       "        vertical-align: top;\n",
       "    }\n",
       "\n",
       "    .dataframe thead th {\n",
       "        text-align: right;\n",
       "    }\n",
       "</style>\n",
       "<table border=\"1\" class=\"dataframe\">\n",
       "  <thead>\n",
       "    <tr style=\"text-align: right;\">\n",
       "      <th></th>\n",
       "      <th>Id</th>\n",
       "      <th>SepalLengthCm</th>\n",
       "      <th>SepalWidthCm</th>\n",
       "      <th>PetalLengthCm</th>\n",
       "      <th>PetalWidthCm</th>\n",
       "      <th>Species</th>\n",
       "    </tr>\n",
       "  </thead>\n",
       "  <tbody>\n",
       "    <tr>\n",
       "      <th>0</th>\n",
       "      <td>1</td>\n",
       "      <td>5.1</td>\n",
       "      <td>3.5</td>\n",
       "      <td>1.4</td>\n",
       "      <td>0.2</td>\n",
       "      <td>0</td>\n",
       "    </tr>\n",
       "    <tr>\n",
       "      <th>1</th>\n",
       "      <td>2</td>\n",
       "      <td>4.9</td>\n",
       "      <td>3.0</td>\n",
       "      <td>1.4</td>\n",
       "      <td>0.2</td>\n",
       "      <td>0</td>\n",
       "    </tr>\n",
       "    <tr>\n",
       "      <th>2</th>\n",
       "      <td>3</td>\n",
       "      <td>4.7</td>\n",
       "      <td>3.2</td>\n",
       "      <td>1.3</td>\n",
       "      <td>0.2</td>\n",
       "      <td>0</td>\n",
       "    </tr>\n",
       "    <tr>\n",
       "      <th>3</th>\n",
       "      <td>4</td>\n",
       "      <td>4.6</td>\n",
       "      <td>3.1</td>\n",
       "      <td>1.5</td>\n",
       "      <td>0.2</td>\n",
       "      <td>0</td>\n",
       "    </tr>\n",
       "    <tr>\n",
       "      <th>4</th>\n",
       "      <td>5</td>\n",
       "      <td>5.0</td>\n",
       "      <td>3.6</td>\n",
       "      <td>1.4</td>\n",
       "      <td>0.2</td>\n",
       "      <td>0</td>\n",
       "    </tr>\n",
       "  </tbody>\n",
       "</table>\n",
       "</div>"
      ],
      "text/plain": [
       "   Id  SepalLengthCm  SepalWidthCm  PetalLengthCm  PetalWidthCm  Species\n",
       "0   1            5.1           3.5            1.4           0.2        0\n",
       "1   2            4.9           3.0            1.4           0.2        0\n",
       "2   3            4.7           3.2            1.3           0.2        0\n",
       "3   4            4.6           3.1            1.5           0.2        0\n",
       "4   5            5.0           3.6            1.4           0.2        0"
      ]
     },
     "execution_count": 5,
     "metadata": {},
     "output_type": "execute_result"
    }
   ],
   "source": [
    "from sklearn.preprocessing import LabelEncoder\n",
    "le=LabelEncoder()\n",
    "data['Species']=le.fit_transform(data['Species'])\n",
    "data.head()"
   ]
  },
  {
   "cell_type": "markdown",
   "id": "5d4a0851",
   "metadata": {},
   "source": [
    "# Split the data for Training & Testing"
   ]
  },
  {
   "cell_type": "code",
   "execution_count": 6,
   "id": "f929822f",
   "metadata": {},
   "outputs": [],
   "source": [
    "x=data.iloc[:,:-1]\n",
    "y=data.iloc[:,-1:]"
   ]
  },
  {
   "cell_type": "code",
   "execution_count": 8,
   "id": "34665c48",
   "metadata": {},
   "outputs": [
    {
     "name": "stdout",
     "output_type": "stream",
     "text": [
      "****************Training Data Shape********************\n",
      "\n",
      "Training data-X- Shape:\t (112, 5)\n",
      "\n",
      "Training data-y- Shape:\t (112, 1)\n",
      "\n",
      "****************Testing Data Shape********************\n",
      "\n",
      "Testing data(x-Input) Shape:\t (38, 5)\n",
      "\n",
      "Testing data(y-Outcome) Shape:\t (38, 1)\n"
     ]
    }
   ],
   "source": [
    "from sklearn.model_selection import train_test_split\n",
    "xtrain,xtest,ytrain,ytest=train_test_split(x,y,test_size=.25,random_state=2)\n",
    "print('****************Training Data Shape********************\\n')\n",
    "print('Training data-X- Shape:\\t',xtrain.shape)\n",
    "print()\n",
    "print('Training data-y- Shape:\\t',ytrain.shape)\n",
    "print()\n",
    "print('****************Testing Data Shape********************\\n')\n",
    "print('Testing data(x-Input) Shape:\\t',xtest.shape)\n",
    "print()\n",
    "print('Testing data(y-Outcome) Shape:\\t',ytest.shape)\n"
   ]
  },
  {
   "cell_type": "markdown",
   "id": "b7738343",
   "metadata": {},
   "source": [
    "# Model Development with Logistic Regression Algorithm"
   ]
  },
  {
   "cell_type": "code",
   "execution_count": 9,
   "id": "81325c0a",
   "metadata": {},
   "outputs": [
    {
     "name": "stdout",
     "output_type": "stream",
     "text": [
      "Training the model\n",
      "\n",
      "[LibLinear]Predicted Label for the input samples:\n",
      " [0 0 2 0 0 2 0 2 2 0 0 0 0 0 1 1 0 2 2 2 1 1 2 2 1 0 0 2 0 2 2 0 1 2 2 0 2\n",
      " 1]\n",
      "\n",
      "Testing is completed\n",
      "\n",
      "Testing samples are: \t 38\n",
      "********************Performance Measures for Logistic Regression Class****************************\n",
      "Accuracy Score:\t\n",
      " 0.8947368421052632\n",
      "\n",
      "================================================================================\n",
      "Confusion Matrix:\n",
      " [[16  0  0]\n",
      " [ 0  7  4]\n",
      " [ 0  0 11]]\n",
      "\n",
      "================================================================================\n",
      "Classification Report:\n",
      "               precision    recall  f1-score   support\n",
      "\n",
      "           0       1.00      1.00      1.00        16\n",
      "           1       1.00      0.64      0.78        11\n",
      "           2       0.73      1.00      0.85        11\n",
      "\n",
      "    accuracy                           0.89        38\n",
      "   macro avg       0.91      0.88      0.87        38\n",
      "weighted avg       0.92      0.89      0.89        38\n",
      "\n",
      "================================================================================\n"
     ]
    },
    {
     "name": "stderr",
     "output_type": "stream",
     "text": [
      "C:\\ProgramData\\anaconda3-1\\Lib\\site-packages\\sklearn\\utils\\validation.py:1184: DataConversionWarning: A column-vector y was passed when a 1d array was expected. Please change the shape of y to (n_samples, ), for example using ravel().\n",
      "  y = column_or_1d(y, warn=True)\n"
     ]
    }
   ],
   "source": [
    "from sklearn.linear_model import LogisticRegression\n",
    "from sklearn.metrics import accuracy_score\n",
    "from sklearn.metrics import confusion_matrix\n",
    "from sklearn.metrics import classification_report\n",
    "#invoke the log reg algorithm from sklearn\n",
    "log_reg=LogisticRegression(solver='liblinear',verbose=2)\n",
    "#Train the model\n",
    "print('Training the model\\n')\n",
    "log_reg.fit(xtrain,ytrain)\n",
    "#Test the model\n",
    "ypred=log_reg.predict(xtest)\n",
    "print('Predicted Label for the input samples:\\n',ypred)\n",
    "print()\n",
    "print('Testing is completed\\n')\n",
    "print('Testing samples are: \\t',len(ypred))\n",
    "print('********************Performance Measures for Logistic Regression Class****************************')\n",
    "print('Accuracy Score:\\t\\n',accuracy_score(ytest,ypred))\n",
    "print()\n",
    "print('='*80)\n",
    "print('Confusion Matrix:\\n',confusion_matrix(ytest,ypred))\n",
    "print()\n",
    "print('='*80)\n",
    "print('Classification Report:\\n',classification_report(ytest,ypred))\n",
    "print('='*80)"
   ]
  },
  {
   "cell_type": "code",
   "execution_count": 10,
   "id": "68f53382",
   "metadata": {},
   "outputs": [
    {
     "data": {
      "text/plain": [
       "{'C': 1.0,\n",
       " 'class_weight': None,\n",
       " 'dual': False,\n",
       " 'fit_intercept': True,\n",
       " 'intercept_scaling': 1,\n",
       " 'l1_ratio': None,\n",
       " 'max_iter': 100,\n",
       " 'multi_class': 'auto',\n",
       " 'n_jobs': None,\n",
       " 'penalty': 'l2',\n",
       " 'random_state': None,\n",
       " 'solver': 'liblinear',\n",
       " 'tol': 0.0001,\n",
       " 'verbose': 2,\n",
       " 'warm_start': False}"
      ]
     },
     "execution_count": 10,
     "metadata": {},
     "output_type": "execute_result"
    }
   ],
   "source": [
    "log_reg.get_params()"
   ]
  },
  {
   "cell_type": "markdown",
   "id": "8c1a6ac6",
   "metadata": {},
   "source": [
    "# 1. Feature Engineering Techniques - Scaling"
   ]
  },
  {
   "cell_type": "code",
   "execution_count": 11,
   "id": "128476e9",
   "metadata": {},
   "outputs": [
    {
     "data": {
      "text/html": [
       "<div>\n",
       "<style scoped>\n",
       "    .dataframe tbody tr th:only-of-type {\n",
       "        vertical-align: middle;\n",
       "    }\n",
       "\n",
       "    .dataframe tbody tr th {\n",
       "        vertical-align: top;\n",
       "    }\n",
       "\n",
       "    .dataframe thead th {\n",
       "        text-align: right;\n",
       "    }\n",
       "</style>\n",
       "<table border=\"1\" class=\"dataframe\">\n",
       "  <thead>\n",
       "    <tr style=\"text-align: right;\">\n",
       "      <th></th>\n",
       "      <th>Id</th>\n",
       "      <th>SepalLengthCm</th>\n",
       "      <th>SepalWidthCm</th>\n",
       "      <th>PetalLengthCm</th>\n",
       "      <th>PetalWidthCm</th>\n",
       "    </tr>\n",
       "  </thead>\n",
       "  <tbody>\n",
       "    <tr>\n",
       "      <th>0</th>\n",
       "      <td>1</td>\n",
       "      <td>5.1</td>\n",
       "      <td>3.5</td>\n",
       "      <td>1.4</td>\n",
       "      <td>0.2</td>\n",
       "    </tr>\n",
       "    <tr>\n",
       "      <th>1</th>\n",
       "      <td>2</td>\n",
       "      <td>4.9</td>\n",
       "      <td>3.0</td>\n",
       "      <td>1.4</td>\n",
       "      <td>0.2</td>\n",
       "    </tr>\n",
       "  </tbody>\n",
       "</table>\n",
       "</div>"
      ],
      "text/plain": [
       "   Id  SepalLengthCm  SepalWidthCm  PetalLengthCm  PetalWidthCm\n",
       "0   1            5.1           3.5            1.4           0.2\n",
       "1   2            4.9           3.0            1.4           0.2"
      ]
     },
     "execution_count": 11,
     "metadata": {},
     "output_type": "execute_result"
    }
   ],
   "source": [
    "x.head(2)"
   ]
  },
  {
   "cell_type": "code",
   "execution_count": 12,
   "id": "3957f55c",
   "metadata": {},
   "outputs": [],
   "source": [
    "from sklearn.preprocessing import StandardScaler\n",
    "std_sc=StandardScaler()\n",
    "sc_x=std_sc.fit_transform(x)"
   ]
  },
  {
   "cell_type": "code",
   "execution_count": 13,
   "id": "ee7d09f7",
   "metadata": {},
   "outputs": [
    {
     "data": {
      "text/plain": [
       "array([[-1.72054204e+00, -9.00681170e-01,  1.03205722e+00,\n",
       "        -1.34127240e+00, -1.31297673e+00],\n",
       "       [-1.69744751e+00, -1.14301691e+00, -1.24957601e-01,\n",
       "        -1.34127240e+00, -1.31297673e+00],\n",
       "       [-1.67435299e+00, -1.38535265e+00,  3.37848329e-01,\n",
       "        -1.39813811e+00, -1.31297673e+00],\n",
       "       [-1.65125846e+00, -1.50652052e+00,  1.06445364e-01,\n",
       "        -1.28440670e+00, -1.31297673e+00],\n",
       "       [-1.62816394e+00, -1.02184904e+00,  1.26346019e+00,\n",
       "        -1.34127240e+00, -1.31297673e+00],\n",
       "       [-1.60506942e+00, -5.37177559e-01,  1.95766909e+00,\n",
       "        -1.17067529e+00, -1.05003079e+00],\n",
       "       [-1.58197489e+00, -1.50652052e+00,  8.00654259e-01,\n",
       "        -1.34127240e+00, -1.18150376e+00],\n",
       "       [-1.55888037e+00, -1.02184904e+00,  8.00654259e-01,\n",
       "        -1.28440670e+00, -1.31297673e+00],\n",
       "       [-1.53578584e+00, -1.74885626e+00, -3.56360566e-01,\n",
       "        -1.34127240e+00, -1.31297673e+00],\n",
       "       [-1.51269132e+00, -1.14301691e+00,  1.06445364e-01,\n",
       "        -1.28440670e+00, -1.44444970e+00],\n",
       "       [-1.48959680e+00, -5.37177559e-01,  1.49486315e+00,\n",
       "        -1.28440670e+00, -1.31297673e+00],\n",
       "       [-1.46650227e+00, -1.26418478e+00,  8.00654259e-01,\n",
       "        -1.22754100e+00, -1.31297673e+00],\n",
       "       [-1.44340775e+00, -1.26418478e+00, -1.24957601e-01,\n",
       "        -1.34127240e+00, -1.44444970e+00],\n",
       "       [-1.42031323e+00, -1.87002413e+00, -1.24957601e-01,\n",
       "        -1.51186952e+00, -1.44444970e+00],\n",
       "       [-1.39721870e+00, -5.25060772e-02,  2.18907205e+00,\n",
       "        -1.45500381e+00, -1.31297673e+00],\n",
       "       [-1.37412418e+00, -1.73673948e-01,  3.11468391e+00,\n",
       "        -1.28440670e+00, -1.05003079e+00],\n",
       "       [-1.35102965e+00, -5.37177559e-01,  1.95766909e+00,\n",
       "        -1.39813811e+00, -1.05003079e+00],\n",
       "       [-1.32793513e+00, -9.00681170e-01,  1.03205722e+00,\n",
       "        -1.34127240e+00, -1.18150376e+00],\n",
       "       [-1.30484061e+00, -1.73673948e-01,  1.72626612e+00,\n",
       "        -1.17067529e+00, -1.18150376e+00],\n",
       "       [-1.28174608e+00, -9.00681170e-01,  1.72626612e+00,\n",
       "        -1.28440670e+00, -1.18150376e+00],\n",
       "       [-1.25865156e+00, -5.37177559e-01,  8.00654259e-01,\n",
       "        -1.17067529e+00, -1.31297673e+00],\n",
       "       [-1.23555703e+00, -9.00681170e-01,  1.49486315e+00,\n",
       "        -1.28440670e+00, -1.05003079e+00],\n",
       "       [-1.21246251e+00, -1.50652052e+00,  1.26346019e+00,\n",
       "        -1.56873522e+00, -1.31297673e+00],\n",
       "       [-1.18936799e+00, -9.00681170e-01,  5.69251294e-01,\n",
       "        -1.17067529e+00, -9.18557817e-01],\n",
       "       [-1.16627346e+00, -1.26418478e+00,  8.00654259e-01,\n",
       "        -1.05694388e+00, -1.31297673e+00],\n",
       "       [-1.14317894e+00, -1.02184904e+00, -1.24957601e-01,\n",
       "        -1.22754100e+00, -1.31297673e+00],\n",
       "       [-1.12008441e+00, -1.02184904e+00,  8.00654259e-01,\n",
       "        -1.22754100e+00, -1.05003079e+00],\n",
       "       [-1.09698989e+00, -7.79513300e-01,  1.03205722e+00,\n",
       "        -1.28440670e+00, -1.31297673e+00],\n",
       "       [-1.07389537e+00, -7.79513300e-01,  8.00654259e-01,\n",
       "        -1.34127240e+00, -1.31297673e+00],\n",
       "       [-1.05080084e+00, -1.38535265e+00,  3.37848329e-01,\n",
       "        -1.22754100e+00, -1.31297673e+00],\n",
       "       [-1.02770632e+00, -1.26418478e+00,  1.06445364e-01,\n",
       "        -1.22754100e+00, -1.31297673e+00],\n",
       "       [-1.00461179e+00, -5.37177559e-01,  8.00654259e-01,\n",
       "        -1.28440670e+00, -1.05003079e+00],\n",
       "       [-9.81517269e-01, -7.79513300e-01,  2.42047502e+00,\n",
       "        -1.28440670e+00, -1.44444970e+00],\n",
       "       [-9.58422745e-01, -4.16009689e-01,  2.65187798e+00,\n",
       "        -1.34127240e+00, -1.31297673e+00],\n",
       "       [-9.35328221e-01, -1.14301691e+00,  1.06445364e-01,\n",
       "        -1.28440670e+00, -1.44444970e+00],\n",
       "       [-9.12233697e-01, -1.02184904e+00,  3.37848329e-01,\n",
       "        -1.45500381e+00, -1.31297673e+00],\n",
       "       [-8.89139173e-01, -4.16009689e-01,  1.03205722e+00,\n",
       "        -1.39813811e+00, -1.31297673e+00],\n",
       "       [-8.66044649e-01, -1.14301691e+00,  1.06445364e-01,\n",
       "        -1.28440670e+00, -1.44444970e+00],\n",
       "       [-8.42950125e-01, -1.74885626e+00, -1.24957601e-01,\n",
       "        -1.39813811e+00, -1.31297673e+00],\n",
       "       [-8.19855601e-01, -9.00681170e-01,  8.00654259e-01,\n",
       "        -1.28440670e+00, -1.31297673e+00],\n",
       "       [-7.96761077e-01, -1.02184904e+00,  1.03205722e+00,\n",
       "        -1.39813811e+00, -1.18150376e+00],\n",
       "       [-7.73666553e-01, -1.62768839e+00, -1.74477836e+00,\n",
       "        -1.39813811e+00, -1.18150376e+00],\n",
       "       [-7.50572030e-01, -1.74885626e+00,  3.37848329e-01,\n",
       "        -1.39813811e+00, -1.31297673e+00],\n",
       "       [-7.27477506e-01, -1.02184904e+00,  1.03205722e+00,\n",
       "        -1.22754100e+00, -7.87084847e-01],\n",
       "       [-7.04382982e-01, -9.00681170e-01,  1.72626612e+00,\n",
       "        -1.05694388e+00, -1.05003079e+00],\n",
       "       [-6.81288458e-01, -1.26418478e+00, -1.24957601e-01,\n",
       "        -1.34127240e+00, -1.18150376e+00],\n",
       "       [-6.58193934e-01, -9.00681170e-01,  1.72626612e+00,\n",
       "        -1.22754100e+00, -1.31297673e+00],\n",
       "       [-6.35099410e-01, -1.50652052e+00,  3.37848329e-01,\n",
       "        -1.34127240e+00, -1.31297673e+00],\n",
       "       [-6.12004886e-01, -6.58345429e-01,  1.49486315e+00,\n",
       "        -1.28440670e+00, -1.31297673e+00],\n",
       "       [-5.88910362e-01, -1.02184904e+00,  5.69251294e-01,\n",
       "        -1.34127240e+00, -1.31297673e+00],\n",
       "       [-5.65815838e-01,  1.40150837e+00,  3.37848329e-01,\n",
       "         5.35295827e-01,  2.64698913e-01],\n",
       "       [-5.42721314e-01,  6.74501145e-01,  3.37848329e-01,\n",
       "         4.21564419e-01,  3.96171883e-01],\n",
       "       [-5.19626790e-01,  1.28034050e+00,  1.06445364e-01,\n",
       "         6.49027235e-01,  3.96171883e-01],\n",
       "       [-4.96532266e-01, -4.16009689e-01, -1.74477836e+00,\n",
       "         1.37235899e-01,  1.33225943e-01],\n",
       "       [-4.73437742e-01,  7.95669016e-01, -5.87763531e-01,\n",
       "         4.78430123e-01,  3.96171883e-01],\n",
       "       [-4.50343218e-01, -1.73673948e-01, -5.87763531e-01,\n",
       "         4.21564419e-01,  1.33225943e-01],\n",
       "       [-4.27248694e-01,  5.53333275e-01,  5.69251294e-01,\n",
       "         5.35295827e-01,  5.27644853e-01],\n",
       "       [-4.04154170e-01, -1.14301691e+00, -1.51337539e+00,\n",
       "        -2.60824029e-01, -2.61192967e-01],\n",
       "       [-3.81059646e-01,  9.16836886e-01, -3.56360566e-01,\n",
       "         4.78430123e-01,  1.33225943e-01],\n",
       "       [-3.57965122e-01, -7.79513300e-01, -8.19166497e-01,\n",
       "         8.03701950e-02,  2.64698913e-01],\n",
       "       [-3.34870598e-01, -1.02184904e+00, -2.43898725e+00,\n",
       "        -1.47092621e-01, -2.61192967e-01],\n",
       "       [-3.11776074e-01,  6.86617933e-02, -1.24957601e-01,\n",
       "         2.50967307e-01,  3.96171883e-01],\n",
       "       [-2.88681550e-01,  1.89829664e-01, -1.97618132e+00,\n",
       "         1.37235899e-01, -2.61192967e-01],\n",
       "       [-2.65587026e-01,  3.10997534e-01, -3.56360566e-01,\n",
       "         5.35295827e-01,  2.64698913e-01],\n",
       "       [-2.42492502e-01, -2.94841818e-01, -3.56360566e-01,\n",
       "        -9.02269170e-02,  1.33225943e-01],\n",
       "       [-2.19397978e-01,  1.03800476e+00,  1.06445364e-01,\n",
       "         3.64698715e-01,  2.64698913e-01],\n",
       "       [-1.96303454e-01, -2.94841818e-01, -1.24957601e-01,\n",
       "         4.21564419e-01,  3.96171883e-01],\n",
       "       [-1.73208930e-01, -5.25060772e-02, -8.19166497e-01,\n",
       "         1.94101603e-01, -2.61192967e-01],\n",
       "       [-1.50114406e-01,  4.32165405e-01, -1.97618132e+00,\n",
       "         4.21564419e-01,  3.96171883e-01],\n",
       "       [-1.27019882e-01, -2.94841818e-01, -1.28197243e+00,\n",
       "         8.03701950e-02, -1.29719997e-01],\n",
       "       [-1.03925358e-01,  6.86617933e-02,  3.37848329e-01,\n",
       "         5.92161531e-01,  7.90590793e-01],\n",
       "       [-8.08308339e-02,  3.10997534e-01, -5.87763531e-01,\n",
       "         1.37235899e-01,  1.33225943e-01],\n",
       "       [-5.77363100e-02,  5.53333275e-01, -1.28197243e+00,\n",
       "         6.49027235e-01,  3.96171883e-01],\n",
       "       [-3.46417860e-02,  3.10997534e-01, -5.87763531e-01,\n",
       "         5.35295827e-01,  1.75297293e-03],\n",
       "       [-1.15472620e-02,  6.74501145e-01, -3.56360566e-01,\n",
       "         3.07833011e-01,  1.33225943e-01],\n",
       "       [ 1.15472620e-02,  9.16836886e-01, -1.24957601e-01,\n",
       "         3.64698715e-01,  2.64698913e-01],\n",
       "       [ 3.46417860e-02,  1.15917263e+00, -5.87763531e-01,\n",
       "         5.92161531e-01,  2.64698913e-01],\n",
       "       [ 5.77363100e-02,  1.03800476e+00, -1.24957601e-01,\n",
       "         7.05892939e-01,  6.59117823e-01],\n",
       "       [ 8.08308339e-02,  1.89829664e-01, -3.56360566e-01,\n",
       "         4.21564419e-01,  3.96171883e-01],\n",
       "       [ 1.03925358e-01, -1.73673948e-01, -1.05056946e+00,\n",
       "        -1.47092621e-01, -2.61192967e-01],\n",
       "       [ 1.27019882e-01, -4.16009689e-01, -1.51337539e+00,\n",
       "         2.35044910e-02, -1.29719997e-01],\n",
       "       [ 1.50114406e-01, -4.16009689e-01, -1.51337539e+00,\n",
       "        -3.33612130e-02, -2.61192967e-01],\n",
       "       [ 1.73208930e-01, -5.25060772e-02, -8.19166497e-01,\n",
       "         8.03701950e-02,  1.75297293e-03],\n",
       "       [ 1.96303454e-01,  1.89829664e-01, -8.19166497e-01,\n",
       "         7.62758643e-01,  5.27644853e-01],\n",
       "       [ 2.19397978e-01, -5.37177559e-01, -1.24957601e-01,\n",
       "         4.21564419e-01,  3.96171883e-01],\n",
       "       [ 2.42492502e-01,  1.89829664e-01,  8.00654259e-01,\n",
       "         4.21564419e-01,  5.27644853e-01],\n",
       "       [ 2.65587026e-01,  1.03800476e+00,  1.06445364e-01,\n",
       "         5.35295827e-01,  3.96171883e-01],\n",
       "       [ 2.88681550e-01,  5.53333275e-01, -1.74477836e+00,\n",
       "         3.64698715e-01,  1.33225943e-01],\n",
       "       [ 3.11776074e-01, -2.94841818e-01, -1.24957601e-01,\n",
       "         1.94101603e-01,  1.33225943e-01],\n",
       "       [ 3.34870598e-01, -4.16009689e-01, -1.28197243e+00,\n",
       "         1.37235899e-01,  1.33225943e-01],\n",
       "       [ 3.57965122e-01, -4.16009689e-01, -1.05056946e+00,\n",
       "         3.64698715e-01,  1.75297293e-03],\n",
       "       [ 3.81059646e-01,  3.10997534e-01, -1.24957601e-01,\n",
       "         4.78430123e-01,  2.64698913e-01],\n",
       "       [ 4.04154170e-01, -5.25060772e-02, -1.05056946e+00,\n",
       "         1.37235899e-01,  1.75297293e-03],\n",
       "       [ 4.27248694e-01, -1.02184904e+00, -1.74477836e+00,\n",
       "        -2.60824029e-01, -2.61192967e-01],\n",
       "       [ 4.50343218e-01, -2.94841818e-01, -8.19166497e-01,\n",
       "         2.50967307e-01,  1.33225943e-01],\n",
       "       [ 4.73437742e-01, -1.73673948e-01, -1.24957601e-01,\n",
       "         2.50967307e-01,  1.75297293e-03],\n",
       "       [ 4.96532266e-01, -1.73673948e-01, -3.56360566e-01,\n",
       "         2.50967307e-01,  1.33225943e-01],\n",
       "       [ 5.19626790e-01,  4.32165405e-01, -3.56360566e-01,\n",
       "         3.07833011e-01,  1.33225943e-01],\n",
       "       [ 5.42721314e-01, -9.00681170e-01, -1.28197243e+00,\n",
       "        -4.31421141e-01, -1.29719997e-01],\n",
       "       [ 5.65815838e-01, -1.73673948e-01, -5.87763531e-01,\n",
       "         1.94101603e-01,  1.33225943e-01],\n",
       "       [ 5.88910362e-01,  5.53333275e-01,  5.69251294e-01,\n",
       "         1.27454998e+00,  1.71090158e+00],\n",
       "       [ 6.12004886e-01, -5.25060772e-02, -8.19166497e-01,\n",
       "         7.62758643e-01,  9.22063763e-01],\n",
       "       [ 6.35099410e-01,  1.52267624e+00, -1.24957601e-01,\n",
       "         1.21768427e+00,  1.18500970e+00],\n",
       "       [ 6.58193934e-01,  5.53333275e-01, -3.56360566e-01,\n",
       "         1.04708716e+00,  7.90590793e-01],\n",
       "       [ 6.81288458e-01,  7.95669016e-01, -1.24957601e-01,\n",
       "         1.16081857e+00,  1.31648267e+00],\n",
       "       [ 7.04382982e-01,  2.12851559e+00, -1.24957601e-01,\n",
       "         1.61574420e+00,  1.18500970e+00],\n",
       "       [ 7.27477506e-01, -1.14301691e+00, -1.28197243e+00,\n",
       "         4.21564419e-01,  6.59117823e-01],\n",
       "       [ 7.50572030e-01,  1.76501198e+00, -3.56360566e-01,\n",
       "         1.44514709e+00,  7.90590793e-01],\n",
       "       [ 7.73666553e-01,  1.03800476e+00, -1.28197243e+00,\n",
       "         1.16081857e+00,  7.90590793e-01],\n",
       "       [ 7.96761077e-01,  1.64384411e+00,  1.26346019e+00,\n",
       "         1.33141568e+00,  1.71090158e+00],\n",
       "       [ 8.19855601e-01,  7.95669016e-01,  3.37848329e-01,\n",
       "         7.62758643e-01,  1.05353673e+00],\n",
       "       [ 8.42950125e-01,  6.74501145e-01, -8.19166497e-01,\n",
       "         8.76490051e-01,  9.22063763e-01],\n",
       "       [ 8.66044649e-01,  1.15917263e+00, -1.24957601e-01,\n",
       "         9.90221459e-01,  1.18500970e+00],\n",
       "       [ 8.89139173e-01, -1.73673948e-01, -1.28197243e+00,\n",
       "         7.05892939e-01,  1.05353673e+00],\n",
       "       [ 9.12233697e-01, -5.25060772e-02, -5.87763531e-01,\n",
       "         7.62758643e-01,  1.57942861e+00],\n",
       "       [ 9.35328221e-01,  6.74501145e-01,  3.37848329e-01,\n",
       "         8.76490051e-01,  1.44795564e+00],\n",
       "       [ 9.58422745e-01,  7.95669016e-01, -1.24957601e-01,\n",
       "         9.90221459e-01,  7.90590793e-01],\n",
       "       [ 9.81517269e-01,  2.24968346e+00,  1.72626612e+00,\n",
       "         1.67260991e+00,  1.31648267e+00],\n",
       "       [ 1.00461179e+00,  2.24968346e+00, -1.05056946e+00,\n",
       "         1.78634131e+00,  1.44795564e+00],\n",
       "       [ 1.02770632e+00,  1.89829664e-01, -1.97618132e+00,\n",
       "         7.05892939e-01,  3.96171883e-01],\n",
       "       [ 1.05080084e+00,  1.28034050e+00,  3.37848329e-01,\n",
       "         1.10395287e+00,  1.44795564e+00],\n",
       "       [ 1.07389537e+00, -2.94841818e-01, -5.87763531e-01,\n",
       "         6.49027235e-01,  1.05353673e+00],\n",
       "       [ 1.09698989e+00,  2.24968346e+00, -5.87763531e-01,\n",
       "         1.67260991e+00,  1.05353673e+00],\n",
       "       [ 1.12008441e+00,  5.53333275e-01, -8.19166497e-01,\n",
       "         6.49027235e-01,  7.90590793e-01],\n",
       "       [ 1.14317894e+00,  1.03800476e+00,  5.69251294e-01,\n",
       "         1.10395287e+00,  1.18500970e+00],\n",
       "       [ 1.16627346e+00,  1.64384411e+00,  3.37848329e-01,\n",
       "         1.27454998e+00,  7.90590793e-01],\n",
       "       [ 1.18936799e+00,  4.32165405e-01, -5.87763531e-01,\n",
       "         5.92161531e-01,  7.90590793e-01],\n",
       "       [ 1.21246251e+00,  3.10997534e-01, -1.24957601e-01,\n",
       "         6.49027235e-01,  7.90590793e-01],\n",
       "       [ 1.23555703e+00,  6.74501145e-01, -5.87763531e-01,\n",
       "         1.04708716e+00,  1.18500970e+00],\n",
       "       [ 1.25865156e+00,  1.64384411e+00, -1.24957601e-01,\n",
       "         1.16081857e+00,  5.27644853e-01],\n",
       "       [ 1.28174608e+00,  1.88617985e+00, -5.87763531e-01,\n",
       "         1.33141568e+00,  9.22063763e-01],\n",
       "       [ 1.30484061e+00,  2.49201920e+00,  1.72626612e+00,\n",
       "         1.50201279e+00,  1.05353673e+00],\n",
       "       [ 1.32793513e+00,  6.74501145e-01, -5.87763531e-01,\n",
       "         1.04708716e+00,  1.31648267e+00],\n",
       "       [ 1.35102965e+00,  5.53333275e-01, -5.87763531e-01,\n",
       "         7.62758643e-01,  3.96171883e-01],\n",
       "       [ 1.37412418e+00,  3.10997534e-01, -1.05056946e+00,\n",
       "         1.04708716e+00,  2.64698913e-01],\n",
       "       [ 1.39721870e+00,  2.24968346e+00, -1.24957601e-01,\n",
       "         1.33141568e+00,  1.44795564e+00],\n",
       "       [ 1.42031323e+00,  5.53333275e-01,  8.00654259e-01,\n",
       "         1.04708716e+00,  1.57942861e+00],\n",
       "       [ 1.44340775e+00,  6.74501145e-01,  1.06445364e-01,\n",
       "         9.90221459e-01,  7.90590793e-01],\n",
       "       [ 1.46650227e+00,  1.89829664e-01, -1.24957601e-01,\n",
       "         5.92161531e-01,  7.90590793e-01],\n",
       "       [ 1.48959680e+00,  1.28034050e+00,  1.06445364e-01,\n",
       "         9.33355755e-01,  1.18500970e+00],\n",
       "       [ 1.51269132e+00,  1.03800476e+00,  1.06445364e-01,\n",
       "         1.04708716e+00,  1.57942861e+00],\n",
       "       [ 1.53578584e+00,  1.28034050e+00,  1.06445364e-01,\n",
       "         7.62758643e-01,  1.44795564e+00],\n",
       "       [ 1.55888037e+00, -5.25060772e-02, -8.19166497e-01,\n",
       "         7.62758643e-01,  9.22063763e-01],\n",
       "       [ 1.58197489e+00,  1.15917263e+00,  3.37848329e-01,\n",
       "         1.21768427e+00,  1.44795564e+00],\n",
       "       [ 1.60506942e+00,  1.03800476e+00,  5.69251294e-01,\n",
       "         1.10395287e+00,  1.71090158e+00],\n",
       "       [ 1.62816394e+00,  1.03800476e+00, -1.24957601e-01,\n",
       "         8.19624347e-01,  1.44795564e+00],\n",
       "       [ 1.65125846e+00,  5.53333275e-01, -1.28197243e+00,\n",
       "         7.05892939e-01,  9.22063763e-01],\n",
       "       [ 1.67435299e+00,  7.95669016e-01, -1.24957601e-01,\n",
       "         8.19624347e-01,  1.05353673e+00],\n",
       "       [ 1.69744751e+00,  4.32165405e-01,  8.00654259e-01,\n",
       "         9.33355755e-01,  1.44795564e+00],\n",
       "       [ 1.72054204e+00,  6.86617933e-02, -1.24957601e-01,\n",
       "         7.62758643e-01,  7.90590793e-01]])"
      ]
     },
     "execution_count": 13,
     "metadata": {},
     "output_type": "execute_result"
    }
   ],
   "source": [
    "sc_x\n"
   ]
  },
  {
   "cell_type": "code",
   "execution_count": 14,
   "id": "177801ef",
   "metadata": {},
   "outputs": [
    {
     "name": "stdout",
     "output_type": "stream",
     "text": [
      "****************Training Data Shape********************\n",
      "\n",
      "Training data-X- Shape:\t (112, 5)\n",
      "\n",
      "Training data-y- Shape:\t (112, 1)\n",
      "\n",
      "****************Testing Data Shape********************\n",
      "\n",
      "Testing data(x-Input) Shape:\t (38, 5)\n",
      "\n",
      "Testing data(y-Outcome) Shape:\t (38, 1)\n"
     ]
    }
   ],
   "source": [
    "from sklearn.model_selection import train_test_split\n",
    "xtrain,xtest,ytrain,ytest=train_test_split(sc_x,y,test_size=.25,random_state=2)\n",
    "print('****************Training Data Shape********************\\n')\n",
    "print('Training data-X- Shape:\\t',xtrain.shape)\n",
    "print()\n",
    "print('Training data-y- Shape:\\t',ytrain.shape)\n",
    "print()\n",
    "print('****************Testing Data Shape********************\\n')\n",
    "print('Testing data(x-Input) Shape:\\t',xtest.shape)\n",
    "print()\n",
    "print('Testing data(y-Outcome) Shape:\\t',ytest.shape)\n"
   ]
  },
  {
   "cell_type": "code",
   "execution_count": 15,
   "id": "287e4349",
   "metadata": {},
   "outputs": [
    {
     "name": "stdout",
     "output_type": "stream",
     "text": [
      "Training the model\n",
      "\n",
      "[LibLinear]Predicted Label for the input samples:\n",
      " [0 0 2 0 0 2 0 2 2 0 0 0 0 0 2 1 1 2 2 1 1 1 2 1 1 0 0 2 0 2 2 0 1 2 1 0 2\n",
      " 2]\n",
      "\n",
      "Testing is completed\n",
      "\n",
      "Testing samples are: \t 38\n",
      "********************Performance Measures for Logistic Regression Class***********************\n",
      "Accuracy Score:\t\n",
      " 0.8947368421052632\n",
      "\n",
      "================================================================================\n",
      "Confusion Matrix:\n",
      " [[15  1  0]\n",
      " [ 0  8  3]\n",
      " [ 0  0 11]]\n",
      "\n",
      "================================================================================\n",
      "Classification Report:\n",
      "               precision    recall  f1-score   support\n",
      "\n",
      "           0       1.00      0.94      0.97        16\n",
      "           1       0.89      0.73      0.80        11\n",
      "           2       0.79      1.00      0.88        11\n",
      "\n",
      "    accuracy                           0.89        38\n",
      "   macro avg       0.89      0.89      0.88        38\n",
      "weighted avg       0.91      0.89      0.89        38\n",
      "\n",
      "================================================================================\n"
     ]
    },
    {
     "name": "stderr",
     "output_type": "stream",
     "text": [
      "C:\\ProgramData\\anaconda3-1\\Lib\\site-packages\\sklearn\\utils\\validation.py:1184: DataConversionWarning: A column-vector y was passed when a 1d array was expected. Please change the shape of y to (n_samples, ), for example using ravel().\n",
      "  y = column_or_1d(y, warn=True)\n"
     ]
    }
   ],
   "source": [
    "from sklearn.linear_model import LogisticRegression\n",
    "from sklearn.metrics import accuracy_score\n",
    "from sklearn.metrics import confusion_matrix\n",
    "from sklearn.metrics import classification_report\n",
    "#invoke the log reg algorithm from sklearn\n",
    "log_reg=LogisticRegression(solver='liblinear',verbose=2)\n",
    "#Train the model\n",
    "print('Training the model\\n')\n",
    "log_reg.fit(xtrain,ytrain)\n",
    "#Test the model\n",
    "ypred=log_reg.predict(xtest)\n",
    "print('Predicted Label for the input samples:\\n',ypred)\n",
    "print()\n",
    "print('Testing is completed\\n')\n",
    "print('Testing samples are: \\t',len(ypred))\n",
    "print('********************Performance Measures for Logistic Regression Class***********************')\n",
    "print('Accuracy Score:\\t\\n',accuracy_score(ytest,ypred))\n",
    "print()\n",
    "print('='*80)\n",
    "print('Confusion Matrix:\\n',confusion_matrix(ytest,ypred))\n",
    "print()\n",
    "print('='*80)\n",
    "print('Classification Report:\\n',classification_report(ytest,ypred))\n",
    "print('='*80)"
   ]
  },
  {
   "cell_type": "code",
   "execution_count": 16,
   "id": "9c06b691",
   "metadata": {},
   "outputs": [
    {
     "name": "stdout",
     "output_type": "stream",
     "text": [
      "****************Training Data Shape********************\n",
      "\n",
      "Training data-X- Shape:\t (112, 5)\n",
      "\n",
      "Training data-y- Shape:\t (112, 1)\n",
      "\n",
      "****************Testing Data Shape********************\n",
      "\n",
      "Testing data(x-Input) Shape:\t (38, 5)\n",
      "\n",
      "Testing data(y-Outcome) Shape:\t (38, 1)\n"
     ]
    }
   ],
   "source": [
    "from sklearn.preprocessing import MinMaxScaler\n",
    "mm_sc=MinMaxScaler()\n",
    "mm_x=mm_sc.fit_transform(x)\n",
    "from sklearn.model_selection import train_test_split\n",
    "xtrain,xtest,ytrain,ytest=train_test_split(mm_x,y,test_size=.25,random_state=2)\n",
    "print('****************Training Data Shape********************\\n')\n",
    "print('Training data-X- Shape:\\t',xtrain.shape)\n",
    "print()\n",
    "print('Training data-y- Shape:\\t',ytrain.shape)\n",
    "print()\n",
    "print('****************Testing Data Shape********************\\n')\n",
    "print('Testing data(x-Input) Shape:\\t',xtest.shape)\n",
    "print()\n",
    "print('Testing data(y-Outcome) Shape:\\t',ytest.shape)\n"
   ]
  },
  {
   "cell_type": "code",
   "execution_count": 17,
   "id": "b60c51d4",
   "metadata": {},
   "outputs": [
    {
     "name": "stdout",
     "output_type": "stream",
     "text": [
      "Training the model\n",
      "\n",
      "[LibLinear]Predicted Label for the input samples:\n",
      " [0 0 2 0 0 2 0 2 2 0 0 0 0 0 2 1 0 2 2 1 2 1 2 2 1 0 0 2 0 2 2 0 1 2 2 0 2\n",
      " 2]\n",
      "\n",
      "Testing is completed\n",
      "\n",
      "Testing samples are: \t 38\n",
      "********************Performance Measures for Logistic Regression Class**************************\n",
      "Accuracy Score:\t\n",
      " 0.8421052631578947\n",
      "\n",
      "================================================================================\n",
      "Confusion Matrix:\n",
      " [[16  0  0]\n",
      " [ 0  5  6]\n",
      " [ 0  0 11]]\n",
      "\n",
      "================================================================================\n",
      "Classification Report:\n",
      "               precision    recall  f1-score   support\n",
      "\n",
      "           0       1.00      1.00      1.00        16\n",
      "           1       1.00      0.45      0.62        11\n",
      "           2       0.65      1.00      0.79        11\n",
      "\n",
      "    accuracy                           0.84        38\n",
      "   macro avg       0.88      0.82      0.80        38\n",
      "weighted avg       0.90      0.84      0.83        38\n",
      "\n",
      "================================================================================\n"
     ]
    },
    {
     "name": "stderr",
     "output_type": "stream",
     "text": [
      "C:\\ProgramData\\anaconda3-1\\Lib\\site-packages\\sklearn\\utils\\validation.py:1184: DataConversionWarning: A column-vector y was passed when a 1d array was expected. Please change the shape of y to (n_samples, ), for example using ravel().\n",
      "  y = column_or_1d(y, warn=True)\n"
     ]
    }
   ],
   "source": [
    "from sklearn.linear_model import LogisticRegression\n",
    "from sklearn.metrics import accuracy_score\n",
    "from sklearn.metrics import confusion_matrix\n",
    "from sklearn.metrics import classification_report\n",
    "#invoke the log reg algorithm from sklearn\n",
    "log_reg=LogisticRegression(solver='liblinear',verbose=2)\n",
    "#Train the model\n",
    "print('Training the model\\n')\n",
    "log_reg.fit(xtrain,ytrain)\n",
    "#Test the model\n",
    "ypred=log_reg.predict(xtest)\n",
    "print('Predicted Label for the input samples:\\n',ypred)\n",
    "print()\n",
    "print('Testing is completed\\n')\n",
    "print('Testing samples are: \\t',len(ypred))\n",
    "print('********************Performance Measures for Logistic Regression Class**************************')\n",
    "print('Accuracy Score:\\t\\n',accuracy_score(ytest,ypred))\n",
    "print()\n",
    "print('='*80)\n",
    "print('Confusion Matrix:\\n',confusion_matrix(ytest,ypred))\n",
    "print()\n",
    "print('='*80)\n",
    "print('Classification Report:\\n',classification_report(ytest,ypred))\n",
    "print('='*80)"
   ]
  },
  {
   "cell_type": "markdown",
   "id": "b0e05566",
   "metadata": {},
   "source": [
    "# 2. Feature Engineering Techniques - Handling the imbalance data"
   ]
  },
  {
   "cell_type": "code",
   "execution_count": 19,
   "id": "16deb97f",
   "metadata": {},
   "outputs": [
    {
     "data": {
      "text/plain": [
       "<Axes: ylabel='count'>"
      ]
     },
     "execution_count": 19,
     "metadata": {},
     "output_type": "execute_result"
    },
    {
     "data": {
      "image/png": "[encoded data removed]",
      "text/plain": [
       "<Figure size 640x480 with 1 Axes>"
      ]
     },
     "metadata": {},
     "output_type": "display_data"
    }
   ],
   "source": [
    "sns.countplot(data['Species'])"
   ]
  },
  {
   "cell_type": "markdown",
   "id": "7dc20f24",
   "metadata": {},
   "source": [
    "# Upsample:"
   ]
  },
  {
   "cell_type": "code",
   "execution_count": 20,
   "id": "f5997012",
   "metadata": {},
   "outputs": [
    {
     "name": "stdout",
     "output_type": "stream",
     "text": [
      "Majority lenght:\t 50\n",
      "\n",
      "Minority Length:\t 50\n",
      "====================================================================================================\n",
      "(550, 6)\n",
      "\n",
      "Axes(0.125,0.11;0.775x0.77)\n"
     ]
    },
    {
     "data": {
      "image/png": "[encoded data removed]",
      "text/plain": [
       "<Figure size 640x480 with 1 Axes>"
      ]
     },
     "metadata": {},
     "output_type": "display_data"
    }
   ],
   "source": [
    "from sklearn.utils import resample\n",
    "df_majority=data[data.Species==0]\n",
    "df_minority=data[data.Species==1]\n",
    "print('Majority lenght:\\t',len(df_majority))\n",
    "print()\n",
    "print('Minority Length:\\t',len(df_minority))\n",
    "print('='*100)\n",
    "#Upsample\n",
    "df_minority_upsampled=resample(df_minority,\n",
    "                               replace=True, # sample with replacement\n",
    "                               n_samples=500, #to match the majority class\n",
    "                               random_state=12\n",
    "                              )\n",
    "df_upsampled=pd.concat([df_majority,df_minority_upsampled])\n",
    "print(df_upsampled.shape)\n",
    "print()\n",
    "print(sns.countplot(df_upsampled['Species']))\n"
   ]
  },
  {
   "cell_type": "code",
   "execution_count": 21,
   "id": "d938073a",
   "metadata": {},
   "outputs": [
    {
     "data": {
      "text/html": [
       "<div>\n",
       "<style scoped>\n",
       "    .dataframe tbody tr th:only-of-type {\n",
       "        vertical-align: middle;\n",
       "    }\n",
       "\n",
       "    .dataframe tbody tr th {\n",
       "        vertical-align: top;\n",
       "    }\n",
       "\n",
       "    .dataframe thead th {\n",
       "        text-align: right;\n",
       "    }\n",
       "</style>\n",
       "<table border=\"1\" class=\"dataframe\">\n",
       "  <thead>\n",
       "    <tr style=\"text-align: right;\">\n",
       "      <th></th>\n",
       "      <th>Id</th>\n",
       "      <th>SepalLengthCm</th>\n",
       "      <th>SepalWidthCm</th>\n",
       "      <th>PetalLengthCm</th>\n",
       "      <th>PetalWidthCm</th>\n",
       "      <th>Species</th>\n",
       "    </tr>\n",
       "  </thead>\n",
       "  <tbody>\n",
       "    <tr>\n",
       "      <th>0</th>\n",
       "      <td>1</td>\n",
       "      <td>5.1</td>\n",
       "      <td>3.5</td>\n",
       "      <td>1.4</td>\n",
       "      <td>0.2</td>\n",
       "      <td>0</td>\n",
       "    </tr>\n",
       "    <tr>\n",
       "      <th>1</th>\n",
       "      <td>2</td>\n",
       "      <td>4.9</td>\n",
       "      <td>3.0</td>\n",
       "      <td>1.4</td>\n",
       "      <td>0.2</td>\n",
       "      <td>0</td>\n",
       "    </tr>\n",
       "    <tr>\n",
       "      <th>2</th>\n",
       "      <td>3</td>\n",
       "      <td>4.7</td>\n",
       "      <td>3.2</td>\n",
       "      <td>1.3</td>\n",
       "      <td>0.2</td>\n",
       "      <td>0</td>\n",
       "    </tr>\n",
       "    <tr>\n",
       "      <th>3</th>\n",
       "      <td>4</td>\n",
       "      <td>4.6</td>\n",
       "      <td>3.1</td>\n",
       "      <td>1.5</td>\n",
       "      <td>0.2</td>\n",
       "      <td>0</td>\n",
       "    </tr>\n",
       "    <tr>\n",
       "      <th>4</th>\n",
       "      <td>5</td>\n",
       "      <td>5.0</td>\n",
       "      <td>3.6</td>\n",
       "      <td>1.4</td>\n",
       "      <td>0.2</td>\n",
       "      <td>0</td>\n",
       "    </tr>\n",
       "  </tbody>\n",
       "</table>\n",
       "</div>"
      ],
      "text/plain": [
       "   Id  SepalLengthCm  SepalWidthCm  PetalLengthCm  PetalWidthCm  Species\n",
       "0   1            5.1           3.5            1.4           0.2        0\n",
       "1   2            4.9           3.0            1.4           0.2        0\n",
       "2   3            4.7           3.2            1.3           0.2        0\n",
       "3   4            4.6           3.1            1.5           0.2        0\n",
       "4   5            5.0           3.6            1.4           0.2        0"
      ]
     },
     "execution_count": 21,
     "metadata": {},
     "output_type": "execute_result"
    }
   ],
   "source": [
    "df_upsampled.head()"
   ]
  },
  {
   "cell_type": "code",
   "execution_count": 22,
   "id": "bd4d4624",
   "metadata": {},
   "outputs": [
    {
     "data": {
      "text/plain": [
       "(550, 6)"
      ]
     },
     "execution_count": 22,
     "metadata": {},
     "output_type": "execute_result"
    }
   ],
   "source": [
    "df_upsampled.shape"
   ]
  },
  {
   "cell_type": "code",
   "execution_count": 23,
   "id": "edd037ba",
   "metadata": {},
   "outputs": [
    {
     "name": "stdout",
     "output_type": "stream",
     "text": [
      "****************Training Data Shape********************\n",
      "\n",
      "Training data-X- Shape:\t (412, 5)\n",
      "\n",
      "Training data-y- Shape:\t (412, 1)\n",
      "\n",
      "****************Testing Data Shape********************\n",
      "\n",
      "Testing data(x-Input) Shape:\t (138, 5)\n",
      "\n",
      "Testing data(y-Outcome) Shape:\t (138, 1)\n"
     ]
    }
   ],
   "source": [
    "x=df_upsampled.iloc[:,:-1]\n",
    "y=df_upsampled.iloc[:,-1:]\n",
    "xtrain,xtest,ytrain,ytest=train_test_split(x,y,test_size=.25,random_state=2)\n",
    "print('****************Training Data Shape********************\\n')\n",
    "print('Training data-X- Shape:\\t',xtrain.shape)\n",
    "print()\n",
    "print('Training data-y- Shape:\\t',ytrain.shape)\n",
    "print()\n",
    "print('****************Testing Data Shape********************\\n')\n",
    "print('Testing data(x-Input) Shape:\\t',xtest.shape)\n",
    "print()\n",
    "print('Testing data(y-Outcome) Shape:\\t',ytest.shape)"
   ]
  },
  {
   "cell_type": "code",
   "execution_count": 24,
   "id": "4eb6600d",
   "metadata": {},
   "outputs": [
    {
     "name": "stdout",
     "output_type": "stream",
     "text": [
      "Training the model\n",
      "\n",
      "[LibLinear]Predicted Label for the input samples:\n",
      " [1 1 1 1 1 1 1 1 0 1 1 1 1 1 1 1 1 1 1 1 0 1 1 1 1 1 1 1 1 1 1 1 1 1 1 1 1\n",
      " 1 1 1 1 1 1 1 1 1 1 1 1 1 1 1 1 1 0 1 1 1 1 1 1 1 1 1 1 1 1 1 1 0 1 1 1 1\n",
      " 1 1 1 1 1 1 0 1 1 1 0 1 1 1 1 1 1 1 0 0 1 1 1 0 1 1 1 1 0 0 1 1 1 0 1 1 1\n",
      " 1 1 1 1 0 1 1 1 1 1 1 1 1 1 1 1 1 1 1 1 1 1 1 1 1 1 1]\n",
      "\n",
      "Testing is completed\n",
      "\n",
      "Testing samples are: \t 138\n",
      "********************Performance Measures for Logistic Regression Class****************\n",
      "Accuracy Score:\t\n",
      " 1.0\n",
      "\n",
      "================================================================================\n",
      "Confusion Matrix:\n",
      " [[ 13   0]\n",
      " [  0 125]]\n",
      "\n",
      "================================================================================\n",
      "Classification Report:\n",
      "               precision    recall  f1-score   support\n",
      "\n",
      "           0       1.00      1.00      1.00        13\n",
      "           1       1.00      1.00      1.00       125\n",
      "\n",
      "    accuracy                           1.00       138\n",
      "   macro avg       1.00      1.00      1.00       138\n",
      "weighted avg       1.00      1.00      1.00       138\n",
      "\n",
      "================================================================================\n"
     ]
    },
    {
     "name": "stderr",
     "output_type": "stream",
     "text": [
      "C:\\ProgramData\\anaconda3-1\\Lib\\site-packages\\sklearn\\utils\\validation.py:1184: DataConversionWarning: A column-vector y was passed when a 1d array was expected. Please change the shape of y to (n_samples, ), for example using ravel().\n",
      "  y = column_or_1d(y, warn=True)\n"
     ]
    }
   ],
   "source": [
    "from sklearn.linear_model import LogisticRegression\n",
    "from sklearn.metrics import accuracy_score\n",
    "from sklearn.metrics import confusion_matrix\n",
    "from sklearn.metrics import classification_report\n",
    "#invoke the log reg algorithm from sklearn\n",
    "log_reg=LogisticRegression(solver='liblinear',verbose=2)\n",
    "#Train the model\n",
    "print('Training the model\\n')\n",
    "log_reg.fit(xtrain,ytrain)\n",
    "#Test the model\n",
    "ypred=log_reg.predict(xtest)\n",
    "print('Predicted Label for the input samples:\\n',ypred)\n",
    "print()\n",
    "print('Testing is completed\\n')\n",
    "print('Testing samples are: \\t',len(ypred))\n",
    "print('********************Performance Measures for Logistic Regression Class****************')\n",
    "print('Accuracy Score:\\t\\n',accuracy_score(ytest,ypred))\n",
    "print()\n",
    "print('='*80)\n",
    "print('Confusion Matrix:\\n',confusion_matrix(ytest,ypred))\n",
    "print()\n",
    "print('='*80)\n",
    "print('Classification Report:\\n',classification_report(ytest,ypred))\n",
    "print('='*80)"
   ]
  },
  {
   "cell_type": "markdown",
   "id": "f2bc49ba",
   "metadata": {},
   "source": [
    "# Downsample"
   ]
  },
  {
   "cell_type": "code",
   "execution_count": 25,
   "id": "31a8d638",
   "metadata": {},
   "outputs": [
    {
     "name": "stdout",
     "output_type": "stream",
     "text": [
      "Majority lenght:\t 50\n",
      "\n",
      "Minority Length:\t 50\n",
      "====================================================================================================\n"
     ]
    },
    {
     "ename": "ValueError",
     "evalue": "Cannot sample 268 out of arrays with dim 50 when replace is False",
     "output_type": "error",
     "traceback": [
      "\u001b[1;31m---------------------------------------------------------------------------\u001b[0m",
      "\u001b[1;31mValueError\u001b[0m                                Traceback (most recent call last)",
      "Cell \u001b[1;32mIn[25], line 9\u001b[0m\n\u001b[0;32m      7\u001b[0m \u001b[38;5;28mprint\u001b[39m(\u001b[38;5;124m'\u001b[39m\u001b[38;5;124m=\u001b[39m\u001b[38;5;124m'\u001b[39m\u001b[38;5;241m*\u001b[39m\u001b[38;5;241m100\u001b[39m)\n\u001b[0;32m      8\u001b[0m \u001b[38;5;66;03m#Upsample\u001b[39;00m\n\u001b[1;32m----> 9\u001b[0m df_majority_downsampled\u001b[38;5;241m=\u001b[39mresample(df_majority,\n\u001b[0;32m     10\u001b[0m                                  replace\u001b[38;5;241m=\u001b[39m\u001b[38;5;28;01mFalse\u001b[39;00m, \u001b[38;5;66;03m# sample with replacement\u001b[39;00m\n\u001b[0;32m     11\u001b[0m                                  n_samples\u001b[38;5;241m=\u001b[39m\u001b[38;5;241m268\u001b[39m, \u001b[38;5;66;03m#to match the majority class\u001b[39;00m\n\u001b[0;32m     12\u001b[0m                                  random_state\u001b[38;5;241m=\u001b[39m\u001b[38;5;241m12\u001b[39m\n\u001b[0;32m     13\u001b[0m                                 )\n\u001b[0;32m     14\u001b[0m df_downsampled\u001b[38;5;241m=\u001b[39mpd\u001b[38;5;241m.\u001b[39mconcat([df_majority_downsampled,df_minority])\n\u001b[0;32m     15\u001b[0m \u001b[38;5;28mprint\u001b[39m(df_downsampled\u001b[38;5;241m.\u001b[39mshape)\n",
      "File \u001b[1;32mC:\\ProgramData\\anaconda3-1\\Lib\\site-packages\\sklearn\\utils\\_param_validation.py:211\u001b[0m, in \u001b[0;36mvalidate_params.<locals>.decorator.<locals>.wrapper\u001b[1;34m(*args, **kwargs)\u001b[0m\n\u001b[0;32m    205\u001b[0m \u001b[38;5;28;01mtry\u001b[39;00m:\n\u001b[0;32m    206\u001b[0m     \u001b[38;5;28;01mwith\u001b[39;00m config_context(\n\u001b[0;32m    207\u001b[0m         skip_parameter_validation\u001b[38;5;241m=\u001b[39m(\n\u001b[0;32m    208\u001b[0m             prefer_skip_nested_validation \u001b[38;5;129;01mor\u001b[39;00m global_skip_validation\n\u001b[0;32m    209\u001b[0m         )\n\u001b[0;32m    210\u001b[0m     ):\n\u001b[1;32m--> 211\u001b[0m         \u001b[38;5;28;01mreturn\u001b[39;00m func(\u001b[38;5;241m*\u001b[39margs, \u001b[38;5;241m*\u001b[39m\u001b[38;5;241m*\u001b[39mkwargs)\n\u001b[0;32m    212\u001b[0m \u001b[38;5;28;01mexcept\u001b[39;00m InvalidParameterError \u001b[38;5;28;01mas\u001b[39;00m e:\n\u001b[0;32m    213\u001b[0m     \u001b[38;5;66;03m# When the function is just a wrapper around an estimator, we allow\u001b[39;00m\n\u001b[0;32m    214\u001b[0m     \u001b[38;5;66;03m# the function to delegate validation to the estimator, but we replace\u001b[39;00m\n\u001b[0;32m    215\u001b[0m     \u001b[38;5;66;03m# the name of the estimator by the name of the function in the error\u001b[39;00m\n\u001b[0;32m    216\u001b[0m     \u001b[38;5;66;03m# message to avoid confusion.\u001b[39;00m\n\u001b[0;32m    217\u001b[0m     msg \u001b[38;5;241m=\u001b[39m re\u001b[38;5;241m.\u001b[39msub(\n\u001b[0;32m    218\u001b[0m         \u001b[38;5;124mr\u001b[39m\u001b[38;5;124m\"\u001b[39m\u001b[38;5;124mparameter of \u001b[39m\u001b[38;5;124m\\\u001b[39m\u001b[38;5;124mw+ must be\u001b[39m\u001b[38;5;124m\"\u001b[39m,\n\u001b[0;32m    219\u001b[0m         \u001b[38;5;124mf\u001b[39m\u001b[38;5;124m\"\u001b[39m\u001b[38;5;124mparameter of \u001b[39m\u001b[38;5;132;01m{\u001b[39;00mfunc\u001b[38;5;241m.\u001b[39m\u001b[38;5;18m__qualname__\u001b[39m\u001b[38;5;132;01m}\u001b[39;00m\u001b[38;5;124m must be\u001b[39m\u001b[38;5;124m\"\u001b[39m,\n\u001b[0;32m    220\u001b[0m         \u001b[38;5;28mstr\u001b[39m(e),\n\u001b[0;32m    221\u001b[0m     )\n",
      "File \u001b[1;32mC:\\ProgramData\\anaconda3-1\\Lib\\site-packages\\sklearn\\utils\\__init__.py:572\u001b[0m, in \u001b[0;36mresample\u001b[1;34m(replace, n_samples, random_state, stratify, *arrays)\u001b[0m\n\u001b[0;32m    570\u001b[0m     max_n_samples \u001b[38;5;241m=\u001b[39m n_samples\n\u001b[0;32m    571\u001b[0m \u001b[38;5;28;01melif\u001b[39;00m (max_n_samples \u001b[38;5;241m>\u001b[39m n_samples) \u001b[38;5;129;01mand\u001b[39;00m (\u001b[38;5;129;01mnot\u001b[39;00m replace):\n\u001b[1;32m--> 572\u001b[0m     \u001b[38;5;28;01mraise\u001b[39;00m \u001b[38;5;167;01mValueError\u001b[39;00m(\n\u001b[0;32m    573\u001b[0m         \u001b[38;5;124m\"\u001b[39m\u001b[38;5;124mCannot sample \u001b[39m\u001b[38;5;132;01m%d\u001b[39;00m\u001b[38;5;124m out of arrays with dim \u001b[39m\u001b[38;5;132;01m%d\u001b[39;00m\u001b[38;5;124m when replace is False\u001b[39m\u001b[38;5;124m\"\u001b[39m\n\u001b[0;32m    574\u001b[0m         \u001b[38;5;241m%\u001b[39m (max_n_samples, n_samples)\n\u001b[0;32m    575\u001b[0m     )\n\u001b[0;32m    577\u001b[0m check_consistent_length(\u001b[38;5;241m*\u001b[39marrays)\n\u001b[0;32m    579\u001b[0m \u001b[38;5;28;01mif\u001b[39;00m stratify \u001b[38;5;129;01mis\u001b[39;00m \u001b[38;5;28;01mNone\u001b[39;00m:\n",
      "\u001b[1;31mValueError\u001b[0m: Cannot sample 268 out of arrays with dim 50 when replace is False"
     ]
    }
   ],
   "source": [
    "from sklearn.utils import resample\n",
    "df_majority=data[data.Species==0]\n",
    "df_minority=data[data.Species==1]\n",
    "print('Majority lenght:\\t',len(df_majority))\n",
    "print()\n",
    "print('Minority Length:\\t',len(df_minority))\n",
    "print('='*100)\n",
    "#Upsample\n",
    "df_majority_downsampled=resample(df_majority,\n",
    "                                 replace=False, # sample with replacement\n",
    "                                 n_samples=268, #to match the majority class\n",
    "                                 random_state=12\n",
    "                                )\n",
    "df_downsampled=pd.concat([df_majority_downsampled,df_minority])\n",
    "print(df_downsampled.shape)\n",
    "print()\n",
    "print(sns.countplot(df_downsampled['Species']))\n"
   ]
  },
  {
   "cell_type": "code",
   "execution_count": null,
   "id": "fd88366e",
   "metadata": {},
   "outputs": [],
   "source": []
  }
 ],
 "metadata": {
  "kernelspec": {
   "display_name": "Python 3 (ipykernel)",
   "language": "python",
   "name": "python3"
  },
  "language_info": {
   "codemirror_mode": {
    "name": "ipython",
    "version": 3
   },
   "file_extension": ".py",
   "mimetype": "text/x-python",
   "name": "python",
   "nbconvert_exporter": "python",
   "pygments_lexer": "ipython3",
   "version": "3.11.4"
  }
 },
 "nbformat": 4,
 "nbformat_minor": 5
}
