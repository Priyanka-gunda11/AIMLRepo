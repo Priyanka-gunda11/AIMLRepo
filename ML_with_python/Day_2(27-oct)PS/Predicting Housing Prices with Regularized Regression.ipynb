{
 "cells": [
  {
   "cell_type": "markdown",
   "id": "2d216e91",
   "metadata": {},
   "source": [
    "# Predicting Housing Prices with Regularized Regression"
   ]
  },
  {
   "cell_type": "markdown",
   "id": "0ec1e00b",
   "metadata": {},
   "source": [
    "1. Data Preparation:\n",
    "\n",
    "a. Load the dataset using pandas.\n",
    "b. Explore and clean the data. Handle missing values and outliers.\n",
    "c. Split the dataset into training and testing sets."
   ]
  },
  {
   "cell_type": "code",
   "execution_count": 18,
   "id": "1a72f263",
   "metadata": {},
   "outputs": [
    {
     "data": {
      "text/plain": [
       "Education             0\n",
       "JoiningYear           0\n",
       "City                  0\n",
       "Projects Completed    0\n",
       "Age                   0\n",
       "Gender                0\n",
       "EverBenched           0\n",
       "Experience            0\n",
       "LeaveOrNot            0\n",
       "dtype: int64"
      ]
     },
     "execution_count": 18,
     "metadata": {},
     "output_type": "execute_result"
    }
   ],
   "source": [
    "import pandas as pd\n",
    "from sklearn.model_selection import train_test_split\n",
    "\n",
    "# Load the dataset\n",
    "df = pd.read_csv('housing.csv')\n",
    "\n",
    "#checking the missing values\n",
    "data.isna().sum()\n",
    "\n",
    "df=data.fillna(method='bfill')\n",
    "data.isna().sum()\n",
    "\n"
   ]
  },
  {
   "cell_type": "code",
   "execution_count": 21,
   "id": "c24b4882",
   "metadata": {},
   "outputs": [
    {
     "name": "stdout",
     "output_type": "stream",
     "text": [
      "Training data -X - shape:\t (436, 4)\n",
      "\n",
      "Training data -Y - shape:\t (9,)\n",
      "\n",
      "Testing data shape\n",
      "\n",
      "testing data(x-input) shape :\t (109, 4)\n",
      "\n",
      "testing data(Y-input) shape :\t (109,)\n"
     ]
    }
   ],
   "source": [
    "import pandas as pd\n",
    "from sklearn.model_selection import train_test_split\n",
    "\n",
    "# Load the dataset\n",
    "df = pd.read_csv('housing.csv')\n",
    "\n",
    "# Define your features (X) and target vaiable (y)\n",
    "X = df[['area', 'bedrooms', 'bathrooms', 'stories']]  \n",
    "y = df['price']\n",
    "\n",
    "# Split the data into training and testing sets\n",
    "X_train, X_test, y_train, y_test = train_test_split(X, y, test_size=0.2, random_state=42)\n",
    "\n",
    "print('Training data -X - shape:\\t',X_train.shape)\n",
    "print()\n",
    "print('Training data -Y - shape:\\t',_.shape)\n",
    "print()\n",
    "print('Testing data shape\\n')\n",
    "print('testing data(x-input) shape :\\t',X_test.shape)\n",
    "print()\n",
    "print('testing data(Y-input) shape :\\t',y_test.shape)"
   ]
  },
  {
   "cell_type": "code",
   "execution_count": null,
   "id": "6d42ec86",
   "metadata": {},
   "outputs": [],
   "source": []
  },
  {
   "cell_type": "markdown",
   "id": "34a0315a",
   "metadata": {},
   "source": [
    "2. Implement Lasso Regression:\n",
    "\n",
    "a. Choose a set of features (independent variables, X) and house prices as the dependent variable (y).\n",
    "b. Implement Lasso regression using scikit-learn to predict house prices based on the selected features.\n",
    "c. Discuss the impact of L1 regularization on feature selection and coefficients."
   ]
  },
  {
   "cell_type": "code",
   "execution_count": 4,
   "id": "f0d0c80b",
   "metadata": {},
   "outputs": [],
   "source": [
    "from sklearn.linear_model import Lasso\n",
    "from sklearn.metrics import mean_absolute_error, mean_squared_error, mean_squared_error\n",
    "\n",
    "# Create a Lasso regression model\n",
    "lasso = Lasso(alpha=0.01)  # You can adjust the alpha (penalty parameter) for regularization\n",
    "\n",
    "# Fit the model to the training data\n",
    "lasso.fit(X_train, y_train)\n",
    "\n",
    "# Make predictions on the test data\n",
    "y_pred = lasso.predict(X_test)\n"
   ]
  },
  {
   "cell_type": "code",
   "execution_count": 10,
   "id": "8123e2c4",
   "metadata": {},
   "outputs": [
    {
     "name": "stdout",
     "output_type": "stream",
     "text": [
      "Predicted House Prices (Lasso Model):\n",
      "Prediction 1: $4954326.83\n"
     ]
    }
   ],
   "source": [
    "# Assuming you have a trained Lasso model (lasso) and new data in a DataFrame (new_data)\n",
    "new_data = pd.DataFrame({\n",
    "    'area': [6000],\n",
    "    'bedrooms': [4],\n",
    "    'bathrooms': [1],\n",
    "    'stories': [2],\n",
    "    # Add values for other features\n",
    "})\n",
    "\n",
    "# Make predictions for new data\n",
    "predicted_prices_lasso = lasso.predict(new_data)\n",
    "\n",
    "print(\"Predicted House Prices (Lasso Model):\")\n",
    "for i, price in enumerate(predicted_prices_lasso):\n",
    "    print(f\"Prediction {i+1}: ${price:.2f}\")\n"
   ]
  },
  {
   "cell_type": "markdown",
   "id": "722a3e4e",
   "metadata": {},
   "source": [
    "3. Evaluate the Lasso Regression Model:\n",
    "\n",
    "a. Calculate the Mean Absolute Error (MAE), Mean Squared Error (MSE), and Root Mean Squared Error (RMSE) for the Lasso regression model.\n",
    "b. Discuss how the Lasso model helps prevent overfitting and reduces the impact of irrelevant features."
   ]
  },
  {
   "cell_type": "code",
   "execution_count": 5,
   "id": "85343d58",
   "metadata": {},
   "outputs": [
    {
     "name": "stdout",
     "output_type": "stream",
     "text": [
      "Mean Absolute Error: 1158970.4803865917\n",
      "Mean Squared Error: 2457741643358.9106\n",
      "Root Mean Squared Error: 1567718.6110265166\n"
     ]
    }
   ],
   "source": [
    "mae = mean_absolute_error(y_test, y_pred)\n",
    "mse = mean_squared_error(y_test, y_pred)\n",
    "rmse = mean_squared_error(y_test, y_pred, squared=False)\n",
    "\n",
    "print(\"Mean Absolute Error:\", mae)\n",
    "print(\"Mean Squared Error:\", mse)\n",
    "print(\"Root Mean Squared Error:\", rmse)\n"
   ]
  },
  {
   "cell_type": "raw",
   "id": "14997ff1",
   "metadata": {},
   "source": [
    " Lasso Regression is a useful technique for predicting house prices, as it not only provides a predictive model but also helps in feature selection and reducing the impact of irrelevant features, which can lead to a more robust and interpretable model. Adjusting the alpha parameter allows you to control the level of regularization and the extent of feature selection in your model."
   ]
  },
  {
   "cell_type": "markdown",
   "id": "347b674f",
   "metadata": {},
   "source": [
    "4. Implement Ridge Regression:\n",
    "\n",
    "a. Select the same set of features as independent variables (X) and house prices as the dependent variable (y).\n",
    "b. Implement Ridge regression using scikit-learn to predict house prices based on the selected features.\n",
    "c. Explain how 12 regularization in Ridge regression differs from L1 regularization in Lasso"
   ]
  },
  {
   "cell_type": "code",
   "execution_count": 13,
   "id": "1525a27c",
   "metadata": {},
   "outputs": [],
   "source": [
    "from sklearn.linear_model import Ridge\n",
    "\n",
    "# Create a Ridge regression model\n",
    "ridge = Ridge(alpha=1.0)  # You can adjust the alpha (penalty parameter) for regularization\n",
    "\n",
    "# Fit the model to the training data\n",
    "ridge.fit(X_train, y_train)\n",
    "\n",
    "# Make predictions on the test data\n",
    "y_pred_ridge = ridge.predict(X_test)\n",
    "\n"
   ]
  },
  {
   "cell_type": "code",
   "execution_count": 12,
   "id": "cdd2ba35",
   "metadata": {},
   "outputs": [
    {
     "name": "stdout",
     "output_type": "stream",
     "text": [
      "Predicted House Prices:\n",
      "Prediction 1: $4961460.04\n"
     ]
    }
   ],
   "source": [
    "# Assuming you have a trained Ridge model (ridge) and new data in a DataFrame (new_data)\n",
    "new_data = pd.DataFrame({\n",
    "    'area': [6000],\n",
    "    'bedrooms': [4],\n",
    "    'bathrooms': [1],\n",
    "    'stories': [2],\n",
    "    # Add values for other features\n",
    "})\n",
    "\n",
    "# Make predictions for new data\n",
    "predicted_prices = ridge.predict(new_data)\n",
    "\n",
    "print(\"Predicted House Prices:\")\n",
    "for i, price in enumerate(predicted_prices):\n",
    "    print(f\"Prediction {i+1}: ${price:.2f}\")"
   ]
  },
  {
   "cell_type": "markdown",
   "id": "9e35ab5d",
   "metadata": {},
   "source": [
    "5. Evaluate the Ridge Regression Model:\n",
    "\n",
    "a. Calculate the MAE, MSE, and RMSE for the Ridge regression model.\n",
    "b. Discuss the benefits of Ridge regression in handling multicollinearity among features and its impact on the model's coefficients."
   ]
  },
  {
   "cell_type": "code",
   "execution_count": 11,
   "id": "368419c4",
   "metadata": {},
   "outputs": [
    {
     "name": "stdout",
     "output_type": "stream",
     "text": [
      "Ridge Regression Metrics:\n",
      "Mean Absolute Error: 1158471.4534767317\n",
      "Mean Squared Error: 2456765538413.5244\n",
      "Root Mean Squared Error: 1567407.266288352\n"
     ]
    }
   ],
   "source": [
    "# Calculate evaluation metrics\n",
    "mae_ridge = mean_absolute_error(y_test, y_pred_ridge)\n",
    "mse_ridge = mean_squared_error(y_test, y_pred_ridge)\n",
    "rmse_ridge = mean_squared_error(y_test, y_pred_ridge, squared=False)\n",
    "\n",
    "print(\"Ridge Regression Metrics:\")\n",
    "print(\"Mean Absolute Error:\", mae_ridge)\n",
    "print(\"Mean Squared Error:\", mse_ridge)\n",
    "print(\"Root Mean Squared Error:\", rmse_ridge)\n"
   ]
  },
  {
   "cell_type": "raw",
   "id": "bbeba655",
   "metadata": {},
   "source": [
    "Ridge regression can help reduce the impact of multicollinearity among features. Multicollinearity occurs when two or more features are highly correlated. Ridge will distribute the weight of multicollinear features more evenly, preventing one feature from dominating the model. While it doesn't set coefficients to zero, it makes them smaller and more stable, reducing the variance in the model."
   ]
  },
  {
   "cell_type": "markdown",
   "id": "5acda95b",
   "metadata": {},
   "source": [
    "6. Model Comparison:\n",
    "\n",
    "a. Compare the results of the Lasso and Ridge regression models.\n",
    "b. Discuss when it is preferable to use Lasso, Ridge, or plain linear regression."
   ]
  },
  {
   "cell_type": "raw",
   "id": "82746b52",
   "metadata": {},
   "source": [
    "Lasso is preferable when you suspect that some features are irrelevant, and you want feature selection. It can be a better choice when you have a high-dimensional dataset and want a simpler, more interpretable model.\n",
    "\n",
    "Ridge is useful when dealing with multicollinearity, as it stabilizes coefficient estimates and prevents overfitting. It's a good choice when all features are potentially relevant but you want to avoid high sensitivity to feature variations."
   ]
  },
  {
   "cell_type": "markdown",
   "id": "4028eb0a",
   "metadata": {},
   "source": [
    "7. Hyperparameter Tuning:\n",
    "\n",
    "a. Explore hyperparameter tuning for Lasso and Ridge, such as the strength of regularization, and discuss how different hyperparameters affect the models."
   ]
  },
  {
   "cell_type": "raw",
   "id": "08d12d0f",
   "metadata": {},
   "source": [
    "For both Lasso and Ridge, the alpha parameter controls the strength of regularization. \n",
    "A lower alpha value reduces regularization, allowing the model to fit the training data more closely."
   ]
  },
  {
   "cell_type": "markdown",
   "id": "d546c5ec",
   "metadata": {},
   "source": [
    "8. Model Improvement:\n",
    "\n",
    "a. Investigate any feature engineering or data preprocessing techniques that can enhance the performance of the regularized regression models."
   ]
  },
  {
   "cell_type": "raw",
   "id": "3ac012c4",
   "metadata": {},
   "source": [
    "Feature engineering can include creating new features, scaling or transforming existing features, and handling categorical variables. "
   ]
  },
  {
   "cell_type": "markdown",
   "id": "772798e4",
   "metadata": {},
   "source": [
    "9. Conclusion:\n",
    "\n",
    "a. Summarize the findings and provide insights into how Lasso and Ridge regression can be valuable tools for estimating house prices and handling complex datasets."
   ]
  },
  {
   "cell_type": "raw",
   "id": "9250689c",
   "metadata": {},
   "source": [
    "Regularized regression techniques like Lasso and Ridge are effective in real estate prediction as they not only provide predictive models but also handle issues like multicollinearity, feature selection, and overfitting. The choice between Lasso and Ridge depends on the specific characteristics of the dataset and the desired trade-off between model complexity and predictive performance."
   ]
  },
  {
   "cell_type": "code",
   "execution_count": null,
   "id": "761ee2d8",
   "metadata": {},
   "outputs": [],
   "source": []
  },
  {
   "cell_type": "code",
   "execution_count": null,
   "id": "e5f74c5f",
   "metadata": {},
   "outputs": [],
   "source": []
  },
  {
   "cell_type": "code",
   "execution_count": null,
   "id": "8416541c",
   "metadata": {},
   "outputs": [],
   "source": []
  },
  {
   "cell_type": "markdown",
   "id": "87c0c621",
   "metadata": {},
   "source": [
    "# Diagnosing and Remedying Heteroscedasticity and Multicollinearity"
   ]
  },
  {
   "cell_type": "markdown",
   "id": "62bc9a2b",
   "metadata": {},
   "source": [
    "1. Initial Linear Regression Model:\n",
    "\n",
    "a. Describe the dataset and the variables you're using for predicting employee performance.\n",
    "b. Implement a simple linear regression model to predict employee performance."
   ]
  },
  {
   "cell_type": "raw",
   "id": "4b23e6a1",
   "metadata": {},
   "source": [
    "a. The dataset includes information on employees, including their experience (in years), education level (measured on a numerical scale), and the number of projects they have completed. The target variable is employee performance"
   ]
  },
  {
   "cell_type": "code",
   "execution_count": 46,
   "id": "4d6690e9",
   "metadata": {},
   "outputs": [],
   "source": [
    "import pandas as pd\n",
    "import numpy as np\n",
    "from sklearn.linear_model import LinearRegression\n",
    "import statsmodels.api as sm\n",
    "from statsmodels.stats.diagnostic import het_breuschpagan\n",
    "from statsmodels.stats.outliers_influence import variance_inflation_factor\n",
    "\n",
    "# Load your dataset into a pandas DataFrame\n",
    "data = pd.read_csv('Employee_new.csv')\n",
    "\n"
   ]
  },
  {
   "cell_type": "code",
   "execution_count": 37,
   "id": "ad7a91b4",
   "metadata": {},
   "outputs": [
    {
     "data": {
      "text/html": [
       "<div>\n",
       "<style scoped>\n",
       "    .dataframe tbody tr th:only-of-type {\n",
       "        vertical-align: middle;\n",
       "    }\n",
       "\n",
       "    .dataframe tbody tr th {\n",
       "        vertical-align: top;\n",
       "    }\n",
       "\n",
       "    .dataframe thead th {\n",
       "        text-align: right;\n",
       "    }\n",
       "</style>\n",
       "<table border=\"1\" class=\"dataframe\">\n",
       "  <thead>\n",
       "    <tr style=\"text-align: right;\">\n",
       "      <th></th>\n",
       "      <th>Education</th>\n",
       "      <th>JoiningYear</th>\n",
       "      <th>City</th>\n",
       "      <th>Projects_Completed</th>\n",
       "      <th>Age</th>\n",
       "      <th>Gender</th>\n",
       "      <th>EverBenched</th>\n",
       "      <th>Experience</th>\n",
       "      <th>LeaveOrNot</th>\n",
       "      <th>salary</th>\n",
       "    </tr>\n",
       "  </thead>\n",
       "  <tbody>\n",
       "    <tr>\n",
       "      <th>0</th>\n",
       "      <td>Bachelors</td>\n",
       "      <td>2017</td>\n",
       "      <td>Bangalore</td>\n",
       "      <td>3</td>\n",
       "      <td>34</td>\n",
       "      <td>Male</td>\n",
       "      <td>No</td>\n",
       "      <td>0</td>\n",
       "      <td>0</td>\n",
       "      <td>7420</td>\n",
       "    </tr>\n",
       "    <tr>\n",
       "      <th>1</th>\n",
       "      <td>Bachelors</td>\n",
       "      <td>2013</td>\n",
       "      <td>Pune</td>\n",
       "      <td>1</td>\n",
       "      <td>28</td>\n",
       "      <td>Female</td>\n",
       "      <td>No</td>\n",
       "      <td>3</td>\n",
       "      <td>1</td>\n",
       "      <td>8960</td>\n",
       "    </tr>\n",
       "    <tr>\n",
       "      <th>2</th>\n",
       "      <td>Bachelors</td>\n",
       "      <td>2014</td>\n",
       "      <td>New Delhi</td>\n",
       "      <td>3</td>\n",
       "      <td>38</td>\n",
       "      <td>Female</td>\n",
       "      <td>No</td>\n",
       "      <td>2</td>\n",
       "      <td>0</td>\n",
       "      <td>9960</td>\n",
       "    </tr>\n",
       "    <tr>\n",
       "      <th>3</th>\n",
       "      <td>Masters</td>\n",
       "      <td>2016</td>\n",
       "      <td>Bangalore</td>\n",
       "      <td>3</td>\n",
       "      <td>27</td>\n",
       "      <td>Male</td>\n",
       "      <td>No</td>\n",
       "      <td>5</td>\n",
       "      <td>1</td>\n",
       "      <td>7500</td>\n",
       "    </tr>\n",
       "    <tr>\n",
       "      <th>4</th>\n",
       "      <td>Masters</td>\n",
       "      <td>2017</td>\n",
       "      <td>Pune</td>\n",
       "      <td>3</td>\n",
       "      <td>24</td>\n",
       "      <td>Male</td>\n",
       "      <td>Yes</td>\n",
       "      <td>2</td>\n",
       "      <td>1</td>\n",
       "      <td>7420</td>\n",
       "    </tr>\n",
       "  </tbody>\n",
       "</table>\n",
       "</div>"
      ],
      "text/plain": [
       "   Education  JoiningYear       City  Projects_Completed  Age  Gender  \\\n",
       "0  Bachelors         2017  Bangalore                   3   34    Male   \n",
       "1  Bachelors         2013       Pune                   1   28  Female   \n",
       "2  Bachelors         2014  New Delhi                   3   38  Female   \n",
       "3    Masters         2016  Bangalore                   3   27    Male   \n",
       "4    Masters         2017       Pune                   3   24    Male   \n",
       "\n",
       "  EverBenched  Experience  LeaveOrNot  salary  \n",
       "0          No           0           0    7420  \n",
       "1          No           3           1    8960  \n",
       "2          No           2           0    9960  \n",
       "3          No           5           1    7500  \n",
       "4         Yes           2           1    7420  "
      ]
     },
     "execution_count": 37,
     "metadata": {},
     "output_type": "execute_result"
    }
   ],
   "source": [
    "data.head()"
   ]
  },
  {
   "cell_type": "code",
   "execution_count": 38,
   "id": "5068ef27",
   "metadata": {},
   "outputs": [
    {
     "data": {
      "text/html": [
       "<div>\n",
       "<style scoped>\n",
       "    .dataframe tbody tr th:only-of-type {\n",
       "        vertical-align: middle;\n",
       "    }\n",
       "\n",
       "    .dataframe tbody tr th {\n",
       "        vertical-align: top;\n",
       "    }\n",
       "\n",
       "    .dataframe thead th {\n",
       "        text-align: right;\n",
       "    }\n",
       "</style>\n",
       "<table border=\"1\" class=\"dataframe\">\n",
       "  <thead>\n",
       "    <tr style=\"text-align: right;\">\n",
       "      <th></th>\n",
       "      <th>Education</th>\n",
       "      <th>JoiningYear</th>\n",
       "      <th>City</th>\n",
       "      <th>Projects_Completed</th>\n",
       "      <th>Age</th>\n",
       "      <th>Gender</th>\n",
       "      <th>EverBenched</th>\n",
       "      <th>Experience</th>\n",
       "      <th>LeaveOrNot</th>\n",
       "      <th>salary</th>\n",
       "    </tr>\n",
       "  </thead>\n",
       "  <tbody>\n",
       "    <tr>\n",
       "      <th>0</th>\n",
       "      <td>0</td>\n",
       "      <td>2017</td>\n",
       "      <td>Bangalore</td>\n",
       "      <td>3</td>\n",
       "      <td>34</td>\n",
       "      <td>Male</td>\n",
       "      <td>No</td>\n",
       "      <td>0</td>\n",
       "      <td>0</td>\n",
       "      <td>7420</td>\n",
       "    </tr>\n",
       "    <tr>\n",
       "      <th>1</th>\n",
       "      <td>0</td>\n",
       "      <td>2013</td>\n",
       "      <td>Pune</td>\n",
       "      <td>1</td>\n",
       "      <td>28</td>\n",
       "      <td>Female</td>\n",
       "      <td>No</td>\n",
       "      <td>3</td>\n",
       "      <td>1</td>\n",
       "      <td>8960</td>\n",
       "    </tr>\n",
       "    <tr>\n",
       "      <th>2</th>\n",
       "      <td>0</td>\n",
       "      <td>2014</td>\n",
       "      <td>New Delhi</td>\n",
       "      <td>3</td>\n",
       "      <td>38</td>\n",
       "      <td>Female</td>\n",
       "      <td>No</td>\n",
       "      <td>2</td>\n",
       "      <td>0</td>\n",
       "      <td>9960</td>\n",
       "    </tr>\n",
       "    <tr>\n",
       "      <th>3</th>\n",
       "      <td>1</td>\n",
       "      <td>2016</td>\n",
       "      <td>Bangalore</td>\n",
       "      <td>3</td>\n",
       "      <td>27</td>\n",
       "      <td>Male</td>\n",
       "      <td>No</td>\n",
       "      <td>5</td>\n",
       "      <td>1</td>\n",
       "      <td>7500</td>\n",
       "    </tr>\n",
       "    <tr>\n",
       "      <th>4</th>\n",
       "      <td>1</td>\n",
       "      <td>2017</td>\n",
       "      <td>Pune</td>\n",
       "      <td>3</td>\n",
       "      <td>24</td>\n",
       "      <td>Male</td>\n",
       "      <td>Yes</td>\n",
       "      <td>2</td>\n",
       "      <td>1</td>\n",
       "      <td>7420</td>\n",
       "    </tr>\n",
       "  </tbody>\n",
       "</table>\n",
       "</div>"
      ],
      "text/plain": [
       "   Education  JoiningYear       City  Projects_Completed  Age  Gender  \\\n",
       "0          0         2017  Bangalore                   3   34    Male   \n",
       "1          0         2013       Pune                   1   28  Female   \n",
       "2          0         2014  New Delhi                   3   38  Female   \n",
       "3          1         2016  Bangalore                   3   27    Male   \n",
       "4          1         2017       Pune                   3   24    Male   \n",
       "\n",
       "  EverBenched  Experience  LeaveOrNot  salary  \n",
       "0          No           0           0    7420  \n",
       "1          No           3           1    8960  \n",
       "2          No           2           0    9960  \n",
       "3          No           5           1    7500  \n",
       "4         Yes           2           1    7420  "
      ]
     },
     "execution_count": 38,
     "metadata": {},
     "output_type": "execute_result"
    }
   ],
   "source": [
    "#encoding education\n",
    "\n",
    "from sklearn.preprocessing import LabelEncoder\n",
    "le=LabelEncoder()\n",
    "data['Education']=le.fit_transform(data['Education'])\n",
    "data.head()"
   ]
  },
  {
   "cell_type": "code",
   "execution_count": 39,
   "id": "22ba134f",
   "metadata": {},
   "outputs": [
    {
     "data": {
      "text/plain": [
       "Education             0\n",
       "JoiningYear           0\n",
       "City                  0\n",
       "Projects_Completed    0\n",
       "Age                   0\n",
       "Gender                0\n",
       "EverBenched           0\n",
       "Experience            0\n",
       "LeaveOrNot            0\n",
       "salary                0\n",
       "dtype: int64"
      ]
     },
     "execution_count": 39,
     "metadata": {},
     "output_type": "execute_result"
    }
   ],
   "source": [
    "data.isna().sum()"
   ]
  },
  {
   "cell_type": "code",
   "execution_count": 40,
   "id": "a8a57ed6",
   "metadata": {},
   "outputs": [
    {
     "data": {
      "text/plain": [
       "Education             0\n",
       "JoiningYear           0\n",
       "City                  0\n",
       "Projects_Completed    0\n",
       "Age                   0\n",
       "Gender                0\n",
       "EverBenched           0\n",
       "Experience            0\n",
       "LeaveOrNot            0\n",
       "salary                0\n",
       "dtype: int64"
      ]
     },
     "execution_count": 40,
     "metadata": {},
     "output_type": "execute_result"
    }
   ],
   "source": [
    "df=data.fillna(method='bfill')\n",
    "data.isna().sum()"
   ]
  },
  {
   "cell_type": "code",
   "execution_count": 45,
   "id": "c0f47fcc",
   "metadata": {},
   "outputs": [
    {
     "data": {
      "text/html": [
       "<style>#sk-container-id-3 {color: black;}#sk-container-id-3 pre{padding: 0;}#sk-container-id-3 div.sk-toggleable {background-color: white;}#sk-container-id-3 label.sk-toggleable__label {cursor: pointer;display: block;width: 100%;margin-bottom: 0;padding: 0.3em;box-sizing: border-box;text-align: center;}#sk-container-id-3 label.sk-toggleable__label-arrow:before {content: \"▸\";float: left;margin-right: 0.25em;color: #696969;}#sk-container-id-3 label.sk-toggleable__label-arrow:hover:before {color: black;}#sk-container-id-3 div.sk-estimator:hover label.sk-toggleable__label-arrow:before {color: black;}#sk-container-id-3 div.sk-toggleable__content {max-height: 0;max-width: 0;overflow: hidden;text-align: left;background-color: #f0f8ff;}#sk-container-id-3 div.sk-toggleable__content pre {margin: 0.2em;color: black;border-radius: 0.25em;background-color: #f0f8ff;}#sk-container-id-3 input.sk-toggleable__control:checked~div.sk-toggleable__content {max-height: 200px;max-width: 100%;overflow: auto;}#sk-container-id-3 input.sk-toggleable__control:checked~label.sk-toggleable__label-arrow:before {content: \"▾\";}#sk-container-id-3 div.sk-estimator input.sk-toggleable__control:checked~label.sk-toggleable__label {background-color: #d4ebff;}#sk-container-id-3 div.sk-label input.sk-toggleable__control:checked~label.sk-toggleable__label {background-color: #d4ebff;}#sk-container-id-3 input.sk-hidden--visually {border: 0;clip: rect(1px 1px 1px 1px);clip: rect(1px, 1px, 1px, 1px);height: 1px;margin: -1px;overflow: hidden;padding: 0;position: absolute;width: 1px;}#sk-container-id-3 div.sk-estimator {font-family: monospace;background-color: #f0f8ff;border: 1px dotted black;border-radius: 0.25em;box-sizing: border-box;margin-bottom: 0.5em;}#sk-container-id-3 div.sk-estimator:hover {background-color: #d4ebff;}#sk-container-id-3 div.sk-parallel-item::after {content: \"\";width: 100%;border-bottom: 1px solid gray;flex-grow: 1;}#sk-container-id-3 div.sk-label:hover label.sk-toggleable__label {background-color: #d4ebff;}#sk-container-id-3 div.sk-serial::before {content: \"\";position: absolute;border-left: 1px solid gray;box-sizing: border-box;top: 0;bottom: 0;left: 50%;z-index: 0;}#sk-container-id-3 div.sk-serial {display: flex;flex-direction: column;align-items: center;background-color: white;padding-right: 0.2em;padding-left: 0.2em;position: relative;}#sk-container-id-3 div.sk-item {position: relative;z-index: 1;}#sk-container-id-3 div.sk-parallel {display: flex;align-items: stretch;justify-content: center;background-color: white;position: relative;}#sk-container-id-3 div.sk-item::before, #sk-container-id-3 div.sk-parallel-item::before {content: \"\";position: absolute;border-left: 1px solid gray;box-sizing: border-box;top: 0;bottom: 0;left: 50%;z-index: -1;}#sk-container-id-3 div.sk-parallel-item {display: flex;flex-direction: column;z-index: 1;position: relative;background-color: white;}#sk-container-id-3 div.sk-parallel-item:first-child::after {align-self: flex-end;width: 50%;}#sk-container-id-3 div.sk-parallel-item:last-child::after {align-self: flex-start;width: 50%;}#sk-container-id-3 div.sk-parallel-item:only-child::after {width: 0;}#sk-container-id-3 div.sk-dashed-wrapped {border: 1px dashed gray;margin: 0 0.4em 0.5em 0.4em;box-sizing: border-box;padding-bottom: 0.4em;background-color: white;}#sk-container-id-3 div.sk-label label {font-family: monospace;font-weight: bold;display: inline-block;line-height: 1.2em;}#sk-container-id-3 div.sk-label-container {text-align: center;}#sk-container-id-3 div.sk-container {/* jupyter's `normalize.less` sets `[hidden] { display: none; }` but bootstrap.min.css set `[hidden] { display: none !important; }` so we also need the `!important` here to be able to override the default hidden behavior on the sphinx rendered scikit-learn.org. See: https://github.com/scikit-learn/scikit-learn/issues/21755 */display: inline-block !important;position: relative;}#sk-container-id-3 div.sk-text-repr-fallback {display: none;}</style><div id=\"sk-container-id-3\" class=\"sk-top-container\"><div class=\"sk-text-repr-fallback\"><pre>LinearRegression()</pre><b>In a Jupyter environment, please rerun this cell to show the HTML representation or trust the notebook. <br />On GitHub, the HTML representation is unable to render, please try loading this page with nbviewer.org.</b></div><div class=\"sk-container\" hidden><div class=\"sk-item\"><div class=\"sk-estimator sk-toggleable\"><input class=\"sk-toggleable__control sk-hidden--visually\" id=\"sk-estimator-id-3\" type=\"checkbox\" checked><label for=\"sk-estimator-id-3\" class=\"sk-toggleable__label sk-toggleable__label-arrow\">LinearRegression</label><div class=\"sk-toggleable__content\"><pre>LinearRegression()</pre></div></div></div></div></div>"
      ],
      "text/plain": [
       "LinearRegression()"
      ]
     },
     "execution_count": 45,
     "metadata": {},
     "output_type": "execute_result"
    }
   ],
   "source": [
    "# Define your predictor variables (X) and target variable (Y) with the correct column names.\n",
    "X = data[['Education','Experience','Projects_Completed']]\n",
    "Y = data['Age']\n",
    "x\n",
    "\n",
    "# Fit the initial linear regression model.\n",
    "model = LinearRegression()\n",
    "model.fit(X, Y)\n",
    "\n",
    "\n"
   ]
  },
  {
   "cell_type": "markdown",
   "id": "90fca501",
   "metadata": {},
   "source": [
    "2. Identifying Heteroscedasticity:\n",
    "\n",
    "a. Explain what heteroscedasticity is in the context of linear regression.\n",
    "b. Provide methods for diagnosing heteroscedasticity in a regression model.\n",
    "c. Apply these diagnostic methods to your model's residuals and report your findings."
   ]
  },
  {
   "cell_type": "raw",
   "id": "dde25f09",
   "metadata": {},
   "source": [
    "a.Heteroscedasticity refers to the situation where the variance of the error terms in a linear regression model is not constant across all levels of the independent variables. In other words, the spread of residuals differs as you move along the predictor variable range."
   ]
  },
  {
   "cell_type": "code",
   "execution_count": 48,
   "id": "797e486f",
   "metadata": {},
   "outputs": [],
   "source": [
    "from statsmodels.stats.outliers_influence import variance_inflation_factor\n",
    "\n",
    "def calc_vif(x):\n",
    "    vif = pd.DataFrame()\n",
    "    vif[\"variables\"]=x.columns\n",
    "    vif[\"VIF\"] = [variance_inflation_factor(x.values, i) for i in range(x.shape[1])]\n",
    "    return(vif)"
   ]
  },
  {
   "cell_type": "code",
   "execution_count": 49,
   "id": "1141acbf",
   "metadata": {},
   "outputs": [
    {
     "data": {
      "text/html": [
       "<div>\n",
       "<style scoped>\n",
       "    .dataframe tbody tr th:only-of-type {\n",
       "        vertical-align: middle;\n",
       "    }\n",
       "\n",
       "    .dataframe tbody tr th {\n",
       "        vertical-align: top;\n",
       "    }\n",
       "\n",
       "    .dataframe thead th {\n",
       "        text-align: right;\n",
       "    }\n",
       "</style>\n",
       "<table border=\"1\" class=\"dataframe\">\n",
       "  <thead>\n",
       "    <tr style=\"text-align: right;\">\n",
       "      <th></th>\n",
       "      <th>variables</th>\n",
       "      <th>VIF</th>\n",
       "    </tr>\n",
       "  </thead>\n",
       "  <tbody>\n",
       "    <tr>\n",
       "      <th>0</th>\n",
       "      <td>Experience</td>\n",
       "      <td>3.985165</td>\n",
       "    </tr>\n",
       "    <tr>\n",
       "      <th>1</th>\n",
       "      <td>Education</td>\n",
       "      <td>1.218883</td>\n",
       "    </tr>\n",
       "    <tr>\n",
       "      <th>2</th>\n",
       "      <td>Projects Completed</td>\n",
       "      <td>4.066063</td>\n",
       "    </tr>\n",
       "  </tbody>\n",
       "</table>\n",
       "</div>"
      ],
      "text/plain": [
       "            variables       VIF\n",
       "0          Experience  3.985165\n",
       "1           Education  1.218883\n",
       "2  Projects Completed  4.066063"
      ]
     },
     "execution_count": 49,
     "metadata": {},
     "output_type": "execute_result"
    }
   ],
   "source": [
    "k=calc_vif(x)\n",
    "k"
   ]
  },
  {
   "cell_type": "code",
   "execution_count": null,
   "id": "260bd883",
   "metadata": {},
   "outputs": [],
   "source": [
    "X = df.drop(['Experience'],axis=1)\n",
    "calc_vif(X)"
   ]
  },
  {
   "cell_type": "code",
   "execution_count": null,
   "id": "f04b5d06",
   "metadata": {},
   "outputs": [],
   "source": []
  }
 ],
 "metadata": {
  "kernelspec": {
   "display_name": "Python 3 (ipykernel)",
   "language": "python",
   "name": "python3"
  },
  "language_info": {
   "codemirror_mode": {
    "name": "ipython",
    "version": 3
   },
   "file_extension": ".py",
   "mimetype": "text/x-python",
   "name": "python",
   "nbconvert_exporter": "python",
   "pygments_lexer": "ipython3",
   "version": "3.11.4"
  }
 },
 "nbformat": 4,
 "nbformat_minor": 5
}
