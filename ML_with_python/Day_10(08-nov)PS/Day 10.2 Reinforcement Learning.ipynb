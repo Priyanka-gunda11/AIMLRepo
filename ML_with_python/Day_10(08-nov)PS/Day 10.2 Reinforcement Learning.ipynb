{
 "cells": [
  {
   "cell_type": "code",
   "execution_count": 3,
   "id": "dc8251a3",
   "metadata": {},
   "outputs": [
    {
     "name": "stdout",
     "output_type": "stream",
     "text": [
      "(array([-0.4104399,  0.       ], dtype=float32), {})\n",
      "[-0.4112724  -0.00083248] -1.0 False False\n",
      "[-0.4112724  -0.00083248]\n",
      "[-0.41293147 -0.00165908] -1.0 False False\n",
      "[-0.41293147 -0.00165908]\n",
      "[-0.4164054  -0.00347392] -1.0 False False\n",
      "[-0.4164054  -0.00347392]\n",
      "[-0.41966948 -0.00326408] -1.0 False False\n",
      "[-0.41966948 -0.00326408]\n",
      "[-0.42470047 -0.00503099] -1.0 False False\n",
      "[-0.42470047 -0.00503099]\n",
      "[-0.42946234 -0.00476189] -1.0 False False\n",
      "[-0.42946234 -0.00476189]\n",
      "[-0.43592092 -0.00645856] -1.0 False False\n",
      "[-0.43592092 -0.00645856]\n",
      "[-0.4440295  -0.00810859] -1.0 False False\n",
      "[-0.4440295  -0.00810859]\n",
      "[-0.45172924 -0.00769971] -1.0 False False\n",
      "[-0.45172924 -0.00769971]\n",
      "[-0.4609638  -0.00923457] -1.0 False False\n"
     ]
    }
   ],
   "source": [
    "import gym\n",
    "\n",
    "env = gym.make('MountainCar-v0')\n",
    "observation = env.reset()\n",
    "\n",
    "for t in range(10):\n",
    "    env.render()\n",
    "    print(observation)\n",
    "    action = env.action_space.sample()\n",
    "    step_output = env.step(action)\n",
    "\n",
    "    if isinstance(step_output, tuple) and len(step_output) > 4:\n",
    "        observation, reward, done, info, *_ = step_output\n",
    "    else:\n",
    "        observation, reward, done, info = step_output\n",
    "\n",
    "    print(observation, reward, done, info)\n",
    "    if done:\n",
    "        print('Finished after {} timesteps'.format(t + 1))\n",
    "        break\n"
   ]
  },
  {
   "cell_type": "code",
   "execution_count": null,
   "id": "511120d6",
   "metadata": {},
   "outputs": [],
   "source": []
  }
 ],
 "metadata": {
  "kernelspec": {
   "display_name": "Python 3 (ipykernel)",
   "language": "python",
   "name": "python3"
  },
  "language_info": {
   "codemirror_mode": {
    "name": "ipython",
    "version": 3
   },
   "file_extension": ".py",
   "mimetype": "text/x-python",
   "name": "python",
   "nbconvert_exporter": "python",
   "pygments_lexer": "ipython3",
   "version": "3.11.4"
  }
 },
 "nbformat": 4,
 "nbformat_minor": 5
}
