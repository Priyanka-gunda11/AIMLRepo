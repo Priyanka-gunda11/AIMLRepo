{
 "cells": [
  {
   "cell_type": "code",
   "execution_count": 1,
   "id": "334aa268",
   "metadata": {},
   "outputs": [],
   "source": [
    "import numpy as np"
   ]
  },
  {
   "cell_type": "markdown",
   "id": "0a4c8f79",
   "metadata": {},
   "source": [
    "# Construct the Reward Matrix"
   ]
  },
  {
   "cell_type": "code",
   "execution_count": 2,
   "id": "deb796fa",
   "metadata": {},
   "outputs": [
    {
     "data": {
      "text/plain": [
       "matrix([[ -1,  -1,  -1,  -1,   0,  -1],\n",
       "        [ -1,  -1,  -1,   0,  -1, 100],\n",
       "        [ -1,  -1,  -1,   0,  -1,  -1],\n",
       "        [ -1,   0,   0,  -1,   0,  -1],\n",
       "        [ -1,   0,   0,  -1,  -1, 100],\n",
       "        [ -1,   0,  -1,  -1,   0, 100]])"
      ]
     },
     "execution_count": 2,
     "metadata": {},
     "output_type": "execute_result"
    }
   ],
   "source": [
    "R=np.matrix([\n",
    " \n",
    " [-1,-1,-1,-1,0,-1],\n",
    " [-1,-1,-1,0,-1,100],\n",
    " [-1,-1,-1,0,-1,-1],\n",
    " [-1,0,0,-1,0,-1],\n",
    " [-1,0,0,-1,-1,100],\n",
    " [-1,0,-1,-1,0,100]\n",
    "])\n",
    "R"
   ]
  },
  {
   "cell_type": "markdown",
   "id": "a3882fb4",
   "metadata": {},
   "source": [
    "# Construct the zero matrix of the size of R matrix to form the Q matrix"
   ]
  },
  {
   "cell_type": "code",
   "execution_count": 3,
   "id": "2bda6d38",
   "metadata": {},
   "outputs": [
    {
     "name": "stdout",
     "output_type": "stream",
     "text": [
      "[[0. 0. 0. 0. 0. 0.]\n",
      " [0. 0. 0. 0. 0. 0.]\n",
      " [0. 0. 0. 0. 0. 0.]\n",
      " [0. 0. 0. 0. 0. 0.]\n",
      " [0. 0. 0. 0. 0. 0.]\n",
      " [0. 0. 0. 0. 0. 0.]]\n"
     ]
    }
   ],
   "source": [
    "Q=np.matrix(np.zeros([6,6]))\n",
    "print(Q)\n"
   ]
  },
  {
   "cell_type": "markdown",
   "id": "7a1bafc6",
   "metadata": {},
   "source": [
    "# Define gamma value - Learning Parameter"
   ]
  },
  {
   "cell_type": "code",
   "execution_count": 4,
   "id": "ff9fc96e",
   "metadata": {},
   "outputs": [],
   "source": [
    "gamma=0.8"
   ]
  },
  {
   "cell_type": "markdown",
   "id": "c76ef19c",
   "metadata": {},
   "source": [
    "# Q- Learning:\n",
    "Q(state,action)= R(state,action) + gamma * Max(Q(next state,all actions))"
   ]
  },
  {
   "cell_type": "code",
   "execution_count": 5,
   "id": "c5b3f6e2",
   "metadata": {},
   "outputs": [],
   "source": [
    "initial_state=1\n"
   ]
  },
  {
   "cell_type": "code",
   "execution_count": 6,
   "id": "51e7d66a",
   "metadata": {},
   "outputs": [],
   "source": [
    "def available_actions(state):\n",
    "    current_state_row=R[state,]\n",
    "    av_act=np.where(current_state_row>=0)[1]\n",
    "    return av_act"
   ]
  },
  {
   "cell_type": "code",
   "execution_count": 7,
   "id": "a558861b",
   "metadata": {},
   "outputs": [
    {
     "name": "stdout",
     "output_type": "stream",
     "text": [
      "[3 5]\n"
     ]
    }
   ],
   "source": [
    "available_act=available_actions(initial_state)\n",
    "print(available_act)\n"
   ]
  },
  {
   "cell_type": "code",
   "execution_count": 8,
   "id": "e1743245",
   "metadata": {},
   "outputs": [],
   "source": [
    "#Define the sample next action function\n",
    "\n",
    "\n",
    "def sample_next_action(available_actions_range):\n",
    "    next_action=int(np.random.choice(available_act,1))\n",
    "    return next_action\n"
   ]
  },
  {
   "cell_type": "code",
   "execution_count": 9,
   "id": "5ce0f49c",
   "metadata": {},
   "outputs": [
    {
     "name": "stdout",
     "output_type": "stream",
     "text": [
      "5\n"
     ]
    }
   ],
   "source": [
    "action=sample_next_action(available_act)\n",
    "print(action)\n"
   ]
  },
  {
   "cell_type": "markdown",
   "id": "fbdd873e",
   "metadata": {},
   "source": [
    "# Q Matrix - update function"
   ]
  },
  {
   "cell_type": "code",
   "execution_count": 10,
   "id": "b157a57b",
   "metadata": {},
   "outputs": [],
   "source": [
    "def update(current_state,action,gamma):\n",
    " \n",
    "    #Max(Q(next state,all actions))\n",
    "    max_index=np.where(Q[action,]==np.max(Q[action,]))[1] \n",
    " \n",
    "    if max_index.shape[0]>1:\n",
    "        max_index=int(np.random.choice(max_index,size=1))\n",
    " \n",
    "    else:\n",
    "        max_index=int(max_index)\n",
    "    max_value=Q[action,max_index]\n",
    " \n",
    "    Q[current_state,action]=R[current_state,action]+gamma*max_value"
   ]
  },
  {
   "cell_type": "code",
   "execution_count": 11,
   "id": "e49ab7b4",
   "metadata": {},
   "outputs": [],
   "source": [
    "update(initial_state,action,gamma)"
   ]
  },
  {
   "cell_type": "markdown",
   "id": "aa911db5",
   "metadata": {},
   "source": [
    "# Train the agent with this environment information"
   ]
  },
  {
   "cell_type": "code",
   "execution_count": null,
   "id": "e441521a",
   "metadata": {},
   "outputs": [],
   "source": [
    "for i in range(10000000):\n",
    "    current_state=np.random.randint(0,int(Q.shape[0]))\n",
    "    action=sample_next_action(available_act)\n",
    "    update(current_state,action,gamma)"
   ]
  },
  {
   "cell_type": "markdown",
   "id": "75912fc7",
   "metadata": {},
   "source": [
    "# Testing\n",
    "goal_state=5"
   ]
  },
  {
   "cell_type": "code",
   "execution_count": 12,
   "id": "e08b9046",
   "metadata": {},
   "outputs": [
    {
     "name": "stdout",
     "output_type": "stream",
     "text": [
      "Optimum path from initial state 1 to the goal state is [4, 4, 3, 3, 0, 0, 4, 4, 3, 2, 2, 3, 2, 2, 2, 1, 5]\n"
     ]
    }
   ],
   "source": [
    "current_state=4\n",
    "steps=[current_state]\n",
    "while current_state!=5:\n",
    "    next_step_index=np.where(Q[current_state,]==np.max(Q[current_state,]))[1]\n",
    "    if next_step_index.shape[0]>1:\n",
    "        next_step_index=int(np.random.choice(next_step_index,size=1))\n",
    "    else:\n",
    "        next_step_index=int(next_step_index)\n",
    "    steps.append(next_step_index)\n",
    "    current_state=next_step_index\n",
    "\n",
    "print('Optimum path from initial state {} to the goal state is {}'.format(initial_state, steps))\n"
   ]
  },
  {
   "cell_type": "code",
   "execution_count": null,
   "id": "4c3fdec0",
   "metadata": {},
   "outputs": [],
   "source": []
  }
 ],
 "metadata": {
  "kernelspec": {
   "display_name": "Python 3 (ipykernel)",
   "language": "python",
   "name": "python3"
  },
  "language_info": {
   "codemirror_mode": {
    "name": "ipython",
    "version": 3
   },
   "file_extension": ".py",
   "mimetype": "text/x-python",
   "name": "python",
   "nbconvert_exporter": "python",
   "pygments_lexer": "ipython3",
   "version": "3.11.4"
  }
 },
 "nbformat": 4,
 "nbformat_minor": 5
}
