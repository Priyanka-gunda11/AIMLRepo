{
  "nbformat": 4,
  "nbformat_minor": 0,
  "metadata": {
    "colab": {
      "provenance": []
    },
    "kernelspec": {
      "name": "python3",
      "display_name": "Python 3"
    },
    "language_info": {
      "name": "python"
    }
  },
  "cells": [
    {
      "cell_type": "markdown",
      "source": [
        "1. Write a python function to list even and odd numbers in a list"
      ],
      "metadata": {
        "id": "EuQUA6MQuMHd"
      }
    },
    {
      "cell_type": "code",
      "source": [
        "def list_even_odd(numbers):\n",
        "    even = []\n",
        "    odd = []\n",
        "\n",
        "    for num in numbers:\n",
        "        if num % 2 == 0:\n",
        "            even.append(num)\n",
        "        else:\n",
        "            odd.append(num)\n",
        "\n",
        "    return even, odd\n",
        "\n",
        "# Example usage:\n",
        "numbers = [1, 2, 3, 4, 5, 6, 7, 8, 9]\n",
        "even, odd = list_even_odd(numbers)\n",
        "\n",
        "print(\"Even numbers:\", even)\n",
        "print(\"Odd numbers:\", odd)\n"
      ],
      "metadata": {
        "colab": {
          "base_uri": "https://localhost:8080/"
        },
        "id": "1q45Ct__utE2",
        "outputId": "f55f772a-764e-4394-b1aa-aadc2f69c86d"
      },
      "execution_count": null,
      "outputs": [
        {
          "output_type": "stream",
          "name": "stdout",
          "text": [
            "Even numbers: [2, 4, 6, 8]\n",
            "Odd numbers: [1, 3, 5, 7, 9]\n"
          ]
        }
      ]
    },
    {
      "cell_type": "markdown",
      "source": [
        "2.Write and run a python program that asks the user to enter 8 integers(ane at a time),and thenprints out how many of those integers were even numbers. For example if the user entered 19,6,9,20,13,7,6 and 1.then your program shoul print out 3 since 3 of those numbers were even."
      ],
      "metadata": {
        "id": "gVjILVZCu_cv"
      }
    },
    {
      "cell_type": "code",
      "source": [
        "even_count = 0\n",
        "for i in range(8):\n",
        "    try:\n",
        "        num = int(input(f\"Enter integer {i + 1}: \"))\n",
        "        if num % 2 == 0:\n",
        "            even_count += 1\n",
        "    except ValueError:\n",
        "        print(\"Invalid input. Please enter an integer.\")\n",
        "print(\"Number of even numbers:\", even_count)\n"
      ],
      "metadata": {
        "colab": {
          "base_uri": "https://localhost:8080/"
        },
        "id": "OoyVNq4fvsOm",
        "outputId": "2fae16a3-183f-4f63-8f6f-497c64ebdacb"
      },
      "execution_count": null,
      "outputs": [
        {
          "output_type": "stream",
          "name": "stdout",
          "text": [
            "Enter integer 1: 19\n",
            "Enter integer 2: 6\n",
            "Enter integer 3: 9\n",
            "Enter integer 4: 20\n",
            "Enter integer 5: 13\n",
            "Enter integer 6: 7\n",
            "Enter integer 7: 6\n",
            "Enter integer 8: 1\n",
            "Number of even numbers: 3\n"
          ]
        }
      ]
    },
    {
      "cell_type": "markdown",
      "source": [
        "3.Write a python program where you take any positive integer n,if n is even divide it by 2 to get n/2.if n is odd multiply it by 3 and add 1 to obtain 3n+1.Repeate the process until you reach 1."
      ],
      "metadata": {
        "id": "B-bMNmtvwEGq"
      }
    },
    {
      "cell_type": "code",
      "source": [
        "def sequence(n):\n",
        "    while n != 1:\n",
        "        print(n, end=' ')\n",
        "        if n % 2 == 0:\n",
        "            n = n // 2\n",
        "        else:\n",
        "            n = 3 * n + 1\n",
        "    print(1)\n",
        "\n",
        "try:\n",
        "    n = int(input(\"Enter a positive integer: \"))\n",
        "    if n <= 0:\n",
        "        print(\"Please enter a positive integer.\")\n",
        "    else:\n",
        "        print(\"sequence for\", n, \"is:\")\n",
        "        sequence(n)\n",
        "except ValueError:\n",
        "    print(\"Invalid input. Please enter a positive integer.\")\n"
      ],
      "metadata": {
        "colab": {
          "base_uri": "https://localhost:8080/"
        },
        "id": "o779MtLDwr3I",
        "outputId": "3c752ecb-bb31-44da-e3ce-b4c68f9e5120"
      },
      "execution_count": null,
      "outputs": [
        {
          "output_type": "stream",
          "name": "stdout",
          "text": [
            "Enter a positive integer: 8\n",
            "sequence for 8 is:\n",
            "8 4 2 1\n"
          ]
        }
      ]
    },
    {
      "cell_type": "markdown",
      "source": [
        "4.Write a python program to compute the sum of all the multiples of 3 or 5 below 500"
      ],
      "metadata": {
        "id": "fZSiNl4zxA76"
      }
    },
    {
      "cell_type": "code",
      "source": [
        "total_sum = 0\n",
        "for num in range(1, 500):\n",
        "    if num % 3 == 0 or num % 5 == 0:\n",
        "        total_sum += num\n",
        "print(\"The sum of all multiples of 3 or 5 below 500 is:\", total_sum)\n"
      ],
      "metadata": {
        "colab": {
          "base_uri": "https://localhost:8080/"
        },
        "id": "I0ugaIp2xXDi",
        "outputId": "6a7d92cc-d842-4fef-d460-67c86c96ad55"
      },
      "execution_count": null,
      "outputs": [
        {
          "output_type": "stream",
          "name": "stdout",
          "text": [
            "The sum of all multiples of 3 or 5 below 500 is: 57918\n"
          ]
        }
      ]
    },
    {
      "cell_type": "markdown",
      "source": [
        "5.To write a python program to find first n prime numbers from a list of given numbers"
      ],
      "metadata": {
        "id": "Tw26A93Xxo4b"
      }
    },
    {
      "cell_type": "code",
      "source": [
        "def is_prime(num):\n",
        "    if num <= 1:\n",
        "        return False\n",
        "    for i in range(2, int(num**0.5) + 1):\n",
        "        if num % i == 0:\n",
        "            return False\n",
        "    return True\n",
        "\n",
        "def find_first_n_primes(numbers, n):\n",
        "    prime_numbers = []\n",
        "    for num in numbers:\n",
        "        if is_prime(num):\n",
        "            prime_numbers.append(num)\n",
        "            if len(prime_numbers) == n:\n",
        "                break\n",
        "    return prime_numbers\n",
        "given_numbers = [2, 3, 4, 5, 6, 7, 8, 9, 10, 11, 12]\n",
        "n = int(input())\n",
        "\n",
        "prime_numbers = find_first_n_primes(given_numbers, n)\n",
        "print(f\"The first {n} prime numbers from the given list are:\", prime_numbers)\n"
      ],
      "metadata": {
        "colab": {
          "base_uri": "https://localhost:8080/"
        },
        "id": "LVz0wrdVyIZb",
        "outputId": "ebd4f862-12b3-4147-af47-37edfa4e6584"
      },
      "execution_count": null,
      "outputs": [
        {
          "output_type": "stream",
          "name": "stdout",
          "text": [
            "6\n",
            "The first 6 prime numbers from the given list are: [2, 3, 5, 7, 11]\n"
          ]
        }
      ]
    },
    {
      "cell_type": "markdown",
      "source": [
        "::6.To write a python program to compute matrix multiplication"
      ],
      "metadata": {
        "id": "XX_KLzDiySxp"
      }
    },
    {
      "cell_type": "code",
      "source": [
        "\n",
        "matrix1 = [\n",
        "    [1, 2, 3],\n",
        "    [4, 5, 6],\n",
        "]\n",
        "\n",
        "matrix2 = [\n",
        "    [7, 8],\n",
        "    [9, 10],\n",
        "    [11, 12],\n",
        "]\n",
        "if len(matrix1[0]) != len(matrix2):\n",
        "    print(\"Matrix multiplication is not possible. The number of columns in matrix1 must be equal to the number of rows in matrix2.\")\n",
        "else:\n",
        "    result_matrix = [[0 for _ in range(len(matrix2[0]))] for _ in range(len(matrix1))]\n",
        "    for i in range(len(matrix1)):\n",
        "        for j in range(len(matrix2[0])):\n",
        "            for k in range(len(matrix2)):\n",
        "                result_matrix[i][j] += matrix1[i][k] * matrix2[k][j]\n",
        "    print(\"Matrix Multiplication Result:\")\n",
        "    for row in result_matrix:\n",
        "        print(row)\n"
      ],
      "metadata": {
        "colab": {
          "base_uri": "https://localhost:8080/"
        },
        "id": "4cma4VwNy5ls",
        "outputId": "8a549ac8-b462-43f2-e255-f3fd9191708a"
      },
      "execution_count": null,
      "outputs": [
        {
          "output_type": "stream",
          "name": "stdout",
          "text": [
            "Matrix Multiplication Result:\n",
            "[58, 64]\n",
            "[139, 154]\n"
          ]
        }
      ]
    },
    {
      "cell_type": "markdown",
      "source": [
        "7.Write a python function to count the number of vowels in a string"
      ],
      "metadata": {
        "id": "bPjwvZULzLU6"
      }
    },
    {
      "cell_type": "code",
      "source": [
        "def count_vowels(string):\n",
        "    vowels = \"aeiouAEIOU\"\n",
        "    vowel_count = 0\n",
        "\n",
        "    for char in string:\n",
        "        if char in vowels:\n",
        "            vowel_count += 1\n",
        "\n",
        "    return vowel_count\n",
        "input_string = \"Hello, World!\"\n",
        "vowel_count = count_vowels(input_string)\n",
        "print(\"Number of vowels in the string:\", vowel_count)\n"
      ],
      "metadata": {
        "colab": {
          "base_uri": "https://localhost:8080/"
        },
        "id": "Z3X6ABAOzi-r",
        "outputId": "3a327155-2edc-4529-cf8a-b10caf95838e"
      },
      "execution_count": null,
      "outputs": [
        {
          "output_type": "stream",
          "name": "stdout",
          "text": [
            "Number of vowels in the string: 3\n"
          ]
        }
      ]
    },
    {
      "cell_type": "markdown",
      "source": [
        "8.Write a python function for finding factorial for the given number using a recursive function"
      ],
      "metadata": {
        "id": "GGz_PQAgzmtE"
      }
    },
    {
      "cell_type": "code",
      "source": [
        "def factorial_recursive(n):\n",
        "    if n == 0:\n",
        "        return 1\n",
        "    else:\n",
        "        return n * factorial_recursive(n - 1)\n",
        "num = int(input())\n",
        "result = factorial_recursive(num)\n",
        "print(f\"The factorial of {num} is {result}\")\n"
      ],
      "metadata": {
        "colab": {
          "base_uri": "https://localhost:8080/"
        },
        "id": "dzyaRTNjz9mI",
        "outputId": "d45f7e81-8b72-406f-b0a5-0cd2defc612d"
      },
      "execution_count": null,
      "outputs": [
        {
          "output_type": "stream",
          "name": "stdout",
          "text": [
            "7\n",
            "The factorial of 7 is 5040\n"
          ]
        }
      ]
    },
    {
      "cell_type": "markdown",
      "source": [
        "9.Write a python function for generating the Fibonacci series using the function"
      ],
      "metadata": {
        "id": "ECJZYBOr0Dgc"
      }
    },
    {
      "cell_type": "code",
      "source": [
        "def fibonacci_recursive(n):\n",
        "    if n <= 0:\n",
        "        return []\n",
        "    elif n == 1:\n",
        "        return [0]\n",
        "    elif n == 2:\n",
        "        return [0, 1]\n",
        "    else:\n",
        "        fib_series = fibonacci_recursive(n - 1)\n",
        "        fib_series.append(fib_series[-1] + fib_series[-2])\n",
        "        return fib_series\n",
        "num_terms = int(input())\n",
        "fib_series = fibonacci_recursive(num_terms)\n",
        "print(\"Fibonacci Series:\")\n",
        "print(fib_series)\n"
      ],
      "metadata": {
        "colab": {
          "base_uri": "https://localhost:8080/"
        },
        "id": "N1UzKW_N0Z07",
        "outputId": "cda9da76-43c8-47e6-a944-50618d430110"
      },
      "execution_count": null,
      "outputs": [
        {
          "output_type": "stream",
          "name": "stdout",
          "text": [
            "9\n",
            "Fibonacci Series:\n",
            "[0, 1, 1, 2, 3, 5, 8, 13, 21]\n"
          ]
        }
      ]
    },
    {
      "cell_type": "markdown",
      "source": [
        "10.Python program to display the given integer in reverse order using the function with out an in-built function"
      ],
      "metadata": {
        "id": "EYpx7vQv0kTo"
      }
    },
    {
      "cell_type": "code",
      "source": [
        "def reverse_integer(num):\n",
        "    if num < 0:\n",
        "        num = -num\n",
        "        sign = \"-\"\n",
        "    else:\n",
        "        sign = \"\"\n",
        "\n",
        "    reversed_str = sign + str(num)[::-1]\n",
        "    return int(reversed_str)\n",
        "input_num = int(input(\"Enter an integer: \"))\n",
        "reversed_num = reverse_integer(input_num)\n",
        "print(\"Reversed integer:\", reversed_num)\n"
      ],
      "metadata": {
        "colab": {
          "base_uri": "https://localhost:8080/"
        },
        "id": "pQpdGIg71DEr",
        "outputId": "13a4e372-2834-46d6-8ff7-6bd73ee64b8b"
      },
      "execution_count": null,
      "outputs": [
        {
          "output_type": "stream",
          "name": "stdout",
          "text": [
            "Enter an integer: 846287\n",
            "Reversed integer: 782648\n"
          ]
        }
      ]
    },
    {
      "cell_type": "markdown",
      "source": [
        "11.Write a python function to display all the integers with in the range 200-300 whose sum of digits is an even number"
      ],
      "metadata": {
        "id": "eWv0Lt4I1JGj"
      }
    },
    {
      "cell_type": "code",
      "source": [
        "def is_sum_of_digits_even(number):\n",
        "    digit_sum = sum(int(digit) for digit in str(number))\n",
        "    return digit_sum % 2 == 0\n",
        "\n",
        "def integers_with_even_digit_sum(start, end):\n",
        "    for num in range(start, end + 1):\n",
        "        if is_sum_of_digits_even(num):\n",
        "            print(num)\n",
        "s= 200\n",
        "e= 300\n",
        "\n",
        "print(\"Integers within the range 200-300 with an even digit sum:\")\n",
        "integers_with_even_digit_sum(s, e)\n"
      ],
      "metadata": {
        "colab": {
          "base_uri": "https://localhost:8080/"
        },
        "id": "cXzZB8By1klJ",
        "outputId": "ea8f6d52-2695-44da-b734-23743946c933"
      },
      "execution_count": null,
      "outputs": [
        {
          "output_type": "stream",
          "name": "stdout",
          "text": [
            "Integers within the range 200-300 with an even digit sum:\n",
            "200\n",
            "202\n",
            "204\n",
            "206\n",
            "208\n",
            "211\n",
            "213\n",
            "215\n",
            "217\n",
            "219\n",
            "220\n",
            "222\n",
            "224\n",
            "226\n",
            "228\n",
            "231\n",
            "233\n",
            "235\n",
            "237\n",
            "239\n",
            "240\n",
            "242\n",
            "244\n",
            "246\n",
            "248\n",
            "251\n",
            "253\n",
            "255\n",
            "257\n",
            "259\n",
            "260\n",
            "262\n",
            "264\n",
            "266\n",
            "268\n",
            "271\n",
            "273\n",
            "275\n",
            "277\n",
            "279\n",
            "280\n",
            "282\n",
            "284\n",
            "286\n",
            "288\n",
            "291\n",
            "293\n",
            "295\n",
            "297\n",
            "299\n"
          ]
        }
      ]
    },
    {
      "cell_type": "markdown",
      "source": [
        "12.Write a python function to find the number of digits and sum of digits for a given integer"
      ],
      "metadata": {
        "id": "Slv9tXK7131p"
      }
    },
    {
      "cell_type": "code",
      "source": [
        "def count_digits_and_sum(num):\n",
        "    num_str = str(num)\n",
        "    num_digits = len(num_str)\n",
        "    digit_sum = sum(int(digit) for digit in num_str)\n",
        "    return num_digits, digit_sum\n",
        "input_num = int(input(\"Enter an integer: \"))\n",
        "num_digits, digit_sum = count_digits_and_sum(input_num)\n",
        "print(f\"Number of digits: {num_digits}\")\n",
        "print(f\"Sum of digits: {digit_sum}\")\n"
      ],
      "metadata": {
        "colab": {
          "base_uri": "https://localhost:8080/"
        },
        "id": "83cFQw5R2Uvj",
        "outputId": "2c169cdf-b04c-4771-aed9-aaf0f00b3a2f"
      },
      "execution_count": null,
      "outputs": [
        {
          "output_type": "stream",
          "name": "stdout",
          "text": [
            "Enter an integer: 840573649\n",
            "Number of digits: 9\n",
            "Sum of digits: 46\n"
          ]
        }
      ]
    },
    {
      "cell_type": "markdown",
      "source": [
        "13.Write functions called is_sorted that takes a list as a parameter and returns true if the list is sorted in ascending order and false, otherwise and has_deplicates that takes a list and returns Trueif there is any element that appears more thanonce.It should not modify the original list"
      ],
      "metadata": {
        "id": "s97ag4tl2dFw"
      }
    },
    {
      "cell_type": "code",
      "source": [
        "def is_sorted(input_list):\n",
        "    return all(input_list[i] <= input_list[i + 1] for i in range(len(input_list) - 1))\n",
        "my_list = [1, 2, 3, 4, 5]\n",
        "sorted_result = is_sorted(my_list)\n",
        "print(sorted_result)\n"
      ],
      "metadata": {
        "colab": {
          "base_uri": "https://localhost:8080/"
        },
        "id": "XxRGel0a3Tc-",
        "outputId": "8fcc722a-d5a0-434b-f8df-36cd3f1cccd6"
      },
      "execution_count": null,
      "outputs": [
        {
          "output_type": "stream",
          "name": "stdout",
          "text": [
            "True\n"
          ]
        }
      ]
    },
    {
      "cell_type": "code",
      "source": [
        "def has_duplicates(input_list):\n",
        "    seen = set()\n",
        "    for item in input_list:\n",
        "        if item in seen:\n",
        "            return True\n",
        "        seen.add(item)\n",
        "    return False\n",
        "my_list = [1, 2, 3, 2, 4, 5]\n",
        "duplicates_result = has_duplicates(my_list)\n",
        "print(duplicates_result)\n"
      ],
      "metadata": {
        "colab": {
          "base_uri": "https://localhost:8080/"
        },
        "id": "MXE_GBNt3a9V",
        "outputId": "c4633b96-ce35-49ce-dc65-5661e75d0a1d"
      },
      "execution_count": null,
      "outputs": [
        {
          "output_type": "stream",
          "name": "stdout",
          "text": [
            "True\n"
          ]
        }
      ]
    },
    {
      "cell_type": "markdown",
      "source": [
        "14.Write functions called nested_sum that takes a list of integers and adds up the elements from all the nested lists and cumsum that takes a list of numbers and returns the cumulative sum; that is, a new list where the ith element is the sum of the first i+1 elements from the original list"
      ],
      "metadata": {
        "id": "zg4gZtXM3idU"
      }
    },
    {
      "cell_type": "code",
      "source": [
        "def nested_sum(lst):\n",
        "    total = 0\n",
        "    for sublist in lst:\n",
        "        total += sum(sublist)\n",
        "    return total\n",
        "nested_list = [[1, 2, 3], [4, 5], [6, 7, 8]]\n",
        "result = nested_sum(nested_list)\n",
        "print(\"Sum of elements in nested list:\", result)\n"
      ],
      "metadata": {
        "colab": {
          "base_uri": "https://localhost:8080/"
        },
        "id": "1eFXy2Ln4aTH",
        "outputId": "7c475bcf-3d4a-4f83-e9b9-1c69270a6069"
      },
      "execution_count": null,
      "outputs": [
        {
          "output_type": "stream",
          "name": "stdout",
          "text": [
            "Sum of elements in nested list: 36\n"
          ]
        }
      ]
    },
    {
      "cell_type": "code",
      "source": [
        "def cumsum(numbers):\n",
        "    cumulative_sum = []\n",
        "    total = 0\n",
        "    for num in numbers:\n",
        "        total += num\n",
        "        cumulative_sum.append(total)\n",
        "    return cumulative_sum\n",
        "my_numbers = [1, 2, 3, 4, 5]\n",
        "cumulative_result = cumsum(my_numbers)\n",
        "print(\"Cumulative sum of the list:\", cumulative_result)\n"
      ],
      "metadata": {
        "colab": {
          "base_uri": "https://localhost:8080/"
        },
        "id": "ZEge5_0H4f9R",
        "outputId": "0490f278-3c0d-4a90-c8da-bc7cd919e04a"
      },
      "execution_count": null,
      "outputs": [
        {
          "output_type": "stream",
          "name": "stdout",
          "text": [
            "Cumulative sum of the list: [1, 3, 6, 10, 15]\n"
          ]
        }
      ]
    }
  ]
}