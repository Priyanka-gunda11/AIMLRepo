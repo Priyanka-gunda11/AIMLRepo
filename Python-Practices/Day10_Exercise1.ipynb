{
 "cells": [
  {
   "cell_type": "code",
   "execution_count": 10,
   "id": "5c3abf52",
   "metadata": {},
   "outputs": [],
   "source": [
    "import pandas as pd"
   ]
  },
  {
   "cell_type": "code",
   "execution_count": 11,
   "id": "903cabbc",
   "metadata": {},
   "outputs": [],
   "source": [
    "from IPython.core.display import HTML"
   ]
  },
  {
   "cell_type": "code",
   "execution_count": 13,
   "id": "04bbf788",
   "metadata": {},
   "outputs": [],
   "source": [
    "titles = pd.read_csv('titles.csv')"
   ]
  },
  {
   "cell_type": "code",
   "execution_count": 14,
   "id": "96681e69",
   "metadata": {},
   "outputs": [
    {
     "data": {
      "text/html": [
       "<div>\n",
       "<style scoped>\n",
       "    .dataframe tbody tr th:only-of-type {\n",
       "        vertical-align: middle;\n",
       "    }\n",
       "\n",
       "    .dataframe tbody tr th {\n",
       "        vertical-align: top;\n",
       "    }\n",
       "\n",
       "    .dataframe thead th {\n",
       "        text-align: right;\n",
       "    }\n",
       "</style>\n",
       "<table border=\"1\" class=\"dataframe\">\n",
       "  <thead>\n",
       "    <tr style=\"text-align: right;\">\n",
       "      <th></th>\n",
       "      <th>title</th>\n",
       "      <th>year</th>\n",
       "    </tr>\n",
       "  </thead>\n",
       "  <tbody>\n",
       "    <tr>\n",
       "      <th>0</th>\n",
       "      <td>Tasveer Mere Sanam</td>\n",
       "      <td>1996</td>\n",
       "    </tr>\n",
       "    <tr>\n",
       "      <th>1</th>\n",
       "      <td>Only You</td>\n",
       "      <td>1994</td>\n",
       "    </tr>\n",
       "    <tr>\n",
       "      <th>2</th>\n",
       "      <td>El pueblo del terror</td>\n",
       "      <td>1970</td>\n",
       "    </tr>\n",
       "    <tr>\n",
       "      <th>3</th>\n",
       "      <td>Machine</td>\n",
       "      <td>2007</td>\n",
       "    </tr>\n",
       "    <tr>\n",
       "      <th>4</th>\n",
       "      <td>MARy</td>\n",
       "      <td>2008</td>\n",
       "    </tr>\n",
       "  </tbody>\n",
       "</table>\n",
       "</div>"
      ],
      "text/plain": [
       "                  title  year\n",
       "0    Tasveer Mere Sanam  1996\n",
       "1              Only You  1994\n",
       "2  El pueblo del terror  1970\n",
       "3               Machine  2007\n",
       "4                  MARy  2008"
      ]
     },
     "execution_count": 14,
     "metadata": {},
     "output_type": "execute_result"
    }
   ],
   "source": [
    "titles.head()"
   ]
  },
  {
   "cell_type": "raw",
   "id": "28960302",
   "metadata": {},
   "source": [
    "How many movies are listed in the titles dataframe"
   ]
  },
  {
   "cell_type": "code",
   "execution_count": 15,
   "id": "33a271f9",
   "metadata": {},
   "outputs": [
    {
     "name": "stdout",
     "output_type": "stream",
     "text": [
      "Number of movies: 244914\n"
     ]
    }
   ],
   "source": [
    "num_movies = titles.shape[0]\n",
    "print(\"Number of movies:\", num_movies)\n"
   ]
  },
  {
   "cell_type": "raw",
   "id": "41a1c8c8",
   "metadata": {},
   "source": [
    "What are the earliest two films listed in the titles dataframe"
   ]
  },
  {
   "cell_type": "code",
   "execution_count": 16,
   "id": "cdf84fde",
   "metadata": {},
   "outputs": [
    {
     "name": "stdout",
     "output_type": "stream",
     "text": [
      "                     title  year\n",
      "193222          Miss Jerry  1894\n",
      "51388   The Startled Lover  1898\n"
     ]
    }
   ],
   "source": [
    "sorted_titles = titles.sort_values(by='year')\n",
    "earliest_two_films = sorted_titles.head(2)\n",
    "print(earliest_two_films)\n"
   ]
  },
  {
   "cell_type": "raw",
   "id": "8b3960db",
   "metadata": {},
   "source": [
    "How many movies have the titles \"Hamlet\""
   ]
  },
  {
   "cell_type": "code",
   "execution_count": 18,
   "id": "6e2555c4",
   "metadata": {},
   "outputs": [
    {
     "name": "stdout",
     "output_type": "stream",
     "text": [
      "Number of movies with the title 'Hamlet': 20\n"
     ]
    }
   ],
   "source": [
    "hamlet_movies = titles[titles['title'] == 'Hamlet']\n",
    "num_hamlet_movies = len(hamlet_movies)\n",
    "print(\"Number of movies with the title 'Hamlet':\", num_hamlet_movies)\n"
   ]
  },
  {
   "cell_type": "raw",
   "id": "0973d089",
   "metadata": {},
   "source": [
    "How many movies are titled \"North by Northwest\""
   ]
  },
  {
   "cell_type": "code",
   "execution_count": 19,
   "id": "72e79bb8",
   "metadata": {},
   "outputs": [
    {
     "name": "stdout",
     "output_type": "stream",
     "text": [
      "Number of movies titled 'North by Northwest': 1\n"
     ]
    }
   ],
   "source": [
    "north_by_northwest_movies = titles[titles['title'] == 'North by Northwest']\n",
    "num_north_by_northwest_movies = len(north_by_northwest_movies)\n",
    "print(\"Number of movies titled 'North by Northwest':\", num_north_by_northwest_movies)"
   ]
  },
  {
   "cell_type": "raw",
   "id": "89e0265a",
   "metadata": {},
   "source": [
    "When was the first movie titled \"Hamlet\" made?"
   ]
  },
  {
   "cell_type": "code",
   "execution_count": 21,
   "id": "c6cedb6c",
   "metadata": {},
   "outputs": [
    {
     "name": "stdout",
     "output_type": "stream",
     "text": [
      "Release year of the first movie titled 'Hamlet': 1910\n"
     ]
    }
   ],
   "source": [
    "hamlet_movies = titles[titles['title'] == 'Hamlet']\n",
    "hamlet_movies_sorted = hamlet_movies.sort_values(by='year')\n",
    "first_hamlet_movie = hamlet_movies_sorted.iloc[0]\n",
    "print(\"Release year of the first movie titled 'Hamlet':\", first_hamlet_movie['year'])\n"
   ]
  },
  {
   "cell_type": "raw",
   "id": "8208c888",
   "metadata": {},
   "source": [
    "Listall of the \"Treasure Island\" movies from earliest to most recent"
   ]
  },
  {
   "cell_type": "code",
   "execution_count": 22,
   "id": "c14862ea",
   "metadata": {},
   "outputs": [
    {
     "name": "stdout",
     "output_type": "stream",
     "text": [
      "                  title  year\n",
      "55686   Treasure Island  1918\n",
      "196514  Treasure Island  1920\n",
      "141822  Treasure Island  1934\n",
      "77354   Treasure Island  1950\n",
      "65051   Treasure Island  1972\n",
      "37238   Treasure Island  1973\n",
      "173051  Treasure Island  1985\n",
      "27076   Treasure Island  1999\n"
     ]
    }
   ],
   "source": [
    "treasure_island_movies = titles[titles['title'] == 'Treasure Island']\n",
    "treasure_island_movies_sorted = treasure_island_movies.sort_values(by='year')\n",
    "print(treasure_island_movies_sorted[['title', 'year']])\n"
   ]
  },
  {
   "cell_type": "raw",
   "id": "676e2507",
   "metadata": {},
   "source": [
    "How many movies are made in the year 1950?"
   ]
  },
  {
   "cell_type": "code",
   "execution_count": 23,
   "id": "08c63cda",
   "metadata": {},
   "outputs": [
    {
     "name": "stdout",
     "output_type": "stream",
     "text": [
      "Number of movies made in the year 1950: 1113\n"
     ]
    }
   ],
   "source": [
    "movies_1950 = titles[titles['year'] == 1950]\n",
    "num_movies_1950 = len(movies_1950)\n",
    "print(\"Number of movies made in the year 1950:\", num_movies_1950)\n"
   ]
  },
  {
   "cell_type": "raw",
   "id": "3719c21d",
   "metadata": {},
   "source": [
    "How many movies are made in the year 1960?"
   ]
  },
  {
   "cell_type": "code",
   "execution_count": 24,
   "id": "364ba4c7",
   "metadata": {},
   "outputs": [
    {
     "name": "stdout",
     "output_type": "stream",
     "text": [
      "Number of movies made in the year 1960: 1549\n"
     ]
    }
   ],
   "source": [
    "movies_1960 = titles[titles['year'] == 1960]\n",
    "num_movies_1960 = len(movies_1960)\n",
    "print(\"Number of movies made in the year 1960:\", num_movies_1960)"
   ]
  },
  {
   "cell_type": "raw",
   "id": "635dc806",
   "metadata": {},
   "source": [
    "How many movies were made from 1950 through 1959?"
   ]
  },
  {
   "cell_type": "code",
   "execution_count": 25,
   "id": "66a1d79c",
   "metadata": {},
   "outputs": [
    {
     "name": "stdout",
     "output_type": "stream",
     "text": [
      "Number of movies made from 1950 through 1959: 12934\n"
     ]
    }
   ],
   "source": [
    "movies_1950s = titles[(titles['year'] >= 1950) & (titles['year'] <= 1959)]\n",
    "num_movies_1950s = len(movies_1950s)\n",
    "print(\"Number of movies made from 1950 through 1959:\", num_movies_1950s)\n"
   ]
  },
  {
   "cell_type": "raw",
   "id": "59cd2d34",
   "metadata": {},
   "source": [
    "In what years has a movie titled\"Batman\" been released?"
   ]
  },
  {
   "cell_type": "code",
   "execution_count": 26,
   "id": "6bd7f843",
   "metadata": {},
   "outputs": [
    {
     "name": "stdout",
     "output_type": "stream",
     "text": [
      "Years in which a movie titled 'Batman' was released: [1943 1989]\n"
     ]
    }
   ],
   "source": [
    "batman_movies = titles[titles['title'] == 'Batman']\n",
    "batman_release_years = batman_movies['year'].unique()\n",
    "batman_release_years.sort()\n",
    "print(\"Years in which a movie titled 'Batman' was released:\", batman_release_years)\n"
   ]
  },
  {
   "cell_type": "raw",
   "id": "2f0e61ee",
   "metadata": {},
   "source": [
    "How many roles were there in the movie \"Inception\"?"
   ]
  },
  {
   "cell_type": "code",
   "execution_count": 32,
   "id": "9a20a839",
   "metadata": {},
   "outputs": [],
   "source": [
    "cast = pd.read_csv('cast.csv')"
   ]
  },
  {
   "cell_type": "code",
   "execution_count": 33,
   "id": "f3689d95",
   "metadata": {},
   "outputs": [
    {
     "name": "stdout",
     "output_type": "stream",
     "text": [
      "The roles in inception movie: 56\n"
     ]
    }
   ],
   "source": [
    "inception_cast = cast[cast['title'] == 'Inception']\n",
    "num_roles_in_inception = len(inception_cast['character'].unique())\n",
    "print('The roles in inception movie:',num_roles_in_inception)"
   ]
  },
  {
   "cell_type": "raw",
   "id": "3a82fa07",
   "metadata": {},
   "source": [
    "How many roles in the movie \"inception\" are not ranked by n value?"
   ]
  },
  {
   "cell_type": "code",
   "execution_count": 35,
   "id": "ede22ee2",
   "metadata": {},
   "outputs": [
    {
     "name": "stdout",
     "output_type": "stream",
     "text": [
      "the movie \"inception\" are not ranked by n value: 27\n"
     ]
    }
   ],
   "source": [
    "inception_cast = cast[cast['title'] == 'Inception']\n",
    "not_ranked_roles = inception_cast[pd.isnull(inception_cast['n'])]\n",
    "num_not_ranked_roles = len(not_ranked_roles)\n",
    "print('the movie \"inception\" are not ranked by n value:',num_not_ranked_roles)\n"
   ]
  },
  {
   "cell_type": "raw",
   "id": "fc100cda",
   "metadata": {},
   "source": [
    "Display the cast of \"North by Northwest\" in their correct \"n\"-value order,ignoreing roles that did not earn a numeric \"n\" value"
   ]
  },
  {
   "cell_type": "code",
   "execution_count": 37,
   "id": "968f2339",
   "metadata": {},
   "outputs": [
    {
     "name": "stdout",
     "output_type": "stream",
     "text": [
      "            n                  name                    character\n",
      "871426    1.0            Cary Grant           Roger O. Thornhill\n",
      "3518333   2.0       Eva Marie Saint                  Eve Kendall\n",
      "1457165   3.0           James Mason              Phillip Vandamm\n",
      "3157232   4.0   Jessie Royce Landis              Clara Thornhill\n",
      "356707    5.0        Leo G. Carroll                The Professor\n",
      "3048272   6.0  Josephine Hutchinson                Mrs. Townsend\n",
      "1695173   7.0           Philip Ober              Lester Townsend\n",
      "1275337   8.0         Martin Landau                      Leonard\n",
      "2447081   9.0         Adam Williams                     Valerian\n",
      "1811387  10.0          Edward Platt              Victor Larrabee\n",
      "665768   11.0     Robert Ellenstein                        Licht\n",
      "2295714  12.0          Les Tremayne                   Auctioneer\n",
      "464736   13.0       Philip Coolidge                    Dr. Cross\n",
      "1508344  14.0         Patrick McVey               Sergeant Flamm\n",
      "206471   15.0          Edward Binns               Captain Junket\n",
      "1384780  16.0             Ken Lynch  Charley - Chicago Policeman\n"
     ]
    }
   ],
   "source": [
    "north_by_northwest_cast = cast[(cast['title'] == 'North by Northwest') & (cast['n'].notnull())]\n",
    "north_by_northwest_cast_sorted = north_by_northwest_cast.sort_values(by='n')\n",
    "print(north_by_northwest_cast_sorted[['n', 'name', 'character']])"
   ]
  },
  {
   "cell_type": "raw",
   "id": "dd433802",
   "metadata": {},
   "source": [
    "Display the entire cast,in \"n\" -order,of the 1972 film \"Sleuth\""
   ]
  },
  {
   "cell_type": "code",
   "execution_count": 38,
   "id": "f05ec61b",
   "metadata": {},
   "outputs": [
    {
     "name": "stdout",
     "output_type": "stream",
     "text": [
      "          title  year                name     type  \\\n",
      "1705394  Sleuth  1972    Laurence Olivier    actor   \n",
      "326773   Sleuth  1972       Michael Caine    actor   \n",
      "373876   Sleuth  1972      Alec Cawthorne    actor   \n",
      "1465483  Sleuth  1972  John (II) Matthews    actor   \n",
      "2724553  Sleuth  1972  Eve (III) Channing  actress   \n",
      "1448690  Sleuth  1972        Teddy Martin    actor   \n",
      "\n",
      "                          character    n  \n",
      "1705394                 Andrew Wyke  1.0  \n",
      "326773                  Milo Tindle  2.0  \n",
      "373876            Inspector Doppler  3.0  \n",
      "1465483  Detective Sergeant Tarrant  4.0  \n",
      "2724553             Marguerite Wyke  5.0  \n",
      "1448690      Police Constable Higgs  6.0  \n"
     ]
    }
   ],
   "source": [
    "sleuth_1972_cast = cast[(cast['title'] == 'Sleuth') & (cast['year'] == 1972)]\n",
    "sleuth_1972_cast_sorted = sleuth_1972_cast.sort_values(by='n')\n",
    "print(sleuth_1972_cast_sorted)"
   ]
  },
  {
   "cell_type": "raw",
   "id": "ce061b0e",
   "metadata": {},
   "source": [
    "How many roles were credited in the silent 1921 version of Hamlet?"
   ]
  },
  {
   "cell_type": "code",
   "execution_count": 39,
   "id": "a6ecd8e0",
   "metadata": {},
   "outputs": [
    {
     "name": "stdout",
     "output_type": "stream",
     "text": [
      "9\n"
     ]
    }
   ],
   "source": [
    "hamlet_1921_cast = cast[(cast['title'] == 'Hamlet') & (cast['year'] == 1921)]\n",
    "num_roles_hamlet_1921 = len(hamlet_1921_cast)\n",
    "print(num_roles_hamlet_1921)\n"
   ]
  },
  {
   "cell_type": "raw",
   "id": "ba80ddbb",
   "metadata": {},
   "source": [
    "How many roles were credited in Branagh's 1996 Hamlet?"
   ]
  },
  {
   "cell_type": "code",
   "execution_count": 40,
   "id": "b1bce47b",
   "metadata": {},
   "outputs": [
    {
     "name": "stdout",
     "output_type": "stream",
     "text": [
      "54\n"
     ]
    }
   ],
   "source": [
    "hamlet_1996_cast = cast[(cast['title'] == 'Hamlet') & (cast['year'] == 1996)]\n",
    "num_roles_hamlet_1996 = len(hamlet_1996_cast)\n",
    "print(num_roles_hamlet_1996)\n"
   ]
  },
  {
   "cell_type": "raw",
   "id": "a57e2c44",
   "metadata": {},
   "source": [
    "How many \"Hamlet\" roles have been listed in all film credits through history?"
   ]
  },
  {
   "cell_type": "code",
   "execution_count": 41,
   "id": "d1688d7d",
   "metadata": {},
   "outputs": [
    {
     "name": "stdout",
     "output_type": "stream",
     "text": [
      "342\n"
     ]
    }
   ],
   "source": [
    "hamlet_roles = cast[cast['title'] == 'Hamlet']\n",
    "num_hamlet_roles = len(hamlet_roles)\n",
    "print(num_hamlet_roles)\n"
   ]
  },
  {
   "cell_type": "raw",
   "id": "75b8fdc5",
   "metadata": {},
   "source": [
    "How many people have played an \"Ophelia\"?"
   ]
  },
  {
   "cell_type": "code",
   "execution_count": 42,
   "id": "5d8d8e93",
   "metadata": {},
   "outputs": [
    {
     "name": "stdout",
     "output_type": "stream",
     "text": [
      "115\n"
     ]
    }
   ],
   "source": [
    "ophelia_roles = cast[cast['character'] == 'Ophelia']\n",
    "num_ophelia_actors = len(ophelia_roles['name'].unique())\n",
    "print(num_ophelia_actors)\n"
   ]
  },
  {
   "cell_type": "raw",
   "id": "924a5289",
   "metadata": {},
   "source": [
    "How many people have played a role called \"The Dude\"?"
   ]
  },
  {
   "cell_type": "code",
   "execution_count": 43,
   "id": "89ec1fed",
   "metadata": {},
   "outputs": [
    {
     "name": "stdout",
     "output_type": "stream",
     "text": [
      "19\n"
     ]
    }
   ],
   "source": [
    "dude_roles = cast[cast['character'] == 'The Dude']\n",
    "num_dude_actors = len(dude_roles['name'].unique())\n",
    "print(num_dude_actors)\n"
   ]
  },
  {
   "cell_type": "raw",
   "id": "2b909d3d",
   "metadata": {},
   "source": [
    "How many people have played a role called \"The Stranger\"?"
   ]
  },
  {
   "cell_type": "code",
   "execution_count": 44,
   "id": "3c293752",
   "metadata": {},
   "outputs": [
    {
     "name": "stdout",
     "output_type": "stream",
     "text": [
      "202\n"
     ]
    }
   ],
   "source": [
    "stranger_roles = cast[cast['character'] == 'The Stranger']\n",
    "num_stranger_actors = len(stranger_roles['name'].unique())\n",
    "print(num_stranger_actors)\n"
   ]
  },
  {
   "cell_type": "raw",
   "id": "c22fc119",
   "metadata": {},
   "source": [
    "How many roles has Sidney Poitier played throughout his career?"
   ]
  },
  {
   "cell_type": "code",
   "execution_count": 45,
   "id": "d35bcce9",
   "metadata": {},
   "outputs": [
    {
     "name": "stdout",
     "output_type": "stream",
     "text": [
      "43\n"
     ]
    }
   ],
   "source": [
    "sidney_poitier_roles = cast[cast['name'] == 'Sidney Poitier']\n",
    "num_sidney_poitier_roles = len(sidney_poitier_roles)\n",
    "print(num_sidney_poitier_roles)\n"
   ]
  },
  {
   "cell_type": "raw",
   "id": "7d1b1b3a",
   "metadata": {},
   "source": [
    "How many roles has Judi Dench played?"
   ]
  },
  {
   "cell_type": "code",
   "execution_count": 46,
   "id": "98496f41",
   "metadata": {},
   "outputs": [
    {
     "name": "stdout",
     "output_type": "stream",
     "text": [
      "55\n"
     ]
    }
   ],
   "source": [
    "judi_dench_roles = cast[cast['name'] == 'Judi Dench']\n",
    "num_judi_dench_roles = len(judi_dench_roles)\n",
    "print(num_judi_dench_roles)\n"
   ]
  },
  {
   "cell_type": "raw",
   "id": "de218882",
   "metadata": {},
   "source": [
    "List the supporting roles (having n=2) played by Cary Grant in the 1940s, in order by year."
   ]
  },
  {
   "cell_type": "code",
   "execution_count": 47,
   "id": "46749521",
   "metadata": {},
   "outputs": [
    {
     "name": "stdout",
     "output_type": "stream",
     "text": [
      "        year             title    character\n",
      "871423  1940  My Favorite Wife   Nick Arden\n",
      "871433  1941    Penny Serenade  Roger Adams\n"
     ]
    }
   ],
   "source": [
    "cary_grant_supporting_roles_1940s = cast[(cast['name'] == 'Cary Grant') & (cast['n'] == 2) & (cast['year'] >= 1940) & (cast['year'] <= 1949)]\n",
    "cary_grant_supporting_roles_1940s_sorted = cary_grant_supporting_roles_1940s.sort_values(by='year')\n",
    "print(cary_grant_supporting_roles_1940s_sorted[['year', 'title', 'character']])\n"
   ]
  },
  {
   "cell_type": "raw",
   "id": "3e82e951",
   "metadata": {},
   "source": [
    "List the leading roles that Cary Grant played in the 1940s in order by year"
   ]
  },
  {
   "cell_type": "code",
   "execution_count": 48,
   "id": "c6b57c8c",
   "metadata": {},
   "outputs": [
    {
     "name": "stdout",
     "output_type": "stream",
     "text": [
      "        year                                 title  \\\n",
      "871448  1940               The Howards of Virginia   \n",
      "871407  1940                       His Girl Friday   \n",
      "871450  1940                The Philadelphia Story   \n",
      "871438  1941                             Suspicion   \n",
      "871452  1942                  The Talk of the Town   \n",
      "871429  1942                 Once Upon a Honeymoon   \n",
      "871398  1943                     Destination Tokyo   \n",
      "871422  1943                             Mr. Lucky   \n",
      "871430  1944                      Once Upon a Time   \n",
      "871390  1944                  Arsenic and Old Lace   \n",
      "871425  1944             None But the Lonely Heart   \n",
      "871424  1946                         Night and Day   \n",
      "871427  1946                             Notorious   \n",
      "871444  1947      The Bachelor and the Bobby-Soxer   \n",
      "871445  1947                     The Bishop's Wife   \n",
      "871421  1948  Mr. Blandings Builds His Dream House   \n",
      "871402  1948          Every Girl Should Be Married   \n",
      "871411  1949                I Was a Male War Bride   \n",
      "\n",
      "                                   character  \n",
      "871448                           Matt Howard  \n",
      "871407                          Walter Burns  \n",
      "871450                    C. K. Dexter Haven  \n",
      "871438                      Johnnie Aysgarth  \n",
      "871452                          Leopold Dilg  \n",
      "871429                 Patrick 'Pat' O'Toole  \n",
      "871398                         Capt. Cassidy  \n",
      "871422  Joe Adams -posing as Joe Bascopolous  \n",
      "871430                           Jerry Flynn  \n",
      "871390                     Mortimer Brewster  \n",
      "871425                            Ernie Mott  \n",
      "871424                           Cole Porter  \n",
      "871427                                Devlin  \n",
      "871444                           Dick Nugent  \n",
      "871445                                Dudley  \n",
      "871421                         Jim Blandings  \n",
      "871402                     Dr. Madison Brown  \n",
      "871411                 Captain Henri Rochard  \n"
     ]
    }
   ],
   "source": [
    "cary_grant_leading_roles_1940s = cast[(cast['name'] == 'Cary Grant') & (cast['n'] == 1) & (cast['year'] >= 1940) & (cast['year'] <= 1949)]\n",
    "cary_grant_leading_roles_1940s_sorted = cary_grant_leading_roles_1940s.sort_values(by='year')\n",
    "print(cary_grant_leading_roles_1940s_sorted[['year', 'title', 'character']])\n"
   ]
  },
  {
   "cell_type": "raw",
   "id": "e65e4d83",
   "metadata": {},
   "source": [
    "How many roles were available for actors in the 1950s?"
   ]
  },
  {
   "cell_type": "code",
   "execution_count": 49,
   "id": "31d445a7",
   "metadata": {},
   "outputs": [
    {
     "name": "stdout",
     "output_type": "stream",
     "text": [
      "215471\n"
     ]
    }
   ],
   "source": [
    "roles_1950s = cast[(cast['year'] >= 1950) & (cast['year'] <= 1959)]\n",
    "num_roles_1950s = len(roles_1950s)\n",
    "print(num_roles_1950s)\n"
   ]
  },
  {
   "cell_type": "raw",
   "id": "4e556b75",
   "metadata": {},
   "source": [
    "How many roles were available for actresses in the 1950s?"
   ]
  },
  {
   "cell_type": "code",
   "execution_count": 50,
   "id": "6f7ac060",
   "metadata": {},
   "outputs": [
    {
     "name": "stdout",
     "output_type": "stream",
     "text": [
      "57733\n"
     ]
    }
   ],
   "source": [
    "actress_roles_1950s = cast[(cast['year'] >= 1950) & (cast['year'] <= 1959) & (cast['type'] == 'actress')]\n",
    "num_actress_roles_1950s = len(actress_roles_1950s)\n",
    "print(num_actress_roles_1950s)\n"
   ]
  },
  {
   "cell_type": "raw",
   "id": "046e3d07",
   "metadata": {},
   "source": [
    "How many leading roles (n=1) were available from the beginning of film history through 1980?"
   ]
  },
  {
   "cell_type": "code",
   "execution_count": 51,
   "id": "743e16fb",
   "metadata": {},
   "outputs": [
    {
     "name": "stdout",
     "output_type": "stream",
     "text": [
      "65140\n"
     ]
    }
   ],
   "source": [
    "leading_roles_until_1980 = cast[(cast['n'] == 1) & (cast['year'] <= 1980)]\n",
    "num_leading_roles_until_1980 = len(leading_roles_until_1980)\n",
    "print(num_leading_roles_until_1980)\n"
   ]
  },
  {
   "cell_type": "raw",
   "id": "b0c9cdaf",
   "metadata": {},
   "source": [
    "How many non-leading roles were available through from thebeginning of film history through 1980?"
   ]
  },
  {
   "cell_type": "code",
   "execution_count": 52,
   "id": "464afaf4",
   "metadata": {},
   "outputs": [
    {
     "name": "stdout",
     "output_type": "stream",
     "text": [
      "1117667\n"
     ]
    }
   ],
   "source": [
    "non_leading_roles_until_1980 = cast[(cast['n'] != 1) & (cast['year'] <= 1980)]\n",
    "num_non_leading_roles_until_1980 = len(non_leading_roles_until_1980)\n",
    "print(num_non_leading_roles_until_1980)\n"
   ]
  },
  {
   "cell_type": "raw",
   "id": "230685c0",
   "metadata": {},
   "source": [
    "How many roles through 1980 were minor enough that they did not warrant a numeric \"n\" rank?"
   ]
  },
  {
   "cell_type": "code",
   "execution_count": 53,
   "id": "86683055",
   "metadata": {},
   "outputs": [
    {
     "name": "stdout",
     "output_type": "stream",
     "text": [
      "448347\n"
     ]
    }
   ],
   "source": [
    "roles_without_numeric_n_until_1980 = cast[(cast['n'].isnull()) & (cast['year'] <= 1980)]\n",
    "num_roles_without_numeric_n_until_1980 = len(roles_without_numeric_n_until_1980)\n",
    "print(num_roles_without_numeric_n_until_1980)\n"
   ]
  },
  {
   "cell_type": "code",
   "execution_count": null,
   "id": "dbd0c9c2",
   "metadata": {},
   "outputs": [],
   "source": []
  }
 ],
 "metadata": {
  "kernelspec": {
   "display_name": "Python 3 (ipykernel)",
   "language": "python",
   "name": "python3"
  },
  "language_info": {
   "codemirror_mode": {
    "name": "ipython",
    "version": 3
   },
   "file_extension": ".py",
   "mimetype": "text/x-python",
   "name": "python",
   "nbconvert_exporter": "python",
   "pygments_lexer": "ipython3",
   "version": "3.11.4"
  }
 },
 "nbformat": 4,
 "nbformat_minor": 5
}
