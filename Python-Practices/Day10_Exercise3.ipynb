{
 "cells": [
  {
   "cell_type": "code",
   "execution_count": 1,
   "id": "ad706c96",
   "metadata": {},
   "outputs": [],
   "source": [
    "import pandas as pd"
   ]
  },
  {
   "cell_type": "code",
   "execution_count": 2,
   "id": "73693e23",
   "metadata": {},
   "outputs": [],
   "source": [
    "from IPython.core.display import HTML"
   ]
  },
  {
   "cell_type": "code",
   "execution_count": 3,
   "id": "39cb6e66",
   "metadata": {},
   "outputs": [],
   "source": [
    "titles = pd.read_csv('titles.csv',index_col=None)"
   ]
  },
  {
   "cell_type": "code",
   "execution_count": 4,
   "id": "71723158",
   "metadata": {},
   "outputs": [
    {
     "data": {
      "text/html": [
       "<div>\n",
       "<style scoped>\n",
       "    .dataframe tbody tr th:only-of-type {\n",
       "        vertical-align: middle;\n",
       "    }\n",
       "\n",
       "    .dataframe tbody tr th {\n",
       "        vertical-align: top;\n",
       "    }\n",
       "\n",
       "    .dataframe thead th {\n",
       "        text-align: right;\n",
       "    }\n",
       "</style>\n",
       "<table border=\"1\" class=\"dataframe\">\n",
       "  <thead>\n",
       "    <tr style=\"text-align: right;\">\n",
       "      <th></th>\n",
       "      <th>title</th>\n",
       "      <th>year</th>\n",
       "    </tr>\n",
       "  </thead>\n",
       "  <tbody>\n",
       "    <tr>\n",
       "      <th>0</th>\n",
       "      <td>Tasveer Mere Sanam</td>\n",
       "      <td>1996</td>\n",
       "    </tr>\n",
       "    <tr>\n",
       "      <th>1</th>\n",
       "      <td>Only You</td>\n",
       "      <td>1994</td>\n",
       "    </tr>\n",
       "    <tr>\n",
       "      <th>2</th>\n",
       "      <td>El pueblo del terror</td>\n",
       "      <td>1970</td>\n",
       "    </tr>\n",
       "    <tr>\n",
       "      <th>3</th>\n",
       "      <td>Machine</td>\n",
       "      <td>2007</td>\n",
       "    </tr>\n",
       "    <tr>\n",
       "      <th>4</th>\n",
       "      <td>MARy</td>\n",
       "      <td>2008</td>\n",
       "    </tr>\n",
       "  </tbody>\n",
       "</table>\n",
       "</div>"
      ],
      "text/plain": [
       "                  title  year\n",
       "0    Tasveer Mere Sanam  1996\n",
       "1              Only You  1994\n",
       "2  El pueblo del terror  1970\n",
       "3               Machine  2007\n",
       "4                  MARy  2008"
      ]
     },
     "execution_count": 4,
     "metadata": {},
     "output_type": "execute_result"
    }
   ],
   "source": [
    "titles.head()"
   ]
  },
  {
   "cell_type": "code",
   "execution_count": 8,
   "id": "df5fba92",
   "metadata": {},
   "outputs": [],
   "source": [
    "cast = pd.read_csv('cast.csv',index_col=None)"
   ]
  },
  {
   "cell_type": "code",
   "execution_count": 9,
   "id": "595372a5",
   "metadata": {},
   "outputs": [
    {
     "data": {
      "text/html": [
       "<div>\n",
       "<style scoped>\n",
       "    .dataframe tbody tr th:only-of-type {\n",
       "        vertical-align: middle;\n",
       "    }\n",
       "\n",
       "    .dataframe tbody tr th {\n",
       "        vertical-align: top;\n",
       "    }\n",
       "\n",
       "    .dataframe thead th {\n",
       "        text-align: right;\n",
       "    }\n",
       "</style>\n",
       "<table border=\"1\" class=\"dataframe\">\n",
       "  <thead>\n",
       "    <tr style=\"text-align: right;\">\n",
       "      <th></th>\n",
       "      <th>title</th>\n",
       "      <th>year</th>\n",
       "      <th>name</th>\n",
       "      <th>type</th>\n",
       "      <th>character</th>\n",
       "      <th>n</th>\n",
       "    </tr>\n",
       "  </thead>\n",
       "  <tbody>\n",
       "    <tr>\n",
       "      <th>0</th>\n",
       "      <td>Closet Monster</td>\n",
       "      <td>2015</td>\n",
       "      <td>Buffy #1</td>\n",
       "      <td>actor</td>\n",
       "      <td>Buffy 4</td>\n",
       "      <td>31.0</td>\n",
       "    </tr>\n",
       "    <tr>\n",
       "      <th>1</th>\n",
       "      <td>Suuri illusioni</td>\n",
       "      <td>1985</td>\n",
       "      <td>Homo $</td>\n",
       "      <td>actor</td>\n",
       "      <td>Guests</td>\n",
       "      <td>22.0</td>\n",
       "    </tr>\n",
       "    <tr>\n",
       "      <th>2</th>\n",
       "      <td>Battle of the Sexes</td>\n",
       "      <td>2017</td>\n",
       "      <td>$hutter</td>\n",
       "      <td>actor</td>\n",
       "      <td>Bobby Riggs Fan</td>\n",
       "      <td>10.0</td>\n",
       "    </tr>\n",
       "    <tr>\n",
       "      <th>3</th>\n",
       "      <td>Secret in Their Eyes</td>\n",
       "      <td>2015</td>\n",
       "      <td>$hutter</td>\n",
       "      <td>actor</td>\n",
       "      <td>2002 Dodger Fan</td>\n",
       "      <td>NaN</td>\n",
       "    </tr>\n",
       "    <tr>\n",
       "      <th>4</th>\n",
       "      <td>Steve Jobs</td>\n",
       "      <td>2015</td>\n",
       "      <td>$hutter</td>\n",
       "      <td>actor</td>\n",
       "      <td>1988 Opera House Patron</td>\n",
       "      <td>NaN</td>\n",
       "    </tr>\n",
       "  </tbody>\n",
       "</table>\n",
       "</div>"
      ],
      "text/plain": [
       "                  title  year      name   type                character     n\n",
       "0        Closet Monster  2015  Buffy #1  actor                  Buffy 4  31.0\n",
       "1       Suuri illusioni  1985    Homo $  actor                   Guests  22.0\n",
       "2   Battle of the Sexes  2017   $hutter  actor          Bobby Riggs Fan  10.0\n",
       "3  Secret in Their Eyes  2015   $hutter  actor          2002 Dodger Fan   NaN\n",
       "4            Steve Jobs  2015   $hutter  actor  1988 Opera House Patron   NaN"
      ]
     },
     "execution_count": 9,
     "metadata": {},
     "output_type": "execute_result"
    }
   ],
   "source": [
    "cast.head()"
   ]
  },
  {
   "cell_type": "raw",
   "id": "201d4c96",
   "metadata": {},
   "source": [
    "Using groupby(), plot the number of films that have been released each decade in the history of cinema."
   ]
  },
  {
   "cell_type": "code",
   "execution_count": 10,
   "id": "a6de8e10",
   "metadata": {},
   "outputs": [
    {
     "data": {
      "image/png": "[encoded data removed]",
      "text/plain": [
       "<Figure size 1000x600 with 1 Axes>"
      ]
     },
     "metadata": {},
     "output_type": "display_data"
    }
   ],
   "source": [
    "import pandas as pd\n",
    "import matplotlib.pyplot as plt\n",
    "cast['decade'] = (cast['year'] // 10) * 10\n",
    "\n",
    "# Group the DataFrame by 'decade' and count the number of films for each decade\n",
    "films_per_decade = cast.groupby('decade')['title'].count()\n",
    "\n",
    "# Create a bar plot\n",
    "plt.figure(figsize=(10, 6))\n",
    "films_per_decade.plot(kind='bar', color='skyblue')\n",
    "plt.xlabel('Decade')\n",
    "plt.ylabel('Number of Films Released')\n",
    "plt.title('Number of Films Released Each Decade')\n",
    "plt.xticks(rotation=45)\n",
    "plt.show()\n"
   ]
  },
  {
   "cell_type": "raw",
   "id": "96d876eb",
   "metadata": {},
   "source": [
    "Use groupby() to plot the number of \"Hamlet\" films made each decade."
   ]
  },
  {
   "cell_type": "code",
   "execution_count": 11,
   "id": "c9282be5",
   "metadata": {},
   "outputs": [
    {
     "name": "stderr",
     "output_type": "stream",
     "text": [
      "C:\\Users\\user\\AppData\\Local\\Temp\\ipykernel_3136\\3161980118.py:7: SettingWithCopyWarning: \n",
      "A value is trying to be set on a copy of a slice from a DataFrame.\n",
      "Try using .loc[row_indexer,col_indexer] = value instead\n",
      "\n",
      "See the caveats in the documentation: https://pandas.pydata.org/pandas-docs/stable/user_guide/indexing.html#returning-a-view-versus-a-copy\n",
      "  hamlet_films['decade'] = (hamlet_films['year'] // 10) * 10\n"
     ]
    },
    {
     "data": {
      "image/png": "[encoded data removed]",
      "text/plain": [
       "<Figure size 1000x600 with 1 Axes>"
      ]
     },
     "metadata": {},
     "output_type": "display_data"
    }
   ],
   "source": [
    "import pandas as pd\n",
    "import matplotlib.pyplot as plt\n",
    "\n",
    "hamlet_films = titles[titles['title'] == 'Hamlet']\n",
    "\n",
    "# Create a new column 'decade' by rounding down the 'year' to the nearest decade\n",
    "hamlet_films['decade'] = (hamlet_films['year'] // 10) * 10\n",
    "\n",
    "# Group the DataFrame by 'decade' and count the number of \"Hamlet\" films for each decade\n",
    "hamlet_counts_per_decade = hamlet_films.groupby('decade')['title'].count()\n",
    "\n",
    "# Create a bar plot\n",
    "plt.figure(figsize=(10, 6))\n",
    "hamlet_counts_per_decade.plot(kind='bar', color='skyblue')\n",
    "plt.xlabel('Decade')\n",
    "plt.ylabel('Number of \"Hamlet\" Films')\n",
    "plt.title('Number of \"Hamlet\" Films Made Each Decade')\n",
    "plt.xticks(rotation=45)\n",
    "plt.show()\n"
   ]
  },
  {
   "cell_type": "raw",
   "id": "fa781d68",
   "metadata": {},
   "source": [
    "How many leading (n=1) roles were available to actors, and how many to actresses, in each year of the 1950s?"
   ]
  },
  {
   "cell_type": "code",
   "execution_count": 12,
   "id": "49cdc232",
   "metadata": {},
   "outputs": [
    {
     "name": "stdout",
     "output_type": "stream",
     "text": [
      "Leading roles (n=1) available to actors in each year of the 1950s:\n",
      "year\n",
      "1950    625\n",
      "1951    651\n",
      "1952    613\n",
      "1953    664\n",
      "1954    636\n",
      "1955    648\n",
      "1956    668\n",
      "1957    739\n",
      "1958    715\n",
      "1959    733\n",
      "Name: n, dtype: int64\n",
      "\n",
      "Leading roles (n=1) available to actresses in each year of the 1950s:\n",
      "year\n",
      "1950    288\n",
      "1951    285\n",
      "1952    304\n",
      "1953    312\n",
      "1954    316\n",
      "1955    285\n",
      "1956    307\n",
      "1957    315\n",
      "1958    301\n",
      "1959    327\n",
      "Name: n, dtype: int64\n"
     ]
    }
   ],
   "source": [
    "leading_roles_actors = cast[(cast['year'] >= 1950) & (cast['year'] <= 1959) & (cast['n'] == 1) & (cast['type'] == 'actor')]\n",
    "leading_roles_actresses = cast[(cast['year'] >= 1950) & (cast['year'] <= 1959) & (cast['n'] == 1) & (cast['type'] == 'actress')]\n",
    "\n",
    "leading_roles_actors_by_year = leading_roles_actors.groupby('year')['n'].count()\n",
    "leading_roles_actresses_by_year = leading_roles_actresses.groupby('year')['n'].count()\n",
    "\n",
    "print(\"Leading roles (n=1) available to actors in each year of the 1950s:\")\n",
    "print(leading_roles_actors_by_year)\n",
    "\n",
    "print(\"\\nLeading roles (n=1) available to actresses in each year of the 1950s:\")\n",
    "print(leading_roles_actresses_by_year)\n"
   ]
  },
  {
   "cell_type": "raw",
   "id": "4ee7dc4e",
   "metadata": {},
   "source": [
    "In the 1950s decade taken as a whole, how many total roles were available to actors, and how many to actresses, for each \"n\" number 1 through 5?"
   ]
  },
  {
   "cell_type": "code",
   "execution_count": 13,
   "id": "9d7b6ed9",
   "metadata": {},
   "outputs": [
    {
     "name": "stdout",
     "output_type": "stream",
     "text": [
      "Total roles available to actors and actresses in the 1950s, by 'n' (1 through 5):\n",
      "type     n    \n",
      "actor    1.0      6692\n",
      "         2.0      4640\n",
      "         3.0      5654\n",
      "         4.0      5663\n",
      "         5.0      5674\n",
      "                  ... \n",
      "actress  162.0       1\n",
      "         163.0       1\n",
      "         164.0       1\n",
      "         418.0       1\n",
      "         788.0       1\n",
      "Name: n, Length: 260, dtype: int64\n"
     ]
    }
   ],
   "source": [
    "cast_1950s = cast[(cast['year'] >= 1950) & (cast['year'] <= 1959)]\n",
    "\n",
    "# Group the filtered DataFrame by 'type' (actor or actress) and 'n' (1 through 5) and count the number of roles\n",
    "roles_by_type_and_n = cast_1950s.groupby(['type', 'n'])['n'].count()\n",
    "\n",
    "print(\"Total roles available to actors and actresses in the 1950s, by 'n' (1 through 5):\")\n",
    "print(roles_by_type_and_n)\n"
   ]
  },
  {
   "cell_type": "raw",
   "id": "73f6b90a",
   "metadata": {},
   "source": [
    "Use groupby() to determine how many roles are listed for each of the Pink Panther movies.\n"
   ]
  },
  {
   "cell_type": "code",
   "execution_count": 14,
   "id": "3c08ccce",
   "metadata": {},
   "outputs": [
    {
     "name": "stdout",
     "output_type": "stream",
     "text": [
      "Number of roles listed for each Pink Panther movie:\n",
      "title\n",
      "Curse of the Pink Panther          67\n",
      "Revenge of the Pink Panther        68\n",
      "Son of the Pink Panther            46\n",
      "The Pink Panther                  111\n",
      "The Pink Panther 2                 84\n",
      "The Pink Panther Strikes Again     70\n",
      "The Return of the Pink Panther     30\n",
      "Trail of the Pink Panther          41\n",
      "Name: character, dtype: int64\n"
     ]
    }
   ],
   "source": [
    "pink_panther_movies = cast[cast['title'].str.contains('Pink Panther', case=False, regex=False)]\n",
    "\n",
    "# Group the DataFrame by 'title' (movie) and count the number of roles for each movie\n",
    "roles_per_movie = pink_panther_movies.groupby('title')['character'].count()\n",
    "\n",
    "print(\"Number of roles listed for each Pink Panther movie:\")\n",
    "print(roles_per_movie)\n"
   ]
  },
  {
   "cell_type": "raw",
   "id": "4d6fd015",
   "metadata": {},
   "source": [
    "List, in order by year, each of the films in which Frank Oz has played more than 1 role"
   ]
  },
  {
   "cell_type": "code",
   "execution_count": 15,
   "id": "9767d1b0",
   "metadata": {},
   "outputs": [
    {
     "data": {
      "text/plain": [
       "title                                 year\n",
       "The Muppet Movie                      1979    8\n",
       "An American Werewolf in London        1981    2\n",
       "The Great Muppet Caper                1981    6\n",
       "The Dark Crystal                      1982    2\n",
       "The Muppets Take Manhattan            1984    7\n",
       "Follow That Bird                      1985    3\n",
       "The Muppet Christmas Carol            1992    7\n",
       "Muppet Treasure Island                1996    4\n",
       "Muppets from Space                    1999    4\n",
       "The Adventures of Elmo in Grouchland  1999    3\n",
       "Name: character, dtype: int64"
      ]
     },
     "execution_count": 15,
     "metadata": {},
     "output_type": "execute_result"
    }
   ],
   "source": [
    "frank_oz_roles = cast[cast['name'] == 'Frank Oz']\n",
    "\n",
    "# Group the filtered DataFrame by 'title' and 'year', and count the number of roles for each film\n",
    "roles_per_film = frank_oz_roles.groupby(['title', 'year'])['character'].count()\n",
    "\n",
    "# Filter films where Frank Oz played more than 1 role\n",
    "films_with_multiple_roles = roles_per_film[roles_per_film > 1]\n",
    "\n",
    "# Display the list of films ordered by year\n",
    "films_with_multiple_roles.sort_index(level='year')\n"
   ]
  },
  {
   "cell_type": "raw",
   "id": "f73151b4",
   "metadata": {},
   "source": [
    "List each of the characters that Frank Oz has portrayed at least twice."
   ]
  },
  {
   "cell_type": "code",
   "execution_count": 16,
   "id": "f05c55d9",
   "metadata": {},
   "outputs": [
    {
     "data": {
      "text/plain": [
       "Index(['Miss Piggy', 'Yoda', 'Animal', 'Cookie Monster', 'Sam the Eagle',\n",
       "       'Fozzie Bear', 'Bert', 'Grover'],\n",
       "      dtype='object')"
      ]
     },
     "execution_count": 16,
     "metadata": {},
     "output_type": "execute_result"
    }
   ],
   "source": [
    "frank_oz_characters = cast[cast['name'] == 'Frank Oz']\n",
    "\n",
    "# Group the filtered DataFrame by 'character' and count the number of appearances for each character\n",
    "character_appearances = frank_oz_characters['character'].value_counts()\n",
    "\n",
    "# Filter characters that Frank Oz has portrayed at least twice\n",
    "characters_portrayed_at_least_twice = character_appearances[character_appearances >= 2]\n",
    "\n",
    "# Display the list of characters\n",
    "characters_portrayed_at_least_twice.index\n"
   ]
  },
  {
   "cell_type": "code",
   "execution_count": null,
   "id": "79d73329",
   "metadata": {},
   "outputs": [],
   "source": []
  }
 ],
 "metadata": {
  "kernelspec": {
   "display_name": "Python 3 (ipykernel)",
   "language": "python",
   "name": "python3"
  },
  "language_info": {
   "codemirror_mode": {
    "name": "ipython",
    "version": 3
   },
   "file_extension": ".py",
   "mimetype": "text/x-python",
   "name": "python",
   "nbconvert_exporter": "python",
   "pygments_lexer": "ipython3",
   "version": "3.11.4"
  }
 },
 "nbformat": 4,
 "nbformat_minor": 5
}
