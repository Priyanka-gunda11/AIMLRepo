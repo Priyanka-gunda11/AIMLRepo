{
 "cells": [
  {
   "cell_type": "raw",
   "id": "688f611e",
   "metadata": {},
   "source": [
    "1.Write a python function that copies a file reading and write up to 50 characters at a time"
   ]
  },
  {
   "cell_type": "code",
   "execution_count": 16,
   "id": "05caae04",
   "metadata": {},
   "outputs": [
    {
     "name": "stdout",
     "output_type": "stream",
     "text": [
      "The data is copied...\n"
     ]
    }
   ],
   "source": [
    "def copy_file(input_file_path, output_file_path, limit=50):\n",
    "        with open(input_file_path, 'r') as source_file, open(output_file_path, 'w') as dest_file:\n",
    "            while True:\n",
    "                data = source_file.read(limit)\n",
    "                if not data:\n",
    "                    break\n",
    "                dest_file.write(data)\n",
    "            print(\"The data is copied...\")\n",
    "input_file_path = \"source.txt\"  \n",
    "output_file_path = \"destination.txt\"  \n",
    "copy_file(input_file_path, output_file_path, 50)\n",
    "\n"
   ]
  },
  {
   "cell_type": "raw",
   "id": "59290233",
   "metadata": {},
   "source": [
    "2.Print all numbers present in the text file and print the numbers of blank spaces in that file  "
   ]
  },
  {
   "cell_type": "code",
   "execution_count": 46,
   "id": "5ebc33a9",
   "metadata": {},
   "outputs": [
    {
     "name": "stdout",
     "output_type": "stream",
     "text": [
      "Numbers in the file: ['1990', '1995', '1995']\n",
      "Number of blank spaces: 590\n"
     ]
    }
   ],
   "source": [
    "def extract_numbers_and_count_spaces(file_path):\n",
    "   \n",
    "    with open(file_path, 'r') as file:\n",
    "        content = file.read()\n",
    "        import re\n",
    "        numbers = re.findall(r'\\d+', content)\n",
    "\n",
    "        num_spaces = content.count(' ')\n",
    "        print(\"Numbers in the file:\", numbers)\n",
    "        print(\"Number of blank spaces:\", num_spaces)\n",
    "file_path = 'source.txt'  \n",
    "extract_numbers_and_count_spaces(file_path)"
   ]
  },
  {
   "cell_type": "raw",
   "id": "11a90e0f",
   "metadata": {},
   "source": [
    "3.Write a function called sed that takes as arguments a pattern string, a replacement string, and two file names; it should read the first file and write the contents into the second file(creating it if necessary).If the pattern string appears anywhere in the file,it should be replaced with the replacement string.If an error occers while opening, reading, writing,or closing files, your program should catch the exception, print an error message, and exit."
   ]
  },
  {
   "cell_type": "raw",
   "id": "abe60285",
   "metadata": {},
   "source": [
    "def sed(pattern, replacement, source_file_name, destination_file_name):\n",
    "    try:\n",
    "        with open(source_file_name, 'r') as source_file:\n",
    "            content = source_file.read()\n",
    "            modified_content = content.replace(pattern, replacement)\n",
    "        with open(destination_file_name, 'w') as destination_file:\n",
    "            destination_file.write(modified_content)\n",
    "\n",
    "    except FileNotFoundError:\n",
    "        print(f\"Error: File '{source_file_name}' not found.\")\n",
    "    except Exception as e:\n",
    "        print(f\"An error occurred: {e}\")\n",
    "pattern = \"AIML\"\n",
    "replacement = \"LMIA\"\n",
    "source_file_name = \"source.txt\"\n",
    "destination_file_name = \"destination.txt\"\n",
    "\n",
    "sed(pattern, replacement, source_file_name, destination_file_name)\n"
   ]
  },
  {
   "cell_type": "raw",
   "id": "1540fd30",
   "metadata": {},
   "source": [
    "4.LOG FILE ANALYSIS:you have a log file containing records of user activitieson a website.Each line in the file represents a log entry with details like timestamp userid and action performed.Your task is to analyze this log file \n",
    "    a).Write a python code to read the log file and extract specific information, such as the number of unique users or the most \n",
    "    common action \n",
    "    b).How would you handle large log files efficiently without loading the entire file into the memory"
   ]
  },
  {
   "cell_type": "code",
   "execution_count": 1,
   "id": "4d6d630e",
   "metadata": {},
   "outputs": [],
   "source": [
    "def parse_log_file(log_file_path):\n",
    "    log_entries_by_date = {}\n",
    "    with open(log_file_path,'r') as log_file:\n",
    "        for line in log_file:\n",
    "            parts = line.strip().split(' ',1)\n",
    "            if len(parts) == 2:\n",
    "                timestamp,message = parts\n",
    "                date = timestamp[:10]\n",
    "                if date in log_entries_by_date:\n",
    "                    log_entries_by_date[date].append(message)\n",
    "                else:\n",
    "                    log_entries_by_date[date] = [message]\n",
    "    return log_entries_by_date\n",
    "\n",
    "def analyze_log_data(log_entries_by_date):\n",
    "    for date, entries in log_entries_by_date.items():\n",
    "        print(f\"Date: {date}\")\n",
    "        print(f\"Total Entries: {len(entries)}\")\n",
    "        print(\"Sample Entries:\")\n",
    "        for i, entry in enumerate(entries[:5],start=1):\n",
    "            print(f\"{i}. {entry}\")\n",
    "        print(\"---------\")"
   ]
  },
  {
   "cell_type": "code",
   "execution_count": 3,
   "id": "78425c3d",
   "metadata": {},
   "outputs": [
    {
     "name": "stdout",
     "output_type": "stream",
     "text": [
      "Date: [2023-09-1\n",
      "Total Entries: 719\n",
      "Sample Entries:\n",
      "1. 09:58:46] Executing bootstrap tasks\n",
      "2. 09:58:46] OpenJDK Runtime Environment 17.0.7+7\n",
      "3. 09:58:46] Product org.eclipse.products.epp.package.java.2023-06\n",
      "4. 09:58:46] Bundle org.eclipse.oomph.setup 1.26.0.v20230416-0656, build=5945, branch=c5558820f367665758d4d719b7553a02ff4954e0\n",
      "5. 09:58:46] Bundle org.eclipse.oomph.setup.core 1.27.0.v20230402-0730, build=5945, branch=c5558820f367665758d4d719b7553a02ff4954e0\n",
      "---------\n"
     ]
    }
   ],
   "source": [
    "if __name__ == \"__main__\":\n",
    "    log_file_path = \"logfile.txt\"\n",
    "    log_entries_by_date = parse_log_file(log_file_path)\n",
    "    analyze_log_data(log_entries_by_date)"
   ]
  },
  {
   "cell_type": "raw",
   "id": "c0d11d7a",
   "metadata": {},
   "source": [
    "5.TEXT FILE SEARCH AND REPLACE: You have a text file with a large amount of text, and you want to search for specific words or phrases and replace them with new content. \n",
    "    a). Write Python code to search for and replace text within a text file. \n",
    "    b). How would you handle cases where you need to perform multiple replacements in a single pass?"
   ]
  },
  {
   "cell_type": "code",
   "execution_count": 34,
   "id": "db976ba7",
   "metadata": {},
   "outputs": [
    {
     "name": "stdout",
     "output_type": "stream",
     "text": [
      "Search and replace completed.\n"
     ]
    }
   ],
   "source": [
    "text_file_path = \"destination.txt\"\n",
    "search_string = \"LMIA\"\n",
    "replace_string = \"AIML\"\n",
    "with open(text_file_path, 'r') as file:\n",
    "    file_content = file.read()\n",
    "modified_content = file_content.replace(search_string, replace_string)\n",
    "with open(text_file_path, 'w') as file:\n",
    "    file.write(modified_content)\n",
    "    \n",
    "print(\"Search and replace completed.\")\n"
   ]
  },
  {
   "cell_type": "code",
   "execution_count": 6,
   "id": "de600b04",
   "metadata": {},
   "outputs": [
    {
     "name": "stdout",
     "output_type": "stream",
     "text": [
      "Multiple search and replace completed.\n"
     ]
    }
   ],
   "source": [
    "text_file_path = \"source.txt\"\n",
    "replacement_dict = {\n",
    "    \"old_text1\": \"Artificial Intelligence\",\n",
    "    \"old_text2\": \"AI\",\n",
    "}\n",
    "try:\n",
    "    with open(text_file_path, 'r') as file:\n",
    "        file_content = file.read()\n",
    "\n",
    "    # Perform the multiple search and replace operations\n",
    "    for search, replace in replacement_dict.items():\n",
    "        file_content = file_content.replace(search, replace)\n",
    "\n",
    "    # Write the modified content back to the file\n",
    "    with open(text_file_path, 'w') as file:\n",
    "        file.write(file_content)\n",
    "\n",
    "    print(\"Multiple search and replace completed.\")\n",
    "except FileNotFoundError:\n",
    "    print(f\"Text file '{text_file_path}' not found.\")\n",
    "except Exception as e:\n",
    "    print(\"An error occurred:\", str(e))\n"
   ]
  },
  {
   "cell_type": "raw",
   "id": "f0323954",
   "metadata": {},
   "source": [
    "6. Write a Python script that concatenates the contents of multiple text files into a single output file. Allow the user to specify the input files and the output file."
   ]
  },
  {
   "cell_type": "code",
   "execution_count": 39,
   "id": "cd75a692",
   "metadata": {},
   "outputs": [
    {
     "name": "stdout",
     "output_type": "stream",
     "text": [
      "Enter the name of an input text file (or 'done' to finish): source.txt\n",
      "Enter the name of an input text file (or 'done' to finish): destination.txt\n",
      "Enter the name of an input text file (or 'done' to finish): done\n",
      "Enter the name of the output text file: Combination of s and d\n",
      "Concatenation completed. Result saved to 'Combination of s and d'.\n"
     ]
    }
   ],
   "source": [
    "input_files = []\n",
    "while True:\n",
    "    file_name = input(\"Enter the name of an input text file (or 'done' to finish): \")\n",
    "    if file_name.lower() == 'done':\n",
    "        break\n",
    "    input_files.append(file_name)\n",
    "output_file = input(\"Enter the name of the output text file: \")\n",
    "\n",
    "with open(output_file, 'w') as output:\n",
    "    for input_file in input_files:\n",
    "        wiith open(input_file, 'r') as input:\n",
    "            output.write(input.read())\n",
    "            output.write(\"\\n\")  # Add a newline between file contents\n",
    "\n",
    "print(f\"Concatenation completed. Result saved to '{output_file}'.\")\n"
   ]
  },
  {
   "cell_type": "raw",
   "id": "2099f783",
   "metadata": {},
   "source": [
    "7.You are given a text file named input.txt containing a list of words, one word per line. Your task is to create a Python program that reads the contents of input.txt, processes the words, and writes the result to an output file named output.txt.\n",
    "    a).he program should perform the following operations: \n",
    "        i).Read the words from input.txt.\n",
    "        ii).For each word in the input file, calculate the length of the word and store it in a dictionary where the word is the             key, and the length is the value.\n",
    "        iii). Write the word-length dictionary to output.txt in the following format:\n",
    "               Word1: Length1\n",
    "               Word2: Length2\n",
    "               ...\n",
    "        iv). Close both input and output files properly\n",
    "         v). Write Python code to accomplish this task. Ensure proper error handling for file operations.\n",
    "              Sample input('input.txt')\n",
    "               apple \n",
    "               banana\n",
    "               cherry\n",
    "               dates\n",
    "              Sample output('output.txt')\n",
    "              apple:5\n",
    "              banana:6\n",
    "              cherry:6\n",
    "              dates:5\n",
    "              \n",
    "NOTE:Your code should work for any input file containing words and produce the corresponding word-length dictionary in the output file\n"
   ]
  },
  {
   "cell_type": "code",
   "execution_count": 50,
   "id": "82a05e3c",
   "metadata": {},
   "outputs": [
    {
     "name": "stdout",
     "output_type": "stream",
     "text": [
      "Word-length dictionary has been written to 'output.txt'.\n"
     ]
    }
   ],
   "source": [
    "\n",
    "    with open('input.txt', 'r') as input_file:\n",
    "        # Read the lines and remove leading/trailing whitespace\n",
    "        words = [line.strip() for line in input_file.readlines()]\n",
    "\n",
    "    # Create a dictionary to store word-length pairs\n",
    "    word_length_dict = {}\n",
    "\n",
    "    # Calculate the length of each word and store it in the dictionary\n",
    "    for word in words:\n",
    "        word_length_dict[word] = len(word)\n",
    "\n",
    "    # Open the output file for writing\n",
    "    with open('output.txt', 'w') as output_file:\n",
    "        # Write the word-length dictionary to the output file\n",
    "        for word, length in word_length_dict.items():\n",
    "            output_file.write(f\"{word}:{length}\\n\")\n",
    "\n",
    "        print(\"Word-length dictionary has been written to 'output.txt'.\")\n",
    "\n"
   ]
  },
  {
   "cell_type": "raw",
   "id": "50206dea",
   "metadata": {},
   "source": [
    "8. Assume that you are developing a student gradebook system for a school. The system should allow teachers to input student grades for various subjects, store the data in files, and provide students with the ability to view their grades.\n",
    "\n",
    "Design a Python program that accomplishes the following tasks:\n",
    "\n",
    "i. Teachers should be able to input grades for students in different subjects.\n",
    "\n",
    "ii. Store the student grade data in separate text files for each subject.\n",
    "\n",
    "iii. Students should be able to view their grades for each subject.\n",
    "\n",
    "iv. Implement error handling for file operations, such as file not found or permission issues."
   ]
  },
  {
   "cell_type": "code",
   "execution_count": 2,
   "id": "3f46784a",
   "metadata": {},
   "outputs": [
    {
     "name": "stdout",
     "output_type": "stream",
     "text": [
      "\n",
      "Student Gradebook System\n",
      "1. Input Grades\n",
      "2. View Grades\n",
      "3. Exit\n",
      "Enter your choice (1/2/3): 1\n",
      "Enter the subject: Social\n",
      "Enter student name: Priya\n",
      "Enter Social grade for Priya: 10\n",
      "Grade for Priya in Social has been recorded.\n",
      "\n",
      "Student Gradebook System\n",
      "1. Input Grades\n",
      "2. View Grades\n",
      "3. Exit\n",
      "Enter your choice (1/2/3): 1\n",
      "Enter the subject: Social\n",
      "Enter student name: Janu\n",
      "Enter Social grade for Janu: 9\n",
      "Grade for Janu in Social has been recorded.\n",
      "\n",
      "Student Gradebook System\n",
      "1. Input Grades\n",
      "2. View Grades\n",
      "3. Exit\n",
      "Enter your choice (1/2/3): 1\n",
      "Enter the subject: Social\n",
      "Enter student name: Vinay\n",
      "Enter Social grade for Vinay: 9\n",
      "Grade for Vinay in Social has been recorded.\n",
      "\n",
      "Student Gradebook System\n",
      "1. Input Grades\n",
      "2. View Grades\n",
      "3. Exit\n",
      "Enter your choice (1/2/3): 2\n",
      "Enter the subject: Social\n",
      "Grades for Social:\n",
      "Priya: 10\n",
      "Janu: 9\n",
      "Vinay: 9\n",
      "\n",
      "Student Gradebook System\n",
      "1. Input Grades\n",
      "2. View Grades\n",
      "3. Exit\n",
      "Enter your choice (1/2/3): 3\n",
      "Goodbye!\n"
     ]
    }
   ],
   "source": [
    "import os\n",
    "\n",
    "# Function to input and store student grades for a subject\n",
    "def input_grades(subject):\n",
    "    try:\n",
    "        file_name = f\"{subject}.txt\"\n",
    "        with open(file_name, \"a\") as file:\n",
    "            student_name = input(\"Enter student name: \")\n",
    "            grade = input(f\"Enter {subject} grade for {student_name}: \")\n",
    "            file.write(f\"{student_name}: {grade}\\n\")\n",
    "        print(f\"Grade for {student_name} in {subject} has been recorded.\")\n",
    "    except IOError as e:\n",
    "        print(f\"Error: {e}\")\n",
    "\n",
    "# Function to view student grades for a subject\n",
    "def view_grades(subject):\n",
    "    try:\n",
    "        file_name = f\"{subject}.txt\"\n",
    "        if not os.path.exists(file_name):\n",
    "            print(f\"No grades recorded for {subject} yet.\")\n",
    "            return\n",
    "\n",
    "        with open(file_name, \"r\") as file:\n",
    "            print(f\"Grades for {subject}:\")\n",
    "            for line in file:\n",
    "                print(line.strip())\n",
    "    except IOError as e:\n",
    "        print(f\"Error: {e}\")\n",
    "\n",
    "# Main program loop\n",
    "while True:\n",
    "    print(\"\\nStudent Gradebook System\")\n",
    "    print(\"1. Input Grades\")\n",
    "    print(\"2. View Grades\")\n",
    "    print(\"3. Exit\")\n",
    "\n",
    "    choice = input(\"Enter your choice (1/2/3): \")\n",
    "\n",
    "    if choice == \"1\":\n",
    "        subject = input(\"Enter the subject: \")\n",
    "        input_grades(subject)\n",
    "    elif choice == \"2\":\n",
    "        subject = input(\"Enter the subject: \")\n",
    "        view_grades(subject)\n",
    "    elif choice == \"3\":\n",
    "        break\n",
    "    else:\n",
    "        print(\"Invalid choice. Please enter 1, 2, or 3.\")\n",
    "\n",
    "print(\"Goodbye!\")"
   ]
  },
  {
   "cell_type": "code",
   "execution_count": null,
   "id": "da47b6f2",
   "metadata": {},
   "outputs": [],
   "source": []
  },
  {
   "cell_type": "code",
   "execution_count": null,
   "id": "cf580020",
   "metadata": {},
   "outputs": [],
   "source": []
  }
 ],
 "metadata": {
  "kernelspec": {
   "display_name": "Python 3 (ipykernel)",
   "language": "python",
   "name": "python3"
  },
  "language_info": {
   "codemirror_mode": {
    "name": "ipython",
    "version": 3
   },
   "file_extension": ".py",
   "mimetype": "text/x-python",
   "name": "python",
   "nbconvert_exporter": "python",
   "pygments_lexer": "ipython3",
   "version": "3.11.4"
  }
 },
 "nbformat": 4,
 "nbformat_minor": 5
}
