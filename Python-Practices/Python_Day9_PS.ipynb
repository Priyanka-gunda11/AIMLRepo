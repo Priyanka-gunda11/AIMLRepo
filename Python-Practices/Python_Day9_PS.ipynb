{
 "cells": [
  {
   "cell_type": "code",
   "execution_count": null,
   "id": "6ce2eb20",
   "metadata": {},
   "outputs": [],
   "source": []
  },
  {
   "cell_type": "markdown",
   "id": "30024553",
   "metadata": {},
   "source": [
    "# NUMPY"
   ]
  },
  {
   "cell_type": "code",
   "execution_count": 28,
   "id": "695ab53a",
   "metadata": {},
   "outputs": [
    {
     "name": "stdout",
     "output_type": "stream",
     "text": [
      "Country with the most gold medals: US\n",
      "Countries with more than 20 gold medals: ['GBR' 'China' 'RUS' 'US']\n",
      "GBR Gold: 29\n",
      "China Gold: 38\n",
      "RUS Gold: 24\n",
      "US Gold: 46\n",
      "KDR Gold: 13\n",
      "JPN Gold: 7\n",
      "GER Gold: 11\n",
      "GBR Total Medals: 65\n",
      "China Total Medals: 88\n",
      "RUS Total Medals: 81\n",
      "US Total Medals: 103\n",
      "KDR Total Medals: 28\n",
      "JPN Total Medals: 38\n",
      "GER Total Medals: 36\n"
     ]
    }
   ],
   "source": [
    "import numpy as np\n",
    "\n",
    "# Dataset\n",
    "np_olympic_country = np.array(['GBR', 'China', 'RUS', 'US', 'KDR', 'JPN', 'GER'])\n",
    "np_olympic_country_gold = np.array([29, 38, 24, 46, 13, 7, 11])\n",
    "np_olympic_country_silver = np.array([17, 28, 25, 28, 8, 14, 11])\n",
    "np_olympic_country_Bronze = np.array([19, 22, 32, 29, 7, 17, 14])\n",
    "\n",
    "# 1. Find the country index with the maximum gold medals\n",
    "max_gold_index = np.argmax(np_olympic_country_gold)\n",
    "\n",
    "# 2. Print the country with the maximum gold medals\n",
    "country_with_max_gold = np_olympic_country[max_gold_index]\n",
    "print(\"Country with the most gold medals:\", country_with_max_gold)\n",
    "\n",
    "# 3. Find countries with more than 20 gold medals\n",
    "countries_with_more_than_20_gold = np_olympic_country[np_olympic_country_gold > 20]\n",
    "print(\"Countries with more than 20 gold medals:\", countries_with_more_than_20_gold)\n",
    "\n",
    "# 4. Evaluate the dataset and print the medals\n",
    "# Print each country name with the number of gold medals\n",
    "for i in range(len(np_olympic_country)):\n",
    "    print(np_olympic_country[i], \"Gold:\", np_olympic_country_gold[i])\n",
    "\n",
    "# Print each country name with the total number of medals\n",
    "for i in range(len(np_olympic_country)):\n",
    "    total_medals = np_olympic_country_gold[i] + np_olympic_country_silver[i] + np_olympic_country_Bronze[i]\n",
    "    print(np_olympic_country[i], \"Total Medals:\", total_medals)\n"
   ]
  },
  {
   "cell_type": "code",
   "execution_count": 27,
   "id": "18c1f05f",
   "metadata": {},
   "outputs": [
    {
     "name": "stdout",
     "output_type": "stream",
     "text": [
      "[[[0.19587012 0.05451822 0.83795196]\n",
      "  [0.08182621 0.21038779 0.52460484]\n",
      "  [0.44323983 0.90121789 0.22318969]]\n",
      "\n",
      " [[0.86334649 0.87375259 0.652342  ]\n",
      "  [0.99604801 0.20740641 0.82188354]\n",
      "  [0.2646837  0.71993288 0.6945084 ]]\n",
      "\n",
      " [[0.23372203 0.65394858 0.01549715]\n",
      "  [0.68573183 0.9944504  0.3739049 ]\n",
      "  [0.81181296 0.86434937 0.86155584]]]\n"
     ]
    }
   ],
   "source": [
    "# 1.Create a 3x3x3 array with random values \n",
    "import numpy as np\n",
    "random_array = np.random.rand(3, 3, 3)\n",
    "\n",
    "print(random_array)\n"
   ]
  },
  {
   "cell_type": "code",
   "execution_count": 2,
   "id": "bab3530f",
   "metadata": {},
   "outputs": [
    {
     "name": "stdout",
     "output_type": "stream",
     "text": [
      "[[0. 0. 0. 0. 0.]\n",
      " [1. 0. 0. 0. 0.]\n",
      " [0. 2. 0. 0. 0.]\n",
      " [0. 0. 3. 0. 0.]\n",
      " [0. 0. 0. 4. 0.]]\n"
     ]
    }
   ],
   "source": [
    "#2.Create a 5x5 matrix with values 1,2,3,4 just below the diagonal\n",
    "import numpy as np\n",
    "\n",
    "# Create a 5x5 matrix filled with zeros\n",
    "matrix = np.zeros((5, 5))\n",
    "\n",
    "# Fill the values 1, 2, 3, and 4 just below the diagonal\n",
    "values = [1, 2, 3, 4]\n",
    "for i in range(1, 5):\n",
    "    matrix[i, i - 1] = values[i - 1]\n",
    "\n",
    "# Print the resulting matrix\n",
    "print(matrix)"
   ]
  },
  {
   "cell_type": "code",
   "execution_count": 3,
   "id": "a0338f3e",
   "metadata": {},
   "outputs": [
    {
     "name": "stdout",
     "output_type": "stream",
     "text": [
      "[[0 1 0 1 0 1 0 1]\n",
      " [1 0 1 0 1 0 1 0]\n",
      " [0 1 0 1 0 1 0 1]\n",
      " [1 0 1 0 1 0 1 0]\n",
      " [0 1 0 1 0 1 0 1]\n",
      " [1 0 1 0 1 0 1 0]\n",
      " [0 1 0 1 0 1 0 1]\n",
      " [1 0 1 0 1 0 1 0]]\n"
     ]
    }
   ],
   "source": [
    "#3.Create a 8x8 matrix and fill it with a checkerboard pattern\n",
    "import numpy as np\n",
    "\n",
    "# Create an 8x8 matrix filled with zeros\n",
    "matrix = np.zeros((8, 8), dtype=int)\n",
    "\n",
    "# Fill the checkerboard pattern with alternating 1s\n",
    "matrix[1::2, ::2] = 1\n",
    "matrix[::2, 1::2] = 1\n",
    "\n",
    "# Print the resulting checkerboard matrix\n",
    "print(matrix)"
   ]
  },
  {
   "cell_type": "code",
   "execution_count": 4,
   "id": "da5d96f5",
   "metadata": {},
   "outputs": [
    {
     "name": "stdout",
     "output_type": "stream",
     "text": [
      "Original Random Matrix:\n",
      "[[0.48451283 0.1815465  0.64630449 0.07472855 0.89694141]\n",
      " [0.9390893  0.04906888 0.20663142 0.19079634 0.56307932]\n",
      " [0.81213326 0.46942664 0.34102801 0.85272928 0.29965024]\n",
      " [0.72673067 0.94215386 0.91545289 0.56970318 0.89459911]\n",
      " [0.68910077 0.23751879 0.5382977  0.86597336 0.10216503]]\n",
      "\n",
      "Normalized Matrix:\n",
      "[[-0.18269991 -1.18797181  0.35414063 -1.54240422  1.18577844]\n",
      " [ 1.32562927 -1.62754551 -1.10473762 -1.15727996  0.07799138]\n",
      " [ 0.9043767  -0.23275737 -0.65879659  1.03907825 -0.79609206]\n",
      " [ 0.62100256  1.33579778  1.24720133  0.09997     1.17800646]\n",
      " [ 0.49614288 -1.00225028 -0.00423646  1.08302342 -1.45136731]]\n"
     ]
    }
   ],
   "source": [
    "#4. Normalize a 5x5 random matrix\n",
    "import numpy as np\n",
    "\n",
    "# Create a 5x5 random matrix\n",
    "random_matrix = np.random.rand(5, 5)\n",
    "\n",
    "# Normalize the matrix\n",
    "mean = random_matrix.mean()\n",
    "std_dev = random_matrix.std()\n",
    "normalized_matrix = (random_matrix - mean) / std_dev\n",
    "\n",
    "# Print the original and normalized matrices\n",
    "print(\"Original Random Matrix:\")\n",
    "print(random_matrix)\n",
    "print(\"\\nNormalized Matrix:\")\n",
    "print(normalized_matrix)"
   ]
  },
  {
   "cell_type": "code",
   "execution_count": 5,
   "id": "4260d4bb",
   "metadata": {},
   "outputs": [
    {
     "name": "stdout",
     "output_type": "stream",
     "text": [
      "Common values: [3 4 5]\n"
     ]
    }
   ],
   "source": [
    "#5. How to find common values between two arrays?\n",
    "import numpy as np\n",
    "\n",
    "# Create two NumPy arrays\n",
    "array1 = np.array([1, 2, 3, 4, 5])\n",
    "array2 = np.array([3, 4, 5, 6, 7])\n",
    "\n",
    "# Find common values between the two arrays\n",
    "common_values = np.intersect1d(array1, array2)\n",
    "\n",
    "# Print the common values\n",
    "print(\"Common values:\", common_values)"
   ]
  },
  {
   "cell_type": "code",
   "execution_count": 6,
   "id": "761cd325",
   "metadata": {},
   "outputs": [
    {
     "name": "stdout",
     "output_type": "stream",
     "text": [
      "Yesterday: 2023-09-20\n",
      "Today: 2023-09-21\n",
      "Tomorrow: 2023-09-22\n"
     ]
    }
   ],
   "source": [
    "#6.How to get the dates of yesterday, today and tomorrow?\n",
    "import numpy as np\n",
    "import datetime\n",
    "\n",
    "# Get the current date\n",
    "current_date = datetime.date.today()\n",
    "\n",
    "# Calculate the dates of yesterday and tomorrow\n",
    "yesterday = current_date - datetime.timedelta(days=1)\n",
    "tomorrow = current_date + datetime.timedelta(days=1)\n",
    "\n",
    "# Print the dates\n",
    "print(\"Yesterday:\", yesterday)\n",
    "print(\"Today:\", current_date)\n",
    "print(\"Tomorrow:\", tomorrow)\n"
   ]
  },
  {
   "cell_type": "code",
   "execution_count": 8,
   "id": "9116f153",
   "metadata": {},
   "outputs": [
    {
     "name": "stdout",
     "output_type": "stream",
     "text": [
      "Arrays A and B are not equal.\n"
     ]
    }
   ],
   "source": [
    "#7. Consider two random array A and B, check if they are equal\n",
    "import numpy as np\n",
    "\n",
    "# Create two random arrays, A and B\n",
    "A = np.random.rand(5, 5)\n",
    "B = np.random.rand(5, 5)\n",
    "\n",
    "# Check if the two arrays are equal\n",
    "are_equal = np.array_equal(A, B)\n",
    "\n",
    "# Print the result\n",
    "if are_equal:\n",
    "    print(\"Arrays A and B are equal.\")\n",
    "else:\n",
    "    print(\"Arrays A and B are not equal.\")"
   ]
  },
  {
   "cell_type": "code",
   "execution_count": 13,
   "id": "8f6bab72",
   "metadata": {},
   "outputs": [
    {
     "name": "stdout",
     "output_type": "stream",
     "text": [
      "Original random vector:\n",
      "[0.38761433 0.24387532 0.88779728 0.75869478 0.02228492 0.24992895\n",
      " 0.38148417 0.60267946 0.74773353 0.63647928]\n",
      "\n",
      "Random vector with maximum value replaced by 0:\n",
      "[0.38761433 0.24387532 0.         0.75869478 0.02228492 0.24992895\n",
      " 0.38148417 0.60267946 0.74773353 0.63647928]\n"
     ]
    }
   ],
   "source": [
    "#8.Create random vector of size 10 and replace the maximum value by 0\n",
    "import numpy as np\n",
    "\n",
    "# Create a random vector of size 10\n",
    "random_vector = np.random.rand(10)\n",
    "\n",
    "# Find the index of the maximum value\n",
    "max_index = np.argmax(random_vector)\n",
    "\n",
    "# Replace the maximum value with 0\n",
    "random_vector_with_zero = random_vector.copy()  \n",
    "random_vector_with_zero[max_index] = 0\n",
    "\n",
    "print(\"Original random vector:\")\n",
    "print(random_vector)\n",
    "\n",
    "print(\"\\nRandom vector with maximum value replaced by 0:\")\n",
    "print(random_vector_with_zero)\n"
   ]
  },
  {
   "cell_type": "code",
   "execution_count": 24,
   "id": "f147bfde",
   "metadata": {},
   "outputs": [
    {
     "name": "stdout",
     "output_type": "stream",
     "text": [
      "1\n",
      "2\n",
      "3\n",
      "4\n",
      "5\n"
     ]
    }
   ],
   "source": [
    "import numpy as np\n",
    "\n",
    "# Create an example array\n",
    "my_array = np.array([1, 2, 3, 4, 5])\n",
    "\n",
    "# Using a loop to print each value\n",
    "for value in my_array:\n",
    "    print(value)"
   ]
  },
  {
   "cell_type": "code",
   "execution_count": 14,
   "id": "1c5a5163",
   "metadata": {},
   "outputs": [
    {
     "name": "stdout",
     "output_type": "stream",
     "text": [
      "Original Matrix:\n",
      "[[1 2 3]\n",
      " [4 5 6]\n",
      " [7 8 9]]\n",
      "\n",
      "Normalized Matrix (Mean Subtracted from Each Row):\n",
      "[[-1.  0.  1.]\n",
      " [-1.  0.  1.]\n",
      " [-1.  0.  1.]]\n"
     ]
    }
   ],
   "source": [
    "#10.Subtract the mean of each row of a matrix\n",
    "import numpy as np\n",
    "\n",
    "# Create a sample matrix\n",
    "matrix = np.array([[1, 2, 3],\n",
    "                   [4, 5, 6],\n",
    "                   [7, 8, 9]])\n",
    "\n",
    "# Calculate the mean of each row\n",
    "row_means = np.mean(matrix, axis=1, keepdims=True)\n",
    "\n",
    "# Subtract the row means from the matrix\n",
    "normalized_matrix = matrix - row_means\n",
    "\n",
    "# Print the original and normalized matrices\n",
    "print(\"Original Matrix:\")\n",
    "print(matrix)\n",
    "print(\"\\nNormalized Matrix (Mean Subtracted from Each Row):\")\n",
    "print(normalized_matrix)"
   ]
  },
  {
   "cell_type": "code",
   "execution_count": 16,
   "id": "9d954122",
   "metadata": {},
   "outputs": [
    {
     "name": "stdout",
     "output_type": "stream",
     "text": [
      "Original vector:\n",
      "[1 2 3 4 5 6]\n",
      "\n",
      "Result vector with 1 added to selected indices:\n",
      "[1 3 4 5 6 6]\n"
     ]
    }
   ],
   "source": [
    "#11.Consider a given vector, how to add 1 to each element indexed by a second vector (be careful with repeated indices)?\n",
    "import numpy as np\n",
    "\n",
    "# Given vector\n",
    "given_vector = np.array([1, 2, 3, 4, 5, 6])\n",
    "\n",
    "# Second vector of indices\n",
    "indices_vector = np.array([1, 3, 2, 4])\n",
    "\n",
    "# Create a copy of the given vector to avoid modifying the original\n",
    "result_vector = given_vector.copy()\n",
    "\n",
    "# Add 1 to the elements indexed by the second vector\n",
    "result_vector[indices_vector] += 1\n",
    "\n",
    "print(\"Original vector:\")\n",
    "print(given_vector)\n",
    "\n",
    "print(\"\\nResult vector with 1 added to selected indices:\")\n",
    "print(result_vector)\n"
   ]
  },
  {
   "cell_type": "code",
   "execution_count": 17,
   "id": "6241adde",
   "metadata": {},
   "outputs": [
    {
     "name": "stdout",
     "output_type": "stream",
     "text": [
      "Dot Product:\n",
      "[[ 30  24  18]\n",
      " [ 84  69  54]\n",
      " [138 114  90]]\n",
      "\n",
      "Diagonal of the Dot Product:\n",
      "[30 69 90]\n"
     ]
    }
   ],
   "source": [
    "#12.How to get the diagonal of a dot product?\n",
    "import numpy as np\n",
    "\n",
    "# Create two matrices A and B (replace with your own matrices)\n",
    "A = np.array([[1, 2, 3],\n",
    "              [4, 5, 6],\n",
    "              [7, 8, 9]])\n",
    "\n",
    "B = np.array([[9, 8, 7],\n",
    "              [6, 5, 4],\n",
    "              [3, 2, 1]])\n",
    "\n",
    "# Calculate the dot product of A and B\n",
    "dot_product = np.dot(A, B)\n",
    "\n",
    "# Get the diagonal elements of the dot product\n",
    "diagonal = np.diag(dot_product)\n",
    "\n",
    "print(\"Dot Product:\")\n",
    "print(dot_product)\n",
    "\n",
    "print(\"\\nDiagonal of the Dot Product:\")\n",
    "print(diagonal)\n"
   ]
  },
  {
   "cell_type": "code",
   "execution_count": 26,
   "id": "7ac95522",
   "metadata": {},
   "outputs": [
    {
     "name": "stdout",
     "output_type": "stream",
     "text": [
      "Array: [7 4 5 3 3 6 5 8 1 5 1 1 8 7 4 5 8 7 3 2 3 6 1 5 3 3 7 5 0 3 8 7 1 4 1 4 1\n",
      " 1 1 6 6 8 6 8 3 4 4 7 8 0]\n",
      "Most frequent value: 1\n"
     ]
    }
   ],
   "source": [
    "#13.How to find the most frequent value in an array?\n",
    "import numpy as np\n",
    "\n",
    "# Create a NumPy array (replace with your own array)\n",
    "arr = np.array([7, 4, 5, 3, 3, 6, 5, 8, 1, 5, 1, 1, 8, 7, 4, 5, 8, 7, 3, 2, 3, 6, \n",
    "                1, 5, 3, 3, 7, 5, 0, 3, 8, 7, 1, 4, 1, 4, 1, 1, 1, 6, 6, 8, 6, 8,3, 4, 4, 7, 8, 0])\n",
    "\n",
    "# Use numpy.unique to get unique values and their counts\n",
    "unique_values, counts = np.unique(arr, return_counts=True)\n",
    "\n",
    "# Find the index of the maximum count\n",
    "max_count_index = np.argmax(counts)\n",
    "\n",
    "# Get the most frequent value\n",
    "most_frequent_value = unique_values[max_count_index]\n",
    "\n",
    "print(\"Array:\", arr)\n",
    "print(\"Most frequent value:\", most_frequent_value)\n"
   ]
  },
  {
   "cell_type": "code",
   "execution_count": 20,
   "id": "a308c6c4",
   "metadata": {},
   "outputs": [
    {
     "name": "stdout",
     "output_type": "stream",
     "text": [
      "Array: [4 2 7 1 9 5 8 3 6]\n",
      "3 Largest Values: [7 8 9]\n"
     ]
    }
   ],
   "source": [
    "#14.How to get the n largest values of an array\n",
    "import numpy as np\n",
    "\n",
    "# Create a NumPy array (replace with your own array)\n",
    "arr = np.array([4, 2, 7, 1, 9, 5, 8, 3, 6])\n",
    "\n",
    "# (e.g., n = 3)\n",
    "n = 3\n",
    "\n",
    "# Use numpy.partition to partially sort the array\n",
    "# The n largest values will be on the right side of the partitioned array\n",
    "partially_sorted = np.partition(arr, -n)\n",
    "\n",
    "# Slice the last n elements to get the n largest values\n",
    "n_largest_values = partially_sorted[-n:]\n",
    "\n",
    "print(\"Array:\", arr)\n",
    "print(f\"{n} Largest Values:\", n_largest_values)\n"
   ]
  },
  {
   "cell_type": "code",
   "execution_count": 21,
   "id": "2cb7f203",
   "metadata": {},
   "outputs": [
    {
     "name": "stdout",
     "output_type": "stream",
     "text": [
      "Regular Array:\n",
      "[(1, 'priya', 22) (2, 'janu', 24) (3, 'vinay', 18)]\n",
      "\n",
      "Record Array:\n",
      "((1, 'priya', 22), (2, 'janu', 24), (3, 'vinay', 18))\n"
     ]
    }
   ],
   "source": [
    "#15.How to create a record array from a regular array\n",
    "import numpy as np\n",
    "\n",
    "# Create a regular array with data\n",
    "regular_array = np.array([(1, 'priya', 22),\n",
    "                          (2, 'janu', 24),\n",
    "                          (3, 'vinay', 18)],\n",
    "                         dtype=[('ID', int), ('Name', 'U10'), ('Age', int)])\n",
    "\n",
    "# Print the regular array\n",
    "print(\"Regular Array:\")\n",
    "print(regular_array)\n",
    "\n",
    "# Convert the regular array to a record array\n",
    "record_array = np.rec.fromarrays(regular_array.T, names=regular_array.dtype.names)\n",
    "\n",
    "# Print the record array\n",
    "print(\"\\nRecord Array:\")\n",
    "print(record_array)\n"
   ]
  },
  {
   "cell_type": "code",
   "execution_count": 22,
   "id": "f929f53a",
   "metadata": {},
   "outputs": [
    {
     "name": "stdout",
     "output_type": "stream",
     "text": [
      "Array after swapping rows:\n",
      "[[7 8 9]\n",
      " [4 5 6]\n",
      " [1 2 3]]\n"
     ]
    }
   ],
   "source": [
    "#16. How to swap two rows of an array?\n",
    "import numpy as np\n",
    "\n",
    "# Create a sample 2D NumPy array (replace with your own array)\n",
    "array = np.array([[1, 2, 3],\n",
    "                  [4, 5, 6],\n",
    "                  [7, 8, 9]])\n",
    "\n",
    "# Indices of the rows you want to swap (0-based index)\n",
    "row1_index = 0\n",
    "row2_index = 2\n",
    "\n",
    "# Swap the rows using array slicing and indexing\n",
    "array[[row1_index, row2_index]] = array[[row2_index, row1_index]]\n",
    "\n",
    "print(\"Array after swapping rows:\")\n",
    "print(array)\n"
   ]
  },
  {
   "cell_type": "code",
   "execution_count": 23,
   "id": "29e7f1b4",
   "metadata": {},
   "outputs": [
    {
     "name": "stdout",
     "output_type": "stream",
     "text": [
      "Original 2D Array:\n",
      "[[ 23  34 121]\n",
      " [ 23  22  67]\n",
      " [686 434 123]]\n",
      "\n",
      "Reshaped 3D Array:\n",
      "[[[ 23]\n",
      "  [ 34]\n",
      "  [121]]\n",
      "\n",
      " [[ 23]\n",
      "  [ 22]\n",
      "  [ 67]]\n",
      "\n",
      " [[686]\n",
      "  [434]\n",
      "  [123]]]\n"
     ]
    }
   ],
   "source": [
    "#17. Write python code to reshape to the next dimension of numpy array\n",
    "import numpy as np\n",
    "\n",
    "# Create the original 2D array\n",
    "x = np.array([[23, 34, 121],\n",
    "              [23, 22, 67],\n",
    "              [686, 434, 123]])\n",
    "\n",
    "# Reshape the array to the next dimension (3D)\n",
    "reshaped_array = x.reshape((x.shape[0], x.shape[1], 1))\n",
    "\n",
    "print(\"Original 2D Array:\")\n",
    "print(x)\n",
    "\n",
    "print(\"\\nReshaped 3D Array:\")\n",
    "print(reshaped_array)\n"
   ]
  },
  {
   "cell_type": "code",
   "execution_count": null,
   "id": "2a858ed7",
   "metadata": {},
   "outputs": [],
   "source": []
  }
 ],
 "metadata": {
  "kernelspec": {
   "display_name": "Python 3 (ipykernel)",
   "language": "python",
   "name": "python3"
  },
  "language_info": {
   "codemirror_mode": {
    "name": "ipython",
    "version": 3
   },
   "file_extension": ".py",
   "mimetype": "text/x-python",
   "name": "python",
   "nbconvert_exporter": "python",
   "pygments_lexer": "ipython3",
   "version": "3.11.4"
  }
 },
 "nbformat": 4,
 "nbformat_minor": 5
}
