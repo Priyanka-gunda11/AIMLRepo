{
  "nbformat": 4,
  "nbformat_minor": 0,
  "metadata": {
    "colab": {
      "provenance": []
    },
    "kernelspec": {
      "name": "python3",
      "display_name": "Python 3"
    },
    "language_info": {
      "name": "python"
    }
  },
  "cells": [
    {
      "cell_type": "markdown",
      "source": [
        "1. Manipulate using a list.\n",
        "  a)To add new elements to the end of the list\n",
        "  b)To reverse elements in the list.\n",
        "  c)To display the same list of elements multiple times\n",
        "  d)To concatenate two list\n",
        "  e)To sort the elements in the list in ascending order\n"
      ],
      "metadata": {
        "id": "XL3STSJwqSu7"
      }
    },
    {
      "cell_type": "code",
      "source": [
        "#a) To add new elements to the end of the list\n",
        "ls=[41,53,82,11,4,9,3]\n",
        "ls.append(24)\n",
        "print(ls)"
      ],
      "metadata": {
        "colab": {
          "base_uri": "https://localhost:8080/"
        },
        "id": "GWDSI36mrR8J",
        "outputId": "0acc2b59-ee65-440f-d0a5-4146c53b06bb"
      },
      "execution_count": null,
      "outputs": [
        {
          "output_type": "stream",
          "name": "stdout",
          "text": [
            "[41, 53, 82, 11, 4, 9, 3, 24]\n"
          ]
        }
      ]
    },
    {
      "cell_type": "code",
      "source": [
        "#b)To reverse elements in the list.\n",
        "ls=[41, 53, 82, 11, 4, 9, 3, 24]\n",
        "ls.reverse()\n",
        "print(\"The reverse order of the list is\",ls)"
      ],
      "metadata": {
        "colab": {
          "base_uri": "https://localhost:8080/"
        },
        "id": "VqzmAbEDrt6T",
        "outputId": "495f963c-70c6-4b77-8fba-24c207800700"
      },
      "execution_count": null,
      "outputs": [
        {
          "output_type": "stream",
          "name": "stdout",
          "text": [
            "The reverse order of the list is [24, 3, 9, 4, 11, 82, 53, 41]\n"
          ]
        }
      ]
    },
    {
      "cell_type": "code",
      "source": [
        "#c)To display the same list of elements multiple times\n",
        "ls=\"Priya \"\n",
        "new_ls = 5*ls\n",
        "print(new_ls)"
      ],
      "metadata": {
        "colab": {
          "base_uri": "https://localhost:8080/"
        },
        "id": "l2PFfqjasJFy",
        "outputId": "81ddb288-0f7d-43f7-8598-f2a52b134bd2"
      },
      "execution_count": null,
      "outputs": [
        {
          "output_type": "stream",
          "name": "stdout",
          "text": [
            "Priya Priya Priya Priya Priya \n"
          ]
        }
      ]
    },
    {
      "cell_type": "code",
      "source": [
        "#d)To concatenate two list\n",
        "ls=[41, 53, 82, 11, 4, 9, 3, 24]\n",
        "ls_1=[\"hello\",\"priya\"]\n",
        "ls_2 = ls+ls_1\n",
        "print(\"Concatination of two lists are \",str(ls_2))\n"
      ],
      "metadata": {
        "colab": {
          "base_uri": "https://localhost:8080/"
        },
        "id": "TYCprGATuV0C",
        "outputId": "6354cd42-3fdf-4e36-80a7-aa108686a419"
      },
      "execution_count": null,
      "outputs": [
        {
          "output_type": "stream",
          "name": "stdout",
          "text": [
            "Concatination of two lists are  [41, 53, 82, 11, 4, 9, 3, 24, 'hello', 'priya']\n"
          ]
        }
      ]
    },
    {
      "cell_type": "code",
      "source": [
        "#e)To sort the elements in the list in ascending order\n",
        "ls=[41, 53, 82, 11, 4, 9, 3, 24]\n",
        "ls.sort()\n",
        "print(\"Sorted list is\",ls )"
      ],
      "metadata": {
        "colab": {
          "base_uri": "https://localhost:8080/"
        },
        "id": "jHpj8eY4vaOy",
        "outputId": "7f63e770-494e-4fc3-e2a0-8304b3e86d6c"
      },
      "execution_count": null,
      "outputs": [
        {
          "output_type": "stream",
          "name": "stdout",
          "text": [
            "Sorted list is [3, 4, 9, 11, 24, 41, 53, 82]\n"
          ]
        }
      ]
    },
    {
      "cell_type": "markdown",
      "source": [
        "2.Write a python program to do in the tuples.\n",
        "  a).Manipulate using tuples.\n",
        "  b).To add ne elements to the end of the tuples.\n",
        "  c).To reverse elements in the list\n",
        "  d).To display the elements of the same tuple multiple times.\n",
        "  e).To concatenate two tuples.\n",
        "  f).To sort the elements in the list in ascending order"
      ],
      "metadata": {
        "id": "vjr1o887wAZg"
      }
    },
    {
      "cell_type": "code",
      "source": [
        "#a).Manipulate using tuples.\n",
        "# we can not change the values of the tuple becaude tuples are immutable or unchanged.So once a tuple is created ,we can not change its value"
      ],
      "metadata": {
        "id": "MUC--2ogxBqw"
      },
      "execution_count": null,
      "outputs": []
    },
    {
      "cell_type": "code",
      "source": [
        "#b).To add new elements to the end of the tuples.\n",
        "tp = (6,3,5)\n",
        "tp_append = tp + (8,7)\n",
        "print(tp_append)\n",
        "print(tp)"
      ],
      "metadata": {
        "id": "7LViujuMyXtz",
        "colab": {
          "base_uri": "https://localhost:8080/"
        },
        "outputId": "4cd82985-3041-4da2-bdce-49339c071318"
      },
      "execution_count": null,
      "outputs": [
        {
          "output_type": "stream",
          "name": "stdout",
          "text": [
            "(6, 3, 5, 8, 7)\n",
            "(6, 3, 5)\n"
          ]
        }
      ]
    },
    {
      "cell_type": "code",
      "source": [
        "#c).To reverse elements in the tuple\n",
        "tp = (28,99,56,43)\n",
        "tp = tp[::-1]\n",
        "print(\"The reversed tuple is:\",tp)"
      ],
      "metadata": {
        "colab": {
          "base_uri": "https://localhost:8080/"
        },
        "id": "sSXNI7IT7Sos",
        "outputId": "56ea702f-9321-4d42-9d96-51dfc296bcf5"
      },
      "execution_count": null,
      "outputs": [
        {
          "output_type": "stream",
          "name": "stdout",
          "text": [
            "The reversed tuple is: (43, 56, 99, 28)\n"
          ]
        }
      ]
    },
    {
      "cell_type": "code",
      "source": [
        "#d).To display the elements of the same tuple multiple times.\n",
        "tp=('priya ')\n",
        "new_tp = 5 * tp\n",
        "print(new_tp)"
      ],
      "metadata": {
        "colab": {
          "base_uri": "https://localhost:8080/"
        },
        "id": "LnrJcnBj8wfD",
        "outputId": "1505767e-975a-4ad8-ac15-f18c7943e628"
      },
      "execution_count": null,
      "outputs": [
        {
          "output_type": "stream",
          "name": "stdout",
          "text": [
            "priya priya priya priya priya \n"
          ]
        }
      ]
    },
    {
      "cell_type": "code",
      "source": [
        "#e).To concatenate two tuples.\n",
        "tp = (2,5,8,1)\n",
        "tp_1 = (71,55,94)\n",
        "res = tp + tp_1\n",
        "print(\"The concatenation of the tuple is \"+str(res))"
      ],
      "metadata": {
        "colab": {
          "base_uri": "https://localhost:8080/"
        },
        "id": "oO6SgEAL9cA0",
        "outputId": "182eca78-f6b5-4573-c12a-3f201b4270fc"
      },
      "execution_count": null,
      "outputs": [
        {
          "output_type": "stream",
          "name": "stdout",
          "text": [
            "The concatenation of the tuple is (2, 5, 8, 1, 71, 55, 94)\n"
          ]
        }
      ]
    },
    {
      "cell_type": "code",
      "source": [
        "#f).To sort the elements in the list in ascending order\n",
        "tp=(67,34,96,13,6,24)\n",
        "res = tuple(sorted(tp))\n",
        "print(\"Sorted tuple is\",res)\n"
      ],
      "metadata": {
        "colab": {
          "base_uri": "https://localhost:8080/"
        },
        "id": "iA1UT_f9-DhE",
        "outputId": "a4bc8ad6-edcd-46a3-94a5-c462f9d4fd5a"
      },
      "execution_count": null,
      "outputs": [
        {
          "output_type": "stream",
          "name": "stdout",
          "text": [
            "Sorted tuple is (6, 13, 24, 34, 67, 96)\n"
          ]
        }
      ]
    },
    {
      "cell_type": "markdown",
      "source": [
        "3. Write a python program  to implement the following using list\n",
        "  a).Create a list with integers(minimum 10 characters)\n",
        "  b).How to display the last number in the list.\n",
        "  c).Command for displaying the values from the list[0:4]\n",
        "  d).Command for displaying the values from the list[2:]\n",
        "  e).Command for displaying the values from the list[:6]\n"
      ],
      "metadata": {
        "id": "SZY9wsYw_E0a"
      }
    },
    {
      "cell_type": "code",
      "source": [
        "#a).Create a list with integers(minimum 10 characters)\n",
        "ls = [64,24,75,98,56,29,97,36,37,48,17,20]\n",
        "print(ls)"
      ],
      "metadata": {
        "colab": {
          "base_uri": "https://localhost:8080/"
        },
        "id": "4_HNcMDWAA6g",
        "outputId": "34b12124-9e1a-4939-f275-c1d4b379ba19"
      },
      "execution_count": null,
      "outputs": [
        {
          "output_type": "stream",
          "name": "stdout",
          "text": [
            "[64, 24, 75, 98, 56, 29, 97, 36, 37, 48, 17, 20]\n"
          ]
        }
      ]
    },
    {
      "cell_type": "code",
      "source": [
        "#b).How to display the last number in the list.\n",
        "ls = [64,24,75,98,56,29,97,36,37,48,17,20]\n",
        "print(ls[-1])"
      ],
      "metadata": {
        "colab": {
          "base_uri": "https://localhost:8080/"
        },
        "id": "XRaYo8MnATwU",
        "outputId": "34f41612-6a07-4233-db38-8c4ee2df58b3"
      },
      "execution_count": null,
      "outputs": [
        {
          "output_type": "stream",
          "name": "stdout",
          "text": [
            "20\n"
          ]
        }
      ]
    },
    {
      "cell_type": "code",
      "source": [
        "#c).Command for displaying the values from the list[0:4]\n",
        "ls = [64,24,75,98,56,29,97,36,37,48,17,20]\n",
        "print(ls[0:4])"
      ],
      "metadata": {
        "colab": {
          "base_uri": "https://localhost:8080/"
        },
        "id": "p-lRJqlXAzDN",
        "outputId": "2b840b84-bc15-4927-87a8-6c965c708ea3"
      },
      "execution_count": null,
      "outputs": [
        {
          "output_type": "stream",
          "name": "stdout",
          "text": [
            "[64, 24, 75, 98]\n"
          ]
        }
      ]
    },
    {
      "cell_type": "code",
      "source": [
        "#d).Command for displaying the values from the list[2:]\n",
        "ls = [64,24,75,98,56,29,97,36,37,48,17,20]\n",
        "print(ls[2:])"
      ],
      "metadata": {
        "colab": {
          "base_uri": "https://localhost:8080/"
        },
        "id": "ww6NZu1aA4SW",
        "outputId": "85fc46bc-91af-43ea-bb6f-e41497f2d1e7"
      },
      "execution_count": null,
      "outputs": [
        {
          "output_type": "stream",
          "name": "stdout",
          "text": [
            "[75, 98, 56, 29, 97, 36, 37, 48, 17, 20]\n"
          ]
        }
      ]
    },
    {
      "cell_type": "code",
      "source": [
        "#e).Command for displaying the values from the list[:6]\n",
        "ls = [64,24,75,98,56,29,97,36,37,48,17,20]\n",
        "print(ls[:6])"
      ],
      "metadata": {
        "colab": {
          "base_uri": "https://localhost:8080/"
        },
        "id": "BmO0jauhA-0I",
        "outputId": "3e05f7a5-1625-412d-d07f-7922297df541"
      },
      "execution_count": null,
      "outputs": [
        {
          "output_type": "stream",
          "name": "stdout",
          "text": [
            "[64, 24, 75, 98, 56, 29]\n"
          ]
        }
      ]
    },
    {
      "cell_type": "markdown",
      "source": [
        "4.Write a python program :tuple1=(10,50,20,40,30)\n",
        "  a).To display the elements 10 to 50 from tuple1\n",
        "  b).To dispaly the length of the tuple1\n",
        "  c).To find the minimum element from tuple1\n",
        "  d).To add the elements in the tuple1\n",
        "  e).To display the same tuple1 multiple times"
      ],
      "metadata": {
        "id": "T5JxjPAEBhjo"
      }
    },
    {
      "cell_type": "code",
      "source": [
        "tuple1=(10,50,20,40,30)\n",
        "print(tuple1)"
      ],
      "metadata": {
        "colab": {
          "base_uri": "https://localhost:8080/"
        },
        "id": "7SAE_TS1CSm9",
        "outputId": "19df770f-6449-4aeb-c1b6-0d3f9a5c5019"
      },
      "execution_count": null,
      "outputs": [
        {
          "output_type": "stream",
          "name": "stdout",
          "text": [
            "(10, 50, 20, 40, 30)\n"
          ]
        }
      ]
    },
    {
      "cell_type": "code",
      "source": [
        "#a).To display the elements 10 and 50 from tuple1\n",
        "tuple1=(10,50,20,40,30)\n",
        "print(tuple1[0],tuple1[1])"
      ],
      "metadata": {
        "colab": {
          "base_uri": "https://localhost:8080/"
        },
        "id": "1D2i1zShCfKn",
        "outputId": "e33fb971-6601-4610-d1e2-ec0583292903"
      },
      "execution_count": null,
      "outputs": [
        {
          "output_type": "stream",
          "name": "stdout",
          "text": [
            "10 50\n"
          ]
        }
      ]
    },
    {
      "cell_type": "code",
      "source": [
        "#b).To dispaly the length of the tuple1\n",
        "tuple1=(10,50,20,40,30)\n",
        "print(len(tuple1))\n"
      ],
      "metadata": {
        "colab": {
          "base_uri": "https://localhost:8080/"
        },
        "id": "3g1o-WKwC6pN",
        "outputId": "2289b122-5937-44a0-9c7c-ffca659fd439"
      },
      "execution_count": null,
      "outputs": [
        {
          "output_type": "stream",
          "name": "stdout",
          "text": [
            "5\n"
          ]
        }
      ]
    },
    {
      "cell_type": "code",
      "source": [
        "#c).To find the minimum element from tuple1\n",
        "tuple1=(10,50,20,40,30)\n",
        "print(min(tuple1))"
      ],
      "metadata": {
        "colab": {
          "base_uri": "https://localhost:8080/"
        },
        "id": "RKr5Qm_-DHDz",
        "outputId": "98bf64f8-395c-4023-cec1-bb2bcc7733d3"
      },
      "execution_count": null,
      "outputs": [
        {
          "output_type": "stream",
          "name": "stdout",
          "text": [
            "10\n"
          ]
        }
      ]
    },
    {
      "cell_type": "code",
      "source": [
        "#d).To add the elements in the tuple1\n",
        "tuple1=(10,50,20,40,30)\n",
        "print(sum(tuple1))"
      ],
      "metadata": {
        "colab": {
          "base_uri": "https://localhost:8080/"
        },
        "id": "_3_IX8D9DTub",
        "outputId": "c8235a3a-3e87-44ac-f47f-fec1844b7077"
      },
      "execution_count": null,
      "outputs": [
        {
          "output_type": "stream",
          "name": "stdout",
          "text": [
            "150\n"
          ]
        }
      ]
    },
    {
      "cell_type": "code",
      "source": [
        "#e).To display the same tuple1 multiple times\n",
        "tuple1=(10,50,20,40,30)\n",
        "print(3*(tuple1))"
      ],
      "metadata": {
        "colab": {
          "base_uri": "https://localhost:8080/"
        },
        "id": "XDENBljCDhDp",
        "outputId": "ce00c798-05d4-4f97-8dd9-a1bd21924d3f"
      },
      "execution_count": null,
      "outputs": [
        {
          "output_type": "stream",
          "name": "stdout",
          "text": [
            "(10, 50, 20, 40, 30, 10, 50, 20, 40, 30, 10, 50, 20, 40, 30)\n"
          ]
        }
      ]
    },
    {
      "cell_type": "markdown",
      "source": [
        "5.Write a python program:\n",
        "  a).to calculate the length of a string\n",
        "  b).to reverse words in a string\n",
        "  c).to display the same string multiple times\n",
        "  d).To concatenate two strings\n",
        "  e).Str = \"South India\", using string slicing to display \"India\""
      ],
      "metadata": {
        "id": "IHLSd1oMFO_4"
      }
    },
    {
      "cell_type": "code",
      "source": [
        "#a).to calculate the length of a string\n",
        "s = \"Priyanka\"\n",
        "print(len(s))"
      ],
      "metadata": {
        "colab": {
          "base_uri": "https://localhost:8080/"
        },
        "id": "XSxLzkIVF4km",
        "outputId": "8b469047-9ec6-4c16-82c5-2ad938030ec1"
      },
      "execution_count": null,
      "outputs": [
        {
          "output_type": "stream",
          "name": "stdout",
          "text": [
            "8\n"
          ]
        }
      ]
    },
    {
      "cell_type": "code",
      "source": [
        "#b).to reverse words in a string\n",
        "s = \"Priyanka\"\n",
        "print(s[::-1])"
      ],
      "metadata": {
        "colab": {
          "base_uri": "https://localhost:8080/"
        },
        "id": "aXwE2YtGGK7b",
        "outputId": "41790168-d43d-436b-eb41-80b865e56e59"
      },
      "execution_count": null,
      "outputs": [
        {
          "output_type": "stream",
          "name": "stdout",
          "text": [
            "aknayirP\n"
          ]
        }
      ]
    },
    {
      "cell_type": "code",
      "source": [
        "#c).to display the same string multiple times\n",
        "s = \"Priyanka \"\n",
        "print(3*s)"
      ],
      "metadata": {
        "colab": {
          "base_uri": "https://localhost:8080/"
        },
        "id": "il0y9R-IGZPp",
        "outputId": "250e13d1-9500-46d0-c538-00e9baeecc23"
      },
      "execution_count": null,
      "outputs": [
        {
          "output_type": "stream",
          "name": "stdout",
          "text": [
            "Priyanka Priyanka Priyanka \n"
          ]
        }
      ]
    },
    {
      "cell_type": "code",
      "source": [
        "#d).To concatenate two strings\n",
        "s1 = \"priyanka \"\n",
        "s2 = \"Gunda\"\n",
        "print(s1+s2)"
      ],
      "metadata": {
        "colab": {
          "base_uri": "https://localhost:8080/"
        },
        "id": "UHsyDlXAGhHn",
        "outputId": "52b44aab-c71c-443b-d316-23842102a6c0"
      },
      "execution_count": null,
      "outputs": [
        {
          "output_type": "stream",
          "name": "stdout",
          "text": [
            "priyanka Gunda\n"
          ]
        }
      ]
    },
    {
      "cell_type": "code",
      "source": [
        "#e).Str = \"South India\", using string slicing to display \"India\"\n",
        "str = \"South India\"\n",
        "print(str[6:])"
      ],
      "metadata": {
        "colab": {
          "base_uri": "https://localhost:8080/"
        },
        "id": "ojJ4w_-lG0kS",
        "outputId": "b3ed6b85-c648-4a4f-fa3e-7b0d6b921ec2"
      },
      "execution_count": null,
      "outputs": [
        {
          "output_type": "stream",
          "name": "stdout",
          "text": [
            "India\n"
          ]
        }
      ]
    },
    {
      "cell_type": "markdown",
      "source": [
        "6.Perform the following\n",
        "  a).creating the dictionary.\n",
        "  b).Accessing values and keys in the dictionary\n",
        "  c).Updating the dictionary using a function\n",
        "  d).Clear and delete the dictionary values"
      ],
      "metadata": {
        "id": "15nNQHBWHUNO"
      }
    },
    {
      "cell_type": "code",
      "source": [
        "#a).creating the dictionary.\n",
        "d = {'name':'Priya', 'age':22, 'city': 'Guntur'}\n",
        "print(d)"
      ],
      "metadata": {
        "colab": {
          "base_uri": "https://localhost:8080/"
        },
        "id": "SFrFgytKJFJX",
        "outputId": "f3bfea24-4910-46a1-adc5-e97d55eede29"
      },
      "execution_count": null,
      "outputs": [
        {
          "output_type": "stream",
          "name": "stdout",
          "text": [
            "{'name': 'Priya', 'age': 22, 'city': 'Guntur'}\n"
          ]
        }
      ]
    },
    {
      "cell_type": "code",
      "source": [
        "#b).Accessing values and keys in the dictionary\n",
        "d = {'name':'Priya', 'age':22, 'city': 'Guntur'}\n",
        "print(\"Name:\",d['name'])"
      ],
      "metadata": {
        "colab": {
          "base_uri": "https://localhost:8080/"
        },
        "id": "U02U0p9RJZ9o",
        "outputId": "183a8191-8dab-4940-a887-100c1b84a6c9"
      },
      "execution_count": null,
      "outputs": [
        {
          "output_type": "stream",
          "name": "stdout",
          "text": [
            "Name: Priya\n"
          ]
        }
      ]
    },
    {
      "cell_type": "code",
      "source": [
        "#c).Updating the dictionary using a function\n",
        "d = {'name':'Priya', 'age':22, 'city': 'Guntur'}\n",
        "d['age'] = 21\n",
        "print('updated dictionary' , d)"
      ],
      "metadata": {
        "colab": {
          "base_uri": "https://localhost:8080/"
        },
        "id": "PlKFpIstJ4ab",
        "outputId": "dd277f58-1766-4ff9-b2cf-80308d169435"
      },
      "execution_count": null,
      "outputs": [
        {
          "output_type": "stream",
          "name": "stdout",
          "text": [
            "updated dictionary {'name': 'Priya', 'age': 21, 'city': 'Guntur'}\n"
          ]
        }
      ]
    },
    {
      "cell_type": "code",
      "source": [
        "#d).Clear and delete the dictionary values\n",
        "d = {'name':'Priya', 'age':22, 'city': 'Guntur'}\n",
        "d.clear()\n",
        "print(d)"
      ],
      "metadata": {
        "colab": {
          "base_uri": "https://localhost:8080/"
        },
        "id": "tHpq8pWzKkkJ",
        "outputId": "765ae4a4-1b95-4fba-d8e4-7a9792f4da06"
      },
      "execution_count": null,
      "outputs": [
        {
          "output_type": "stream",
          "name": "stdout",
          "text": [
            "{}\n"
          ]
        }
      ]
    },
    {
      "cell_type": "code",
      "source": [
        "d = {'name':'Priya', 'age':22, 'city': 'Guntur'}\n",
        "del d\n"
      ],
      "metadata": {
        "id": "1KDkPza_KzUl"
      },
      "execution_count": null,
      "outputs": []
    },
    {
      "cell_type": "markdown",
      "source": [
        "7.Python program to insert a number to any position in a list"
      ],
      "metadata": {
        "id": "fbhntooTLIRp"
      }
    },
    {
      "cell_type": "code",
      "source": [
        "ls = [5,2,6,3,7,9]\n",
        "num = 10\n",
        "position = 4\n",
        "ls.insert(position,num)\n",
        "print(\"updated list:\",ls)"
      ],
      "metadata": {
        "colab": {
          "base_uri": "https://localhost:8080/"
        },
        "id": "i-8L_DqWMXTD",
        "outputId": "dae6d069-ddc9-4910-fb7b-3e24f72dd25a"
      },
      "execution_count": null,
      "outputs": [
        {
          "output_type": "stream",
          "name": "stdout",
          "text": [
            "updated list: [5, 2, 6, 3, 10, 7, 9]\n"
          ]
        }
      ]
    },
    {
      "cell_type": "markdown",
      "source": [
        "8.Python program to delete an element from a list by index"
      ],
      "metadata": {
        "id": "s2XlZY1DNRSV"
      }
    },
    {
      "cell_type": "code",
      "source": [
        "ls = [5,2,6,3,7,9]\n",
        "index = 2\n",
        "del ls[index]\n",
        "print(\"updated list is \",ls)"
      ],
      "metadata": {
        "colab": {
          "base_uri": "https://localhost:8080/"
        },
        "id": "4o5A_HM7NbMj",
        "outputId": "85f2ca9a-bea9-403b-e69c-18d128f7696a"
      },
      "execution_count": null,
      "outputs": [
        {
          "output_type": "stream",
          "name": "stdout",
          "text": [
            "updated list is  [5, 2, 3, 7, 9]\n"
          ]
        }
      ]
    },
    {
      "cell_type": "markdown",
      "source": [
        "9.Write a program to dispaly a number from 1 to 100"
      ],
      "metadata": {
        "id": "3ENgVQM6Roe6"
      }
    },
    {
      "cell_type": "code",
      "source": [
        "for number in range(1,101):\n",
        "  print(number)"
      ],
      "metadata": {
        "colab": {
          "base_uri": "https://localhost:8080/"
        },
        "id": "Edemmbm6SyQQ",
        "outputId": "d9d622b5-34c6-4709-a5b8-3dc7981b75b9"
      },
      "execution_count": null,
      "outputs": [
        {
          "output_type": "stream",
          "name": "stdout",
          "text": [
            "1\n",
            "2\n",
            "3\n",
            "4\n",
            "5\n",
            "6\n",
            "7\n",
            "8\n",
            "9\n",
            "10\n",
            "11\n",
            "12\n",
            "13\n",
            "14\n",
            "15\n",
            "16\n",
            "17\n",
            "18\n",
            "19\n",
            "20\n",
            "21\n",
            "22\n",
            "23\n",
            "24\n",
            "25\n",
            "26\n",
            "27\n",
            "28\n",
            "29\n",
            "30\n",
            "31\n",
            "32\n",
            "33\n",
            "34\n",
            "35\n",
            "36\n",
            "37\n",
            "38\n",
            "39\n",
            "40\n",
            "41\n",
            "42\n",
            "43\n",
            "44\n",
            "45\n",
            "46\n",
            "47\n",
            "48\n",
            "49\n",
            "50\n",
            "51\n",
            "52\n",
            "53\n",
            "54\n",
            "55\n",
            "56\n",
            "57\n",
            "58\n",
            "59\n",
            "60\n",
            "61\n",
            "62\n",
            "63\n",
            "64\n",
            "65\n",
            "66\n",
            "67\n",
            "68\n",
            "69\n",
            "70\n",
            "71\n",
            "72\n",
            "73\n",
            "74\n",
            "75\n",
            "76\n",
            "77\n",
            "78\n",
            "79\n",
            "80\n",
            "81\n",
            "82\n",
            "83\n",
            "84\n",
            "85\n",
            "86\n",
            "87\n",
            "88\n",
            "89\n",
            "90\n",
            "91\n",
            "92\n",
            "93\n",
            "94\n",
            "95\n",
            "96\n",
            "97\n",
            "98\n",
            "99\n",
            "100\n"
          ]
        }
      ]
    },
    {
      "cell_type": "markdown",
      "source": [
        "10.Write a python program to find the sum of the all items in a tuple"
      ],
      "metadata": {
        "id": "Cs47cHb4TGoB"
      }
    },
    {
      "cell_type": "code",
      "source": [
        "tp = (4,7,1,8,9,4,7)\n",
        "print(sum(tp))"
      ],
      "metadata": {
        "colab": {
          "base_uri": "https://localhost:8080/"
        },
        "id": "xIPJDOKdTTgX",
        "outputId": "b540fb20-f52b-4086-e3eb-682b9e6f0006"
      },
      "execution_count": null,
      "outputs": [
        {
          "output_type": "stream",
          "name": "stdout",
          "text": [
            "40\n"
          ]
        }
      ]
    },
    {
      "cell_type": "markdown",
      "source": [
        "11.Create a dictionary containing three lambda functions square,cube and square root.\n",
        "a).eg: dict ={'Square':function for squaring, 'cube':function for cube, 'square root':function for square root}\n",
        "b).Pass the values (input from the user to the function for the dictinoary respectively.\n",
        "c).Then add the outputs of each function and print it  "
      ],
      "metadata": {
        "id": "G9swNNVJ49eY"
      }
    },
    {
      "cell_type": "code",
      "source": [
        "functions = {\n",
        "    'Square': lambda x: x ** 2,\n",
        "    'Cube': lambda x: x ** 3,\n",
        "    'Square Root': lambda x: x ** 0.5,\n",
        "}\n",
        "results = {}\n",
        "for func_name, func in functions.items():\n",
        "    value = float(input(f\"Enter a value for {func_name}: \"))\n",
        "    results[func_name] = func(value)\n",
        "total = sum(results.values())\n",
        "print(\"Results:\")\n",
        "for func_name, result in results.items():\n",
        "    print(f\"{func_name}: {result}\")\n",
        "print(\"Total of all results:\", total)\n"
      ],
      "metadata": {
        "colab": {
          "base_uri": "https://localhost:8080/"
        },
        "id": "SnN2ZL016GUl",
        "outputId": "4dea2fd8-3891-4c97-95c3-1140a05b35aa"
      },
      "execution_count": 1,
      "outputs": [
        {
          "output_type": "stream",
          "name": "stdout",
          "text": [
            "Enter a value for Square: 8\n",
            "Enter a value for Cube: 4\n",
            "Enter a value for Square Root: 9\n",
            "Results:\n",
            "Square: 64.0\n",
            "Cube: 64.0\n",
            "Square Root: 3.0\n",
            "Total of all results: 131.0\n"
          ]
        }
      ]
    },
    {
      "cell_type": "markdown",
      "source": [
        "12. A list of words is given. Find the words from the list that have their second character in uppercase.\n",
        "ls=[\"hello\",'Dear','hOw','ARe','You']"
      ],
      "metadata": {
        "id": "SqBSiL8fTm8f"
      }
    },
    {
      "cell_type": "code",
      "source": [
        "ls=[\"hello\",'Dear','hOw','ARe','You']\n",
        "res = [word for word in ls if word[1].isupper()]\n",
        "print(res)"
      ],
      "metadata": {
        "colab": {
          "base_uri": "https://localhost:8080/"
        },
        "id": "RuACd8S5UXAL",
        "outputId": "21b9124e-fb02-4c24-9df5-2b5bc392989c"
      },
      "execution_count": null,
      "outputs": [
        {
          "output_type": "stream",
          "name": "stdout",
          "text": [
            "['hOw', 'ARe']\n"
          ]
        }
      ]
    },
    {
      "cell_type": "markdown",
      "source": [
        "13.A dictionary of names and their weights on earth is given.Find how much they will weigh on the moon.(Use map and lambda functions)Formula:wMoon = (wEarth*GMoon)/GEarth\n",
        "a). Weight of the people in kg\n",
        "    *   WeightOnEarth = {'John':45,'Shelly':65, 'Marry':35}\n",
        "b).Gravitational force on the moon : 1.622 m/s2\n",
        "    *   GMoon = 1.622\n",
        "c).Gravitational force on the Earth : 9.81m/s2\n",
        "    *   GEarth = 9.81\n",
        "\n",
        "\n",
        "\n",
        "\n",
        "\n",
        "\n",
        "\n"
      ],
      "metadata": {
        "id": "RYz5hnMG7-uu"
      }
    },
    {
      "cell_type": "code",
      "source": [
        "weight_on_earth = {'John': 45, 'Shelly': 65, 'Marry': 35}\n",
        "g_moon = 1.622\n",
        "g_earth = 9.81\n",
        "weight_on_moon = {name: (weight * g_moon) / g_earth for name, weight in weight_on_earth.items()}\n",
        "print(\"Weight on the Moon:\")\n",
        "for name, weight in weight_on_moon.items():\n",
        "    print(f\"{name}: {weight:.2f} kg\")\n"
      ],
      "metadata": {
        "colab": {
          "base_uri": "https://localhost:8080/"
        },
        "id": "7PJttzcT9sJE",
        "outputId": "464e3e89-b2c8-42b2-aebd-99853c7d24f8"
      },
      "execution_count": 2,
      "outputs": [
        {
          "output_type": "stream",
          "name": "stdout",
          "text": [
            "Weight on the Moon:\n",
            "John: 7.44 kg\n",
            "Shelly: 10.75 kg\n",
            "Marry: 5.79 kg\n"
          ]
        }
      ]
    },
    {
      "cell_type": "markdown",
      "source": [
        "**Control Structures**\n"
      ],
      "metadata": {
        "id": "mTgNTAkLqOte"
      }
    },
    {
      "cell_type": "markdown",
      "source": [
        "1. Write a python program to find the first N Prime numbers"
      ],
      "metadata": {
        "id": "C_AyDt80q7L6"
      }
    },
    {
      "cell_type": "code",
      "source": [
        "N = int(input(\"Enter the value of N: \"))\n",
        "count = 0\n",
        "num = 2\n",
        "\n",
        "while count < N:\n",
        "    is_prime = True\n",
        "    for i in range(2, int(num ** 0.5) + 1):\n",
        "        if (num % i) == 0:\n",
        "            is_prime = False\n",
        "            break\n",
        "    if is_prime:\n",
        "        print(num)\n",
        "        count += 1\n",
        "    num += 1\n",
        "\n"
      ],
      "metadata": {
        "colab": {
          "base_uri": "https://localhost:8080/"
        },
        "id": "2qv81BHbrX-l",
        "outputId": "5328851e-4d04-4f2b-de62-f6059f0fa620"
      },
      "execution_count": null,
      "outputs": [
        {
          "output_type": "stream",
          "name": "stdout",
          "text": [
            "Enter the value of N: 5\n",
            "2\n",
            "3\n",
            "5\n",
            "7\n",
            "11\n"
          ]
        }
      ]
    },
    {
      "cell_type": "markdown",
      "source": [
        "2.Write the python code that calculates the salary of an employee.Prompt the user to enter the Basic Salary,HRA,TA, and Da. Add these components to calculate the Gross Salary.Also,deduct10% of salary from the gross salary to be paid as tax and display gross minus tax as net salary."
      ],
      "metadata": {
        "id": "x8Uxk-3OGT_5"
      }
    },
    {
      "cell_type": "code",
      "source": [
        "basic_salary = float(input(\"Enter the Basic Salary: \"))\n",
        "hra = float(input(\"Enter the HRA: \"))\n",
        "ta = float(input(\"Enter the TA: \"))\n",
        "da = float(input(\"Enter the DA: \"))\n",
        "gross_salary = basic_salary + hra + ta + da\n",
        "tax = 0.10 * gross_salary\n",
        "net_salary = gross_salary - tax\n",
        "print(f\"Gross Salary: {gross_salary:.2f}\")\n",
        "print(f\"Tax Deduction (10%): {tax:.2f}\")\n",
        "print(f\"Net Salary: {net_salary:.2f}\")\n"
      ],
      "metadata": {
        "colab": {
          "base_uri": "https://localhost:8080/"
        },
        "id": "srLTj2SKHU-1",
        "outputId": "00b93989-9737-4167-e2b1-d53cf5153b3c"
      },
      "execution_count": null,
      "outputs": [
        {
          "output_type": "stream",
          "name": "stdout",
          "text": [
            "Enter the Basic Salary: 2000\n",
            "Enter the HRA: 500\n",
            "Enter the TA: 20\n",
            "Enter the DA: 60\n",
            "Gross Salary: 2580.00\n",
            "Tax Deduction (10%): 258.00\n",
            "Net Salary: 2322.00\n"
          ]
        }
      ]
    },
    {
      "cell_type": "markdown",
      "source": [
        "3. Write a python program to search for a string in the given list."
      ],
      "metadata": {
        "id": "JOWkIBdpHz_V"
      }
    },
    {
      "cell_type": "code",
      "source": [
        "string_list = [\"apple\", \"banana\", \"cherry\", \"date\", \"fig\", \"grape\"]\n",
        "\n",
        "search_string = input(\"Enter a string to search for: \")\n",
        "\n",
        "found = False\n",
        "\n",
        "for item in string_list:\n",
        "    if search_string.lower() == item.lower():\n",
        "        found = True\n",
        "        break\n",
        "\n",
        "\n",
        "if found:\n",
        "    print(f\"'{search_string}' was found in the list.\")\n",
        "else:\n",
        "    print(f\"'{search_string}' was not found in the list.\")\n"
      ],
      "metadata": {
        "colab": {
          "base_uri": "https://localhost:8080/"
        },
        "id": "hGZK3asAIEZ1",
        "outputId": "063d4166-abb4-4c33-8e51-a327a00740dd"
      },
      "execution_count": null,
      "outputs": [
        {
          "output_type": "stream",
          "name": "stdout",
          "text": [
            "Enter a string to search for: fig\n",
            "'fig' was found in the list.\n"
          ]
        }
      ]
    },
    {
      "cell_type": "markdown",
      "source": [
        "4.Write a Python function that accepts a string and calculate the number of upper-case letters and lower-case letters"
      ],
      "metadata": {
        "id": "dIcf26JK95X_"
      }
    },
    {
      "cell_type": "code",
      "source": [
        "def count_upper_lower_letters(input_string):\n",
        "    upper_count = sum(1 for char in input_string if char.isupper())\n",
        "    lower_count = sum(1 for char in input_string if char.islower())\n",
        "    return upper_count, lower_count\n",
        "input_string = input(\"Enter a string: \")\n",
        "upper_count, lower_count = count_upper_lower_letters(input_string)\n",
        "print(f\"Number of uppercase letters: {upper_count}\")\n",
        "print(f\"Number of lowercase letters: {lower_count}\")\n"
      ],
      "metadata": {
        "colab": {
          "base_uri": "https://localhost:8080/"
        },
        "id": "qHchN6Xh-XH4",
        "outputId": "d31e5ff2-e4a1-40c6-e7ef-9201e41d25b3"
      },
      "execution_count": 3,
      "outputs": [
        {
          "output_type": "stream",
          "name": "stdout",
          "text": [
            "Enter a string: PriyaNkaGunDa\n",
            "Number of uppercase letters: 4\n",
            "Number of lowercase letters: 9\n"
          ]
        }
      ]
    },
    {
      "cell_type": "markdown",
      "source": [
        "5.Write a program to display the sum of odd numbers and even numbers that fall between 12 and 37"
      ],
      "metadata": {
        "id": "LGtVVKuvIlLs"
      }
    },
    {
      "cell_type": "code",
      "source": [
        "\n",
        "sum_even = 0\n",
        "sum_odd = 0\n",
        "a=int(input())\n",
        "b=int(input())\n",
        "for num in range(a,b):\n",
        "    if num % 2 == 0:  # Check if the number is even\n",
        "        sum_even += num\n",
        "    else:\n",
        "        sum_odd += num\n",
        "\n",
        "# Display the sums\n",
        "print(f\"Sum of even numbers between a and b: {sum_even}\")\n",
        "print(f\"Sum of odd numbers between a and b: {sum_odd}\")\n"
      ],
      "metadata": {
        "colab": {
          "base_uri": "https://localhost:8080/"
        },
        "id": "Ra1tflr0IUnd",
        "outputId": "4d5b9936-117b-413d-d16a-4babb1f53d15"
      },
      "execution_count": null,
      "outputs": [
        {
          "output_type": "stream",
          "name": "stdout",
          "text": [
            "1\n",
            "10\n",
            "Sum of even numbers between a and b: 20\n",
            "Sum of odd numbers between a and b: 25\n"
          ]
        }
      ]
    },
    {
      "cell_type": "markdown",
      "source": [
        "6.Write a python program to print the table of any number"
      ],
      "metadata": {
        "id": "W3V1mIlOJLwr"
      }
    },
    {
      "cell_type": "code",
      "source": [
        "number = int(input(\"Enter a number: \"))\n",
        "\n",
        "print(f\"Multiplication table for {number} up to 10:\")\n",
        "\n",
        "for i in range(1, 10+ 1):\n",
        "    result = number * i\n",
        "    print(f\"{number} x {i} = {result}\")\n"
      ],
      "metadata": {
        "colab": {
          "base_uri": "https://localhost:8080/"
        },
        "id": "40nsISM1JfBj",
        "outputId": "74cf701e-a47c-48a2-ff0e-a81bffc60d1b"
      },
      "execution_count": null,
      "outputs": [
        {
          "output_type": "stream",
          "name": "stdout",
          "text": [
            "Enter a number: 8\n",
            "Multiplication table for 8 up to 10:\n",
            "8 x 1 = 8\n",
            "8 x 2 = 16\n",
            "8 x 3 = 24\n",
            "8 x 4 = 32\n",
            "8 x 5 = 40\n",
            "8 x 6 = 48\n",
            "8 x 7 = 56\n",
            "8 x 8 = 64\n",
            "8 x 9 = 72\n",
            "8 x 10 = 80\n"
          ]
        }
      ]
    },
    {
      "cell_type": "markdown",
      "source": [
        "7.Write a python program to sum the first 10 prime numbers"
      ],
      "metadata": {
        "id": "Vud8nixVJyV6"
      }
    },
    {
      "cell_type": "code",
      "source": [
        "count = 0\n",
        "num = 2\n",
        "prime_sum = 0\n",
        "\n",
        "while count < 10:\n",
        "    is_prime = True\n",
        "    for i in range(2, int(num ** 0.5) + 1):\n",
        "        if num % i == 0:\n",
        "            is_prime = False\n",
        "            break\n",
        "    if is_prime:\n",
        "        prime_sum += num\n",
        "        count += 1\n",
        "    num += 1\n",
        "\n",
        "print(f\"The sum of the first 10 prime numbers is: {prime_sum}\")\n"
      ],
      "metadata": {
        "colab": {
          "base_uri": "https://localhost:8080/"
        },
        "id": "U0BPc4WyJnv2",
        "outputId": "0ec918d1-fbf0-44e3-e59b-3addc62fc33e"
      },
      "execution_count": null,
      "outputs": [
        {
          "output_type": "stream",
          "name": "stdout",
          "text": [
            "The sum of the first 10 prime numbers is: 129\n"
          ]
        }
      ]
    },
    {
      "cell_type": "markdown",
      "source": [
        "8.Write a python program to implement arithmetic operations using nested if statement"
      ],
      "metadata": {
        "id": "olk4HvzeKZNV"
      }
    },
    {
      "cell_type": "code",
      "source": [
        "num1 = float(input(\"Enter the first number: \"))\n",
        "num2 = float(input(\"Enter the second number: \"))\n",
        "operation = input(\"Enter the operation (+, -, *, /): \")\n",
        "if operation == '+':\n",
        "    result = num1 + num2\n",
        "    print(f\"{num1} + {num2} = {result}\")\n",
        "elif operation == '-':\n",
        "    result = num1 - num2\n",
        "    print(f\"{num1} - {num2} = {result}\")\n",
        "elif operation == '*':\n",
        "    result = num1 * num2\n",
        "    print(f\"{num1} * {num2} = {result}\")\n",
        "elif operation == '/':\n",
        "    if num2 == 0:\n",
        "        print(\"Error! Division by zero is not allowed.\")\n",
        "    else:\n",
        "        result = num1 / num2\n",
        "        print(f\"{num1} / {num2} = {result}\")\n",
        "else:\n",
        "    print(\"Invalid operation. Please enter +, -, *, or /.\")\n"
      ],
      "metadata": {
        "colab": {
          "base_uri": "https://localhost:8080/"
        },
        "id": "0NMHgSLsK66p",
        "outputId": "0452273d-1c9b-4b2e-b4d9-bd4a6e083f27"
      },
      "execution_count": null,
      "outputs": [
        {
          "output_type": "stream",
          "name": "stdout",
          "text": [
            "Enter the first number: 8\n",
            "Enter the second number: 2\n",
            "Enter the operation (+, -, *, /): +\n",
            "8.0 + 2.0 = 10.0\n"
          ]
        }
      ]
    },
    {
      "cell_type": "markdown",
      "source": [
        "9.Write a python program to take the temperature in celsius and convert it to fahrenheit"
      ],
      "metadata": {
        "id": "5g9YpegrLSKn"
      }
    },
    {
      "cell_type": "code",
      "source": [
        "\n",
        "celsius = float(input(\"Enter temperature in Celsius: \"))\n",
        "\n",
        "fahrenheit = (celsius * 9/5) + 32\n",
        "\n",
        "print(f\"{celsius} degrees Celsius is equal to {fahrenheit} degrees Fahrenheit\")\n"
      ],
      "metadata": {
        "colab": {
          "base_uri": "https://localhost:8080/"
        },
        "id": "UchNXcIzLquo",
        "outputId": "b26d4782-2b56-4cf8-8ccf-d01b66565818"
      },
      "execution_count": null,
      "outputs": [
        {
          "output_type": "stream",
          "name": "stdout",
          "text": [
            "Enter temperature in Celsius: 45\n",
            "45.0 degrees Celsius is equal to 113.0 degrees Fahrenheit\n"
          ]
        }
      ]
    },
    {
      "cell_type": "markdown",
      "source": [
        "10.Write a python program to find a maximum and minimum number.  "
      ],
      "metadata": {
        "id": "ERmhTiDdMB2S"
      }
    },
    {
      "cell_type": "code",
      "source": [
        "numbers = input(\"Enter a list of numbers separated by spaces: \").split()\n",
        "\n",
        "numbers = [int(num) for num in numbers]\n",
        "\n",
        "if not numbers:\n",
        "    print(\"The list is empty.\")\n",
        "else:\n",
        "\n",
        "    max_num = max(numbers)\n",
        "    min_num = min(numbers)\n",
        "\n",
        "    print(f\"Maximum number: {max_num}\")\n",
        "    print(f\"Minimum number: {min_num}\")\n"
      ],
      "metadata": {
        "colab": {
          "base_uri": "https://localhost:8080/"
        },
        "id": "tqkfkB2-OLP7",
        "outputId": "be57cfd2-48d3-46fa-fcfc-3b3f88adc3bc"
      },
      "execution_count": null,
      "outputs": [
        {
          "output_type": "stream",
          "name": "stdout",
          "text": [
            "Enter a list of numbers separated by spaces: 18 29 36 52 19 86 29 55\n",
            "Maximum number: 86\n",
            "Minimum number: 18\n"
          ]
        }
      ]
    },
    {
      "cell_type": "markdown",
      "source": [
        "11. Write a program in python to print out the number of seconds in 30-day month 30 days, 24 hours in a day ,60 minutes per day,60 seconds in a minute."
      ],
      "metadata": {
        "id": "eO1-USckOsoe"
      }
    },
    {
      "cell_type": "code",
      "source": [
        "# Define constants\n",
        "d= 30\n",
        "h= 24\n",
        "m= 60\n",
        "s= 60\n",
        "\n",
        "# Calculate the total number of seconds\n",
        "total= d* h* m *s\n",
        "\n",
        "# Display the result\n",
        "print(f\"The number of seconds in a 30-day month is: {total}\")\n"
      ],
      "metadata": {
        "colab": {
          "base_uri": "https://localhost:8080/"
        },
        "id": "BdfL4GFkPR1Q",
        "outputId": "7381a598-d561-472c-e779-d555976914c6"
      },
      "execution_count": null,
      "outputs": [
        {
          "output_type": "stream",
          "name": "stdout",
          "text": [
            "The number of seconds in a 30-day month is: 2592000\n"
          ]
        }
      ]
    },
    {
      "cell_type": "markdown",
      "source": [
        "12.Write a program in python to print out the number of seconds in a year"
      ],
      "metadata": {
        "id": "leYxOW0UQhzs"
      }
    },
    {
      "cell_type": "code",
      "source": [
        "d= 365.25\n",
        "h= 24\n",
        "m = 60\n",
        "s = 60\n",
        "\n",
        "# Calculate the total number of seconds in a year\n",
        "t= d * h * m * s\n",
        "\n",
        "# Display the result\n",
        "print(f\"The number of seconds in a year is approximately: {t:.0f}\")\n"
      ],
      "metadata": {
        "colab": {
          "base_uri": "https://localhost:8080/"
        },
        "id": "wZYHUOotQy5x",
        "outputId": "32a508a3-e3d9-466e-e13a-41e8b803b399"
      },
      "execution_count": null,
      "outputs": [
        {
          "output_type": "stream",
          "name": "stdout",
          "text": [
            "The number of seconds in a year is approximately: 31557600\n"
          ]
        }
      ]
    },
    {
      "cell_type": "markdown",
      "source": [
        "13. A high-speed train can travel at an average speed of 150mph, how long will it take a train travelleing at this speed to travel from london to glasgow which which is 414 miles away"
      ],
      "metadata": {
        "id": "_uGpqrT1PiBC"
      }
    },
    {
      "cell_type": "code",
      "source": [
        "speed = 150\n",
        "distance = 414\n",
        "time_hours = distance / speed\n",
        "print(f\"It will take {time_hours} hours to travel from London to Glasgow at an average speed of 150 mph.\")\n"
      ],
      "metadata": {
        "colab": {
          "base_uri": "https://localhost:8080/"
        },
        "id": "VLSqtHfOQL8J",
        "outputId": "3ff75810-fdd2-4b25-9635-c5eb0b1afd4f"
      },
      "execution_count": null,
      "outputs": [
        {
          "output_type": "stream",
          "name": "stdout",
          "text": [
            "It will take 2.76 hours to travel from London to Glasgow at an average speed of 150 mph.\n"
          ]
        }
      ]
    },
    {
      "cell_type": "markdown",
      "source": [
        "14.write a python program  that defines a variable  called days_in_each_school_year and assign 192 to the variable.The program should then print out the total hour that you spend in school from year 7 to year 11, if each day you spend 6 hours in school days_in_each_school_year = 192"
      ],
      "metadata": {
        "id": "LtZ3B_4qQXkw"
      }
    },
    {
      "cell_type": "code",
      "source": [
        "days_in_each_school_year = 192\n",
        "total_school_days = (11 - 7 + 1) * days_in_each_school_year\n",
        "hours_per_day = 6\n",
        "total_hours_in_school = total_school_days * hours_per_day\n",
        "print(f\"Total hours spent in school from year 7 to year 11: {total_hours_in_school} hours\")\n"
      ],
      "metadata": {
        "colab": {
          "base_uri": "https://localhost:8080/"
        },
        "id": "dvE5nthwSHv4",
        "outputId": "cf5026b7-ffaf-419f-cc17-e25e0bbc5c86"
      },
      "execution_count": null,
      "outputs": [
        {
          "output_type": "stream",
          "name": "stdout",
          "text": [
            "Total hours spent in school from year 7 to year 11: 5760 hours\n"
          ]
        }
      ]
    },
    {
      "cell_type": "markdown",
      "source": [
        "15.If the age of Ram, Sam and Khan are input through the keyboard, write a python program to determine the eldest and eldest and youngest of the three"
      ],
      "metadata": {
        "id": "NJV8KRddSbo9"
      }
    },
    {
      "cell_type": "code",
      "source": [
        "ram_age = int(input(\"Enter the age of Ram: \"))\n",
        "sam_age = int(input(\"Enter the age of Sam: \"))\n",
        "khan_age = int(input(\"Enter the age of Khan: \"))\n",
        "if ram_age > sam_age and ram_age > khan_age:\n",
        "    eldest = \"Ram\"\n",
        "elif sam_age > ram_age and sam_age > khan_age:\n",
        "    eldest = \"Sam\"\n",
        "else:\n",
        "    eldest = \"Khan\"\n",
        "\n",
        "if ram_age < sam_age and ram_age < khan_age:\n",
        "    youngest = \"Ram\"\n",
        "elif sam_age < ram_age and sam_age < khan_age:\n",
        "    youngest = \"Sam\"\n",
        "else:\n",
        "    youngest = \"Khan\"\n",
        "print(f\"The eldest person is {eldest} with an age of {max(ram_age, sam_age, khan_age)} years.\")\n",
        "print(f\"The youngest person is {youngest} with an age of {min(ram_age, sam_age, khan_age)} years.\")\n"
      ],
      "metadata": {
        "colab": {
          "base_uri": "https://localhost:8080/"
        },
        "id": "sypo38I8S5S-",
        "outputId": "2b8bbea9-028e-4eb9-bbd4-19e5e5145271"
      },
      "execution_count": null,
      "outputs": [
        {
          "output_type": "stream",
          "name": "stdout",
          "text": [
            "Enter the age of Ram: 20\n",
            "Enter the age of Sam: 15\n",
            "Enter the age of Khan: 27\n",
            "The eldest person is Khan with an age of 27 years.\n",
            "The youngest person is Sam with an age of 15 years.\n"
          ]
        }
      ]
    },
    {
      "cell_type": "markdown",
      "source": [
        "16.Write a python program to rotate a list by right n times with and with out slicing technique."
      ],
      "metadata": {
        "id": "2-S5eRCz-kd4"
      }
    },
    {
      "cell_type": "code",
      "source": [
        "def rotate_slicing(input_list, n):\n",
        "    if not input_list:\n",
        "        return input_list\n",
        "    n = n % len(input_list)\n",
        "    rotated_list = input_list[-n:] + input_list[:-n]\n",
        "    return rotated_list\n",
        "my_list = [1, 2, 3, 4, 5]\n",
        "rotation_count = int(input(\"Enter the number  within range of list length:\"))\n",
        "rotated_list = rotate_slicing(my_list, rotation_count)\n",
        "print(\"Rotated list using slicing:\", rotated_list)\n"
      ],
      "metadata": {
        "colab": {
          "base_uri": "https://localhost:8080/"
        },
        "id": "JVxAuuXz-6U9",
        "outputId": "c96f3df1-49c3-49f7-cb56-193a5a951ba7"
      },
      "execution_count": 8,
      "outputs": [
        {
          "output_type": "stream",
          "name": "stdout",
          "text": [
            "Enter the number  within range of list length:2\n",
            "Rotated list using slicing: [4, 5, 1, 2, 3]\n"
          ]
        }
      ]
    },
    {
      "cell_type": "code",
      "source": [
        "def rotate_without_slicing(input_list, n):\n",
        "    if not input_list:\n",
        "        return input_list\n",
        "    n = n % len(input_list)  # Ensure n is within the range of list length\n",
        "    rotated_list = [None] * len(input_list)\n",
        "    for i in range(len(input_list)):\n",
        "        rotated_list[(i + n) % len(input_list)] = input_list[i]\n",
        "    return rotated_list\n",
        "my_list = [1, 2, 3, 4, 5]\n",
        "rotation_count = int(input(\"Enter the number  within range of list length:\"))\n",
        "\n",
        "rotated_list = rotate_without_slicing(my_list, rotation_count)\n",
        "print(\"Rotated list without slicing:\", rotated_list)\n"
      ],
      "metadata": {
        "colab": {
          "base_uri": "https://localhost:8080/"
        },
        "id": "epfxR5_F_TCT",
        "outputId": "16e76d26-ed38-4aa5-80f1-cd2c1ed98861"
      },
      "execution_count": 7,
      "outputs": [
        {
          "output_type": "stream",
          "name": "stdout",
          "text": [
            "Enter the number  within range of list length:3\n",
            "Rotated list without slicing: [3, 4, 5, 1, 2]\n"
          ]
        }
      ]
    },
    {
      "cell_type": "markdown",
      "source": [
        "17.Python program to print the patterns given below:"
      ],
      "metadata": {
        "id": "We0SIFnBkpoI"
      }
    },
    {
      "cell_type": "markdown",
      "source": [
        "a).1\n",
        "   1 1\n",
        "   1 2 1\n",
        "   1 3 3 1\n",
        "   1 4 6 4 1\n",
        "   1 5 10 10 5 1\n",
        "   1 6 15 20 15 6 1\n"
      ],
      "metadata": {
        "id": "Ht0fLwEdUdbv"
      }
    },
    {
      "cell_type": "code",
      "source": [
        "n=int(input())\n",
        "for i in range(n):\n",
        "  print(''*(n-i),end='')\n",
        "  print(' '.join(map(str,str(11**i))))\n"
      ],
      "metadata": {
        "id": "lyULGh8PU9Jb",
        "colab": {
          "base_uri": "https://localhost:8080/"
        },
        "outputId": "7afbdf9b-252d-4c04-cce4-e12703d683d3"
      },
      "execution_count": null,
      "outputs": [
        {
          "output_type": "stream",
          "name": "stdout",
          "text": [
            "6\n",
            "1\n",
            "1 1\n",
            "1 2 1\n",
            "1 3 3 1\n",
            "1 4 6 4 1\n",
            "1 6 1 0 5 1\n"
          ]
        }
      ]
    },
    {
      "cell_type": "markdown",
      "source": [
        "b). *\n",
        "    * *\n",
        "    * * *\n",
        "    * * * *\n",
        "    * * * * *"
      ],
      "metadata": {
        "id": "K42aWVq0eU71"
      }
    },
    {
      "cell_type": "code",
      "source": [
        "n=int(input())\n",
        "myList = []\n",
        "for i in range(1,n+1):\n",
        "  myList.append(\"* \"*i)\n",
        "print(\"\\n\".join(myList))"
      ],
      "metadata": {
        "id": "b54qNuRtV-Yy",
        "colab": {
          "base_uri": "https://localhost:8080/"
        },
        "outputId": "7f335265-727f-4e89-9b92-7f0c8dfd3f0b"
      },
      "execution_count": null,
      "outputs": [
        {
          "output_type": "stream",
          "name": "stdout",
          "text": [
            "5\n",
            "* \n",
            "* * \n",
            "* * * \n",
            "* * * * \n",
            "* * * * * \n"
          ]
        }
      ]
    },
    {
      "cell_type": "markdown",
      "source": [
        "c).           *\n",
        "             *  *\n",
        "            *  *  *\n",
        "           *  *  *  *\n",
        "          *  *  *  *  *\n",
        "         *  *  *  *  *  *\n",
        "        *  *  *  *  *  *  *"
      ],
      "metadata": {
        "id": "zCJUUTnefUUs"
      }
    },
    {
      "cell_type": "code",
      "source": [
        "n = int(input())\n",
        "k = n-1\n",
        "for i in range(0,n):\n",
        "  for j in range(0,k):\n",
        "    print(end=\" \")\n",
        "  k=k-1\n",
        "  for j in range(0,i+1):\n",
        "    print(\"* \",end=\"\")\n",
        "  print(\"\\r\")"
      ],
      "metadata": {
        "colab": {
          "base_uri": "https://localhost:8080/"
        },
        "id": "EbNCE2uqgJhD",
        "outputId": "3f132397-53ea-4a5c-814e-1efc1d697b24"
      },
      "execution_count": null,
      "outputs": [
        {
          "output_type": "stream",
          "name": "stdout",
          "text": [
            "7\n",
            "      * \n",
            "     * * \n",
            "    * * * \n",
            "   * * * * \n",
            "  * * * * * \n",
            " * * * * * * \n",
            "* * * * * * * \n"
          ]
        }
      ]
    },
    {
      "cell_type": "markdown",
      "source": [
        "d). P\n",
        "    PY\n",
        "    PYT\n",
        "    PYTH\n",
        "    PYTHO\n",
        "    PYTHON"
      ],
      "metadata": {
        "id": "0byw56NUhI0e"
      }
    },
    {
      "cell_type": "code",
      "source": [
        "str=input(\"enter the string:\")\n",
        "len=len(str)\n",
        "for i in range(len):\n",
        "  for j in range(i+1):\n",
        "    print(str[j],end=\"\")\n",
        "  print()"
      ],
      "metadata": {
        "colab": {
          "base_uri": "https://localhost:8080/"
        },
        "id": "26tGNSpghUD8",
        "outputId": "92834ec7-1967-421c-b086-f4b17ea9cf9b"
      },
      "execution_count": null,
      "outputs": [
        {
          "output_type": "stream",
          "name": "stdout",
          "text": [
            "enter the string:PYTHON\n",
            "P\n",
            "PY\n",
            "PYT\n",
            "PYTH\n",
            "PYTHO\n",
            "PYTHON\n"
          ]
        }
      ]
    }
  ]
}